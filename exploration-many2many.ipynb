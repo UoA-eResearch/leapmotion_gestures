{
 "cells": [
  {
   "cell_type": "code",
   "execution_count": 1,
   "metadata": {},
   "outputs": [],
   "source": [
    "from importlib import reload\n",
    "import numpy as np\n",
    "import matplotlib.pyplot as plt\n",
    "import pandas as pd\n",
    "import tensorflow as tf\n",
    "from tensorflow.keras import layers"
   ]
  },
  {
   "cell_type": "code",
   "execution_count": 130,
   "metadata": {},
   "outputs": [],
   "source": [
    "# import modules\n",
    "import src.models\n",
    "reload(src.models)\n",
    "from src.models import *\n",
    "\n",
    "import src.dataMethods\n",
    "reload(src.dataMethods)\n",
    "from src.dataMethods import *"
   ]
  },
  {
   "cell_type": "code",
   "execution_count": null,
   "metadata": {},
   "outputs": [],
   "source": [
    "# get data frame with variables of interest\n",
    "df_gesture = CSV2VoI('data/recordings/gesture_nongesture.csv')"
   ]
  },
  {
   "cell_type": "code",
   "execution_count": 37,
   "metadata": {},
   "outputs": [
    {
     "name": "stdout",
     "output_type": "stream",
     "text": [
      "['no_gesture' 'so_so']\n"
     ]
    }
   ],
   "source": [
    "# get the unique gestures in the df\n",
    "print(df_gesture['gesture'].unique())\n",
    "# get dictionaries for mapping from gestures to ids, and vice versa\n",
    "g2idx = {'no_gesture': 0, 'so_so': 1}\n",
    "idx2g = {i: g for g, i in g2idx.items()}"
   ]
  },
  {
   "cell_type": "code",
   "execution_count": 59,
   "metadata": {},
   "outputs": [
    {
     "name": "stdout",
     "output_type": "stream",
     "text": [
      "dropped 0 of 6371 rows with nans\n",
      "(6371, 21)\n",
      "(6371,)\n",
      "[0 1 1 1 1 1 1 1 1 1 1 1 1 1 1 1 1 1 1 1]\n"
     ]
    }
   ],
   "source": [
    "# extract X and y\n",
    "X0, y = df2X_y(df_gesture, g2idx)\n",
    "print(X0.shape)\n",
    "print(y.shape)\n",
    "print(y[:20])"
   ]
  },
  {
   "cell_type": "code",
   "execution_count": 61,
   "metadata": {},
   "outputs": [
    {
     "name": "stdout",
     "output_type": "stream",
     "text": [
      "(25, 250, 21)\n",
      "(25, 250)\n"
     ]
    }
   ],
   "source": [
    "# separate into examples 250 frames long each\n",
    "n_frames = 250\n",
    "X1 = split2examples(X0, n_frames)\n",
    "y1 = split2examples(y, n_frames)\n",
    "print(X1.shape)\n",
    "print(y1.shape)"
   ]
  },
  {
   "cell_type": "code",
   "execution_count": 64,
   "metadata": {},
   "outputs": [
    {
     "data": {
      "text/plain": [
       "(25, 250, 21)"
      ]
     },
     "execution_count": 64,
     "metadata": {},
     "output_type": "execute_result"
    }
   ],
   "source": [
    "# for random shuffling like this, see:\n",
    "# https://stackoverflow.com/questions/4601373/better-way-to-shuffle-two-numpy-arrays-in-unison\n",
    "synced_shuffle(X1, y1)"
   ]
  },
  {
   "cell_type": "code",
   "execution_count": 132,
   "metadata": {},
   "outputs": [
    {
     "name": "stdout",
     "output_type": "stream",
     "text": [
      "Model: \"many2one\"\n",
      "_________________________________________________________________\n",
      "Layer (type)                 Output Shape              Param #   \n",
      "=================================================================\n",
      "input_3 (InputLayer)         [(None, 250, 21)]         0         \n",
      "_________________________________________________________________\n",
      "lstm_2 (LSTM)                (None, 250, 32)           6912      \n",
      "_________________________________________________________________\n",
      "dense_2 (Dense)              (None, 250, 2)            66        \n",
      "=================================================================\n",
      "Total params: 6,978\n",
      "Trainable params: 6,978\n",
      "Non-trainable params: 0\n",
      "_________________________________________________________________\n"
     ]
    }
   ],
   "source": [
    "model = many2many(n_gestures=len(g2idx), n_features = X1.shape[-1], n_frames=X1.shape[1], rnn_units=32)"
   ]
  },
  {
   "cell_type": "code",
   "execution_count": 133,
   "metadata": {},
   "outputs": [
    {
     "name": "stdout",
     "output_type": "stream",
     "text": [
      "Train on 20 samples, validate on 5 samples\n",
      "Epoch 1/65\n",
      "20/20 [==============================] - 3s 138ms/sample - loss: 0.8013 - accuracy: 0.3804 - val_loss: 0.7702 - val_accuracy: 0.3728\n",
      "Epoch 2/65\n",
      "20/20 [==============================] - 0s 6ms/sample - loss: 0.7804 - accuracy: 0.3970 - val_loss: 0.7496 - val_accuracy: 0.3968\n",
      "Epoch 3/65\n",
      "20/20 [==============================] - 0s 6ms/sample - loss: 0.7606 - accuracy: 0.4278 - val_loss: 0.7302 - val_accuracy: 0.4312\n",
      "Epoch 4/65\n",
      "20/20 [==============================] - 0s 5ms/sample - loss: 0.7418 - accuracy: 0.4492 - val_loss: 0.7119 - val_accuracy: 0.4992\n",
      "Epoch 5/65\n",
      "20/20 [==============================] - 0s 6ms/sample - loss: 0.7240 - accuracy: 0.4858 - val_loss: 0.6946 - val_accuracy: 0.5248\n",
      "Epoch 6/65\n",
      "20/20 [==============================] - 0s 6ms/sample - loss: 0.7072 - accuracy: 0.5356 - val_loss: 0.6783 - val_accuracy: 0.5752\n",
      "Epoch 7/65\n",
      "20/20 [==============================] - 0s 6ms/sample - loss: 0.6914 - accuracy: 0.5732 - val_loss: 0.6629 - val_accuracy: 0.6072\n",
      "Epoch 8/65\n",
      "20/20 [==============================] - 0s 6ms/sample - loss: 0.6765 - accuracy: 0.6038 - val_loss: 0.6484 - val_accuracy: 0.6624\n",
      "Epoch 9/65\n",
      "20/20 [==============================] - 0s 6ms/sample - loss: 0.6625 - accuracy: 0.6362 - val_loss: 0.6347 - val_accuracy: 0.6976\n",
      "Epoch 10/65\n",
      "20/20 [==============================] - 0s 6ms/sample - loss: 0.6494 - accuracy: 0.6616 - val_loss: 0.6218 - val_accuracy: 0.7360\n",
      "Epoch 11/65\n",
      "20/20 [==============================] - 0s 6ms/sample - loss: 0.6371 - accuracy: 0.6772 - val_loss: 0.6097 - val_accuracy: 0.7504\n",
      "Epoch 12/65\n",
      "20/20 [==============================] - 0s 6ms/sample - loss: 0.6255 - accuracy: 0.6920 - val_loss: 0.5983 - val_accuracy: 0.7624\n",
      "Epoch 13/65\n",
      "20/20 [==============================] - 0s 6ms/sample - loss: 0.6146 - accuracy: 0.7160 - val_loss: 0.5876 - val_accuracy: 0.7824\n",
      "Epoch 14/65\n",
      "20/20 [==============================] - 0s 6ms/sample - loss: 0.6044 - accuracy: 0.7230 - val_loss: 0.5775 - val_accuracy: 0.7904\n",
      "Epoch 15/65\n",
      "20/20 [==============================] - 0s 6ms/sample - loss: 0.5948 - accuracy: 0.7324 - val_loss: 0.5681 - val_accuracy: 0.7984\n",
      "Epoch 16/65\n",
      "20/20 [==============================] - 0s 6ms/sample - loss: 0.5857 - accuracy: 0.7420 - val_loss: 0.5592 - val_accuracy: 0.8000\n",
      "Epoch 17/65\n",
      "20/20 [==============================] - 0s 6ms/sample - loss: 0.5772 - accuracy: 0.7458 - val_loss: 0.5509 - val_accuracy: 0.7976\n",
      "Epoch 18/65\n",
      "20/20 [==============================] - 0s 6ms/sample - loss: 0.5692 - accuracy: 0.7514 - val_loss: 0.5431 - val_accuracy: 0.8016\n",
      "Epoch 19/65\n",
      "20/20 [==============================] - 0s 6ms/sample - loss: 0.5615 - accuracy: 0.7580 - val_loss: 0.5358 - val_accuracy: 0.8000\n",
      "Epoch 20/65\n",
      "20/20 [==============================] - 0s 6ms/sample - loss: 0.5543 - accuracy: 0.7624 - val_loss: 0.5289 - val_accuracy: 0.8008\n",
      "Epoch 21/65\n",
      "20/20 [==============================] - 0s 6ms/sample - loss: 0.5475 - accuracy: 0.7662 - val_loss: 0.5225 - val_accuracy: 0.8040\n",
      "Epoch 22/65\n",
      "20/20 [==============================] - 0s 6ms/sample - loss: 0.5409 - accuracy: 0.7720 - val_loss: 0.5165 - val_accuracy: 0.8016\n",
      "Epoch 23/65\n",
      "20/20 [==============================] - 0s 6ms/sample - loss: 0.5347 - accuracy: 0.7752 - val_loss: 0.5109 - val_accuracy: 0.8024\n",
      "Epoch 24/65\n",
      "20/20 [==============================] - 0s 6ms/sample - loss: 0.5287 - accuracy: 0.7804 - val_loss: 0.5057 - val_accuracy: 0.8032\n",
      "Epoch 25/65\n",
      "20/20 [==============================] - 0s 6ms/sample - loss: 0.5231 - accuracy: 0.7850 - val_loss: 0.5009 - val_accuracy: 0.8024\n",
      "Epoch 26/65\n",
      "20/20 [==============================] - 0s 6ms/sample - loss: 0.5176 - accuracy: 0.7900 - val_loss: 0.4964 - val_accuracy: 0.8024\n",
      "Epoch 27/65\n",
      "20/20 [==============================] - 0s 6ms/sample - loss: 0.5124 - accuracy: 0.7934 - val_loss: 0.4922 - val_accuracy: 0.8032\n",
      "Epoch 28/65\n",
      "20/20 [==============================] - 0s 5ms/sample - loss: 0.5074 - accuracy: 0.7958 - val_loss: 0.4883 - val_accuracy: 0.8032\n",
      "Epoch 29/65\n",
      "20/20 [==============================] - 0s 5ms/sample - loss: 0.5026 - accuracy: 0.7956 - val_loss: 0.4847 - val_accuracy: 0.8032\n",
      "Epoch 30/65\n",
      "20/20 [==============================] - 0s 7ms/sample - loss: 0.4979 - accuracy: 0.7980 - val_loss: 0.4813 - val_accuracy: 0.8008\n",
      "Epoch 31/65\n",
      "20/20 [==============================] - 0s 7ms/sample - loss: 0.4935 - accuracy: 0.7976 - val_loss: 0.4782 - val_accuracy: 0.8008\n",
      "Epoch 32/65\n",
      "20/20 [==============================] - 0s 5ms/sample - loss: 0.4892 - accuracy: 0.8012 - val_loss: 0.4753 - val_accuracy: 0.7992\n",
      "Epoch 33/65\n",
      "20/20 [==============================] - 0s 6ms/sample - loss: 0.4851 - accuracy: 0.8030 - val_loss: 0.4725 - val_accuracy: 0.7984\n",
      "Epoch 34/65\n",
      "20/20 [==============================] - 0s 6ms/sample - loss: 0.4811 - accuracy: 0.8046 - val_loss: 0.4699 - val_accuracy: 0.7968\n",
      "Epoch 35/65\n",
      "20/20 [==============================] - 0s 6ms/sample - loss: 0.4773 - accuracy: 0.8058 - val_loss: 0.4674 - val_accuracy: 0.7968\n",
      "Epoch 36/65\n",
      "20/20 [==============================] - 0s 5ms/sample - loss: 0.4736 - accuracy: 0.8062 - val_loss: 0.4651 - val_accuracy: 0.7960\n",
      "Epoch 37/65\n",
      "20/20 [==============================] - 0s 6ms/sample - loss: 0.4700 - accuracy: 0.8076 - val_loss: 0.4628 - val_accuracy: 0.7968\n",
      "Epoch 38/65\n",
      "20/20 [==============================] - 0s 7ms/sample - loss: 0.4665 - accuracy: 0.8094 - val_loss: 0.4606 - val_accuracy: 0.7952\n",
      "Epoch 39/65\n",
      "20/20 [==============================] - 0s 7ms/sample - loss: 0.4631 - accuracy: 0.8114 - val_loss: 0.4584 - val_accuracy: 0.7960\n",
      "Epoch 40/65\n",
      "20/20 [==============================] - 0s 5ms/sample - loss: 0.4597 - accuracy: 0.8114 - val_loss: 0.4562 - val_accuracy: 0.7952\n",
      "Epoch 41/65\n",
      "20/20 [==============================] - 0s 5ms/sample - loss: 0.4564 - accuracy: 0.8136 - val_loss: 0.4541 - val_accuracy: 0.7976\n",
      "Epoch 42/65\n",
      "20/20 [==============================] - 0s 5ms/sample - loss: 0.4532 - accuracy: 0.8158 - val_loss: 0.4520 - val_accuracy: 0.7976\n",
      "Epoch 43/65\n",
      "20/20 [==============================] - 0s 6ms/sample - loss: 0.4499 - accuracy: 0.8168 - val_loss: 0.4498 - val_accuracy: 0.7992\n",
      "Epoch 44/65\n",
      "20/20 [==============================] - 0s 5ms/sample - loss: 0.4467 - accuracy: 0.8178 - val_loss: 0.4477 - val_accuracy: 0.8024\n",
      "Epoch 45/65\n",
      "20/20 [==============================] - 0s 6ms/sample - loss: 0.4435 - accuracy: 0.8196 - val_loss: 0.4455 - val_accuracy: 0.8024\n",
      "Epoch 46/65\n",
      "20/20 [==============================] - 0s 5ms/sample - loss: 0.4403 - accuracy: 0.8216 - val_loss: 0.4433 - val_accuracy: 0.8048\n",
      "Epoch 47/65\n",
      "20/20 [==============================] - 0s 6ms/sample - loss: 0.4370 - accuracy: 0.8232 - val_loss: 0.4411 - val_accuracy: 0.8072\n",
      "Epoch 48/65\n",
      "20/20 [==============================] - 0s 6ms/sample - loss: 0.4338 - accuracy: 0.8262 - val_loss: 0.4390 - val_accuracy: 0.8072\n",
      "Epoch 49/65\n",
      "20/20 [==============================] - 0s 7ms/sample - loss: 0.4306 - accuracy: 0.8266 - val_loss: 0.4369 - val_accuracy: 0.8080\n",
      "Epoch 50/65\n",
      "20/20 [==============================] - 0s 7ms/sample - loss: 0.4273 - accuracy: 0.8288 - val_loss: 0.4348 - val_accuracy: 0.8088\n",
      "Epoch 51/65\n",
      "20/20 [==============================] - 0s 7ms/sample - loss: 0.4240 - accuracy: 0.8298 - val_loss: 0.4329 - val_accuracy: 0.8104\n",
      "Epoch 52/65\n",
      "20/20 [==============================] - 0s 6ms/sample - loss: 0.4207 - accuracy: 0.8310 - val_loss: 0.4311 - val_accuracy: 0.8136\n",
      "Epoch 53/65\n",
      "20/20 [==============================] - 0s 5ms/sample - loss: 0.4174 - accuracy: 0.8320 - val_loss: 0.4295 - val_accuracy: 0.8160\n",
      "Epoch 54/65\n",
      "20/20 [==============================] - 0s 5ms/sample - loss: 0.4140 - accuracy: 0.8342 - val_loss: 0.4281 - val_accuracy: 0.8168\n",
      "Epoch 55/65\n",
      "20/20 [==============================] - 0s 5ms/sample - loss: 0.4106 - accuracy: 0.8362 - val_loss: 0.4269 - val_accuracy: 0.8176\n",
      "Epoch 56/65\n",
      "20/20 [==============================] - 0s 5ms/sample - loss: 0.4072 - accuracy: 0.8386 - val_loss: 0.4262 - val_accuracy: 0.8192\n",
      "Epoch 57/65\n",
      "20/20 [==============================] - 0s 5ms/sample - loss: 0.4037 - accuracy: 0.8402 - val_loss: 0.4288 - val_accuracy: 0.8160\n",
      "Epoch 58/65\n"
     ]
    },
    {
     "name": "stdout",
     "output_type": "stream",
     "text": [
      "20/20 [==============================] - 0s 5ms/sample - loss: 0.4004 - accuracy: 0.8410 - val_loss: 0.4325 - val_accuracy: 0.8144\n",
      "Epoch 59/65\n",
      "20/20 [==============================] - 0s 5ms/sample - loss: 0.3969 - accuracy: 0.8432 - val_loss: 0.4322 - val_accuracy: 0.8160\n",
      "Epoch 60/65\n",
      "20/20 [==============================] - 0s 6ms/sample - loss: 0.3932 - accuracy: 0.8438 - val_loss: 0.4313 - val_accuracy: 0.8184\n",
      "Epoch 61/65\n",
      "20/20 [==============================] - 0s 5ms/sample - loss: 0.3896 - accuracy: 0.8460 - val_loss: 0.4305 - val_accuracy: 0.8200\n",
      "Epoch 62/65\n",
      "20/20 [==============================] - 0s 5ms/sample - loss: 0.3861 - accuracy: 0.8466 - val_loss: 0.4304 - val_accuracy: 0.8216\n",
      "Epoch 63/65\n",
      "20/20 [==============================] - 0s 5ms/sample - loss: 0.3826 - accuracy: 0.8482 - val_loss: 0.4309 - val_accuracy: 0.8232\n",
      "Epoch 64/65\n",
      "20/20 [==============================] - 0s 5ms/sample - loss: 0.3793 - accuracy: 0.8496 - val_loss: 0.4274 - val_accuracy: 0.8256\n",
      "Epoch 65/65\n",
      "20/20 [==============================] - 0s 5ms/sample - loss: 0.3766 - accuracy: 0.8512 - val_loss: 0.4240 - val_accuracy: 0.8264\n"
     ]
    }
   ],
   "source": [
    "opt = tf.keras.optimizers.Adam()\n",
    "model.compile(optimizer=opt, loss='sparse_categorical_crossentropy', metrics=['accuracy'])\n",
    "history = model.fit(X1, y1, epochs=65, batch_size = 32, validation_split=0.2)"
   ]
  },
  {
   "cell_type": "code",
   "execution_count": 85,
   "metadata": {},
   "outputs": [],
   "source": [
    "pred = np.argmax(model.predict(np.array([X1[0]])), axis=-1)"
   ]
  },
  {
   "cell_type": "code",
   "execution_count": 134,
   "metadata": {},
   "outputs": [
    {
     "data": {
      "image/png": "[encoded data removed]",
      "text/plain": [
       "<Figure size 432x288 with 1 Axes>"
      ]
     },
     "metadata": {
      "needs_background": "light"
     },
     "output_type": "display_data"
    }
   ],
   "source": [
    "# plot history:\n",
    "## summarize history for loss, from https://machinelearningmastery.com/display-deep-learning-model-training-history-in-keras/\n",
    "plt_metric(history, 'loss')"
   ]
  },
  {
   "cell_type": "code",
   "execution_count": 135,
   "metadata": {},
   "outputs": [
    {
     "data": {
      "image/png": "[encoded data removed]",
      "text/plain": [
       "<Figure size 432x288 with 1 Axes>"
      ]
     },
     "metadata": {
      "needs_background": "light"
     },
     "output_type": "display_data"
    }
   ],
   "source": [
    "plt_metric(history, 'accuracy')"
   ]
  },
  {
   "cell_type": "code",
   "execution_count": 136,
   "metadata": {},
   "outputs": [
    {
     "data": {
      "image/png": "[encoded data removed]",
      "text/plain": [
       "<Figure size 432x288 with 1 Axes>"
      ]
     },
     "metadata": {
      "needs_background": "light"
     },
     "output_type": "display_data"
    }
   ],
   "source": [
    "# plot truth vs labels\n",
    "plt_pred(y1[0], pred)"
   ]
  }
 ],
 "metadata": {
  "kernelspec": {
   "display_name": "Python 3",
   "language": "python",
   "name": "python3"
  },
  "language_info": {
   "codemirror_mode": {
    "name": "ipython",
    "version": 3
   },
   "file_extension": ".py",
   "mimetype": "text/x-python",
   "name": "python",
   "nbconvert_exporter": "python",
   "pygments_lexer": "ipython3",
   "version": "3.7.1"
  }
 },
 "nbformat": 4,
 "nbformat_minor": 2
}
