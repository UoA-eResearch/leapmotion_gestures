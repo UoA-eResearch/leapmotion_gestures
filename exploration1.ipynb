{
 "cells": [
  {
   "cell_type": "code",
   "execution_count": 61,
   "metadata": {},
   "outputs": [],
   "source": [
    "from importlib import reload\n",
    "import numpy as np\n",
    "import matplotlib.pyplot as plt\n",
    "import pandas as pd\n",
    "import tensorflow as tf\n",
    "from tensorflow.keras import layers"
   ]
  },
  {
   "cell_type": "code",
   "execution_count": 69,
   "metadata": {},
   "outputs": [],
   "source": [
    "# import modules I've written\n",
    "try:\n",
    "    reload(m)\n",
    "    from src.models import *\n",
    "except:\n",
    "    import src.models as m\n",
    "    from src.models import *\n",
    "    print('reload failed')\n",
    "try:\n",
    "    reload(d)\n",
    "    from src.dataMethods import *\n",
    "except:\n",
    "    import src.dataMethods as d\n",
    "    from src.dataMethods import *\n",
    "    print('reload failed')\n"
   ]
  },
  {
   "cell_type": "code",
   "execution_count": 3,
   "metadata": {},
   "outputs": [
    {
     "name": "stdout",
     "output_type": "stream",
     "text": [
      "mean fps: 110.39\n",
      "skipping every 4 frames\n",
      "Found left hand data:  False\n",
      "Found right hand data:  True\n",
      "mean fps: 115.21\n",
      "skipping every 5 frames\n",
      "Found left hand data:  True\n",
      "Found right hand data:  True\n"
     ]
    }
   ],
   "source": [
    "# get data frame with variables of interest\n",
    "df_gesture = CSV2VoI('data/recordings/so-so.csv')\n",
    "df_nogesture = CSV2VoI('data/recordings/no-gesture.csv')"
   ]
  },
  {
   "cell_type": "code",
   "execution_count": 49,
   "metadata": {},
   "outputs": [
    {
     "name": "stdout",
     "output_type": "stream",
     "text": [
      "dropped 0 of 3953 rows with nans\n",
      "right_index_tipPosition_0    -3.719150\n",
      "right_index_tipPosition_1    -2.981039\n",
      "right_index_tipPosition_2    -2.416370\n",
      "right_middle_tipPosition_0   -3.916131\n",
      "right_middle_tipPosition_1   -2.972461\n",
      "right_middle_tipPosition_2   -2.298196\n",
      "right_ring_tipPosition_0     -3.910930\n",
      "right_ring_tipPosition_1     -2.810008\n",
      "right_ring_tipPosition_2     -2.323741\n",
      "right_pinky_tipPosition_0    -4.113620\n",
      "right_pinky_tipPosition_1    -2.761090\n",
      "right_pinky_tipPosition_2    -2.513671\n",
      "right_thumb_tipPosition_0    -4.297826\n",
      "right_thumb_tipPosition_1    -2.765957\n",
      "right_thumb_tipPosition_2    -2.545743\n",
      "right_palmVelocity_0         -4.460913\n",
      "right_palmVelocity_1         -3.377157\n",
      "right_palmVelocity_2         -8.874610\n",
      "right_pinchDistance          -5.024859\n",
      "right_grabAngle              -2.553843\n",
      "right_direction_0            -3.704464\n",
      "dtype: float64 right_index_tipPosition_0     2.643953\n",
      "right_index_tipPosition_1     4.483316\n",
      "right_index_tipPosition_2     4.141127\n",
      "right_middle_tipPosition_0    2.704600\n",
      "right_middle_tipPosition_1    3.688571\n",
      "right_middle_tipPosition_2    5.563573\n",
      "right_ring_tipPosition_0      2.861568\n",
      "right_ring_tipPosition_1      3.553109\n",
      "right_ring_tipPosition_2      6.091757\n",
      "right_pinky_tipPosition_0     2.802056\n",
      "right_pinky_tipPosition_1     3.100595\n",
      "right_pinky_tipPosition_2     5.748254\n",
      "right_thumb_tipPosition_0     4.392519\n",
      "right_thumb_tipPosition_1     2.460225\n",
      "right_thumb_tipPosition_2     4.616773\n",
      "right_palmVelocity_0          5.754732\n",
      "right_palmVelocity_1          4.854124\n",
      "right_palmVelocity_2          6.722897\n",
      "right_pinchDistance           2.920943\n",
      "right_grabAngle               5.581777\n",
      "right_direction_0             4.227580\n",
      "dtype: float64\n",
      "dropped 0 of 4038 rows with nans\n",
      "right_index_tipPosition_0     -2.659171\n",
      "right_index_tipPosition_1     -2.988056\n",
      "right_index_tipPosition_2     -4.393675\n",
      "right_middle_tipPosition_0    -2.688844\n",
      "right_middle_tipPosition_1    -3.080111\n",
      "right_middle_tipPosition_2    -3.501894\n",
      "right_ring_tipPosition_0      -2.695039\n",
      "right_ring_tipPosition_1      -3.699513\n",
      "right_ring_tipPosition_2      -3.372954\n",
      "right_pinky_tipPosition_0     -3.231959\n",
      "right_pinky_tipPosition_1     -4.088386\n",
      "right_pinky_tipPosition_2     -3.473128\n",
      "right_thumb_tipPosition_0     -2.791487\n",
      "right_thumb_tipPosition_1     -2.993492\n",
      "right_thumb_tipPosition_2     -4.226224\n",
      "right_palmVelocity_0          -4.224562\n",
      "right_palmVelocity_1          -6.834514\n",
      "right_palmVelocity_2         -14.531189\n",
      "right_pinchDistance           -3.747056\n",
      "right_grabAngle               -2.491014\n",
      "right_direction_0             -2.640218\n",
      "dtype: float64 right_index_tipPosition_0      4.331127\n",
      "right_index_tipPosition_1      3.416314\n",
      "right_index_tipPosition_2      5.604974\n",
      "right_middle_tipPosition_0     3.586952\n",
      "right_middle_tipPosition_1     3.241827\n",
      "right_middle_tipPosition_2     5.771030\n",
      "right_ring_tipPosition_0       3.562710\n",
      "right_ring_tipPosition_1       2.868117\n",
      "right_ring_tipPosition_2       5.945875\n",
      "right_pinky_tipPosition_0      3.204094\n",
      "right_pinky_tipPosition_1      3.370542\n",
      "right_pinky_tipPosition_2      5.643472\n",
      "right_thumb_tipPosition_0      4.798955\n",
      "right_thumb_tipPosition_1      2.321316\n",
      "right_thumb_tipPosition_2      3.418673\n",
      "right_palmVelocity_0           5.767711\n",
      "right_palmVelocity_1          10.386547\n",
      "right_palmVelocity_2           8.692436\n",
      "right_pinchDistance            4.364336\n",
      "right_grabAngle                3.857303\n",
      "right_direction_0              5.521815\n",
      "dtype: float64\n"
     ]
    },
    {
     "data": {
      "text/plain": [
       "(4038, 21)"
      ]
     },
     "execution_count": 49,
     "metadata": {},
     "output_type": "execute_result"
    }
   ],
   "source": [
    "# extract X and y\n",
    "# note that this way I'm normalizing true and false examples separately...\n",
    "X1, _, = df2X_y(df_gesture)\n",
    "X0, _ = df2X_y(df_nogesture)\n",
    "X1.shape\n",
    "X0.shape"
   ]
  },
  {
   "cell_type": "code",
   "execution_count": 50,
   "metadata": {},
   "outputs": [
    {
     "name": "stdout",
     "output_type": "stream",
     "text": [
      "(131, 30, 21)\n",
      "(134, 30, 21)\n"
     ]
    }
   ],
   "source": [
    "n_frames = 30\n",
    "# separate into examples 30 frames long each\n",
    "X1 = np.array(split2examples(X1, n_frames))\n",
    "X0 = np.array(split2examples(X0, n_frames))\n",
    "print(X1.shape)\n",
    "print(X0.shape)"
   ]
  },
  {
   "cell_type": "code",
   "execution_count": 51,
   "metadata": {},
   "outputs": [
    {
     "name": "stdout",
     "output_type": "stream",
     "text": [
      "[1 1 1 1 1]\n",
      "[0 0 0 0 0]\n"
     ]
    }
   ],
   "source": [
    "# get y labels\n",
    "y1 = np.array([1 for i in X1])\n",
    "y0 = np.array([0 for i in X0])\n",
    "print(y1[:5])\n",
    "print(y0[:5])"
   ]
  },
  {
   "cell_type": "code",
   "execution_count": 52,
   "metadata": {},
   "outputs": [
    {
     "data": {
      "text/plain": [
       "(265, 30, 21)"
      ]
     },
     "execution_count": 52,
     "metadata": {},
     "output_type": "execute_result"
    }
   ],
   "source": [
    "X = np.concatenate((X1, X0))\n",
    "y = np.concatenate((y1, y0))\n",
    "y_rigged = np.array([0 for i in X])\n",
    "# for random shuffling like this, see:\n",
    "# https://stackoverflow.com/questions/4601373/better-way-to-shuffle-two-numpy-arrays-in-unison\n",
    "state = np.random.get_state()\n",
    "np.random.shuffle(X)\n",
    "np.random.set_state(state)\n",
    "np.random.shuffle(y)\n",
    "\n",
    "X.shape"
   ]
  },
  {
   "cell_type": "code",
   "execution_count": 44,
   "metadata": {},
   "outputs": [
    {
     "name": "stdout",
     "output_type": "stream",
     "text": [
      "1\n"
     ]
    }
   ],
   "source": [
    "# just get some completely rigged data... X rigged as well.\n",
    "Xy = np.array([1 for i in range(100)] + [0 for i in range(100)])\n",
    "X = np.reshape(Xy, (200,1,1))\n",
    "y = np.reshape(Xy, (200,1))\n",
    "print(X.shape[-1])"
   ]
  },
  {
   "cell_type": "code",
   "execution_count": 82,
   "metadata": {},
   "outputs": [
    {
     "name": "stdout",
     "output_type": "stream",
     "text": [
      "Model: \"many2one\"\n",
      "_________________________________________________________________\n",
      "Layer (type)                 Output Shape              Param #   \n",
      "=================================================================\n",
      "input_12 (InputLayer)        [(None, 30, 21)]          0         \n",
      "_________________________________________________________________\n",
      "lstm_11 (LSTM)               (None, 1)                 92        \n",
      "_________________________________________________________________\n",
      "dense_13 (Dense)             (None, 2)                 4         \n",
      "=================================================================\n",
      "Total params: 96\n",
      "Trainable params: 96\n",
      "Non-trainable params: 0\n",
      "_________________________________________________________________\n"
     ]
    }
   ],
   "source": [
    "model = many2one_model(n_features = X.shape[-1], n_frames=X.shape[1], n_gestures=2, rnn_units=1)"
   ]
  },
  {
   "cell_type": "code",
   "execution_count": 83,
   "metadata": {},
   "outputs": [
    {
     "name": "stdout",
     "output_type": "stream",
     "text": [
      "Train on 238 samples, validate on 27 samples\n",
      "Epoch 1/150\n",
      "238/238 [==============================] - 2s 10ms/sample - loss: 0.7190 - accuracy: 0.4790 - val_loss: 0.7040 - val_accuracy: 0.4815\n",
      "Epoch 2/150\n",
      "238/238 [==============================] - 0s 365us/sample - loss: 0.7112 - accuracy: 0.4748 - val_loss: 0.6971 - val_accuracy: 0.4815\n",
      "Epoch 3/150\n",
      "238/238 [==============================] - 0s 406us/sample - loss: 0.7046 - accuracy: 0.4916 - val_loss: 0.6907 - val_accuracy: 0.5185\n",
      "Epoch 4/150\n",
      "238/238 [==============================] - 0s 383us/sample - loss: 0.6988 - accuracy: 0.5042 - val_loss: 0.6848 - val_accuracy: 0.5185\n",
      "Epoch 5/150\n",
      "238/238 [==============================] - 0s 335us/sample - loss: 0.6926 - accuracy: 0.5210 - val_loss: 0.6817 - val_accuracy: 0.5556\n",
      "Epoch 6/150\n",
      "238/238 [==============================] - 0s 366us/sample - loss: 0.6874 - accuracy: 0.5294 - val_loss: 0.6798 - val_accuracy: 0.5185\n",
      "Epoch 7/150\n",
      "238/238 [==============================] - 0s 362us/sample - loss: 0.6821 - accuracy: 0.5420 - val_loss: 0.6775 - val_accuracy: 0.5185\n",
      "Epoch 8/150\n",
      "238/238 [==============================] - 0s 380us/sample - loss: 0.6775 - accuracy: 0.5462 - val_loss: 0.6751 - val_accuracy: 0.5556\n",
      "Epoch 9/150\n",
      "238/238 [==============================] - 0s 394us/sample - loss: 0.6732 - accuracy: 0.5462 - val_loss: 0.6723 - val_accuracy: 0.5556\n",
      "Epoch 10/150\n",
      "238/238 [==============================] - 0s 369us/sample - loss: 0.6687 - accuracy: 0.5504 - val_loss: 0.6696 - val_accuracy: 0.5556\n",
      "Epoch 11/150\n",
      "238/238 [==============================] - 0s 365us/sample - loss: 0.6649 - accuracy: 0.5378 - val_loss: 0.6674 - val_accuracy: 0.5556\n",
      "Epoch 12/150\n",
      "238/238 [==============================] - 0s 363us/sample - loss: 0.6605 - accuracy: 0.5462 - val_loss: 0.6653 - val_accuracy: 0.5556\n",
      "Epoch 13/150\n",
      "238/238 [==============================] - 0s 360us/sample - loss: 0.6567 - accuracy: 0.5504 - val_loss: 0.6624 - val_accuracy: 0.5556\n",
      "Epoch 14/150\n",
      "238/238 [==============================] - 0s 369us/sample - loss: 0.6528 - accuracy: 0.5672 - val_loss: 0.6603 - val_accuracy: 0.5556\n",
      "Epoch 15/150\n",
      "238/238 [==============================] - 0s 415us/sample - loss: 0.6492 - accuracy: 0.5756 - val_loss: 0.6590 - val_accuracy: 0.5556\n",
      "Epoch 16/150\n",
      "238/238 [==============================] - 0s 352us/sample - loss: 0.6454 - accuracy: 0.5798 - val_loss: 0.6564 - val_accuracy: 0.5556\n",
      "Epoch 17/150\n",
      "238/238 [==============================] - 0s 323us/sample - loss: 0.6418 - accuracy: 0.5882 - val_loss: 0.6540 - val_accuracy: 0.5556\n",
      "Epoch 18/150\n",
      "238/238 [==============================] - 0s 344us/sample - loss: 0.6374 - accuracy: 0.5924 - val_loss: 0.6518 - val_accuracy: 0.5556\n",
      "Epoch 19/150\n",
      "238/238 [==============================] - 0s 360us/sample - loss: 0.6330 - accuracy: 0.6008 - val_loss: 0.6498 - val_accuracy: 0.5556\n",
      "Epoch 20/150\n",
      "238/238 [==============================] - 0s 373us/sample - loss: 0.6288 - accuracy: 0.6050 - val_loss: 0.6470 - val_accuracy: 0.5556\n",
      "Epoch 21/150\n",
      "238/238 [==============================] - 0s 369us/sample - loss: 0.6244 - accuracy: 0.6050 - val_loss: 0.6443 - val_accuracy: 0.5556\n",
      "Epoch 22/150\n",
      "238/238 [==============================] - 0s 343us/sample - loss: 0.6203 - accuracy: 0.6218 - val_loss: 0.6412 - val_accuracy: 0.5556\n",
      "Epoch 23/150\n",
      "238/238 [==============================] - 0s 393us/sample - loss: 0.6158 - accuracy: 0.6345 - val_loss: 0.6383 - val_accuracy: 0.5556\n",
      "Epoch 24/150\n",
      "238/238 [==============================] - 0s 411us/sample - loss: 0.6113 - accuracy: 0.6513 - val_loss: 0.6339 - val_accuracy: 0.5926\n",
      "Epoch 25/150\n",
      "238/238 [==============================] - 0s 407us/sample - loss: 0.6062 - accuracy: 0.6639 - val_loss: 0.6277 - val_accuracy: 0.6296\n",
      "Epoch 26/150\n",
      "238/238 [==============================] - 0s 468us/sample - loss: 0.6014 - accuracy: 0.6681 - val_loss: 0.6215 - val_accuracy: 0.6296\n",
      "Epoch 27/150\n",
      "238/238 [==============================] - 0s 345us/sample - loss: 0.5969 - accuracy: 0.6723 - val_loss: 0.6179 - val_accuracy: 0.6296\n",
      "Epoch 28/150\n",
      "238/238 [==============================] - 0s 344us/sample - loss: 0.5920 - accuracy: 0.6765 - val_loss: 0.6141 - val_accuracy: 0.6296\n",
      "Epoch 29/150\n",
      "238/238 [==============================] - 0s 356us/sample - loss: 0.5874 - accuracy: 0.6765 - val_loss: 0.6106 - val_accuracy: 0.6296\n",
      "Epoch 30/150\n",
      "238/238 [==============================] - 0s 352us/sample - loss: 0.5828 - accuracy: 0.6849 - val_loss: 0.6085 - val_accuracy: 0.6296\n",
      "Epoch 31/150\n",
      "238/238 [==============================] - 0s 362us/sample - loss: 0.5781 - accuracy: 0.6849 - val_loss: 0.6044 - val_accuracy: 0.6296\n",
      "Epoch 32/150\n",
      "238/238 [==============================] - 0s 384us/sample - loss: 0.5731 - accuracy: 0.6975 - val_loss: 0.6016 - val_accuracy: 0.6667\n",
      "Epoch 33/150\n",
      "238/238 [==============================] - 0s 382us/sample - loss: 0.5681 - accuracy: 0.6975 - val_loss: 0.5993 - val_accuracy: 0.6667\n",
      "Epoch 34/150\n",
      "238/238 [==============================] - 0s 378us/sample - loss: 0.5632 - accuracy: 0.7059 - val_loss: 0.5970 - val_accuracy: 0.6667\n",
      "Epoch 35/150\n",
      "238/238 [==============================] - 0s 348us/sample - loss: 0.5581 - accuracy: 0.7185 - val_loss: 0.5922 - val_accuracy: 0.6667\n",
      "Epoch 36/150\n",
      "238/238 [==============================] - 0s 348us/sample - loss: 0.5530 - accuracy: 0.7227 - val_loss: 0.5892 - val_accuracy: 0.6667\n",
      "Epoch 37/150\n",
      "238/238 [==============================] - 0s 339us/sample - loss: 0.5484 - accuracy: 0.7269 - val_loss: 0.5844 - val_accuracy: 0.6667\n",
      "Epoch 38/150\n",
      "238/238 [==============================] - 0s 314us/sample - loss: 0.5437 - accuracy: 0.7269 - val_loss: 0.5796 - val_accuracy: 0.6667\n",
      "Epoch 39/150\n",
      "238/238 [==============================] - 0s 310us/sample - loss: 0.5389 - accuracy: 0.7311 - val_loss: 0.5757 - val_accuracy: 0.6667\n",
      "Epoch 40/150\n",
      "238/238 [==============================] - 0s 306us/sample - loss: 0.5341 - accuracy: 0.7353 - val_loss: 0.5713 - val_accuracy: 0.6667\n",
      "Epoch 41/150\n",
      "238/238 [==============================] - 0s 310us/sample - loss: 0.5301 - accuracy: 0.7353 - val_loss: 0.5662 - val_accuracy: 0.6667\n",
      "Epoch 42/150\n",
      "238/238 [==============================] - 0s 306us/sample - loss: 0.5254 - accuracy: 0.7395 - val_loss: 0.5599 - val_accuracy: 0.6667\n",
      "Epoch 43/150\n",
      "238/238 [==============================] - 0s 331us/sample - loss: 0.5213 - accuracy: 0.7395 - val_loss: 0.5502 - val_accuracy: 0.6667\n",
      "Epoch 44/150\n",
      "238/238 [==============================] - 0s 310us/sample - loss: 0.5169 - accuracy: 0.7437 - val_loss: 0.5387 - val_accuracy: 0.6667\n",
      "Epoch 45/150\n",
      "238/238 [==============================] - 0s 314us/sample - loss: 0.5126 - accuracy: 0.7437 - val_loss: 0.5262 - val_accuracy: 0.6667\n",
      "Epoch 46/150\n",
      "238/238 [==============================] - 0s 312us/sample - loss: 0.5089 - accuracy: 0.7479 - val_loss: 0.5133 - val_accuracy: 0.6667\n",
      "Epoch 47/150\n",
      "238/238 [==============================] - 0s 324us/sample - loss: 0.5045 - accuracy: 0.7395 - val_loss: 0.5000 - val_accuracy: 0.7037\n",
      "Epoch 48/150\n",
      "238/238 [==============================] - 0s 387us/sample - loss: 0.5003 - accuracy: 0.7479 - val_loss: 0.4892 - val_accuracy: 0.7037\n",
      "Epoch 49/150\n",
      "238/238 [==============================] - 0s 446us/sample - loss: 0.4959 - accuracy: 0.7479 - val_loss: 0.4787 - val_accuracy: 0.7037\n",
      "Epoch 50/150\n",
      "238/238 [==============================] - 0s 457us/sample - loss: 0.4915 - accuracy: 0.7521 - val_loss: 0.4694 - val_accuracy: 0.7037\n",
      "Epoch 51/150\n",
      "238/238 [==============================] - 0s 381us/sample - loss: 0.4872 - accuracy: 0.7437 - val_loss: 0.4606 - val_accuracy: 0.7407\n",
      "Epoch 52/150\n",
      "238/238 [==============================] - 0s 344us/sample - loss: 0.4815 - accuracy: 0.7521 - val_loss: 0.4510 - val_accuracy: 0.7778\n",
      "Epoch 53/150\n",
      "238/238 [==============================] - 0s 407us/sample - loss: 0.4762 - accuracy: 0.7521 - val_loss: 0.4422 - val_accuracy: 0.7778\n",
      "Epoch 54/150\n",
      "238/238 [==============================] - 0s 461us/sample - loss: 0.4718 - accuracy: 0.7605 - val_loss: 0.4351 - val_accuracy: 0.8148\n",
      "Epoch 55/150\n",
      "238/238 [==============================] - 0s 442us/sample - loss: 0.4677 - accuracy: 0.7605 - val_loss: 0.4299 - val_accuracy: 0.8148\n",
      "Epoch 56/150\n"
     ]
    },
    {
     "name": "stdout",
     "output_type": "stream",
     "text": [
      "238/238 [==============================] - 0s 352us/sample - loss: 0.4639 - accuracy: 0.7605 - val_loss: 0.4222 - val_accuracy: 0.8148\n",
      "Epoch 57/150\n",
      "238/238 [==============================] - 0s 318us/sample - loss: 0.4593 - accuracy: 0.7647 - val_loss: 0.4144 - val_accuracy: 0.8148\n",
      "Epoch 58/150\n",
      "238/238 [==============================] - 0s 317us/sample - loss: 0.4554 - accuracy: 0.7689 - val_loss: 0.4067 - val_accuracy: 0.8148\n",
      "Epoch 59/150\n",
      "238/238 [==============================] - 0s 306us/sample - loss: 0.4518 - accuracy: 0.7689 - val_loss: 0.4015 - val_accuracy: 0.8519\n",
      "Epoch 60/150\n",
      "238/238 [==============================] - 0s 302us/sample - loss: 0.4483 - accuracy: 0.7647 - val_loss: 0.3942 - val_accuracy: 0.8889\n",
      "Epoch 61/150\n",
      "238/238 [==============================] - 0s 318us/sample - loss: 0.4446 - accuracy: 0.7731 - val_loss: 0.3892 - val_accuracy: 0.8889\n",
      "Epoch 62/150\n",
      "238/238 [==============================] - 0s 314us/sample - loss: 0.4416 - accuracy: 0.7773 - val_loss: 0.3884 - val_accuracy: 0.8519\n",
      "Epoch 63/150\n",
      "238/238 [==============================] - 0s 313us/sample - loss: 0.4385 - accuracy: 0.7773 - val_loss: 0.3884 - val_accuracy: 0.8148\n",
      "Epoch 64/150\n",
      "238/238 [==============================] - 0s 310us/sample - loss: 0.4357 - accuracy: 0.7773 - val_loss: 0.3809 - val_accuracy: 0.8148\n",
      "Epoch 65/150\n",
      "238/238 [==============================] - 0s 315us/sample - loss: 0.4324 - accuracy: 0.7815 - val_loss: 0.3752 - val_accuracy: 0.8889\n",
      "Epoch 66/150\n",
      "238/238 [==============================] - 0s 311us/sample - loss: 0.4289 - accuracy: 0.7773 - val_loss: 0.3660 - val_accuracy: 0.9259\n",
      "Epoch 67/150\n",
      "238/238 [==============================] - 0s 327us/sample - loss: 0.4258 - accuracy: 0.7857 - val_loss: 0.3545 - val_accuracy: 0.9259\n",
      "Epoch 68/150\n",
      "238/238 [==============================] - 0s 310us/sample - loss: 0.4220 - accuracy: 0.7899 - val_loss: 0.3479 - val_accuracy: 0.9630\n",
      "Epoch 69/150\n",
      "238/238 [==============================] - 0s 327us/sample - loss: 0.4187 - accuracy: 0.7941 - val_loss: 0.3400 - val_accuracy: 0.9630\n",
      "Epoch 70/150\n",
      "238/238 [==============================] - 0s 318us/sample - loss: 0.4149 - accuracy: 0.7983 - val_loss: 0.3325 - val_accuracy: 0.9630\n",
      "Epoch 71/150\n",
      "238/238 [==============================] - 0s 313us/sample - loss: 0.4121 - accuracy: 0.7983 - val_loss: 0.3256 - val_accuracy: 0.9630\n",
      "Epoch 72/150\n",
      "238/238 [==============================] - 0s 318us/sample - loss: 0.4088 - accuracy: 0.7941 - val_loss: 0.3217 - val_accuracy: 0.9630\n",
      "Epoch 73/150\n",
      "238/238 [==============================] - 0s 322us/sample - loss: 0.4061 - accuracy: 0.7941 - val_loss: 0.3178 - val_accuracy: 0.9630\n",
      "Epoch 74/150\n",
      "238/238 [==============================] - 0s 355us/sample - loss: 0.4035 - accuracy: 0.7983 - val_loss: 0.3143 - val_accuracy: 0.9630\n",
      "Epoch 75/150\n",
      "238/238 [==============================] - 0s 318us/sample - loss: 0.4008 - accuracy: 0.8025 - val_loss: 0.3105 - val_accuracy: 0.9630\n",
      "Epoch 76/150\n",
      "238/238 [==============================] - 0s 319us/sample - loss: 0.4011 - accuracy: 0.7983 - val_loss: 0.3146 - val_accuracy: 0.9259\n",
      "Epoch 77/150\n",
      "238/238 [==============================] - 0s 315us/sample - loss: 0.4022 - accuracy: 0.7983 - val_loss: 0.3296 - val_accuracy: 0.9259\n",
      "Epoch 78/150\n",
      "238/238 [==============================] - 0s 303us/sample - loss: 0.4040 - accuracy: 0.7941 - val_loss: 0.3263 - val_accuracy: 0.9259\n",
      "Epoch 79/150\n",
      "238/238 [==============================] - 0s 313us/sample - loss: 0.4021 - accuracy: 0.7899 - val_loss: 0.3194 - val_accuracy: 0.9259\n",
      "Epoch 80/150\n",
      "238/238 [==============================] - 0s 326us/sample - loss: 0.3977 - accuracy: 0.7941 - val_loss: 0.3118 - val_accuracy: 0.9259\n",
      "Epoch 81/150\n",
      "238/238 [==============================] - 0s 323us/sample - loss: 0.3941 - accuracy: 0.7899 - val_loss: 0.3051 - val_accuracy: 0.9259\n",
      "Epoch 82/150\n",
      "238/238 [==============================] - 0s 318us/sample - loss: 0.3883 - accuracy: 0.7983 - val_loss: 0.2995 - val_accuracy: 0.9259\n",
      "Epoch 83/150\n",
      "238/238 [==============================] - 0s 333us/sample - loss: 0.3852 - accuracy: 0.7983 - val_loss: 0.2953 - val_accuracy: 0.9259\n",
      "Epoch 84/150\n",
      "238/238 [==============================] - 0s 327us/sample - loss: 0.3834 - accuracy: 0.8025 - val_loss: 0.2920 - val_accuracy: 0.9630\n",
      "Epoch 85/150\n",
      "238/238 [==============================] - 0s 314us/sample - loss: 0.3815 - accuracy: 0.8025 - val_loss: 0.2894 - val_accuracy: 0.9630\n",
      "Epoch 86/150\n",
      "238/238 [==============================] - 0s 313us/sample - loss: 0.3798 - accuracy: 0.8025 - val_loss: 0.2873 - val_accuracy: 0.9630\n",
      "Epoch 87/150\n",
      "238/238 [==============================] - 0s 353us/sample - loss: 0.3781 - accuracy: 0.8025 - val_loss: 0.2853 - val_accuracy: 0.9630\n",
      "Epoch 88/150\n",
      "238/238 [==============================] - 0s 333us/sample - loss: 0.3766 - accuracy: 0.8025 - val_loss: 0.2832 - val_accuracy: 0.9630\n",
      "Epoch 89/150\n",
      "238/238 [==============================] - 0s 335us/sample - loss: 0.3751 - accuracy: 0.8025 - val_loss: 0.2818 - val_accuracy: 0.9630\n",
      "Epoch 90/150\n",
      "238/238 [==============================] - 0s 326us/sample - loss: 0.3734 - accuracy: 0.8025 - val_loss: 0.2802 - val_accuracy: 0.9630\n",
      "Epoch 91/150\n",
      "238/238 [==============================] - 0s 312us/sample - loss: 0.3721 - accuracy: 0.8025 - val_loss: 0.2784 - val_accuracy: 0.9630\n",
      "Epoch 92/150\n",
      "238/238 [==============================] - 0s 329us/sample - loss: 0.3705 - accuracy: 0.8067 - val_loss: 0.2765 - val_accuracy: 0.9630\n",
      "Epoch 93/150\n",
      "238/238 [==============================] - 0s 317us/sample - loss: 0.3692 - accuracy: 0.8067 - val_loss: 0.2745 - val_accuracy: 0.9630\n",
      "Epoch 94/150\n",
      "238/238 [==============================] - 0s 319us/sample - loss: 0.3679 - accuracy: 0.8067 - val_loss: 0.2724 - val_accuracy: 0.9630\n",
      "Epoch 95/150\n",
      "238/238 [==============================] - 0s 332us/sample - loss: 0.3666 - accuracy: 0.8067 - val_loss: 0.2707 - val_accuracy: 0.9630\n",
      "Epoch 96/150\n",
      "238/238 [==============================] - 0s 329us/sample - loss: 0.3654 - accuracy: 0.8109 - val_loss: 0.2693 - val_accuracy: 0.9630\n",
      "Epoch 97/150\n",
      "238/238 [==============================] - 0s 314us/sample - loss: 0.3640 - accuracy: 0.8151 - val_loss: 0.2679 - val_accuracy: 0.9630\n",
      "Epoch 98/150\n",
      "238/238 [==============================] - 0s 313us/sample - loss: 0.3627 - accuracy: 0.8151 - val_loss: 0.2665 - val_accuracy: 0.9630\n",
      "Epoch 99/150\n",
      "238/238 [==============================] - 0s 328us/sample - loss: 0.3614 - accuracy: 0.8151 - val_loss: 0.2649 - val_accuracy: 0.9630\n",
      "Epoch 100/150\n",
      "238/238 [==============================] - 0s 320us/sample - loss: 0.3603 - accuracy: 0.8193 - val_loss: 0.2616 - val_accuracy: 0.9630\n",
      "Epoch 101/150\n",
      "238/238 [==============================] - 0s 322us/sample - loss: 0.3596 - accuracy: 0.8277 - val_loss: 0.2592 - val_accuracy: 0.9630\n",
      "Epoch 102/150\n",
      "238/238 [==============================] - 0s 318us/sample - loss: 0.3586 - accuracy: 0.8361 - val_loss: 0.2577 - val_accuracy: 0.9630\n",
      "Epoch 103/150\n",
      "238/238 [==============================] - 0s 314us/sample - loss: 0.3572 - accuracy: 0.8361 - val_loss: 0.2564 - val_accuracy: 0.9630\n",
      "Epoch 104/150\n",
      "238/238 [==============================] - 0s 318us/sample - loss: 0.3560 - accuracy: 0.8361 - val_loss: 0.2559 - val_accuracy: 0.9630\n",
      "Epoch 105/150\n",
      "238/238 [==============================] - 0s 340us/sample - loss: 0.3548 - accuracy: 0.8361 - val_loss: 0.2550 - val_accuracy: 0.9630\n",
      "Epoch 106/150\n",
      "238/238 [==============================] - 0s 332us/sample - loss: 0.3536 - accuracy: 0.8361 - val_loss: 0.2537 - val_accuracy: 0.9630\n",
      "Epoch 107/150\n",
      "238/238 [==============================] - 0s 328us/sample - loss: 0.3525 - accuracy: 0.8361 - val_loss: 0.2525 - val_accuracy: 0.9630\n",
      "Epoch 108/150\n",
      "238/238 [==============================] - 0s 316us/sample - loss: 0.3513 - accuracy: 0.8361 - val_loss: 0.2514 - val_accuracy: 0.9630\n",
      "Epoch 109/150\n",
      "238/238 [==============================] - 0s 335us/sample - loss: 0.3502 - accuracy: 0.8361 - val_loss: 0.2502 - val_accuracy: 0.9630\n",
      "Epoch 110/150\n",
      "238/238 [==============================] - 0s 335us/sample - loss: 0.3492 - accuracy: 0.8361 - val_loss: 0.2493 - val_accuracy: 0.9630\n",
      "Epoch 111/150\n"
     ]
    },
    {
     "name": "stdout",
     "output_type": "stream",
     "text": [
      "238/238 [==============================] - 0s 332us/sample - loss: 0.3480 - accuracy: 0.8361 - val_loss: 0.2480 - val_accuracy: 0.9630\n",
      "Epoch 112/150\n",
      "238/238 [==============================] - 0s 338us/sample - loss: 0.3470 - accuracy: 0.8361 - val_loss: 0.2471 - val_accuracy: 0.9630\n",
      "Epoch 113/150\n",
      "238/238 [==============================] - 0s 322us/sample - loss: 0.3459 - accuracy: 0.8361 - val_loss: 0.2459 - val_accuracy: 0.9630\n",
      "Epoch 114/150\n",
      "238/238 [==============================] - 0s 332us/sample - loss: 0.3449 - accuracy: 0.8403 - val_loss: 0.2451 - val_accuracy: 0.9630\n",
      "Epoch 115/150\n",
      "238/238 [==============================] - 0s 332us/sample - loss: 0.3438 - accuracy: 0.8403 - val_loss: 0.2442 - val_accuracy: 0.9630\n",
      "Epoch 116/150\n",
      "238/238 [==============================] - 0s 313us/sample - loss: 0.3429 - accuracy: 0.8403 - val_loss: 0.2432 - val_accuracy: 0.9630\n",
      "Epoch 117/150\n",
      "238/238 [==============================] - 0s 322us/sample - loss: 0.3418 - accuracy: 0.8445 - val_loss: 0.2420 - val_accuracy: 0.9630\n",
      "Epoch 118/150\n",
      "238/238 [==============================] - 0s 347us/sample - loss: 0.3408 - accuracy: 0.8445 - val_loss: 0.2409 - val_accuracy: 0.9630\n",
      "Epoch 119/150\n",
      "238/238 [==============================] - 0s 323us/sample - loss: 0.3398 - accuracy: 0.8445 - val_loss: 0.2396 - val_accuracy: 0.9630\n",
      "Epoch 120/150\n",
      "238/238 [==============================] - 0s 337us/sample - loss: 0.3389 - accuracy: 0.8445 - val_loss: 0.2389 - val_accuracy: 0.9630\n",
      "Epoch 121/150\n",
      "238/238 [==============================] - 0s 319us/sample - loss: 0.3380 - accuracy: 0.8445 - val_loss: 0.2383 - val_accuracy: 0.9630\n",
      "Epoch 122/150\n",
      "238/238 [==============================] - 0s 334us/sample - loss: 0.3370 - accuracy: 0.8445 - val_loss: 0.2373 - val_accuracy: 0.9630\n",
      "Epoch 123/150\n",
      "238/238 [==============================] - 0s 488us/sample - loss: 0.3360 - accuracy: 0.8445 - val_loss: 0.2362 - val_accuracy: 0.9630\n",
      "Epoch 124/150\n",
      "238/238 [==============================] - 0s 460us/sample - loss: 0.3351 - accuracy: 0.8445 - val_loss: 0.2347 - val_accuracy: 0.9630\n",
      "Epoch 125/150\n",
      "238/238 [==============================] - 0s 492us/sample - loss: 0.3342 - accuracy: 0.8445 - val_loss: 0.2336 - val_accuracy: 0.9630\n",
      "Epoch 126/150\n",
      "238/238 [==============================] - 0s 448us/sample - loss: 0.3333 - accuracy: 0.8445 - val_loss: 0.2324 - val_accuracy: 0.9630\n",
      "Epoch 127/150\n",
      "238/238 [==============================] - 0s 401us/sample - loss: 0.3325 - accuracy: 0.8445 - val_loss: 0.2316 - val_accuracy: 0.9259\n",
      "Epoch 128/150\n",
      "238/238 [==============================] - 0s 373us/sample - loss: 0.3315 - accuracy: 0.8445 - val_loss: 0.2307 - val_accuracy: 0.9259\n",
      "Epoch 129/150\n",
      "238/238 [==============================] - 0s 465us/sample - loss: 0.3307 - accuracy: 0.8487 - val_loss: 0.2295 - val_accuracy: 0.9259\n",
      "Epoch 130/150\n",
      "238/238 [==============================] - 0s 457us/sample - loss: 0.3297 - accuracy: 0.8487 - val_loss: 0.2287 - val_accuracy: 0.9259\n",
      "Epoch 131/150\n",
      "238/238 [==============================] - 0s 365us/sample - loss: 0.3288 - accuracy: 0.8487 - val_loss: 0.2274 - val_accuracy: 0.9259\n",
      "Epoch 132/150\n",
      "238/238 [==============================] - 0s 319us/sample - loss: 0.3279 - accuracy: 0.8487 - val_loss: 0.2273 - val_accuracy: 0.9259\n",
      "Epoch 133/150\n",
      "238/238 [==============================] - 0s 307us/sample - loss: 0.3276 - accuracy: 0.8445 - val_loss: 0.2283 - val_accuracy: 0.9259\n",
      "Epoch 134/150\n",
      "238/238 [==============================] - 0s 315us/sample - loss: 0.3282 - accuracy: 0.8529 - val_loss: 0.2205 - val_accuracy: 0.9259\n",
      "Epoch 135/150\n",
      "238/238 [==============================] - 0s 341us/sample - loss: 0.3357 - accuracy: 0.8529 - val_loss: 0.2182 - val_accuracy: 0.9259\n",
      "Epoch 136/150\n",
      "238/238 [==============================] - 0s 323us/sample - loss: 0.3336 - accuracy: 0.8487 - val_loss: 0.2180 - val_accuracy: 0.9259\n",
      "Epoch 137/150\n",
      "238/238 [==============================] - 0s 315us/sample - loss: 0.3247 - accuracy: 0.8529 - val_loss: 0.2196 - val_accuracy: 0.9259\n",
      "Epoch 138/150\n",
      "238/238 [==============================] - 0s 310us/sample - loss: 0.3249 - accuracy: 0.8529 - val_loss: 0.2201 - val_accuracy: 0.9259\n",
      "Epoch 139/150\n",
      "238/238 [==============================] - 0s 328us/sample - loss: 0.3242 - accuracy: 0.8529 - val_loss: 0.2194 - val_accuracy: 0.9259\n",
      "Epoch 140/150\n",
      "238/238 [==============================] - 0s 345us/sample - loss: 0.3232 - accuracy: 0.8529 - val_loss: 0.2181 - val_accuracy: 0.9259\n",
      "Epoch 141/150\n",
      "238/238 [==============================] - 0s 331us/sample - loss: 0.3221 - accuracy: 0.8571 - val_loss: 0.2172 - val_accuracy: 0.9259\n",
      "Epoch 142/150\n",
      "238/238 [==============================] - 0s 318us/sample - loss: 0.3210 - accuracy: 0.8571 - val_loss: 0.2162 - val_accuracy: 0.9259\n",
      "Epoch 143/150\n",
      "238/238 [==============================] - 0s 322us/sample - loss: 0.3200 - accuracy: 0.8613 - val_loss: 0.2151 - val_accuracy: 0.9259\n",
      "Epoch 144/150\n",
      "238/238 [==============================] - 0s 328us/sample - loss: 0.3191 - accuracy: 0.8613 - val_loss: 0.2139 - val_accuracy: 0.9259\n",
      "Epoch 145/150\n",
      "238/238 [==============================] - 0s 317us/sample - loss: 0.3180 - accuracy: 0.8655 - val_loss: 0.2126 - val_accuracy: 0.9259\n",
      "Epoch 146/150\n",
      "238/238 [==============================] - 0s 315us/sample - loss: 0.3171 - accuracy: 0.8655 - val_loss: 0.2112 - val_accuracy: 0.9259\n",
      "Epoch 147/150\n",
      "238/238 [==============================] - 0s 327us/sample - loss: 0.3161 - accuracy: 0.8655 - val_loss: 0.2101 - val_accuracy: 0.9259\n",
      "Epoch 148/150\n",
      "238/238 [==============================] - 0s 349us/sample - loss: 0.3151 - accuracy: 0.8655 - val_loss: 0.2092 - val_accuracy: 0.9259\n",
      "Epoch 149/150\n",
      "238/238 [==============================] - 0s 335us/sample - loss: 0.3142 - accuracy: 0.8655 - val_loss: 0.2084 - val_accuracy: 0.9259\n",
      "Epoch 150/150\n",
      "238/238 [==============================] - 0s 313us/sample - loss: 0.3133 - accuracy: 0.8655 - val_loss: 0.2073 - val_accuracy: 0.9259\n"
     ]
    }
   ],
   "source": [
    "opt = tf.keras.optimizers.Adam()\n",
    "model.compile(optimizer=opt, loss='sparse_categorical_crossentropy', metrics=['accuracy'])\n",
    "history = model.fit(X, y, epochs=150, batch_size = 32, validation_split=0.1)"
   ]
  },
  {
   "cell_type": "code",
   "execution_count": 58,
   "metadata": {},
   "outputs": [
    {
     "data": {
      "text/plain": [
       "array([[0.42660975, 0.5733902 ]], dtype=float32)"
      ]
     },
     "execution_count": 58,
     "metadata": {},
     "output_type": "execute_result"
    }
   ],
   "source": [
    "model.predict(np.array([X[200]]))"
   ]
  },
  {
   "cell_type": "code",
   "execution_count": 84,
   "metadata": {},
   "outputs": [
    {
     "data": {
      "image/png": "[encoded data removed]",
      "text/plain": [
       "<Figure size 432x288 with 1 Axes>"
      ]
     },
     "metadata": {
      "needs_background": "light"
     },
     "output_type": "display_data"
    }
   ],
   "source": [
    "# plot history:\n",
    "## summarize history for loss, from https://machinelearningmastery.com/display-deep-learning-model-training-history-in-keras/\n",
    "plt.plot(history.history['loss'])\n",
    "plt.plot(history.history['val_loss'])\n",
    "plt.title('model loss')\n",
    "plt.ylabel('loss')\n",
    "plt.xlabel('epoch')\n",
    "plt.legend(['train', 'test'], loc='upper left')\n",
    "plt.show()"
   ]
  },
  {
   "cell_type": "code",
   "execution_count": 85,
   "metadata": {},
   "outputs": [
    {
     "data": {
      "image/png": "[encoded data removed]",
      "text/plain": [
       "<Figure size 432x288 with 1 Axes>"
      ]
     },
     "metadata": {
      "needs_background": "light"
     },
     "output_type": "display_data"
    }
   ],
   "source": [
    "plt_metric(history, 'accuracy')"
   ]
  }
 ],
 "metadata": {
  "kernelspec": {
   "display_name": "Python 3",
   "language": "python",
   "name": "python3"
  },
  "language_info": {
   "codemirror_mode": {
    "name": "ipython",
    "version": 3
   },
   "file_extension": ".py",
   "mimetype": "text/x-python",
   "name": "python",
   "nbconvert_exporter": "python",
   "pygments_lexer": "ipython3",
   "version": "3.7.1"
  }
 },
 "nbformat": 4,
 "nbformat_minor": 2
}
