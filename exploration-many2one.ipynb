{
 "cells": [
  {
   "cell_type": "code",
   "execution_count": 1,
   "metadata": {},
   "outputs": [],
   "source": [
    "from importlib import reload\n",
    "import numpy as np\n",
    "import json\n",
    "import matplotlib.pyplot as plt\n",
    "import pandas as pd\n",
    "import os\n",
    "import tensorflow as tf\n",
    "from tensorflow.keras import layers"
   ]
  },
  {
   "cell_type": "code",
   "execution_count": 98,
   "metadata": {},
   "outputs": [
    {
     "data": {
      "text/plain": [
       "<module 'src.features' from 'C:\\\\Users\\\\Andrew\\\\Documents\\\\CeR\\\\GestRec\\\\leap_gesture_rec\\\\src\\\\features.py'>"
      ]
     },
     "execution_count": 98,
     "metadata": {},
     "output_type": "execute_result"
    }
   ],
   "source": [
    "# import modules\n",
    "import src.models\n",
    "reload(src.models)\n",
    "from src.models import *\n",
    "\n",
    "import src.dataMethods\n",
    "reload(src.dataMethods)\n",
    "from src.dataMethods import *\n",
    "\n",
    "import src.features as features\n",
    "reload(features)"
   ]
  },
  {
   "cell_type": "code",
   "execution_count": 42,
   "metadata": {},
   "outputs": [],
   "source": [
    "gestures, g2idx, idx2g = get_gestures(version=0)"
   ]
  },
  {
   "cell_type": "code",
   "execution_count": 116,
   "metadata": {},
   "outputs": [
    {
     "name": "stdout",
     "output_type": "stream",
     "text": [
      "mean fps: 28.79\n",
      "target fps: 30\n",
      "taking every 1 frames\n",
      "99.92% of rows contain valid LH data\n",
      "100.00% of rows contain valid RH data\n",
      "Found left hand data:  True\n",
      "Found right hand data:  True\n"
     ]
    },
    {
     "name": "stderr",
     "output_type": "stream",
     "text": [
      "C:\\Users\\Andrew\\AppData\\Local\\Continuum\\anaconda3\\lib\\site-packages\\pandas\\core\\frame.py:3790: SettingWithCopyWarning: \n",
      "A value is trying to be set on a copy of a slice from a DataFrame\n",
      "\n",
      "See the caveats in the documentation: http://pandas.pydata.org/pandas-docs/stable/indexing.html#indexing-view-versus-copy\n",
      "  downcast=downcast, **kwargs)\n"
     ]
    },
    {
     "name": "stdout",
     "output_type": "stream",
     "text": [
      "dealt with 0 of 10680 rows with nans\n",
      "mean fps: 28.80\n",
      "target fps: 30\n",
      "taking every 1 frames\n",
      "99.48% of rows contain valid LH data\n",
      "100.00% of rows contain valid RH data\n",
      "Found left hand data:  True\n",
      "Found right hand data:  True\n",
      "dealt with 0 of 2692 rows with nans\n",
      "(500, 40, 48)\n"
     ]
    }
   ],
   "source": [
    "a = 'data/loopsV0/Andrew_3loopV0.csv'\n",
    "a2 = 'data/loopsV3/shapes2loops.csv'\n",
    "b = 'recordings/derived_test.csv'\n",
    "n_frames = 40\n",
    "X, y = CSV2examples(raw_file=a2, g2idx=g2idx, n_frames=n_frames, target_fps=30, standardize=True, dicts_gen=True)\n",
    "X_val, y_val = CSV2examples(raw_file='data/loopsV3/shapes_test.csv', g2idx=g2idx, n_frames=n_frames, target_fps=30, standardize=True, dicts_gen=False)\n",
    "print(X.shape)"
   ]
  },
  {
   "cell_type": "code",
   "execution_count": null,
   "metadata": {},
   "outputs": [],
   "source": [
    "X, y = folder2examples('data/train/', target_fps=25, g2idx=g2idx)"
   ]
  },
  {
   "cell_type": "code",
   "execution_count": 117,
   "metadata": {},
   "outputs": [
    {
     "name": "stdout",
     "output_type": "stream",
     "text": [
      "Model: \"many2one\"\n",
      "_________________________________________________________________\n",
      "Layer (type)                 Output Shape              Param #   \n",
      "=================================================================\n",
      "input_14 (InputLayer)        [(None, 40, 48)]          0         \n",
      "_________________________________________________________________\n",
      "bidirectional_5 (Bidirection (None, 10)                2160      \n",
      "_________________________________________________________________\n",
      "dense_13 (Dense)             (None, 9)                 99        \n",
      "=================================================================\n",
      "Total params: 2,259\n",
      "Trainable params: 2,259\n",
      "Non-trainable params: 0\n",
      "_________________________________________________________________\n"
     ]
    }
   ],
   "source": [
    "model = many2one_model(n_features = X.shape[-1], n_frames=X.shape[1], n_gestures=len(g2idx), n_layers=1, rnn_units=5, recurrent_dropout=0.2, bidirectional=True)"
   ]
  },
  {
   "cell_type": "code",
   "execution_count": 118,
   "metadata": {},
   "outputs": [
    {
     "name": "stdout",
     "output_type": "stream",
     "text": [
      "Train on 500 samples, validate on 120 samples\n",
      "Epoch 1/100\n",
      "500/500 [==============================] - 3s 7ms/sample - loss: 2.1115 - accuracy: 0.1520 - val_loss: 2.0070 - val_accuracy: 0.3417\n",
      "Epoch 2/100\n",
      "500/500 [==============================] - 0s 556us/sample - loss: 1.9287 - accuracy: 0.2940 - val_loss: 1.8602 - val_accuracy: 0.4750\n",
      "Epoch 3/100\n",
      "500/500 [==============================] - 0s 509us/sample - loss: 1.7793 - accuracy: 0.4720 - val_loss: 1.7437 - val_accuracy: 0.5417\n",
      "Epoch 4/100\n",
      "500/500 [==============================] - 0s 495us/sample - loss: 1.6605 - accuracy: 0.6060 - val_loss: 1.6495 - val_accuracy: 0.6167\n",
      "Epoch 5/100\n",
      "500/500 [==============================] - 0s 501us/sample - loss: 1.5541 - accuracy: 0.6780 - val_loss: 1.5669 - val_accuracy: 0.6500\n",
      "Epoch 6/100\n",
      "500/500 [==============================] - 0s 505us/sample - loss: 1.4764 - accuracy: 0.7000 - val_loss: 1.4921 - val_accuracy: 0.6750\n",
      "Epoch 7/100\n",
      "500/500 [==============================] - 0s 580us/sample - loss: 1.4050 - accuracy: 0.7380 - val_loss: 1.4297 - val_accuracy: 0.6750\n",
      "Epoch 8/100\n",
      "500/500 [==============================] - 0s 533us/sample - loss: 1.3352 - accuracy: 0.7640 - val_loss: 1.3726 - val_accuracy: 0.6917\n",
      "Epoch 9/100\n",
      "500/500 [==============================] - 0s 520us/sample - loss: 1.2748 - accuracy: 0.7640 - val_loss: 1.3199 - val_accuracy: 0.6917\n",
      "Epoch 10/100\n",
      "500/500 [==============================] - 0s 600us/sample - loss: 1.2214 - accuracy: 0.7760 - val_loss: 1.2740 - val_accuracy: 0.6917\n",
      "Epoch 11/100\n",
      "500/500 [==============================] - 0s 708us/sample - loss: 1.1726 - accuracy: 0.7740 - val_loss: 1.2326 - val_accuracy: 0.6917\n",
      "Epoch 12/100\n",
      "500/500 [==============================] - 0s 648us/sample - loss: 1.1250 - accuracy: 0.7840 - val_loss: 1.1904 - val_accuracy: 0.6917\n",
      "Epoch 13/100\n",
      "500/500 [==============================] - 0s 572us/sample - loss: 1.0866 - accuracy: 0.7920 - val_loss: 1.1534 - val_accuracy: 0.6917\n",
      "Epoch 14/100\n",
      "500/500 [==============================] - 0s 557us/sample - loss: 1.0434 - accuracy: 0.7980 - val_loss: 1.1200 - val_accuracy: 0.6917\n",
      "Epoch 15/100\n",
      "500/500 [==============================] - 0s 652us/sample - loss: 1.0113 - accuracy: 0.7960 - val_loss: 1.0896 - val_accuracy: 0.6917\n",
      "Epoch 16/100\n",
      "500/500 [==============================] - 0s 620us/sample - loss: 0.9800 - accuracy: 0.7980 - val_loss: 1.0608 - val_accuracy: 0.6917\n",
      "Epoch 17/100\n",
      "500/500 [==============================] - 0s 578us/sample - loss: 0.9428 - accuracy: 0.8100 - val_loss: 1.0340 - val_accuracy: 0.6917\n",
      "Epoch 18/100\n",
      "500/500 [==============================] - 0s 604us/sample - loss: 0.9153 - accuracy: 0.8200 - val_loss: 1.0092 - val_accuracy: 0.6917\n",
      "Epoch 19/100\n",
      "500/500 [==============================] - 0s 688us/sample - loss: 0.8864 - accuracy: 0.8360 - val_loss: 0.9859 - val_accuracy: 0.6917\n",
      "Epoch 20/100\n",
      "500/500 [==============================] - 0s 580us/sample - loss: 0.8627 - accuracy: 0.8380 - val_loss: 0.9640 - val_accuracy: 0.6917\n",
      "Epoch 21/100\n",
      "500/500 [==============================] - 0s 584us/sample - loss: 0.8386 - accuracy: 0.8580 - val_loss: 0.9434 - val_accuracy: 0.7000\n",
      "Epoch 22/100\n",
      "500/500 [==============================] - 0s 561us/sample - loss: 0.8113 - accuracy: 0.8620 - val_loss: 0.9250 - val_accuracy: 0.7000\n",
      "Epoch 23/100\n",
      "500/500 [==============================] - 0s 578us/sample - loss: 0.7880 - accuracy: 0.8680 - val_loss: 0.9065 - val_accuracy: 0.7000\n",
      "Epoch 24/100\n",
      "500/500 [==============================] - 0s 578us/sample - loss: 0.7598 - accuracy: 0.8880 - val_loss: 0.8892 - val_accuracy: 0.7000\n",
      "Epoch 25/100\n",
      "500/500 [==============================] - 0s 632us/sample - loss: 0.7464 - accuracy: 0.9020 - val_loss: 0.8727 - val_accuracy: 0.7000\n",
      "Epoch 26/100\n",
      "500/500 [==============================] - 0s 580us/sample - loss: 0.7240 - accuracy: 0.9120 - val_loss: 0.8565 - val_accuracy: 0.7083\n",
      "Epoch 27/100\n",
      "500/500 [==============================] - 0s 643us/sample - loss: 0.7025 - accuracy: 0.9220 - val_loss: 0.8421 - val_accuracy: 0.7083\n",
      "Epoch 28/100\n",
      "500/500 [==============================] - 0s 717us/sample - loss: 0.6865 - accuracy: 0.9160 - val_loss: 0.8295 - val_accuracy: 0.7167\n",
      "Epoch 29/100\n",
      "500/500 [==============================] - 0s 637us/sample - loss: 0.6657 - accuracy: 0.9220 - val_loss: 0.8156 - val_accuracy: 0.7167\n",
      "Epoch 30/100\n",
      "500/500 [==============================] - 0s 713us/sample - loss: 0.6436 - accuracy: 0.9400 - val_loss: 0.8041 - val_accuracy: 0.7167\n",
      "Epoch 31/100\n",
      "500/500 [==============================] - 0s 704us/sample - loss: 0.6278 - accuracy: 0.9280 - val_loss: 0.7922 - val_accuracy: 0.7167\n",
      "Epoch 32/100\n",
      "500/500 [==============================] - 0s 576us/sample - loss: 0.6082 - accuracy: 0.9440 - val_loss: 0.7822 - val_accuracy: 0.7167\n",
      "Epoch 33/100\n",
      "500/500 [==============================] - 0s 650us/sample - loss: 0.5934 - accuracy: 0.9400 - val_loss: 0.7708 - val_accuracy: 0.7167\n",
      "Epoch 34/100\n",
      "500/500 [==============================] - 0s 693us/sample - loss: 0.5757 - accuracy: 0.9440 - val_loss: 0.7631 - val_accuracy: 0.7167\n",
      "Epoch 35/100\n",
      "500/500 [==============================] - 0s 660us/sample - loss: 0.5616 - accuracy: 0.9480 - val_loss: 0.7562 - val_accuracy: 0.7167\n",
      "Epoch 36/100\n",
      "500/500 [==============================] - 0s 685us/sample - loss: 0.5458 - accuracy: 0.9500 - val_loss: 0.7479 - val_accuracy: 0.7167\n",
      "Epoch 37/100\n",
      "500/500 [==============================] - 0s 588us/sample - loss: 0.5342 - accuracy: 0.9500 - val_loss: 0.7400 - val_accuracy: 0.7167\n",
      "Epoch 38/100\n",
      "500/500 [==============================] - 0s 614us/sample - loss: 0.5164 - accuracy: 0.9500 - val_loss: 0.7336 - val_accuracy: 0.7167\n",
      "Epoch 39/100\n",
      "500/500 [==============================] - 0s 564us/sample - loss: 0.5068 - accuracy: 0.9520 - val_loss: 0.7269 - val_accuracy: 0.7167\n",
      "Epoch 40/100\n",
      "500/500 [==============================] - 0s 549us/sample - loss: 0.4947 - accuracy: 0.9460 - val_loss: 0.7226 - val_accuracy: 0.7083\n",
      "Epoch 41/100\n",
      "500/500 [==============================] - 0s 559us/sample - loss: 0.4780 - accuracy: 0.9560 - val_loss: 0.7088 - val_accuracy: 0.7167\n",
      "Epoch 42/100\n",
      "500/500 [==============================] - 0s 542us/sample - loss: 0.4654 - accuracy: 0.9560 - val_loss: 0.7028 - val_accuracy: 0.7250\n",
      "Epoch 43/100\n",
      "500/500 [==============================] - 0s 608us/sample - loss: 0.4543 - accuracy: 0.9580 - val_loss: 0.7032 - val_accuracy: 0.7250\n",
      "Epoch 44/100\n",
      "500/500 [==============================] - 0s 568us/sample - loss: 0.4404 - accuracy: 0.9620 - val_loss: 0.6925 - val_accuracy: 0.7333\n",
      "Epoch 45/100\n",
      "500/500 [==============================] - 0s 553us/sample - loss: 0.4260 - accuracy: 0.9620 - val_loss: 0.6837 - val_accuracy: 0.7333\n",
      "Epoch 46/100\n",
      "500/500 [==============================] - 0s 587us/sample - loss: 0.4151 - accuracy: 0.9640 - val_loss: 0.6831 - val_accuracy: 0.7333\n",
      "Epoch 47/100\n",
      "500/500 [==============================] - 0s 673us/sample - loss: 0.4048 - accuracy: 0.9640 - val_loss: 0.6804 - val_accuracy: 0.7333\n",
      "Epoch 48/100\n",
      "500/500 [==============================] - 0s 649us/sample - loss: 0.3994 - accuracy: 0.9660 - val_loss: 0.6777 - val_accuracy: 0.7333\n",
      "Epoch 49/100\n",
      "500/500 [==============================] - 0s 623us/sample - loss: 0.3837 - accuracy: 0.9660 - val_loss: 0.6793 - val_accuracy: 0.7333\n",
      "Epoch 50/100\n",
      "500/500 [==============================] - 0s 678us/sample - loss: 0.3762 - accuracy: 0.9720 - val_loss: 0.6737 - val_accuracy: 0.7333\n",
      "Epoch 51/100\n",
      "500/500 [==============================] - 0s 640us/sample - loss: 0.3639 - accuracy: 0.9700 - val_loss: 0.6717 - val_accuracy: 0.7333\n",
      "Epoch 52/100\n",
      "500/500 [==============================] - 0s 558us/sample - loss: 0.3558 - accuracy: 0.9740 - val_loss: 0.6675 - val_accuracy: 0.7333\n",
      "Epoch 53/100\n",
      "500/500 [==============================] - 0s 545us/sample - loss: 0.3471 - accuracy: 0.9720 - val_loss: 0.6675 - val_accuracy: 0.7333\n",
      "Epoch 54/100\n",
      "500/500 [==============================] - 0s 548us/sample - loss: 0.3400 - accuracy: 0.9720 - val_loss: 0.6675 - val_accuracy: 0.7333\n",
      "Epoch 55/100\n",
      "500/500 [==============================] - 0s 666us/sample - loss: 0.3266 - accuracy: 0.9760 - val_loss: 0.6551 - val_accuracy: 0.7417\n",
      "Epoch 56/100\n",
      "500/500 [==============================] - 0s 698us/sample - loss: 0.3211 - accuracy: 0.9740 - val_loss: 0.6618 - val_accuracy: 0.7417\n",
      "Epoch 57/100\n",
      "500/500 [==============================] - 0s 665us/sample - loss: 0.3102 - accuracy: 0.9760 - val_loss: 0.6603 - val_accuracy: 0.7500\n",
      "Epoch 58/100\n",
      "500/500 [==============================] - 0s 710us/sample - loss: 0.3058 - accuracy: 0.9780 - val_loss: 0.6545 - val_accuracy: 0.7500\n",
      "Epoch 59/100\n",
      "500/500 [==============================] - 0s 613us/sample - loss: 0.2965 - accuracy: 0.9760 - val_loss: 0.6599 - val_accuracy: 0.7500\n",
      "Epoch 60/100\n",
      "500/500 [==============================] - 0s 678us/sample - loss: 0.2903 - accuracy: 0.9760 - val_loss: 0.6546 - val_accuracy: 0.7500\n",
      "Epoch 61/100\n",
      "500/500 [==============================] - 0s 674us/sample - loss: 0.2804 - accuracy: 0.9760 - val_loss: 0.6478 - val_accuracy: 0.7500\n",
      "Epoch 62/100\n",
      "500/500 [==============================] - 0s 761us/sample - loss: 0.2764 - accuracy: 0.9720 - val_loss: 0.6612 - val_accuracy: 0.7500\n",
      "Epoch 63/100\n",
      "500/500 [==============================] - 0s 638us/sample - loss: 0.2695 - accuracy: 0.9780 - val_loss: 0.6538 - val_accuracy: 0.7583\n",
      "Epoch 64/100\n",
      "500/500 [==============================] - 0s 668us/sample - loss: 0.2562 - accuracy: 0.9800 - val_loss: 0.6476 - val_accuracy: 0.7667\n",
      "Epoch 65/100\n",
      "500/500 [==============================] - 0s 618us/sample - loss: 0.2519 - accuracy: 0.9800 - val_loss: 0.6589 - val_accuracy: 0.7667\n",
      "Epoch 66/100\n",
      "500/500 [==============================] - 0s 618us/sample - loss: 0.2481 - accuracy: 0.9780 - val_loss: 0.6503 - val_accuracy: 0.7667\n",
      "Epoch 67/100\n",
      "500/500 [==============================] - 0s 660us/sample - loss: 0.2453 - accuracy: 0.9800 - val_loss: 0.6271 - val_accuracy: 0.7750\n",
      "Epoch 68/100\n",
      "500/500 [==============================] - 0s 665us/sample - loss: 0.2349 - accuracy: 0.9780 - val_loss: 0.6627 - val_accuracy: 0.7667\n",
      "Epoch 69/100\n",
      "500/500 [==============================] - 0s 614us/sample - loss: 0.2338 - accuracy: 0.9800 - val_loss: 0.6556 - val_accuracy: 0.7667\n",
      "Epoch 70/100\n",
      "500/500 [==============================] - 0s 604us/sample - loss: 0.2231 - accuracy: 0.9820 - val_loss: 0.6420 - val_accuracy: 0.7750\n",
      "Epoch 71/100\n",
      "500/500 [==============================] - 0s 616us/sample - loss: 0.2183 - accuracy: 0.9860 - val_loss: 0.6688 - val_accuracy: 0.7583\n",
      "Epoch 72/100\n",
      "500/500 [==============================] - 0s 580us/sample - loss: 0.2160 - accuracy: 0.9760 - val_loss: 0.6681 - val_accuracy: 0.7667\n",
      "Epoch 73/100\n",
      "500/500 [==============================] - 0s 677us/sample - loss: 0.2078 - accuracy: 0.9880 - val_loss: 0.6356 - val_accuracy: 0.7833\n",
      "Epoch 74/100\n",
      "500/500 [==============================] - 0s 674us/sample - loss: 0.2036 - accuracy: 0.9880 - val_loss: 0.6503 - val_accuracy: 0.7833\n",
      "Epoch 75/100\n",
      "500/500 [==============================] - 0s 664us/sample - loss: 0.2016 - accuracy: 0.9840 - val_loss: 0.6588 - val_accuracy: 0.7750\n",
      "Epoch 76/100\n",
      "500/500 [==============================] - 0s 661us/sample - loss: 0.1976 - accuracy: 0.9860 - val_loss: 0.6565 - val_accuracy: 0.7833\n",
      "Epoch 77/100\n",
      "500/500 [==============================] - 0s 745us/sample - loss: 0.1878 - accuracy: 0.9860 - val_loss: 0.6630 - val_accuracy: 0.7750\n",
      "Epoch 78/100\n",
      "500/500 [==============================] - 0s 721us/sample - loss: 0.1884 - accuracy: 0.9820 - val_loss: 0.6288 - val_accuracy: 0.7833\n",
      "Epoch 79/100\n",
      "500/500 [==============================] - 0s 722us/sample - loss: 0.1808 - accuracy: 0.9900 - val_loss: 0.6516 - val_accuracy: 0.7750\n",
      "Epoch 80/100\n",
      "500/500 [==============================] - 0s 696us/sample - loss: 0.1751 - accuracy: 0.9860 - val_loss: 0.6361 - val_accuracy: 0.7833\n",
      "Epoch 81/100\n",
      "500/500 [==============================] - 0s 721us/sample - loss: 0.1736 - accuracy: 0.9900 - val_loss: 0.6434 - val_accuracy: 0.7750\n",
      "Epoch 82/100\n",
      "500/500 [==============================] - 0s 754us/sample - loss: 0.1727 - accuracy: 0.9860 - val_loss: 0.5853 - val_accuracy: 0.7833\n",
      "Epoch 83/100\n",
      "500/500 [==============================] - 0s 628us/sample - loss: 0.1718 - accuracy: 0.9860 - val_loss: 0.5856 - val_accuracy: 0.7917\n",
      "Epoch 84/100\n",
      "500/500 [==============================] - 0s 553us/sample - loss: 0.1648 - accuracy: 0.9900 - val_loss: 0.6331 - val_accuracy: 0.7833\n",
      "Epoch 85/100\n",
      "500/500 [==============================] - 0s 570us/sample - loss: 0.1631 - accuracy: 0.9900 - val_loss: 0.5707 - val_accuracy: 0.8000\n",
      "Epoch 86/100\n",
      "500/500 [==============================] - 0s 634us/sample - loss: 0.1563 - accuracy: 0.9900 - val_loss: 0.5673 - val_accuracy: 0.8000\n",
      "Epoch 87/100\n",
      "500/500 [==============================] - 0s 604us/sample - loss: 0.1539 - accuracy: 0.9920 - val_loss: 0.6092 - val_accuracy: 0.7750\n",
      "Epoch 88/100\n",
      "500/500 [==============================] - 0s 537us/sample - loss: 0.1515 - accuracy: 0.9860 - val_loss: 0.5695 - val_accuracy: 0.7917\n",
      "Epoch 89/100\n",
      "500/500 [==============================] - 0s 564us/sample - loss: 0.1451 - accuracy: 0.9900 - val_loss: 0.5573 - val_accuracy: 0.8000\n",
      "Epoch 90/100\n",
      "500/500 [==============================] - 0s 604us/sample - loss: 0.1464 - accuracy: 0.9920 - val_loss: 0.5439 - val_accuracy: 0.8083\n",
      "Epoch 91/100\n",
      "500/500 [==============================] - 0s 592us/sample - loss: 0.1420 - accuracy: 0.9900 - val_loss: 0.5498 - val_accuracy: 0.8083\n",
      "Epoch 92/100\n",
      "500/500 [==============================] - 0s 552us/sample - loss: 0.1357 - accuracy: 0.9920 - val_loss: 0.5561 - val_accuracy: 0.8167\n",
      "Epoch 93/100\n",
      "500/500 [==============================] - 0s 565us/sample - loss: 0.1376 - accuracy: 0.9900 - val_loss: 0.5638 - val_accuracy: 0.8000\n",
      "Epoch 94/100\n",
      "500/500 [==============================] - 0s 618us/sample - loss: 0.1333 - accuracy: 0.9900 - val_loss: 0.5182 - val_accuracy: 0.8250\n",
      "Epoch 95/100\n",
      "500/500 [==============================] - 0s 612us/sample - loss: 0.1306 - accuracy: 0.9920 - val_loss: 0.5354 - val_accuracy: 0.8167\n",
      "Epoch 96/100\n",
      "500/500 [==============================] - 0s 648us/sample - loss: 0.1295 - accuracy: 0.9920 - val_loss: 0.5385 - val_accuracy: 0.8167\n",
      "Epoch 97/100\n",
      "500/500 [==============================] - 0s 590us/sample - loss: 0.1288 - accuracy: 0.9900 - val_loss: 0.5393 - val_accuracy: 0.8167\n",
      "Epoch 98/100\n",
      "500/500 [==============================] - 0s 546us/sample - loss: 0.1250 - accuracy: 0.9900 - val_loss: 0.5362 - val_accuracy: 0.8167\n",
      "Epoch 99/100\n",
      "500/500 [==============================] - 0s 556us/sample - loss: 0.1235 - accuracy: 0.9920 - val_loss: 0.5508 - val_accuracy: 0.8167\n",
      "Epoch 100/100\n",
      "500/500 [==============================] - 0s 553us/sample - loss: 0.1224 - accuracy: 0.9900 - val_loss: 0.5514 - val_accuracy: 0.8167\n"
     ]
    }
   ],
   "source": [
    "# note: using hs 30, recurrent dropout 0.5, bidirectional, and not including features added on the 3/02 or getting rid of VoI_drop features, got high 80s percentage accuracy on val\n",
    "# maybe it was 25fps?\n",
    "# with the new features, can get 89% val accuracy with 35 frame long examples. 25 is too short.\n",
    "opt = tf.keras.optimizers.Adam()\n",
    "model.compile(optimizer=opt, loss='sparse_categorical_crossentropy', metrics=['accuracy'])\n",
    "history = model.fit(X, y, validation_data=(X_val, y_val), epochs=100, batch_size = 50)"
   ]
  },
  {
   "cell_type": "code",
   "execution_count": 112,
   "metadata": {},
   "outputs": [],
   "source": [
    "model.save('models/V0/35f_30hs.h5')"
   ]
  },
  {
   "cell_type": "code",
   "execution_count": 39,
   "metadata": {},
   "outputs": [],
   "source": [
    "model = tf.keras.models.load_model('models/V2/25f_32hs_15c_2.h5')"
   ]
  },
  {
   "cell_type": "code",
   "execution_count": 41,
   "metadata": {},
   "outputs": [
    {
     "name": "stdout",
     "output_type": "stream",
     "text": [
      "mean fps: 115.19\n",
      "target fps: 25\n",
      "skipping every 5 frames\n",
      "Found left hand data:  False\n",
      "Found right hand data:  True\n",
      "dropped 0 of 2777 rows with nans\n"
     ]
    }
   ],
   "source": [
    "# load test data\n",
    "X_test, y_test = CSV2examples('data/recordings/test_loop.csv', g2idx=g2idx, n_frames=50)"
   ]
  },
  {
   "cell_type": "code",
   "execution_count": 50,
   "metadata": {},
   "outputs": [
    {
     "name": "stdout",
     "output_type": "stream",
     "text": [
      "33\n",
      "[[0.95594496 0.04405507]]\n",
      "Predicted:  no_gesture\n",
      "Truth:  fist\n"
     ]
    }
   ],
   "source": [
    "# predict on a random test case\n",
    "i = np.random.randint(0, len(X_test))\n",
    "print(i)\n",
    "pred = model.predict(np.expand_dims(np.array(X_test[i]), axis=0))\n",
    "print(pred)\n",
    "print('Predicted: ', idx2g[np.argmax(pred)])\n",
    "print('Truth: ', idx2g[y_test[i]])"
   ]
  },
  {
   "cell_type": "code",
   "execution_count": 54,
   "metadata": {},
   "outputs": [
    {
     "name": "stdout",
     "output_type": "stream",
     "text": [
      "so_so\n"
     ]
    }
   ],
   "source": [
    "print(idx2g[y[1]])"
   ]
  },
  {
   "cell_type": "code",
   "execution_count": 119,
   "metadata": {},
   "outputs": [
    {
     "data": {
      "image/png": "[encoded data removed]",
      "text/plain": [
       "<Figure size 432x288 with 1 Axes>"
      ]
     },
     "metadata": {
      "needs_background": "light"
     },
     "output_type": "display_data"
    },
    {
     "data": {
      "image/png": "[encoded data removed]",
      "text/plain": [
       "<Figure size 432x288 with 1 Axes>"
      ]
     },
     "metadata": {
      "needs_background": "light"
     },
     "output_type": "display_data"
    }
   ],
   "source": [
    "# plot history:\n",
    "plt_metric(history, 'loss')\n",
    "plt_metric(history, 'accuracy')"
   ]
  },
  {
   "cell_type": "code",
   "execution_count": 51,
   "metadata": {},
   "outputs": [
    {
     "data": {
      "image/png": "[encoded data removed]",
      "text/plain": [
       "<Figure size 432x288 with 1 Axes>"
      ]
     },
     "metadata": {
      "needs_background": "light"
     },
     "output_type": "display_data"
    },
    {
     "data": {
      "image/png": "[encoded data removed]",
      "text/plain": [
       "<Figure size 432x288 with 1 Axes>"
      ]
     },
     "metadata": {
      "needs_background": "light"
     },
     "output_type": "display_data"
    }
   ],
   "source": [
    "# plot history:\n",
    "plt_metric(history, 'loss')\n",
    "plt_metric(history, 'accuracy')"
   ]
  },
  {
   "cell_type": "code",
   "execution_count": null,
   "metadata": {},
   "outputs": [],
   "source": [
    "# plot history:\n",
    "plt_metric(history, 'loss')\n",
    "plt_metric(history, 'accuracy')"
   ]
  },
  {
   "cell_type": "code",
   "execution_count": 120,
   "metadata": {},
   "outputs": [
    {
     "data": {
      "text/html": [
       "<div>\n",
       "<style scoped>\n",
       "    .dataframe tbody tr th:only-of-type {\n",
       "        vertical-align: middle;\n",
       "    }\n",
       "\n",
       "    .dataframe tbody tr th {\n",
       "        vertical-align: top;\n",
       "    }\n",
       "\n",
       "    .dataframe thead th {\n",
       "        text-align: right;\n",
       "    }\n",
       "</style>\n",
       "<table border=\"1\" class=\"dataframe\">\n",
       "  <thead>\n",
       "    <tr style=\"text-align: right;\">\n",
       "      <th>Predicted</th>\n",
       "      <th>love_heart_set</th>\n",
       "      <th>no_gesture</th>\n",
       "      <th>round_drawn</th>\n",
       "      <th>round_set</th>\n",
       "      <th>small</th>\n",
       "      <th>square_drawn</th>\n",
       "      <th>this_big</th>\n",
       "      <th>triangle_drawn</th>\n",
       "      <th>triangle_set</th>\n",
       "    </tr>\n",
       "    <tr>\n",
       "      <th>Actual</th>\n",
       "      <th></th>\n",
       "      <th></th>\n",
       "      <th></th>\n",
       "      <th></th>\n",
       "      <th></th>\n",
       "      <th></th>\n",
       "      <th></th>\n",
       "      <th></th>\n",
       "      <th></th>\n",
       "    </tr>\n",
       "  </thead>\n",
       "  <tbody>\n",
       "    <tr>\n",
       "      <th>love_heart_set</th>\n",
       "      <td>12</td>\n",
       "      <td>0</td>\n",
       "      <td>1</td>\n",
       "      <td>0</td>\n",
       "      <td>0</td>\n",
       "      <td>0</td>\n",
       "      <td>0</td>\n",
       "      <td>0</td>\n",
       "      <td>0</td>\n",
       "    </tr>\n",
       "    <tr>\n",
       "      <th>no_gesture</th>\n",
       "      <td>0</td>\n",
       "      <td>15</td>\n",
       "      <td>0</td>\n",
       "      <td>0</td>\n",
       "      <td>0</td>\n",
       "      <td>0</td>\n",
       "      <td>0</td>\n",
       "      <td>0</td>\n",
       "      <td>1</td>\n",
       "    </tr>\n",
       "    <tr>\n",
       "      <th>round_drawn</th>\n",
       "      <td>0</td>\n",
       "      <td>0</td>\n",
       "      <td>13</td>\n",
       "      <td>0</td>\n",
       "      <td>0</td>\n",
       "      <td>0</td>\n",
       "      <td>0</td>\n",
       "      <td>0</td>\n",
       "      <td>0</td>\n",
       "    </tr>\n",
       "    <tr>\n",
       "      <th>round_set</th>\n",
       "      <td>0</td>\n",
       "      <td>0</td>\n",
       "      <td>0</td>\n",
       "      <td>13</td>\n",
       "      <td>0</td>\n",
       "      <td>0</td>\n",
       "      <td>0</td>\n",
       "      <td>0</td>\n",
       "      <td>0</td>\n",
       "    </tr>\n",
       "    <tr>\n",
       "      <th>small</th>\n",
       "      <td>0</td>\n",
       "      <td>4</td>\n",
       "      <td>0</td>\n",
       "      <td>0</td>\n",
       "      <td>9</td>\n",
       "      <td>0</td>\n",
       "      <td>0</td>\n",
       "      <td>0</td>\n",
       "      <td>0</td>\n",
       "    </tr>\n",
       "    <tr>\n",
       "      <th>square_drawn</th>\n",
       "      <td>0</td>\n",
       "      <td>0</td>\n",
       "      <td>8</td>\n",
       "      <td>0</td>\n",
       "      <td>0</td>\n",
       "      <td>1</td>\n",
       "      <td>0</td>\n",
       "      <td>4</td>\n",
       "      <td>0</td>\n",
       "    </tr>\n",
       "    <tr>\n",
       "      <th>this_big</th>\n",
       "      <td>0</td>\n",
       "      <td>0</td>\n",
       "      <td>0</td>\n",
       "      <td>0</td>\n",
       "      <td>0</td>\n",
       "      <td>0</td>\n",
       "      <td>13</td>\n",
       "      <td>0</td>\n",
       "      <td>0</td>\n",
       "    </tr>\n",
       "    <tr>\n",
       "      <th>triangle_drawn</th>\n",
       "      <td>0</td>\n",
       "      <td>0</td>\n",
       "      <td>4</td>\n",
       "      <td>0</td>\n",
       "      <td>0</td>\n",
       "      <td>0</td>\n",
       "      <td>0</td>\n",
       "      <td>9</td>\n",
       "      <td>0</td>\n",
       "    </tr>\n",
       "    <tr>\n",
       "      <th>triangle_set</th>\n",
       "      <td>0</td>\n",
       "      <td>0</td>\n",
       "      <td>0</td>\n",
       "      <td>0</td>\n",
       "      <td>0</td>\n",
       "      <td>0</td>\n",
       "      <td>0</td>\n",
       "      <td>0</td>\n",
       "      <td>13</td>\n",
       "    </tr>\n",
       "  </tbody>\n",
       "</table>\n",
       "</div>"
      ],
      "text/plain": [
       "Predicted       love_heart_set  no_gesture  round_drawn  round_set  small  \\\n",
       "Actual                                                                      \n",
       "love_heart_set              12           0            1          0      0   \n",
       "no_gesture                   0          15            0          0      0   \n",
       "round_drawn                  0           0           13          0      0   \n",
       "round_set                    0           0            0         13      0   \n",
       "small                        0           4            0          0      9   \n",
       "square_drawn                 0           0            8          0      0   \n",
       "this_big                     0           0            0          0      0   \n",
       "triangle_drawn               0           0            4          0      0   \n",
       "triangle_set                 0           0            0          0      0   \n",
       "\n",
       "Predicted       square_drawn  this_big  triangle_drawn  triangle_set  \n",
       "Actual                                                                \n",
       "love_heart_set             0         0               0             0  \n",
       "no_gesture                 0         0               0             1  \n",
       "round_drawn                0         0               0             0  \n",
       "round_set                  0         0               0             0  \n",
       "small                      0         0               0             0  \n",
       "square_drawn               1         0               4             0  \n",
       "this_big                   0        13               0             0  \n",
       "triangle_drawn             0         0               9             0  \n",
       "triangle_set               0         0               0            13  "
      ]
     },
     "execution_count": 120,
     "metadata": {},
     "output_type": "execute_result"
    }
   ],
   "source": [
    "# get confusion matrix\n",
    "pred = np.argmax(model.predict(X_val), axis=-1)\n",
    "pred_gest = [idx2g[i] for i in pred]\n",
    "y_gest = [idx2g[i] for i in y_val]\n",
    "pd.crosstab([y_gest], [pred_gest], rownames=['Actual'], colnames=['Predicted'])"
   ]
  },
  {
   "cell_type": "code",
   "execution_count": 100,
   "metadata": {},
   "outputs": [
    {
     "name": "stdout",
     "output_type": "stream",
     "text": [
      "[[[0 1]\n",
      "  [0 2]\n",
      "  [0 3]\n",
      "  [0 4]]\n",
      "\n",
      " [[0 3]\n",
      "  [0 4]\n",
      "  [0 5]\n",
      "  [0 6]]\n",
      "\n",
      " [[0 5]\n",
      "  [0 6]\n",
      "  [0 7]\n",
      "  [0 8]]\n",
      "\n",
      " [[1 1]\n",
      "  [1 2]\n",
      "  [1 3]\n",
      "  [1 4]]\n",
      "\n",
      " [[3 1]\n",
      "  [3 2]\n",
      "  [3 3]\n",
      "  [3 4]]\n",
      "\n",
      " [[3 3]\n",
      "  [3 4]\n",
      "  [3 5]\n",
      "  [3 6]]]\n",
      "[0 0 0 1 3 3]\n"
     ]
    }
   ],
   "source": [
    "Xa = [[[0,1],[0,2],[0,3],[0,4],[0,5],[0,6],[0,7],[0,8],[1,1],[1,2],[1,3],[1,4],[1,5],[3,1],[3,2],[3,3],[3,4],[3,5],[3,6],[3,7],[4,1],[4,2]]]\n",
    "ya = [0,0,0,0,0,0,0,0,1,1,1,1,1,3,3,3,3,3,3,3,4,4]\n",
    "xb, yb = X_y2examples(Xa, ya, n_frames=4)\n",
    "print(xb)\n",
    "print(yb)"
   ]
  },
  {
   "cell_type": "code",
   "execution_count": 94,
   "metadata": {},
   "outputs": [
    {
     "data": {
      "text/plain": [
       "[[0, 1], [0, 2]]"
      ]
     },
     "execution_count": 94,
     "metadata": {},
     "output_type": "execute_result"
    }
   ],
   "source": [
    "Xa[0:2]"
   ]
  }
 ],
 "metadata": {
  "kernelspec": {
   "display_name": "Python 3",
   "language": "python",
   "name": "python3"
  },
  "language_info": {
   "codemirror_mode": {
    "name": "ipython",
    "version": 3
   },
   "file_extension": ".py",
   "mimetype": "text/x-python",
   "name": "python",
   "nbconvert_exporter": "python",
   "pygments_lexer": "ipython3",
   "version": "3.7.1"
  }
 },
 "nbformat": 4,
 "nbformat_minor": 2
}
