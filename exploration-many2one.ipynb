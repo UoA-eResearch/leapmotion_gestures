{
 "cells": [
  {
   "cell_type": "code",
   "execution_count": 1,
   "metadata": {},
   "outputs": [],
   "source": [
    "from importlib import reload\n",
    "import numpy as np\n",
    "import json\n",
    "import matplotlib.pyplot as plt\n",
    "import pandas as pd\n",
    "import os\n",
    "import tensorflow as tf\n",
    "from tensorflow.keras import layers"
   ]
  },
  {
   "cell_type": "code",
   "execution_count": 2,
   "metadata": {},
   "outputs": [
    {
     "data": {
      "text/plain": [
       "<module 'src.features' from 'C:\\\\Users\\\\Andrew\\\\Documents\\\\CeR\\\\GestRec\\\\leap_gesture_rec\\\\src\\\\features.py'>"
      ]
     },
     "execution_count": 2,
     "metadata": {},
     "output_type": "execute_result"
    }
   ],
   "source": [
    "# import modules\n",
    "import src.models\n",
    "reload(src.models)\n",
    "from src.models import *\n",
    "\n",
    "import src.dataMethods\n",
    "reload(src.dataMethods)\n",
    "from src.dataMethods import *\n",
    "\n",
    "import src.features as features\n",
    "reload(features)"
   ]
  },
  {
   "cell_type": "code",
   "execution_count": 3,
   "metadata": {},
   "outputs": [],
   "source": [
    "gestures, g2idx, idx2g = get_gestures(version=1)"
   ]
  },
  {
   "cell_type": "code",
   "execution_count": 5,
   "metadata": {},
   "outputs": [
    {
     "name": "stdout",
     "output_type": "stream",
     "text": [
      "WARNING: Average file frame rate is less that half the target frame rate. Taking every frame.\n",
      "mean fps: 1.44\n",
      "target fps: 25\n",
      "taking every 1 frames\n",
      "92.31% of rows contain valid LH data\n",
      "100.00% of rows contain valid RH data\n",
      "Found left hand data:  True\n",
      "Found right hand data:  True\n",
      "    left_index_tipPosition_0  left_index_tipPosition_1  left_pinchDistance\n",
      "0                -200.616669                264.240204           75.807655\n",
      "1                -161.534271                264.839478           72.387817\n",
      "2                -124.901863                277.287964           74.490547\n",
      "3                -103.142654                279.005768           82.915497\n",
      "4                 -79.470238                276.773743           86.341980\n",
      "5                 -68.682808                275.784973           97.750038\n",
      "6                 -64.600510                272.675079           93.153992\n",
      "7                -106.596283                268.052124           79.758644\n",
      "8                -152.784378                255.297424           82.397499\n",
      "9                -199.784821                257.218964           82.926689\n",
      "10               -250.285873                258.686615           86.924805\n",
      "11               -387.395386                280.122528          107.677505\n",
      "12                       NaN                       NaN                 NaN\n",
      "    right_index_tipPosition_0  right_index_tipPosition_1  right_pinchDistance\n",
      "0                  154.440979                 282.155334            80.407196\n",
      "1                  122.812737                 275.538025            75.832153\n",
      "2                   96.880066                 288.703156            83.221626\n",
      "3                   66.197937                 283.272888            82.371513\n",
      "4                   37.818256                 281.039032            83.420044\n",
      "5                    8.173203                 273.820801            87.273903\n",
      "6                   -2.164760                 268.608276            88.272797\n",
      "7                   49.528870                 273.989441            86.730820\n",
      "8                   97.433197                 271.314392            80.465004\n",
      "9                  164.419266                 271.790253            83.436584\n",
      "10                 221.743683                 269.061737            89.954422\n",
      "11                 286.199890                 286.730164            88.148224\n",
      "12                 240.348236                 247.487595            44.922855\n",
      "    right_index_tipPosition_0  right_index_tipPosition_1  right_pinchDistance\n",
      "0                  200.616669                 264.240204            75.807655\n",
      "1                  161.534271                 264.839478            72.387817\n",
      "2                  124.901863                 277.287964            74.490547\n",
      "3                  103.142654                 279.005768            82.915497\n",
      "4                   79.470238                 276.773743            86.341980\n",
      "5                   68.682808                 275.784973            97.750038\n",
      "6                   64.600510                 272.675079            93.153992\n",
      "7                  106.596283                 268.052124            79.758644\n",
      "8                  152.784378                 255.297424            82.397499\n",
      "9                  199.784821                 257.218964            82.926689\n",
      "10                 250.285873                 258.686615            86.924805\n",
      "11                 387.395386                 280.122528           107.677505\n",
      "12                        NaN                        NaN                  NaN\n",
      "    left_index_tipPosition_0  left_index_tipPosition_1  left_pinchDistance\n",
      "0                -154.440979                282.155334           80.407196\n",
      "1                -122.812737                275.538025           75.832153\n",
      "2                 -96.880066                288.703156           83.221626\n",
      "3                 -66.197937                283.272888           82.371513\n",
      "4                 -37.818256                281.039032           83.420044\n",
      "5                  -8.173203                273.820801           87.273903\n",
      "6                   2.164760                268.608276           88.272797\n",
      "7                 -49.528870                273.989441           86.730820\n",
      "8                 -97.433197                271.314392           80.465004\n",
      "9                -164.419266                271.790253           83.436584\n",
      "10               -221.743683                269.061737           89.954422\n",
      "11               -286.199890                286.730164           88.148224\n",
      "12               -240.348236                247.487595           44.922855\n"
     ]
    }
   ],
   "source": [
    "b = 'recordings/derived_test.csv'\n",
    "df = CSV2VoI(b)\n",
    "print(df[['left_index_tipPosition_0', 'left_index_tipPosition_1', 'left_pinchDistance']])\n",
    "print(df[['right_index_tipPosition_0', 'right_index_tipPosition_1', 'right_pinchDistance']])\n",
    "df = mirror_data(df)\n",
    "print(df[['right_index_tipPosition_0', 'right_index_tipPosition_1', 'right_pinchDistance']])\n",
    "print(df[['left_index_tipPosition_0', 'left_index_tipPosition_1', 'left_pinchDistance']])"
   ]
  },
  {
   "cell_type": "code",
   "execution_count": 8,
   "metadata": {},
   "outputs": [
    {
     "name": "stdout",
     "output_type": "stream",
     "text": [
      "mean fps: 28.79\n",
      "target fps: 30\n",
      "taking every 1 frames\n",
      "99.71% of rows contain valid LH data\n",
      "100.00% of rows contain valid RH data\n",
      "Found left hand data:  True\n",
      "Found right hand data:  True\n",
      "dealt with 7 of 6953 rows with nans\n",
      "Data successfully mirrored\n",
      "mean fps: 28.79\n",
      "target fps: 30\n",
      "taking every 1 frames\n",
      "99.71% of rows contain valid LH data\n",
      "100.00% of rows contain valid RH data\n",
      "Found left hand data:  True\n",
      "Found right hand data:  True\n",
      "dealt with 7 of 6953 rows with nans\n",
      "mean fps: 28.80\n",
      "target fps: 30\n",
      "taking every 1 frames\n",
      "99.54% of rows contain valid LH data\n",
      "100.00% of rows contain valid RH data\n",
      "Found left hand data:  True\n",
      "Found right hand data:  True\n",
      "dealt with 0 of 2409 rows with nans\n",
      "(624, 40, 48)\n"
     ]
    }
   ],
   "source": [
    "mirror_train = 'data/mirror/mirror_train.csv'\n",
    "mirror_val = 'data/mirror/mirror_test.csv'\n",
    "shape_train = 'data/loopsV0/shapes2loops.csv'\n",
    "shape_test = 'data/loopsV0/shapes_test.csv'\n",
    "n_frames = 40\n",
    "X, y = CSV2examples(raw_file=mirror_train, g2idx=g2idx, n_frames=n_frames, target_fps=30, standardize=True, dicts_gen=False, mirror=True)\n",
    "X2, y2 = CSV2examples(raw_file=mirror_train, g2idx=g2idx, n_frames=n_frames, target_fps=30, standardize=True, dicts_gen=False, mirror=False)\n",
    "X = np.concatenate([X,X2])\n",
    "y = np.concatenate([y, y2])\n",
    "X_val, y_val = CSV2examples(raw_file=mirror_val, g2idx=g2idx, n_frames=n_frames, target_fps=30, standardize=True, dicts_gen=False)\n",
    "print(X.shape)"
   ]
  },
  {
   "cell_type": "code",
   "execution_count": null,
   "metadata": {},
   "outputs": [],
   "source": [
    "X, y = folder2examples('data/train/', target_fps=25, g2idx=g2idx)"
   ]
  },
  {
   "cell_type": "code",
   "execution_count": 9,
   "metadata": {},
   "outputs": [
    {
     "name": "stdout",
     "output_type": "stream",
     "text": [
      "Model: \"many2one\"\n",
      "_________________________________________________________________\n",
      "Layer (type)                 Output Shape              Param #   \n",
      "=================================================================\n",
      "input_1 (InputLayer)         [(None, 40, 48)]          0         \n",
      "_________________________________________________________________\n",
      "bidirectional (Bidirectional (None, 10)                2160      \n",
      "_________________________________________________________________\n",
      "dense (Dense)                (None, 8)                 88        \n",
      "=================================================================\n",
      "Total params: 2,248\n",
      "Trainable params: 2,248\n",
      "Non-trainable params: 0\n",
      "_________________________________________________________________\n"
     ]
    }
   ],
   "source": [
    "model = many2one_model(n_features = X.shape[-1], n_frames=X.shape[1], n_gestures=len(g2idx), n_layers=1, rnn_units=5, recurrent_dropout=0.2, bidirectional=True)"
   ]
  },
  {
   "cell_type": "code",
   "execution_count": 11,
   "metadata": {},
   "outputs": [
    {
     "name": "stdout",
     "output_type": "stream",
     "text": [
      "Train on 624 samples, validate on 107 samples\n",
      "Epoch 1/50\n",
      "624/624 [==============================] - 4s 6ms/sample - loss: 2.0663 - accuracy: 0.1426 - val_loss: 2.0969 - val_accuracy: 0.1495\n",
      "Epoch 2/50\n",
      "624/624 [==============================] - 0s 606us/sample - loss: 1.9595 - accuracy: 0.2356 - val_loss: 2.0286 - val_accuracy: 0.1495\n",
      "Epoch 3/50\n",
      "624/624 [==============================] - 0s 575us/sample - loss: 1.8594 - accuracy: 0.3349 - val_loss: 1.9533 - val_accuracy: 0.1589\n",
      "Epoch 4/50\n",
      "624/624 [==============================] - 0s 558us/sample - loss: 1.7604 - accuracy: 0.3798 - val_loss: 1.8720 - val_accuracy: 0.1682\n",
      "Epoch 5/50\n",
      "624/624 [==============================] - 0s 587us/sample - loss: 1.6578 - accuracy: 0.4487 - val_loss: 1.7882 - val_accuracy: 0.2243\n",
      "Epoch 6/50\n",
      "624/624 [==============================] - 0s 572us/sample - loss: 1.5646 - accuracy: 0.5240 - val_loss: 1.6957 - val_accuracy: 0.3738\n",
      "Epoch 7/50\n",
      "624/624 [==============================] - 0s 591us/sample - loss: 1.4631 - accuracy: 0.5962 - val_loss: 1.6171 - val_accuracy: 0.4486\n",
      "Epoch 8/50\n",
      "624/624 [==============================] - 0s 580us/sample - loss: 1.3610 - accuracy: 0.6571 - val_loss: 1.5331 - val_accuracy: 0.5140\n",
      "Epoch 9/50\n",
      "624/624 [==============================] - 0s 595us/sample - loss: 1.2633 - accuracy: 0.7003 - val_loss: 1.4497 - val_accuracy: 0.5327\n",
      "Epoch 10/50\n",
      "624/624 [==============================] - 0s 567us/sample - loss: 1.1785 - accuracy: 0.7532 - val_loss: 1.3802 - val_accuracy: 0.5421\n",
      "Epoch 11/50\n",
      "624/624 [==============================] - 0s 748us/sample - loss: 1.0943 - accuracy: 0.7885 - val_loss: 1.3207 - val_accuracy: 0.5607\n",
      "Epoch 12/50\n",
      "624/624 [==============================] - 0s 615us/sample - loss: 1.0153 - accuracy: 0.8173 - val_loss: 1.2247 - val_accuracy: 0.6355\n",
      "Epoch 13/50\n",
      "624/624 [==============================] - 0s 670us/sample - loss: 0.9487 - accuracy: 0.8606 - val_loss: 1.1967 - val_accuracy: 0.6355\n",
      "Epoch 14/50\n",
      "624/624 [==============================] - 0s 647us/sample - loss: 0.8896 - accuracy: 0.8734 - val_loss: 1.1199 - val_accuracy: 0.6916\n",
      "Epoch 15/50\n",
      "624/624 [==============================] - 0s 603us/sample - loss: 0.8303 - accuracy: 0.8846 - val_loss: 0.9980 - val_accuracy: 0.7664\n",
      "Epoch 16/50\n",
      "624/624 [==============================] - 0s 601us/sample - loss: 0.7902 - accuracy: 0.8958 - val_loss: 1.0048 - val_accuracy: 0.7570\n",
      "Epoch 17/50\n",
      "624/624 [==============================] - 0s 590us/sample - loss: 0.7379 - accuracy: 0.9087 - val_loss: 0.9029 - val_accuracy: 0.7757\n",
      "Epoch 18/50\n",
      "624/624 [==============================] - 0s 603us/sample - loss: 0.6938 - accuracy: 0.9231 - val_loss: 0.8324 - val_accuracy: 0.8037\n",
      "Epoch 19/50\n",
      "624/624 [==============================] - 0s 590us/sample - loss: 0.6551 - accuracy: 0.9247 - val_loss: 0.8005 - val_accuracy: 0.8037\n",
      "Epoch 20/50\n",
      "624/624 [==============================] - 0s 575us/sample - loss: 0.6142 - accuracy: 0.9423 - val_loss: 0.7604 - val_accuracy: 0.8131\n",
      "Epoch 21/50\n",
      "624/624 [==============================] - 0s 572us/sample - loss: 0.5777 - accuracy: 0.9439 - val_loss: 0.7296 - val_accuracy: 0.8224\n",
      "Epoch 22/50\n",
      "624/624 [==============================] - 0s 761us/sample - loss: 0.5521 - accuracy: 0.9535 - val_loss: 0.7044 - val_accuracy: 0.8505\n",
      "Epoch 23/50\n",
      "624/624 [==============================] - 0s 633us/sample - loss: 0.5312 - accuracy: 0.9455 - val_loss: 0.6671 - val_accuracy: 0.8505\n",
      "Epoch 24/50\n",
      "624/624 [==============================] - 0s 674us/sample - loss: 0.5010 - accuracy: 0.9519 - val_loss: 0.6440 - val_accuracy: 0.8879\n",
      "Epoch 25/50\n",
      "624/624 [==============================] - 0s 579us/sample - loss: 0.4805 - accuracy: 0.9583 - val_loss: 0.6133 - val_accuracy: 0.8972\n",
      "Epoch 26/50\n",
      "624/624 [==============================] - 0s 572us/sample - loss: 0.4609 - accuracy: 0.9615 - val_loss: 0.5833 - val_accuracy: 0.8972\n",
      "Epoch 27/50\n",
      "624/624 [==============================] - 0s 555us/sample - loss: 0.4367 - accuracy: 0.9696 - val_loss: 0.5709 - val_accuracy: 0.8972\n",
      "Epoch 28/50\n",
      "624/624 [==============================] - 0s 572us/sample - loss: 0.4113 - accuracy: 0.9728 - val_loss: 0.5633 - val_accuracy: 0.8972\n",
      "Epoch 29/50\n",
      "624/624 [==============================] - 0s 593us/sample - loss: 0.3892 - accuracy: 0.9696 - val_loss: 0.5231 - val_accuracy: 0.9065\n",
      "Epoch 30/50\n",
      "624/624 [==============================] - 0s 662us/sample - loss: 0.3701 - accuracy: 0.9760 - val_loss: 0.4924 - val_accuracy: 0.9159\n",
      "Epoch 31/50\n",
      "624/624 [==============================] - 0s 583us/sample - loss: 0.3570 - accuracy: 0.9792 - val_loss: 0.4657 - val_accuracy: 0.9346\n",
      "Epoch 32/50\n",
      "624/624 [==============================] - 0s 558us/sample - loss: 0.3428 - accuracy: 0.9792 - val_loss: 0.4528 - val_accuracy: 0.9346\n",
      "Epoch 33/50\n",
      "624/624 [==============================] - 0s 583us/sample - loss: 0.3202 - accuracy: 0.9904 - val_loss: 0.4442 - val_accuracy: 0.9159\n",
      "Epoch 34/50\n",
      "624/624 [==============================] - 0s 542us/sample - loss: 0.3080 - accuracy: 0.9872 - val_loss: 0.4255 - val_accuracy: 0.9439\n",
      "Epoch 35/50\n",
      "624/624 [==============================] - 0s 679us/sample - loss: 0.3067 - accuracy: 0.9776 - val_loss: 0.3991 - val_accuracy: 0.9439\n",
      "Epoch 36/50\n",
      "624/624 [==============================] - 0s 588us/sample - loss: 0.2961 - accuracy: 0.9776 - val_loss: 0.4169 - val_accuracy: 0.9252\n",
      "Epoch 37/50\n",
      "624/624 [==============================] - 0s 603us/sample - loss: 0.2751 - accuracy: 0.9824 - val_loss: 0.4242 - val_accuracy: 0.8972\n",
      "Epoch 38/50\n",
      "624/624 [==============================] - 0s 670us/sample - loss: 0.2708 - accuracy: 0.9824 - val_loss: 0.3616 - val_accuracy: 0.9346\n",
      "Epoch 39/50\n",
      "624/624 [==============================] - 0s 694us/sample - loss: 0.2573 - accuracy: 0.9840 - val_loss: 0.3679 - val_accuracy: 0.9439\n",
      "Epoch 40/50\n",
      "624/624 [==============================] - 0s 588us/sample - loss: 0.2518 - accuracy: 0.9856 - val_loss: 0.3649 - val_accuracy: 0.9346\n",
      "Epoch 41/50\n",
      "624/624 [==============================] - 0s 567us/sample - loss: 0.2361 - accuracy: 0.9888 - val_loss: 0.3616 - val_accuracy: 0.9252\n",
      "Epoch 42/50\n",
      "624/624 [==============================] - 0s 580us/sample - loss: 0.2327 - accuracy: 0.9872 - val_loss: 0.3383 - val_accuracy: 0.9346\n",
      "Epoch 43/50\n",
      "624/624 [==============================] - 0s 583us/sample - loss: 0.2273 - accuracy: 0.9840 - val_loss: 0.3303 - val_accuracy: 0.9439\n",
      "Epoch 44/50\n",
      "624/624 [==============================] - 0s 572us/sample - loss: 0.2151 - accuracy: 0.9888 - val_loss: 0.3393 - val_accuracy: 0.9346\n",
      "Epoch 45/50\n",
      "624/624 [==============================] - 0s 595us/sample - loss: 0.2115 - accuracy: 0.9904 - val_loss: 0.3408 - val_accuracy: 0.9252\n",
      "Epoch 46/50\n",
      "624/624 [==============================] - 0s 681us/sample - loss: 0.2067 - accuracy: 0.9872 - val_loss: 0.3303 - val_accuracy: 0.9252\n",
      "Epoch 47/50\n",
      "624/624 [==============================] - 0s 666us/sample - loss: 0.1974 - accuracy: 0.9952 - val_loss: 0.3316 - val_accuracy: 0.9159\n",
      "Epoch 48/50\n",
      "624/624 [==============================] - 0s 614us/sample - loss: 0.1864 - accuracy: 0.9920 - val_loss: 0.3224 - val_accuracy: 0.9252\n",
      "Epoch 49/50\n",
      "624/624 [==============================] - 0s 658us/sample - loss: 0.1835 - accuracy: 0.9936 - val_loss: 0.3364 - val_accuracy: 0.9252\n",
      "Epoch 50/50\n",
      "624/624 [==============================] - 0s 663us/sample - loss: 0.1811 - accuracy: 0.9920 - val_loss: 0.3306 - val_accuracy: 0.9346\n"
     ]
    }
   ],
   "source": [
    "# note: using hs 30, recurrent dropout 0.5, bidirectional, and not including features added on the 3/02 or getting rid of VoI_drop features, got high 80s percentage accuracy on val\n",
    "# maybe it was 25fps?\n",
    "# with the new features, can get 89% val accuracy with 35 frame long examples. 25 is too short.\n",
    "opt = tf.keras.optimizers.Adam()\n",
    "model.compile(optimizer=opt, loss='sparse_categorical_crossentropy', metrics=['accuracy'])\n",
    "history = model.fit(X, y, validation_data=(X_val, y_val), epochs=50, batch_size = 50)"
   ]
  },
  {
   "cell_type": "code",
   "execution_count": 14,
   "metadata": {},
   "outputs": [],
   "source": [
    "model.save('models/V1/40f_5hs.h5')"
   ]
  },
  {
   "cell_type": "code",
   "execution_count": 39,
   "metadata": {},
   "outputs": [],
   "source": [
    "model = tf.keras.models.load_model('models/V2/25f_32hs_15c_2.h5')"
   ]
  },
  {
   "cell_type": "code",
   "execution_count": 41,
   "metadata": {},
   "outputs": [
    {
     "name": "stdout",
     "output_type": "stream",
     "text": [
      "mean fps: 115.19\n",
      "target fps: 25\n",
      "skipping every 5 frames\n",
      "Found left hand data:  False\n",
      "Found right hand data:  True\n",
      "dropped 0 of 2777 rows with nans\n"
     ]
    }
   ],
   "source": [
    "# load test data\n",
    "X_test, y_test = CSV2examples('data/recordings/test_loop.csv', g2idx=g2idx, n_frames=50)"
   ]
  },
  {
   "cell_type": "code",
   "execution_count": 50,
   "metadata": {},
   "outputs": [
    {
     "name": "stdout",
     "output_type": "stream",
     "text": [
      "33\n",
      "[[0.95594496 0.04405507]]\n",
      "Predicted:  no_gesture\n",
      "Truth:  fist\n"
     ]
    }
   ],
   "source": [
    "# predict on a random test case\n",
    "i = np.random.randint(0, len(X_test))\n",
    "print(i)\n",
    "pred = model.predict(np.expand_dims(np.array(X_test[i]), axis=0))\n",
    "print(pred)\n",
    "print('Predicted: ', idx2g[np.argmax(pred)])\n",
    "print('Truth: ', idx2g[y_test[i]])"
   ]
  },
  {
   "cell_type": "code",
   "execution_count": 54,
   "metadata": {},
   "outputs": [
    {
     "name": "stdout",
     "output_type": "stream",
     "text": [
      "so_so\n"
     ]
    }
   ],
   "source": [
    "print(idx2g[y[1]])"
   ]
  },
  {
   "cell_type": "code",
   "execution_count": 12,
   "metadata": {},
   "outputs": [
    {
     "data": {
      "image/png": "[encoded data removed]",
      "text/plain": [
       "<Figure size 432x288 with 1 Axes>"
      ]
     },
     "metadata": {
      "needs_background": "light"
     },
     "output_type": "display_data"
    },
    {
     "data": {
      "image/png": "[encoded data removed]",
      "text/plain": [
       "<Figure size 432x288 with 1 Axes>"
      ]
     },
     "metadata": {
      "needs_background": "light"
     },
     "output_type": "display_data"
    }
   ],
   "source": [
    "# plot history:\n",
    "plt_metric(history, 'loss')\n",
    "plt_metric(history, 'accuracy')"
   ]
  },
  {
   "cell_type": "code",
   "execution_count": 51,
   "metadata": {},
   "outputs": [
    {
     "data": {
      "image/png": "[encoded data removed]",
      "text/plain": [
       "<Figure size 432x288 with 1 Axes>"
      ]
     },
     "metadata": {
      "needs_background": "light"
     },
     "output_type": "display_data"
    },
    {
     "data": {
      "image/png": "[encoded data removed]",
      "text/plain": [
       "<Figure size 432x288 with 1 Axes>"
      ]
     },
     "metadata": {
      "needs_background": "light"
     },
     "output_type": "display_data"
    }
   ],
   "source": [
    "# plot history:\n",
    "plt_metric(history, 'loss')\n",
    "plt_metric(history, 'accuracy')"
   ]
  },
  {
   "cell_type": "code",
   "execution_count": null,
   "metadata": {},
   "outputs": [],
   "source": [
    "# plot history:\n",
    "plt_metric(history, 'loss')\n",
    "plt_metric(history, 'accuracy')"
   ]
  },
  {
   "cell_type": "code",
   "execution_count": 13,
   "metadata": {},
   "outputs": [
    {
     "data": {
      "text/html": [
       "<div>\n",
       "<style scoped>\n",
       "    .dataframe tbody tr th:only-of-type {\n",
       "        vertical-align: middle;\n",
       "    }\n",
       "\n",
       "    .dataframe tbody tr th {\n",
       "        vertical-align: top;\n",
       "    }\n",
       "\n",
       "    .dataframe thead th {\n",
       "        text-align: right;\n",
       "    }\n",
       "</style>\n",
       "<table border=\"1\" class=\"dataframe\">\n",
       "  <thead>\n",
       "    <tr style=\"text-align: right;\">\n",
       "      <th>Predicted</th>\n",
       "      <th>fist</th>\n",
       "      <th>gun</th>\n",
       "      <th>maybe</th>\n",
       "      <th>no_gesture</th>\n",
       "      <th>open_close</th>\n",
       "      <th>pointing</th>\n",
       "      <th>shuffle_over</th>\n",
       "      <th>so_so</th>\n",
       "    </tr>\n",
       "    <tr>\n",
       "      <th>Actual</th>\n",
       "      <th></th>\n",
       "      <th></th>\n",
       "      <th></th>\n",
       "      <th></th>\n",
       "      <th></th>\n",
       "      <th></th>\n",
       "      <th></th>\n",
       "      <th></th>\n",
       "    </tr>\n",
       "  </thead>\n",
       "  <tbody>\n",
       "    <tr>\n",
       "      <th>fist</th>\n",
       "      <td>13</td>\n",
       "      <td>0</td>\n",
       "      <td>0</td>\n",
       "      <td>0</td>\n",
       "      <td>0</td>\n",
       "      <td>0</td>\n",
       "      <td>0</td>\n",
       "      <td>0</td>\n",
       "    </tr>\n",
       "    <tr>\n",
       "      <th>gun</th>\n",
       "      <td>0</td>\n",
       "      <td>12</td>\n",
       "      <td>0</td>\n",
       "      <td>1</td>\n",
       "      <td>0</td>\n",
       "      <td>0</td>\n",
       "      <td>0</td>\n",
       "      <td>0</td>\n",
       "    </tr>\n",
       "    <tr>\n",
       "      <th>maybe</th>\n",
       "      <td>0</td>\n",
       "      <td>0</td>\n",
       "      <td>13</td>\n",
       "      <td>0</td>\n",
       "      <td>0</td>\n",
       "      <td>0</td>\n",
       "      <td>0</td>\n",
       "      <td>0</td>\n",
       "    </tr>\n",
       "    <tr>\n",
       "      <th>no_gesture</th>\n",
       "      <td>0</td>\n",
       "      <td>0</td>\n",
       "      <td>0</td>\n",
       "      <td>16</td>\n",
       "      <td>0</td>\n",
       "      <td>0</td>\n",
       "      <td>0</td>\n",
       "      <td>0</td>\n",
       "    </tr>\n",
       "    <tr>\n",
       "      <th>open_close</th>\n",
       "      <td>0</td>\n",
       "      <td>0</td>\n",
       "      <td>0</td>\n",
       "      <td>0</td>\n",
       "      <td>12</td>\n",
       "      <td>0</td>\n",
       "      <td>1</td>\n",
       "      <td>0</td>\n",
       "    </tr>\n",
       "    <tr>\n",
       "      <th>pointing</th>\n",
       "      <td>0</td>\n",
       "      <td>0</td>\n",
       "      <td>0</td>\n",
       "      <td>0</td>\n",
       "      <td>0</td>\n",
       "      <td>13</td>\n",
       "      <td>0</td>\n",
       "      <td>0</td>\n",
       "    </tr>\n",
       "    <tr>\n",
       "      <th>shuffle_over</th>\n",
       "      <td>0</td>\n",
       "      <td>0</td>\n",
       "      <td>0</td>\n",
       "      <td>0</td>\n",
       "      <td>0</td>\n",
       "      <td>0</td>\n",
       "      <td>13</td>\n",
       "      <td>0</td>\n",
       "    </tr>\n",
       "    <tr>\n",
       "      <th>so_so</th>\n",
       "      <td>0</td>\n",
       "      <td>0</td>\n",
       "      <td>0</td>\n",
       "      <td>3</td>\n",
       "      <td>0</td>\n",
       "      <td>0</td>\n",
       "      <td>2</td>\n",
       "      <td>8</td>\n",
       "    </tr>\n",
       "  </tbody>\n",
       "</table>\n",
       "</div>"
      ],
      "text/plain": [
       "Predicted     fist  gun  maybe  no_gesture  open_close  pointing  \\\n",
       "Actual                                                             \n",
       "fist            13    0      0           0           0         0   \n",
       "gun              0   12      0           1           0         0   \n",
       "maybe            0    0     13           0           0         0   \n",
       "no_gesture       0    0      0          16           0         0   \n",
       "open_close       0    0      0           0          12         0   \n",
       "pointing         0    0      0           0           0        13   \n",
       "shuffle_over     0    0      0           0           0         0   \n",
       "so_so            0    0      0           3           0         0   \n",
       "\n",
       "Predicted     shuffle_over  so_so  \n",
       "Actual                             \n",
       "fist                     0      0  \n",
       "gun                      0      0  \n",
       "maybe                    0      0  \n",
       "no_gesture               0      0  \n",
       "open_close               1      0  \n",
       "pointing                 0      0  \n",
       "shuffle_over            13      0  \n",
       "so_so                    2      8  "
      ]
     },
     "execution_count": 13,
     "metadata": {},
     "output_type": "execute_result"
    }
   ],
   "source": [
    "# get confusion matrix\n",
    "pred = np.argmax(model.predict(X_val), axis=-1)\n",
    "pred_gest = [idx2g[i] for i in pred]\n",
    "y_gest = [idx2g[i] for i in y_val]\n",
    "pd.crosstab([y_gest], [pred_gest], rownames=['Actual'], colnames=['Predicted'])"
   ]
  },
  {
   "cell_type": "code",
   "execution_count": 100,
   "metadata": {},
   "outputs": [
    {
     "name": "stdout",
     "output_type": "stream",
     "text": [
      "[[[0 1]\n",
      "  [0 2]\n",
      "  [0 3]\n",
      "  [0 4]]\n",
      "\n",
      " [[0 3]\n",
      "  [0 4]\n",
      "  [0 5]\n",
      "  [0 6]]\n",
      "\n",
      " [[0 5]\n",
      "  [0 6]\n",
      "  [0 7]\n",
      "  [0 8]]\n",
      "\n",
      " [[1 1]\n",
      "  [1 2]\n",
      "  [1 3]\n",
      "  [1 4]]\n",
      "\n",
      " [[3 1]\n",
      "  [3 2]\n",
      "  [3 3]\n",
      "  [3 4]]\n",
      "\n",
      " [[3 3]\n",
      "  [3 4]\n",
      "  [3 5]\n",
      "  [3 6]]]\n",
      "[0 0 0 1 3 3]\n"
     ]
    }
   ],
   "source": [
    "Xa = [[[0,1],[0,2],[0,3],[0,4],[0,5],[0,6],[0,7],[0,8],[1,1],[1,2],[1,3],[1,4],[1,5],[3,1],[3,2],[3,3],[3,4],[3,5],[3,6],[3,7],[4,1],[4,2]]]\n",
    "ya = [0,0,0,0,0,0,0,0,1,1,1,1,1,3,3,3,3,3,3,3,4,4]\n",
    "xb, yb = X_y2examples(Xa, ya, n_frames=4)\n",
    "print(xb)\n",
    "print(yb)"
   ]
  },
  {
   "cell_type": "code",
   "execution_count": 94,
   "metadata": {},
   "outputs": [
    {
     "data": {
      "text/plain": [
       "[[0, 1], [0, 2]]"
      ]
     },
     "execution_count": 94,
     "metadata": {},
     "output_type": "execute_result"
    }
   ],
   "source": [
    "Xa[0:2]"
   ]
  }
 ],
 "metadata": {
  "kernelspec": {
   "display_name": "Python 3",
   "language": "python",
   "name": "python3"
  },
  "language_info": {
   "codemirror_mode": {
    "name": "ipython",
    "version": 3
   },
   "file_extension": ".py",
   "mimetype": "text/x-python",
   "name": "python",
   "nbconvert_exporter": "python",
   "pygments_lexer": "ipython3",
   "version": "3.7.1"
  }
 },
 "nbformat": 4,
 "nbformat_minor": 2
}
