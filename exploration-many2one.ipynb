{
 "cells": [
  {
   "cell_type": "code",
   "execution_count": 1,
   "metadata": {},
   "outputs": [],
   "source": [
    "from importlib import reload\n",
    "import numpy as np\n",
    "import json\n",
    "import matplotlib.pyplot as plt\n",
    "import pandas as pd\n",
    "import os\n",
    "import tensorflow as tf\n",
    "from tensorflow.keras import layers"
   ]
  },
  {
   "cell_type": "code",
   "execution_count": 24,
   "metadata": {},
   "outputs": [
    {
     "data": {
      "text/plain": [
       "<module 'src.features' from 'C:\\\\Users\\\\Andrew\\\\Documents\\\\CeR\\\\GestRec\\\\leap_gesture_rec\\\\src\\\\features.py'>"
      ]
     },
     "execution_count": 24,
     "metadata": {},
     "output_type": "execute_result"
    }
   ],
   "source": [
    "# import (or reload) modules\n",
    "import src.models\n",
    "reload(src.models)\n",
    "from src.models import *\n",
    "\n",
    "import src.data_methods\n",
    "reload(src.data_methods)\n",
    "from src.data_methods import *\n",
    "\n",
    "import src.features as features\n",
    "reload(features)"
   ]
  },
  {
   "cell_type": "markdown",
   "metadata": {},
   "source": [
    "## Many To One\n",
    "This notebook contains the steps necessary to train a 'many to one' lstm model - that is, a model in which many time steps are given as input, and one prediction is given as output.\n",
    "\n",
    "### Gestures\n",
    "First, get a list of gestures from the gestures parameter file, and dictionaries mapping between gesture names and their integer ids."
   ]
  },
  {
   "cell_type": "code",
   "execution_count": 113,
   "metadata": {},
   "outputs": [],
   "source": [
    "gestures, g2idx, idx2g = get_gestures(version=3)"
   ]
  },
  {
   "cell_type": "markdown",
   "metadata": {},
   "source": [
    "### Dictionaries for Standardizing/Centering \n",
    "Sometimes we want to update the dictionaries used for normalizing and centering variables. We need to do this if a new variable is introduced for which the information is not in the dictionary.\n",
    "CSV2examples can generate new dictionaries for this purpose, overwriting the old ones stored in the params/ folder."
   ]
  },
  {
   "cell_type": "code",
   "execution_count": null,
   "metadata": {},
   "outputs": [],
   "source": [
    "n_frames=40\n",
    "CSV2examples(raw_file='data/recordings/normalization_data.csv', g2idx=g2idx, n_frames=n_frames, target_fps=30, standardize=True, dicts_gen=True, derive_features=True)"
   ]
  },
  {
   "cell_type": "markdown",
   "metadata": {},
   "source": [
    "### Read in folder of CSV files, set up a model, and train"
   ]
  },
  {
   "cell_type": "code",
   "execution_count": 114,
   "metadata": {},
   "outputs": [
    {
     "name": "stdout",
     "output_type": "stream",
     "text": [
      " \n",
      "<DirEntry '1loopv3anon.csv'>\n",
      "mean fps: 27.06\n",
      "target fps: 5\n",
      "taking every 5 frames\n",
      "100.00% of rows contain valid LH data\n",
      "98.16% of rows contain valid RH data\n",
      "Found left hand data:  True\n",
      "Found right hand data:  True\n",
      " \n",
      "<DirEntry 'loopv3Andrew_flat_LHpart1.csv'>\n"
     ]
    },
    {
     "name": "stderr",
     "output_type": "stream",
     "text": [
      "C:\\Users\\Andrew\\AppData\\Local\\Continuum\\anaconda3\\lib\\site-packages\\IPython\\core\\interactiveshell.py:3267: DtypeWarning: Columns (3) have mixed types. Specify dtype option on import or set low_memory=False.\n",
      "  exec(code_obj, self.user_global_ns, self.user_ns)\n"
     ]
    },
    {
     "name": "stdout",
     "output_type": "stream",
     "text": [
      "mean fps: 27.64\n",
      "target fps: 5\n",
      "taking every 6 frames\n",
      "30.98% of rows contain valid LH data\n",
      "30.98% of rows contain valid RH data\n",
      "Found left hand data:  True\n",
      "Found right hand data:  True\n",
      " \n",
      "<DirEntry 'loopv3Andrew_flat_LHpart2.csv'>\n",
      "mean fps: 26.80\n",
      "target fps: 5\n",
      "taking every 5 frames\n",
      "99.40% of rows contain valid LH data\n",
      "99.87% of rows contain valid RH data\n",
      "Found left hand data:  True\n",
      "Found right hand data:  True\n",
      " \n",
      "<DirEntry 'supplemental1.csv'>\n",
      "mean fps: 28.78\n",
      "target fps: 5\n",
      "taking every 6 frames\n",
      "98.82% of rows contain valid LH data\n",
      "100.00% of rows contain valid RH data\n",
      "Found left hand data:  True\n",
      "Found right hand data:  True\n",
      " \n",
      "<DirEntry 'v3loop_andrew_lowfps.csv'>\n",
      "mean fps: 21.49\n",
      "target fps: 5\n",
      "taking every 4 frames\n",
      "99.75% of rows contain valid LH data\n",
      "99.97% of rows contain valid RH data\n",
      "Found left hand data:  True\n",
      "Found right hand data:  True\n",
      " \n",
      "<DirEntry 'V3_1loop_nick.csv'>\n",
      "mean fps: 27.62\n",
      "target fps: 5\n",
      "taking every 6 frames\n",
      "96.21% of rows contain valid LH data\n",
      "99.15% of rows contain valid RH data\n",
      "Found left hand data:  True\n",
      "Found right hand data:  True\n",
      " \n",
      "<DirEntry 'V3_2loops_andrew1.csv'>\n",
      "mean fps: 27.62\n",
      "target fps: 5\n",
      "taking every 6 frames\n",
      "93.12% of rows contain valid LH data\n",
      "100.00% of rows contain valid RH data\n",
      "Found left hand data:  True\n",
      "Found right hand data:  True\n",
      " \n",
      "<DirEntry 'V3_2loops_andrew2.csv'>\n",
      "mean fps: 27.61\n",
      "target fps: 5\n",
      "taking every 6 frames\n",
      "96.19% of rows contain valid LH data\n",
      "100.00% of rows contain valid RH data\n",
      "Found left hand data:  True\n",
      "Found right hand data:  True\n",
      "Warning: 2938 of 18357 rows contain gestures not in g2idx\n",
      "dealt with 2938 of 18357 rows with nans\n",
      "Warning: 2938 of 18357 rows contain gestures not in g2idx\n",
      "dealt with 2938 of 18357 rows with nans\n",
      "Data successfully mirrored\n",
      "\n",
      "### retrieving validation data ###\n",
      " \n",
      "<DirEntry 'V3_1loop_andrew_test.csv'>\n",
      "mean fps: 27.61\n",
      "target fps: 5\n",
      "taking every 6 frames\n",
      "98.82% of rows contain valid LH data\n",
      "100.00% of rows contain valid RH data\n",
      "Found left hand data:  True\n",
      "Found right hand data:  True\n",
      "Warning: 92 of 1526 rows contain gestures not in g2idx\n",
      "dealt with 92 of 1526 rows with nans\n",
      "Warning: 92 of 1526 rows contain gestures not in g2idx\n",
      "dealt with 92 of 1526 rows with nans\n",
      "Data successfully mirrored\n",
      "(5468, 10, 50)\n"
     ]
    }
   ],
   "source": [
    "n_frames = 10\n",
    "target_fps = 5\n",
    "X, y = folder2examples(folder='data/loopsV3/train/', g2idx=g2idx, n_frames=n_frames, mirror=True, target_fps=target_fps)\n",
    "print('\\n### retrieving validation data ###')\n",
    "X_val, y_val = folder2examples(folder='data/loopsV3/test/', g2idx=g2idx, n_frames=n_frames, mirror=True, target_fps=target_fps)\n",
    "print(X.shape)"
   ]
  },
  {
   "cell_type": "markdown",
   "metadata": {},
   "source": [
    "### Model Training"
   ]
  },
  {
   "cell_type": "code",
   "execution_count": 115,
   "metadata": {},
   "outputs": [
    {
     "name": "stdout",
     "output_type": "stream",
     "text": [
      "Model: \"many2one\"\n",
      "_________________________________________________________________\n",
      "Layer (type)                 Output Shape              Param #   \n",
      "=================================================================\n",
      "input_13 (InputLayer)        [(None, 10, 50)]          0         \n",
      "_________________________________________________________________\n",
      "bidirectional_12 (Bidirectio (None, 10)                2240      \n",
      "_________________________________________________________________\n",
      "dense_12 (Dense)             (None, 31)                341       \n",
      "=================================================================\n",
      "Total params: 2,581\n",
      "Trainable params: 2,581\n",
      "Non-trainable params: 0\n",
      "_________________________________________________________________\n"
     ]
    }
   ],
   "source": [
    "rnn_units = 5\n",
    "recurrent_dropout = 0.7\n",
    "bidirectional = True\n",
    "model = many2one_model(n_features = X.shape[-1], n_frames=X.shape[1], n_gestures=len(g2idx),\n",
    "                       n_lstm_layers=1, rnn_units=rnn_units, recurrent_dropout=recurrent_dropout, bidirectional=bidirectional)"
   ]
  },
  {
   "cell_type": "code",
   "execution_count": 116,
   "metadata": {},
   "outputs": [
    {
     "name": "stdout",
     "output_type": "stream",
     "text": [
      "Train on 5468 samples, validate on 496 samples\n",
      "Epoch 1/100\n",
      "5468/5468 [==============================] - 4s 790us/sample - loss: 3.3217 - accuracy: 0.0817 - val_loss: 3.1240 - val_accuracy: 0.1452\n",
      "Epoch 2/100\n",
      "5468/5468 [==============================] - 1s 205us/sample - loss: 2.9940 - accuracy: 0.2074 - val_loss: 2.7972 - val_accuracy: 0.3286\n",
      "Epoch 3/100\n",
      "5468/5468 [==============================] - 1s 174us/sample - loss: 2.6841 - accuracy: 0.3164 - val_loss: 2.4832 - val_accuracy: 0.4435\n",
      "Epoch 4/100\n",
      "5468/5468 [==============================] - 1s 180us/sample - loss: 2.3807 - accuracy: 0.4018 - val_loss: 2.2000 - val_accuracy: 0.4879\n",
      "Epoch 5/100\n",
      "5468/5468 [==============================] - 1s 176us/sample - loss: 2.1034 - accuracy: 0.4894 - val_loss: 1.9403 - val_accuracy: 0.5746\n",
      "Epoch 6/100\n",
      "5468/5468 [==============================] - 1s 173us/sample - loss: 1.8600 - accuracy: 0.5746 - val_loss: 1.7011 - val_accuracy: 0.6875\n",
      "Epoch 7/100\n",
      "5468/5468 [==============================] - 1s 184us/sample - loss: 1.6558 - accuracy: 0.6320 - val_loss: 1.5148 - val_accuracy: 0.7218\n",
      "Epoch 8/100\n",
      "5468/5468 [==============================] - 1s 178us/sample - loss: 1.4820 - accuracy: 0.6734 - val_loss: 1.3475 - val_accuracy: 0.7601\n",
      "Epoch 9/100\n",
      "5468/5468 [==============================] - 1s 186us/sample - loss: 1.3300 - accuracy: 0.6960 - val_loss: 1.2152 - val_accuracy: 0.7560\n",
      "Epoch 10/100\n",
      "5468/5468 [==============================] - 1s 178us/sample - loss: 1.2103 - accuracy: 0.7235 - val_loss: 1.1128 - val_accuracy: 0.7702\n",
      "Epoch 11/100\n",
      "5468/5468 [==============================] - 1s 172us/sample - loss: 1.1069 - accuracy: 0.7447 - val_loss: 1.0213 - val_accuracy: 0.7802\n",
      "Epoch 12/100\n",
      "5468/5468 [==============================] - 1s 186us/sample - loss: 1.0168 - accuracy: 0.7591 - val_loss: 0.9518 - val_accuracy: 0.7984\n",
      "Epoch 13/100\n",
      "5468/5468 [==============================] - 1s 175us/sample - loss: 0.9496 - accuracy: 0.7725 - val_loss: 0.8734 - val_accuracy: 0.8125\n",
      "Epoch 14/100\n",
      "5468/5468 [==============================] - 1s 175us/sample - loss: 0.8851 - accuracy: 0.7946 - val_loss: 0.8235 - val_accuracy: 0.8185\n",
      "Epoch 15/100\n",
      "5468/5468 [==============================] - 1s 172us/sample - loss: 0.8301 - accuracy: 0.8082 - val_loss: 0.7878 - val_accuracy: 0.8085\n",
      "Epoch 16/100\n",
      "5468/5468 [==============================] - 1s 170us/sample - loss: 0.7811 - accuracy: 0.8250 - val_loss: 0.7288 - val_accuracy: 0.8306\n",
      "Epoch 17/100\n",
      "5468/5468 [==============================] - 1s 175us/sample - loss: 0.7341 - accuracy: 0.8356 - val_loss: 0.6871 - val_accuracy: 0.8448\n",
      "Epoch 18/100\n",
      "5468/5468 [==============================] - 1s 169us/sample - loss: 0.6949 - accuracy: 0.8456 - val_loss: 0.6654 - val_accuracy: 0.8448\n",
      "Epoch 19/100\n",
      "5468/5468 [==============================] - 1s 173us/sample - loss: 0.6585 - accuracy: 0.8577 - val_loss: 0.6208 - val_accuracy: 0.8629\n",
      "Epoch 20/100\n",
      "5468/5468 [==============================] - 1s 171us/sample - loss: 0.6206 - accuracy: 0.8672 - val_loss: 0.5889 - val_accuracy: 0.8750\n",
      "Epoch 21/100\n",
      "5468/5468 [==============================] - 1s 169us/sample - loss: 0.5908 - accuracy: 0.8747 - val_loss: 0.5562 - val_accuracy: 0.8750\n",
      "Epoch 22/100\n",
      "5468/5468 [==============================] - 1s 174us/sample - loss: 0.5620 - accuracy: 0.8800 - val_loss: 0.5386 - val_accuracy: 0.8790\n",
      "Epoch 23/100\n",
      "5468/5468 [==============================] - 1s 181us/sample - loss: 0.5360 - accuracy: 0.8870 - val_loss: 0.5157 - val_accuracy: 0.8851\n",
      "Epoch 24/100\n",
      "5468/5468 [==============================] - 1s 174us/sample - loss: 0.5085 - accuracy: 0.8919 - val_loss: 0.4923 - val_accuracy: 0.8871\n",
      "Epoch 25/100\n",
      "5468/5468 [==============================] - 1s 176us/sample - loss: 0.4846 - accuracy: 0.8976 - val_loss: 0.4808 - val_accuracy: 0.8911\n",
      "Epoch 26/100\n",
      "5468/5468 [==============================] - 1s 171us/sample - loss: 0.4643 - accuracy: 0.8998 - val_loss: 0.4603 - val_accuracy: 0.8952\n",
      "Epoch 27/100\n",
      "5468/5468 [==============================] - 1s 169us/sample - loss: 0.4411 - accuracy: 0.9073 - val_loss: 0.4569 - val_accuracy: 0.8851\n",
      "Epoch 28/100\n",
      "5468/5468 [==============================] - 1s 172us/sample - loss: 0.4235 - accuracy: 0.9098 - val_loss: 0.4411 - val_accuracy: 0.8871\n",
      "Epoch 29/100\n",
      "5468/5468 [==============================] - 1s 170us/sample - loss: 0.4062 - accuracy: 0.9122 - val_loss: 0.4176 - val_accuracy: 0.8952\n",
      "Epoch 30/100\n",
      "5468/5468 [==============================] - 1s 172us/sample - loss: 0.3880 - accuracy: 0.9186 - val_loss: 0.4152 - val_accuracy: 0.8911\n",
      "Epoch 31/100\n",
      "5468/5468 [==============================] - 1s 175us/sample - loss: 0.3729 - accuracy: 0.9195 - val_loss: 0.3900 - val_accuracy: 0.9032\n",
      "Epoch 32/100\n",
      "5468/5468 [==============================] - 1s 168us/sample - loss: 0.3613 - accuracy: 0.9203 - val_loss: 0.3826 - val_accuracy: 0.9052\n",
      "Epoch 33/100\n",
      "5468/5468 [==============================] - 1s 177us/sample - loss: 0.3478 - accuracy: 0.9234 - val_loss: 0.3957 - val_accuracy: 0.8952\n",
      "Epoch 34/100\n",
      "5468/5468 [==============================] - 1s 175us/sample - loss: 0.3347 - accuracy: 0.9265 - val_loss: 0.3722 - val_accuracy: 0.9012\n",
      "Epoch 35/100\n",
      "5468/5468 [==============================] - 1s 180us/sample - loss: 0.3256 - accuracy: 0.9287 - val_loss: 0.3601 - val_accuracy: 0.9032\n",
      "Epoch 36/100\n",
      "5468/5468 [==============================] - 1s 169us/sample - loss: 0.3144 - accuracy: 0.9338 - val_loss: 0.3399 - val_accuracy: 0.9073\n",
      "Epoch 37/100\n",
      "5468/5468 [==============================] - 1s 174us/sample - loss: 0.3041 - accuracy: 0.9327 - val_loss: 0.3375 - val_accuracy: 0.9133\n",
      "Epoch 38/100\n",
      "5468/5468 [==============================] - 1s 169us/sample - loss: 0.2923 - accuracy: 0.9404 - val_loss: 0.3380 - val_accuracy: 0.9093\n",
      "Epoch 39/100\n",
      "5468/5468 [==============================] - 1s 171us/sample - loss: 0.2838 - accuracy: 0.9391 - val_loss: 0.3244 - val_accuracy: 0.9052\n",
      "Epoch 40/100\n",
      "5468/5468 [==============================] - 1s 173us/sample - loss: 0.2737 - accuracy: 0.9417 - val_loss: 0.3167 - val_accuracy: 0.9173\n",
      "Epoch 41/100\n",
      "5468/5468 [==============================] - 1s 175us/sample - loss: 0.2650 - accuracy: 0.9459 - val_loss: 0.3123 - val_accuracy: 0.9113\n",
      "Epoch 42/100\n",
      "5468/5468 [==============================] - 1s 174us/sample - loss: 0.2568 - accuracy: 0.9479 - val_loss: 0.3150 - val_accuracy: 0.9113\n",
      "Epoch 43/100\n",
      "5468/5468 [==============================] - 1s 171us/sample - loss: 0.2476 - accuracy: 0.9492 - val_loss: 0.2945 - val_accuracy: 0.9133\n",
      "Epoch 44/100\n",
      "5468/5468 [==============================] - 1s 182us/sample - loss: 0.2396 - accuracy: 0.9517 - val_loss: 0.2830 - val_accuracy: 0.9214\n",
      "Epoch 45/100\n",
      "5468/5468 [==============================] - 1s 169us/sample - loss: 0.2328 - accuracy: 0.9528 - val_loss: 0.2889 - val_accuracy: 0.9194\n",
      "Epoch 46/100\n",
      "5468/5468 [==============================] - 1s 179us/sample - loss: 0.2260 - accuracy: 0.9561 - val_loss: 0.2760 - val_accuracy: 0.9254\n",
      "Epoch 47/100\n",
      "5468/5468 [==============================] - 2s 320us/sample - loss: 0.2227 - accuracy: 0.9554 - val_loss: 0.2776 - val_accuracy: 0.9254\n",
      "Epoch 48/100\n",
      "5468/5468 [==============================] - 1s 185us/sample - loss: 0.2136 - accuracy: 0.9583 - val_loss: 0.2594 - val_accuracy: 0.9294\n",
      "Epoch 49/100\n",
      "5468/5468 [==============================] - 1s 154us/sample - loss: 0.2066 - accuracy: 0.9598 - val_loss: 0.2650 - val_accuracy: 0.9194\n",
      "Epoch 50/100\n",
      "5468/5468 [==============================] - 1s 159us/sample - loss: 0.2003 - accuracy: 0.9596 - val_loss: 0.2545 - val_accuracy: 0.9274\n",
      "Epoch 51/100\n",
      "5468/5468 [==============================] - 1s 152us/sample - loss: 0.1931 - accuracy: 0.9612 - val_loss: 0.2569 - val_accuracy: 0.9254\n",
      "Epoch 52/100\n",
      "5468/5468 [==============================] - 1s 164us/sample - loss: 0.1887 - accuracy: 0.9627 - val_loss: 0.2522 - val_accuracy: 0.9254\n",
      "Epoch 53/100\n",
      "5468/5468 [==============================] - 1s 167us/sample - loss: 0.1838 - accuracy: 0.9642 - val_loss: 0.2487 - val_accuracy: 0.9254\n",
      "Epoch 54/100\n",
      "5468/5468 [==============================] - 1s 174us/sample - loss: 0.1802 - accuracy: 0.9632 - val_loss: 0.2361 - val_accuracy: 0.9294\n",
      "Epoch 55/100\n",
      "5468/5468 [==============================] - 1s 161us/sample - loss: 0.1722 - accuracy: 0.9678 - val_loss: 0.2413 - val_accuracy: 0.9214\n",
      "Epoch 56/100\n",
      "5468/5468 [==============================] - 1s 165us/sample - loss: 0.1687 - accuracy: 0.9667 - val_loss: 0.2397 - val_accuracy: 0.9294\n",
      "Epoch 57/100\n",
      "5468/5468 [==============================] - 1s 163us/sample - loss: 0.1613 - accuracy: 0.9702 - val_loss: 0.2369 - val_accuracy: 0.9234\n",
      "Epoch 58/100\n",
      "5468/5468 [==============================] - 1s 176us/sample - loss: 0.1577 - accuracy: 0.9707 - val_loss: 0.2282 - val_accuracy: 0.9315\n",
      "Epoch 59/100\n",
      "5468/5468 [==============================] - 1s 161us/sample - loss: 0.1545 - accuracy: 0.9702 - val_loss: 0.2322 - val_accuracy: 0.9294\n",
      "Epoch 60/100\n",
      "5468/5468 [==============================] - 1s 153us/sample - loss: 0.1496 - accuracy: 0.9724 - val_loss: 0.2134 - val_accuracy: 0.9355\n",
      "Epoch 61/100\n",
      "5468/5468 [==============================] - 1s 153us/sample - loss: 0.1449 - accuracy: 0.9731 - val_loss: 0.2210 - val_accuracy: 0.9294\n",
      "Epoch 62/100\n",
      "5468/5468 [==============================] - 1s 154us/sample - loss: 0.1408 - accuracy: 0.9759 - val_loss: 0.2100 - val_accuracy: 0.9335\n",
      "Epoch 63/100\n",
      "5468/5468 [==============================] - 1s 160us/sample - loss: 0.1361 - accuracy: 0.9737 - val_loss: 0.2035 - val_accuracy: 0.9355\n",
      "Epoch 64/100\n",
      "5468/5468 [==============================] - 1s 159us/sample - loss: 0.1334 - accuracy: 0.9762 - val_loss: 0.2023 - val_accuracy: 0.9355\n",
      "Epoch 65/100\n",
      "5468/5468 [==============================] - 1s 163us/sample - loss: 0.1295 - accuracy: 0.9764 - val_loss: 0.1883 - val_accuracy: 0.9375\n",
      "Epoch 66/100\n",
      "5468/5468 [==============================] - 1s 159us/sample - loss: 0.1283 - accuracy: 0.9770 - val_loss: 0.1969 - val_accuracy: 0.9435\n",
      "Epoch 67/100\n",
      "5468/5468 [==============================] - 1s 164us/sample - loss: 0.1246 - accuracy: 0.9799 - val_loss: 0.1971 - val_accuracy: 0.9375\n",
      "Epoch 68/100\n",
      "5468/5468 [==============================] - 1s 161us/sample - loss: 0.1189 - accuracy: 0.9806 - val_loss: 0.1848 - val_accuracy: 0.9415\n",
      "Epoch 69/100\n",
      "5468/5468 [==============================] - 1s 165us/sample - loss: 0.1169 - accuracy: 0.9804 - val_loss: 0.2047 - val_accuracy: 0.9315\n",
      "Epoch 70/100\n",
      "5468/5468 [==============================] - 1s 152us/sample - loss: 0.1149 - accuracy: 0.9817 - val_loss: 0.1881 - val_accuracy: 0.9456\n",
      "Epoch 71/100\n",
      "5468/5468 [==============================] - 1s 155us/sample - loss: 0.1138 - accuracy: 0.9819 - val_loss: 0.1834 - val_accuracy: 0.9395\n",
      "Epoch 72/100\n",
      "5468/5468 [==============================] - 1s 160us/sample - loss: 0.1093 - accuracy: 0.9819 - val_loss: 0.1829 - val_accuracy: 0.9415\n",
      "Epoch 73/100\n",
      "5468/5468 [==============================] - 1s 160us/sample - loss: 0.1053 - accuracy: 0.9834 - val_loss: 0.1764 - val_accuracy: 0.9435\n",
      "Epoch 74/100\n",
      "5468/5468 [==============================] - 1s 153us/sample - loss: 0.1040 - accuracy: 0.9830 - val_loss: 0.1854 - val_accuracy: 0.9415\n",
      "Epoch 75/100\n",
      "5468/5468 [==============================] - 1s 161us/sample - loss: 0.0995 - accuracy: 0.9846 - val_loss: 0.1810 - val_accuracy: 0.9395\n",
      "Epoch 76/100\n",
      "5468/5468 [==============================] - 1s 162us/sample - loss: 0.0985 - accuracy: 0.9856 - val_loss: 0.1787 - val_accuracy: 0.9435\n",
      "Epoch 77/100\n",
      "5468/5468 [==============================] - 1s 161us/sample - loss: 0.0961 - accuracy: 0.9854 - val_loss: 0.1750 - val_accuracy: 0.9415\n",
      "Epoch 78/100\n",
      "5468/5468 [==============================] - 1s 163us/sample - loss: 0.0924 - accuracy: 0.9861 - val_loss: 0.1718 - val_accuracy: 0.9415\n",
      "Epoch 79/100\n",
      "5468/5468 [==============================] - 1s 165us/sample - loss: 0.0926 - accuracy: 0.9861 - val_loss: 0.1746 - val_accuracy: 0.9435\n",
      "Epoch 80/100\n",
      "5468/5468 [==============================] - 1s 160us/sample - loss: 0.0924 - accuracy: 0.9854 - val_loss: 0.1725 - val_accuracy: 0.9355\n",
      "Epoch 81/100\n",
      "5468/5468 [==============================] - 1s 162us/sample - loss: 0.0861 - accuracy: 0.9877 - val_loss: 0.1632 - val_accuracy: 0.9496\n",
      "Epoch 82/100\n",
      "5468/5468 [==============================] - 1s 168us/sample - loss: 0.0837 - accuracy: 0.9888 - val_loss: 0.1630 - val_accuracy: 0.9415\n",
      "Epoch 83/100\n",
      "5468/5468 [==============================] - 1s 165us/sample - loss: 0.0835 - accuracy: 0.9883 - val_loss: 0.1743 - val_accuracy: 0.9335\n",
      "Epoch 84/100\n",
      "5468/5468 [==============================] - 1s 172us/sample - loss: 0.0800 - accuracy: 0.9887 - val_loss: 0.1667 - val_accuracy: 0.9335\n",
      "Epoch 85/100\n",
      "5468/5468 [==============================] - 1s 170us/sample - loss: 0.0774 - accuracy: 0.9892 - val_loss: 0.1759 - val_accuracy: 0.9375\n",
      "Epoch 86/100\n",
      "5468/5468 [==============================] - 1s 168us/sample - loss: 0.0755 - accuracy: 0.9896 - val_loss: 0.1865 - val_accuracy: 0.9355\n",
      "Epoch 87/100\n",
      "5468/5468 [==============================] - 1s 171us/sample - loss: 0.0737 - accuracy: 0.9888 - val_loss: 0.1723 - val_accuracy: 0.9435\n",
      "Epoch 88/100\n",
      "5468/5468 [==============================] - 1s 175us/sample - loss: 0.0733 - accuracy: 0.9887 - val_loss: 0.1654 - val_accuracy: 0.9375\n",
      "Epoch 89/100\n",
      "5468/5468 [==============================] - 1s 162us/sample - loss: 0.0712 - accuracy: 0.9894 - val_loss: 0.1636 - val_accuracy: 0.9395\n",
      "Epoch 90/100\n",
      "5468/5468 [==============================] - 1s 164us/sample - loss: 0.0696 - accuracy: 0.9899 - val_loss: 0.1706 - val_accuracy: 0.9395\n",
      "Epoch 91/100\n",
      "5468/5468 [==============================] - 1s 162us/sample - loss: 0.0680 - accuracy: 0.9905 - val_loss: 0.1651 - val_accuracy: 0.9395\n",
      "Epoch 92/100\n",
      "5468/5468 [==============================] - 1s 161us/sample - loss: 0.0653 - accuracy: 0.9916 - val_loss: 0.1620 - val_accuracy: 0.9456\n",
      "Epoch 93/100\n",
      "5468/5468 [==============================] - 1s 161us/sample - loss: 0.0631 - accuracy: 0.9918 - val_loss: 0.1670 - val_accuracy: 0.9395\n",
      "Epoch 94/100\n",
      "5468/5468 [==============================] - 1s 161us/sample - loss: 0.0634 - accuracy: 0.9914 - val_loss: 0.1737 - val_accuracy: 0.9335\n",
      "Epoch 95/100\n",
      "5468/5468 [==============================] - 1s 160us/sample - loss: 0.0613 - accuracy: 0.9914 - val_loss: 0.1751 - val_accuracy: 0.9415\n",
      "Epoch 96/100\n",
      "5468/5468 [==============================] - 1s 162us/sample - loss: 0.0597 - accuracy: 0.9918 - val_loss: 0.1729 - val_accuracy: 0.9274\n",
      "Epoch 97/100\n",
      "5468/5468 [==============================] - 1s 159us/sample - loss: 0.0582 - accuracy: 0.9932 - val_loss: 0.1740 - val_accuracy: 0.9315\n",
      "Epoch 98/100\n",
      "5468/5468 [==============================] - 1s 172us/sample - loss: 0.0562 - accuracy: 0.9932 - val_loss: 0.1616 - val_accuracy: 0.9355\n",
      "Epoch 99/100\n",
      "5468/5468 [==============================] - 1s 173us/sample - loss: 0.0565 - accuracy: 0.9923 - val_loss: 0.1575 - val_accuracy: 0.9395\n",
      "Epoch 100/100\n",
      "5468/5468 [==============================] - 1s 159us/sample - loss: 0.0566 - accuracy: 0.9923 - val_loss: 0.1670 - val_accuracy: 0.9415\n"
     ]
    }
   ],
   "source": [
    "opt = tf.keras.optimizers.Adam(learning_rate=0.001)\n",
    "# opt = tf.keras.optimizers.SGD(learning_rate=0.001)\n",
    "model.compile(optimizer=opt, loss='sparse_categorical_crossentropy', metrics=['accuracy'])\n",
    "history = model.fit(X, y, validation_data=(X_val, y_val), epochs=100, batch_size = 50)"
   ]
  },
  {
   "cell_type": "markdown",
   "metadata": {},
   "source": [
    "### Save Model"
   ]
  },
  {
   "cell_type": "code",
   "execution_count": 119,
   "metadata": {},
   "outputs": [
    {
     "data": {
      "image/png": "[encoded data removed]",
      "text/plain": [
       "<Figure size 432x288 with 1 Axes>"
      ]
     },
     "metadata": {
      "needs_background": "light"
     },
     "output_type": "display_data"
    },
    {
     "data": {
      "image/png": "[encoded data removed]",
      "text/plain": [
       "<Figure size 432x288 with 1 Axes>"
      ]
     },
     "metadata": {
      "needs_background": "light"
     },
     "output_type": "display_data"
    },
    {
     "data": {
      "text/plain": [
       "<Figure size 432x288 with 0 Axes>"
      ]
     },
     "metadata": {},
     "output_type": "display_data"
    }
   ],
   "source": [
    "# save trained model\n",
    "final_test_acc = history.history['val_accuracy'][-1]\n",
    "models_folder = 'models/v3/'\n",
    "model_configuration = f'{final_test_acc:.2f}acc_{n_frames}f_{rnn_units}hs_bi_{target_fps}fps'\n",
    "model_path = models_folder + model_configuration + '/'\n",
    "os.makedirs(model_path)\n",
    "model.save(model_path + model_configuration + '.h5')\n",
    "with open(model_path + 'description.txt', 'w') as f:\n",
    "    f.write(f'example length: {n_frames}\\n')\n",
    "    f.write(f'fps: {target_fps}\\n')\n",
    "    f.write(f'hidden_state: {rnn_units}\\n')\n",
    "    f.write(f'recurrent_dropout: {recurrent_dropout}\\n')\n",
    "    f.write(f'inputs: {X.shape[-1]}\\n')\n",
    "    f.write(f'outputs: {len(g2idx)}\\n')\n",
    "\n",
    "plt_metric(history, 'accuracy')\n",
    "plt.savefig(model_path + 'accuracy')\n",
    "plt.clf()\n",
    "plt_metric(history, 'loss')\n",
    "plt.savefig(model_path + 'loss')\n",
    "plt.clf()"
   ]
  },
  {
   "cell_type": "markdown",
   "metadata": {},
   "source": [
    "### Evaluate model training progress and accuracy"
   ]
  },
  {
   "cell_type": "code",
   "execution_count": 24,
   "metadata": {},
   "outputs": [
    {
     "name": "stdout",
     "output_type": "stream",
     "text": [
      "mean fps: 20.82\n",
      "target fps: 25\n",
      "taking every 1 frames\n",
      "100.00% of rows contain valid LH data\n",
      "100.00% of rows contain valid RH data\n",
      "Found left hand data:  True\n",
      "Found right hand data:  True\n",
      "dealt with 0 of 1600 rows with nans\n",
      "dealt with 0 of 1600 rows with nans\n",
      "Data successfully mirrored\n"
     ]
    }
   ],
   "source": [
    "# If required, load a specific CSV of test data\n",
    "X_test, y_test = CSV2examples('recordings/cputest-maxed.csv', g2idx=g2idx, n_frames=40)"
   ]
  },
  {
   "cell_type": "code",
   "execution_count": 20,
   "metadata": {},
   "outputs": [
    {
     "name": "stdout",
     "output_type": "stream",
     "text": [
      "76\n",
      "[[5.1329839e-03 1.2742927e-04 1.3233292e-03 8.1423987e-03 3.8563199e-02\n",
      "  1.0936646e-02 7.2512496e-01 2.1064912e-01]]\n",
      "Predicted:  shuffle_over\n",
      "Truth:  shuffle_over\n"
     ]
    }
   ],
   "source": [
    "# predict on a random test case\n",
    "i = np.random.randint(0, len(X_test))\n",
    "print('Example number ',i)\n",
    "pred = model.predict(np.expand_dims(np.array(X_test[i]), axis=0))\n",
    "print('Probability: ', np.max(pred))\n",
    "print('Predicted: ', idx2g[np.argmax(pred)])\n",
    "print('Truth: ', idx2g[y_test[i]])"
   ]
  },
  {
   "cell_type": "code",
   "execution_count": 117,
   "metadata": {},
   "outputs": [
    {
     "data": {
      "image/png": "[encoded data removed]",
      "text/plain": [
       "<Figure size 432x288 with 1 Axes>"
      ]
     },
     "metadata": {
      "needs_background": "light"
     },
     "output_type": "display_data"
    },
    {
     "data": {
      "image/png": "[encoded data removed]",
      "text/plain": [
       "<Figure size 432x288 with 1 Axes>"
      ]
     },
     "metadata": {
      "needs_background": "light"
     },
     "output_type": "display_data"
    }
   ],
   "source": [
    "# plot training history\n",
    "plt_metric(history, 'loss')\n",
    "plt.show()\n",
    "plt_metric(history, 'accuracy')\n",
    "plt.show()"
   ]
  },
  {
   "cell_type": "code",
   "execution_count": 118,
   "metadata": {},
   "outputs": [
    {
     "name": "stdout",
     "output_type": "stream",
     "text": [
      "[('multiple', 0.62), ('thumbs_up', 0.69), ('path', 0.75), ('wave', 0.81), ('open_close', 0.88), ('this_big', 0.88), ('love_heart_set', 0.88), ('smoothing_sand', 0.88), ('stop', 0.94), ('counting_hands_together', 0.94), ('small', 0.94), ('no_gesture', 1.0), ('call_me', 1.0), ('fist', 1.0), ('gun', 1.0), ('maybe', 1.0), ('ok', 1.0), ('peace', 1.0), ('pointing', 1.0), ('shuffle_over', 1.0), ('so_so', 1.0), ('thumbs_down', 1.0), ('typing', 1.0), ('finger_drawing', 1.0), ('triangle_set', 1.0), ('circle_set', 1.0), ('driving', 1.0), ('why', 1.0), ('gather_leaves', 1.0), ('robotic_arm', 1.0), ('cup_hands', 1.0)]\n"
     ]
    }
   ],
   "source": [
    "# get accuracy for each gesture\n",
    "# this acheives this using pd.crosstab, which essentially gets the confusion matrix\n",
    "\n",
    "pred = np.argmax(model.predict(X_val), axis=-1)\n",
    "\n",
    "c_matrix = pd.crosstab(y_val, pred, rownames=['Actual'], colnames=['Predicted'], normalize='index')\n",
    "\n",
    "accuracy = {g: 0 for g in g2idx.keys()}\n",
    "for i in c_matrix.index:\n",
    "    if i not in c_matrix.columns:\n",
    "        pass\n",
    "    else:\n",
    "        accuracy[idx2g[i]] = round(c_matrix.loc[i,i],2)\n",
    "\n",
    "print(sorted(accuracy.items(), key=lambda x: x[1]))"
   ]
  },
  {
   "cell_type": "markdown",
   "metadata": {},
   "source": [
    "('middle_finger', 0.04), ('wave', 0.46), ('multiple', 0.75), ('thumbs_up', 0.83), ('small', 0.83), ('smoothing_sand', 0.83), ('counting_hands_together', 0.88), ('finger_drawing', 0.88), ('fist', 0.92), ('gun', 0.92), ('this_big', 0.92), ('driving', 0.92), ('drawing', 0.92), ('peace', 0.96)"
   ]
  },
  {
   "cell_type": "markdown",
   "metadata": {},
   "source": [
    "Wave and middle finger most urgent, not being recognized at all.\n",
    "stop and peace, redo. "
   ]
  },
  {
   "cell_type": "code",
   "execution_count": 69,
   "metadata": {},
   "outputs": [
    {
     "name": "stdout",
     "output_type": "stream",
     "text": [
      "[('multiple', 0.85), ('this_big', 0.88), ('path', 0.88), ('gather_leaves', 0.92), ('wave', 0.93), ('shuffle_over', 0.94), ('smoothing_sand', 0.94), ('pointing', 0.95), ('so_so', 0.95), ('finger_drawing', 0.95), ('peace', 0.97), ('stop', 0.97), ('thumbs_up', 0.97), ('small', 0.97), ('why', 0.97), ('cup_hands', 0.97), ('call_me', 0.98), ('maybe', 0.98), ('robotic_arm', 0.98), ('no_gesture', 0.99), ('fist', 0.99), ('open_close', 0.99), ('thumbs_down', 0.99), ('gun', 1.0), ('ok', 1.0), ('typing', 1.0), ('counting_hands_together', 1.0), ('triangle_set', 1.0), ('circle_set', 1.0), ('love_heart_set', 1.0), ('driving', 1.0)]\n"
     ]
    }
   ],
   "source": [
    "# get confusion matrix\n",
    "pred = np.argmax(model.predict(X), axis=-1)\n",
    "\n",
    "c_matrix = pd.crosstab(y, pred, rownames=['Actual'], colnames=['Predicted'], normalize='index')\n",
    "\n",
    "accuracy = {g: 0 for g in g2idx.keys()}\n",
    "for i in c_matrix.index:\n",
    "    if i not in c_matrix.columns:\n",
    "        pass\n",
    "    else:\n",
    "        accuracy[idx2g[i]] = round(c_matrix.loc[i,i],2)\n",
    "\n",
    "print(sorted(accuracy.items(), key=lambda x: x[1]))"
   ]
  }
 ],
 "metadata": {
  "kernelspec": {
   "display_name": "Python 3",
   "language": "python",
   "name": "python3"
  },
  "language_info": {
   "codemirror_mode": {
    "name": "ipython",
    "version": 3
   },
   "file_extension": ".py",
   "mimetype": "text/x-python",
   "name": "python",
   "nbconvert_exporter": "python",
   "pygments_lexer": "ipython3",
   "version": "3.7.1"
  }
 },
 "nbformat": 4,
 "nbformat_minor": 2
}
