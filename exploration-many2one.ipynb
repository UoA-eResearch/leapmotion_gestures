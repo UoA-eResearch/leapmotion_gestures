{
 "cells": [
  {
   "cell_type": "code",
   "execution_count": 193,
   "metadata": {},
   "outputs": [],
   "source": [
    "from importlib import reload\n",
    "import numpy as np\n",
    "import json\n",
    "import matplotlib.pyplot as plt\n",
    "import pandas as pd\n",
    "import os\n",
    "import tensorflow as tf\n",
    "from tensorflow.keras import layers"
   ]
  },
  {
   "cell_type": "code",
   "execution_count": 205,
   "metadata": {},
   "outputs": [],
   "source": [
    "# import modules\n",
    "import src.models\n",
    "reload(src.models)\n",
    "from src.models import *\n",
    "\n",
    "import src.dataMethods\n",
    "reload(src.dataMethods)\n",
    "from src.dataMethods import *"
   ]
  },
  {
   "cell_type": "code",
   "execution_count": 136,
   "metadata": {},
   "outputs": [],
   "source": [
    "with open('stds_dict.json', 'w') as f:\n",
    "    json.dump(stds, f)"
   ]
  },
  {
   "cell_type": "code",
   "execution_count": 139,
   "metadata": {},
   "outputs": [
    {
     "name": "stdout",
     "output_type": "stream",
     "text": [
      "-20.80355745187809\n"
     ]
    }
   ],
   "source": [
    "with open('params/means_dict.json', 'r') as f:\n",
    "    means = json.load(f)\n",
    "print(means[''])"
   ]
  },
  {
   "cell_type": "code",
   "execution_count": 153,
   "metadata": {},
   "outputs": [
    {
     "name": "stdout",
     "output_type": "stream",
     "text": [
      "{'no_gesture': 0, 'fist': 1, 'gun': 2, 'hitchhiking': 3, 'open_close': 4, 'pointing': 5, 'shuffle_over': 6, 'so_so': 7}\n"
     ]
    }
   ],
   "source": [
    "# open up the gestures text file, which contains a list of possible gestures\n",
    "with open('params/gestures.txt') as f:\n",
    "    gestures = f.read()\n",
    "    gestures = gestures.split()\n",
    "\n",
    "g2idx = {g: i for i, g in enumerate(gestures)}\n",
    "idx2g = {i: g for i, g in enumerate(gestures)}\n",
    "print(g2idx)"
   ]
  },
  {
   "cell_type": "code",
   "execution_count": 206,
   "metadata": {},
   "outputs": [
    {
     "name": "stdout",
     "output_type": "stream",
     "text": [
      "mean fps: 115.19\n",
      "target fps: 25\n",
      "skipping every 5 frames\n",
      "Found left hand data:  True\n",
      "Found right hand data:  True\n",
      "mean fps: 115.21\n",
      "target fps: 25\n",
      "skipping every 5 frames\n",
      "Found left hand data:  True\n",
      "Found right hand data:  True\n"
     ]
    }
   ],
   "source": [
    "# get data frame with the variables of interest\n",
    "# create empty data frame\n",
    "df = pd.DataFrame()\n",
    "# read in all training data from loops directory\n",
    "for file in os.scandir('data/loops/'):\n",
    "    df2 = CSV2VoI(file)\n",
    "    df = pd.concat([df, df2], ignore_index=True)"
   ]
  },
  {
   "cell_type": "code",
   "execution_count": 207,
   "metadata": {},
   "outputs": [
    {
     "name": "stdout",
     "output_type": "stream",
     "text": [
      "dropped 0 of 11554 rows with nans\n",
      "Index(['right_direction_0', 'right_grabAngle', 'right_index_tipPosition_0',\n",
      "       'right_index_tipPosition_1', 'right_index_tipPosition_2',\n",
      "       'right_middle_tipPosition_0', 'right_middle_tipPosition_1',\n",
      "       'right_middle_tipPosition_2', 'right_palmVelocity_0',\n",
      "       'right_palmVelocity_1', 'right_palmVelocity_2', 'right_pinchDistance',\n",
      "       'right_pinky_tipPosition_0', 'right_pinky_tipPosition_1',\n",
      "       'right_pinky_tipPosition_2', 'right_ring_tipPosition_0',\n",
      "       'right_ring_tipPosition_1', 'right_ring_tipPosition_2',\n",
      "       'right_thumb_tipPosition_0', 'right_thumb_tipPosition_1',\n",
      "       'right_thumb_tipPosition_2'],\n",
      "      dtype='object')\n"
     ]
    }
   ],
   "source": [
    "# extract X and y\n",
    "X_contiguous, y_contiguous = df2X_y(df, g2idx)\n",
    "X, y = X_y2examples(X_contiguous, y=y_contiguous, n_frames=25)\n",
    "synced_shuffle(X, y)"
   ]
  },
  {
   "cell_type": "code",
   "execution_count": 208,
   "metadata": {},
   "outputs": [
    {
     "name": "stdout",
     "output_type": "stream",
     "text": [
      "Model: \"many2one\"\n",
      "_________________________________________________________________\n",
      "Layer (type)                 Output Shape              Param #   \n",
      "=================================================================\n",
      "input_2 (InputLayer)         [(None, 25, 21)]          0         \n",
      "_________________________________________________________________\n",
      "lstm_1 (LSTM)                (None, 32)                6912      \n",
      "_________________________________________________________________\n",
      "dense_1 (Dense)              (None, 8)                 264       \n",
      "=================================================================\n",
      "Total params: 7,176\n",
      "Trainable params: 7,176\n",
      "Non-trainable params: 0\n",
      "_________________________________________________________________\n"
     ]
    }
   ],
   "source": [
    "model = many2one_model(n_features = X.shape[-1], n_frames=X.shape[1], n_gestures=len(g2idx), rnn_units=32)"
   ]
  },
  {
   "cell_type": "code",
   "execution_count": 209,
   "metadata": {},
   "outputs": [
    {
     "name": "stdout",
     "output_type": "stream",
     "text": [
      "Train on 390 samples, validate on 44 samples\n",
      "Epoch 1/20\n",
      "390/390 [==============================] - 3s 7ms/sample - loss: 1.8562 - accuracy: 0.3795 - val_loss: 1.7519 - val_accuracy: 0.4545\n",
      "Epoch 2/20\n",
      "390/390 [==============================] - 0s 517us/sample - loss: 1.6420 - accuracy: 0.6051 - val_loss: 1.5738 - val_accuracy: 0.5682\n",
      "Epoch 3/20\n",
      "390/390 [==============================] - 0s 401us/sample - loss: 1.4514 - accuracy: 0.7026 - val_loss: 1.4001 - val_accuracy: 0.6136\n",
      "Epoch 4/20\n",
      "390/390 [==============================] - 0s 442us/sample - loss: 1.2739 - accuracy: 0.7359 - val_loss: 1.2302 - val_accuracy: 0.6364\n",
      "Epoch 5/20\n",
      "390/390 [==============================] - 0s 401us/sample - loss: 1.1092 - accuracy: 0.7615 - val_loss: 1.0808 - val_accuracy: 0.7045\n",
      "Epoch 6/20\n",
      "390/390 [==============================] - 0s 465us/sample - loss: 0.9637 - accuracy: 0.8000 - val_loss: 0.9489 - val_accuracy: 0.7727\n",
      "Epoch 7/20\n",
      "390/390 [==============================] - 0s 606us/sample - loss: 0.8364 - accuracy: 0.8231 - val_loss: 0.8238 - val_accuracy: 0.7955\n",
      "Epoch 8/20\n",
      "390/390 [==============================] - 0s 578us/sample - loss: 0.7225 - accuracy: 0.8564 - val_loss: 0.7057 - val_accuracy: 0.8409\n",
      "Epoch 9/20\n",
      "390/390 [==============================] - 0s 586us/sample - loss: 0.6246 - accuracy: 0.8692 - val_loss: 0.6099 - val_accuracy: 0.9091\n",
      "Epoch 10/20\n",
      "390/390 [==============================] - 0s 565us/sample - loss: 0.5398 - accuracy: 0.8949 - val_loss: 0.5186 - val_accuracy: 0.9318\n",
      "Epoch 11/20\n",
      "390/390 [==============================] - 0s 504us/sample - loss: 0.4621 - accuracy: 0.9103 - val_loss: 0.4370 - val_accuracy: 0.9545\n",
      "Epoch 12/20\n",
      "390/390 [==============================] - 0s 440us/sample - loss: 0.3948 - accuracy: 0.9333 - val_loss: 0.3715 - val_accuracy: 0.9773\n",
      "Epoch 13/20\n",
      "390/390 [==============================] - 0s 435us/sample - loss: 0.3337 - accuracy: 0.9564 - val_loss: 0.3226 - val_accuracy: 0.9773\n",
      "Epoch 14/20\n",
      "390/390 [==============================] - 0s 468us/sample - loss: 0.2851 - accuracy: 0.9718 - val_loss: 0.2844 - val_accuracy: 0.9773\n",
      "Epoch 15/20\n",
      "390/390 [==============================] - 0s 386us/sample - loss: 0.2501 - accuracy: 0.9692 - val_loss: 0.2550 - val_accuracy: 0.9773\n",
      "Epoch 16/20\n",
      "390/390 [==============================] - 0s 422us/sample - loss: 0.2203 - accuracy: 0.9769 - val_loss: 0.2313 - val_accuracy: 0.9773\n",
      "Epoch 17/20\n",
      "390/390 [==============================] - 0s 401us/sample - loss: 0.1988 - accuracy: 0.9795 - val_loss: 0.2123 - val_accuracy: 0.9773\n",
      "Epoch 18/20\n",
      "390/390 [==============================] - 0s 478us/sample - loss: 0.1741 - accuracy: 0.9846 - val_loss: 0.1929 - val_accuracy: 0.9773\n",
      "Epoch 19/20\n",
      "390/390 [==============================] - 0s 414us/sample - loss: 0.1622 - accuracy: 0.9795 - val_loss: 0.1758 - val_accuracy: 0.9773\n",
      "Epoch 20/20\n",
      "390/390 [==============================] - 0s 414us/sample - loss: 0.1801 - accuracy: 0.9615 - val_loss: 0.2112 - val_accuracy: 0.9545\n"
     ]
    }
   ],
   "source": [
    "opt = tf.keras.optimizers.Adam()\n",
    "model.compile(optimizer=opt, loss='sparse_categorical_crossentropy', metrics=['accuracy'])\n",
    "history = model.fit(X, y, epochs=20, batch_size = 32, validation_split=0.1)"
   ]
  },
  {
   "cell_type": "code",
   "execution_count": 210,
   "metadata": {},
   "outputs": [],
   "source": [
    "model.save('models/32HS8C.h5')"
   ]
  },
  {
   "cell_type": "code",
   "execution_count": 211,
   "metadata": {},
   "outputs": [
    {
     "name": "stdout",
     "output_type": "stream",
     "text": [
      "mean fps: 115.20\n",
      "target fps: 25\n",
      "skipping every 5 frames\n",
      "Found left hand data:  True\n",
      "Found right hand data:  True\n",
      "dropped 0 of 194 rows with nans\n",
      "Index(['right_direction_0', 'right_grabAngle', 'right_index_tipPosition_0',\n",
      "       'right_index_tipPosition_1', 'right_index_tipPosition_2',\n",
      "       'right_middle_tipPosition_0', 'right_middle_tipPosition_1',\n",
      "       'right_middle_tipPosition_2', 'right_palmVelocity_0',\n",
      "       'right_palmVelocity_1', 'right_palmVelocity_2', 'right_pinchDistance',\n",
      "       'right_pinky_tipPosition_0', 'right_pinky_tipPosition_1',\n",
      "       'right_pinky_tipPosition_2', 'right_ring_tipPosition_0',\n",
      "       'right_ring_tipPosition_1', 'right_ring_tipPosition_2',\n",
      "       'right_thumb_tipPosition_0', 'right_thumb_tipPosition_1',\n",
      "       'right_thumb_tipPosition_2'],\n",
      "      dtype='object')\n",
      "[[0.00750856 0.86710876 0.04404884 0.03815367 0.01607343 0.00841826\n",
      "  0.01521251 0.00347597]]\n",
      "fist\n"
     ]
    }
   ],
   "source": [
    "X, y = CSV2examples('data/recordings/fist_test.csv', g2idx=g2idx, n_frames=25)\n",
    "pred = model.predict(np.expand_dims(np.array(X[1]), axis=0))\n",
    "print(pred)\n",
    "print(idx2g[np.argmax(pred)])"
   ]
  },
  {
   "cell_type": "code",
   "execution_count": 177,
   "metadata": {},
   "outputs": [
    {
     "name": "stdout",
     "output_type": "stream",
     "text": [
      "fist\n"
     ]
    }
   ],
   "source": [
    "print(idx2g[y[1]])"
   ]
  },
  {
   "cell_type": "code",
   "execution_count": 129,
   "metadata": {},
   "outputs": [
    {
     "data": {
      "image/png": "[encoded data removed]",
      "text/plain": [
       "<Figure size 432x288 with 1 Axes>"
      ]
     },
     "metadata": {
      "needs_background": "light"
     },
     "output_type": "display_data"
    },
    {
     "data": {
      "image/png": "[encoded data removed]",
      "text/plain": [
       "<Figure size 432x288 with 1 Axes>"
      ]
     },
     "metadata": {
      "needs_background": "light"
     },
     "output_type": "display_data"
    }
   ],
   "source": [
    "# plot history:\n",
    "plt_metric(history, 'loss')\n",
    "plt_metric(history, 'accuracy')"
   ]
  },
  {
   "cell_type": "code",
   "execution_count": 204,
   "metadata": {},
   "outputs": [
    {
     "data": {
      "text/plain": [
       "Index(['gesture', 'left_index_tipPosition_0', 'left_index_tipPosition_1',\n",
       "       'left_index_tipPosition_2', 'left_middle_tipPosition_0',\n",
       "       'left_middle_tipPosition_1', 'left_middle_tipPosition_2',\n",
       "       'left_ring_tipPosition_0', 'left_ring_tipPosition_1',\n",
       "       'left_ring_tipPosition_2', 'left_pinky_tipPosition_0',\n",
       "       'left_pinky_tipPosition_1', 'left_pinky_tipPosition_2',\n",
       "       'left_thumb_tipPosition_0', 'left_thumb_tipPosition_1',\n",
       "       'left_thumb_tipPosition_2', 'left_palmVelocity_0',\n",
       "       'left_palmVelocity_1', 'left_palmVelocity_2', 'left_pinchDistance',\n",
       "       'left_grabAngle', 'left_direction_0', 'right_index_tipPosition_0',\n",
       "       'right_index_tipPosition_1', 'right_index_tipPosition_2',\n",
       "       'right_middle_tipPosition_0', 'right_middle_tipPosition_1',\n",
       "       'right_middle_tipPosition_2', 'right_ring_tipPosition_0',\n",
       "       'right_ring_tipPosition_1', 'right_ring_tipPosition_2',\n",
       "       'right_pinky_tipPosition_0', 'right_pinky_tipPosition_1',\n",
       "       'right_pinky_tipPosition_2', 'right_thumb_tipPosition_0',\n",
       "       'right_thumb_tipPosition_1', 'right_thumb_tipPosition_2',\n",
       "       'right_palmVelocity_0', 'right_palmVelocity_1', 'right_palmVelocity_2',\n",
       "       'right_pinchDistance', 'right_grabAngle', 'right_direction_0',\n",
       "       'left_active', 'right_active'],\n",
       "      dtype='object')"
      ]
     },
     "execution_count": 204,
     "metadata": {},
     "output_type": "execute_result"
    }
   ],
   "source": [
    "df.columns\n",
    "df2 = df.reindex(sorted(df.columns), axis=1)\n",
    "df.columns"
   ]
  }
 ],
 "metadata": {
  "kernelspec": {
   "display_name": "Python 3",
   "language": "python",
   "name": "python3"
  },
  "language_info": {
   "codemirror_mode": {
    "name": "ipython",
    "version": 3
   },
   "file_extension": ".py",
   "mimetype": "text/x-python",
   "name": "python",
   "nbconvert_exporter": "python",
   "pygments_lexer": "ipython3",
   "version": "3.7.1"
  }
 },
 "nbformat": 4,
 "nbformat_minor": 2
}
