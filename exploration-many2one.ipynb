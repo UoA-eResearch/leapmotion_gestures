{
 "cells": [
  {
   "cell_type": "code",
   "execution_count": 1,
   "metadata": {},
   "outputs": [],
   "source": [
    "from importlib import reload\n",
    "import numpy as np\n",
    "import json\n",
    "import matplotlib.pyplot as plt\n",
    "import pandas as pd\n",
    "import os\n",
    "import tensorflow as tf\n",
    "from tensorflow.keras import layers"
   ]
  },
  {
   "cell_type": "code",
   "execution_count": 2,
   "metadata": {},
   "outputs": [],
   "source": [
    "# import modules\n",
    "import src.models\n",
    "reload(src.models)\n",
    "from src.models import *\n",
    "\n",
    "import src.dataMethods\n",
    "reload(src.dataMethods)\n",
    "from src.dataMethods import *"
   ]
  },
  {
   "cell_type": "code",
   "execution_count": 8,
   "metadata": {},
   "outputs": [
    {
     "name": "stdout",
     "output_type": "stream",
     "text": [
      "{'no_gesture': 0, 'fist': 1, 'gun': 2, 'hitchhiking': 3, 'open_close': 4, 'pointing': 5, 'shuffle_over': 6, 'so_so': 7}\n",
      "{0: 'no_gesture', 1: 'fist', 2: 'gun', 3: 'hitchhiking', 4: 'open_close', 5: 'pointing', 6: 'shuffle_over', 7: 'so_so'}\n"
     ]
    }
   ],
   "source": [
    "# open up the gestures text file, which contains a list of possible gestures\n",
    "with open('params/gesturesV1.txt') as f:\n",
    "    gestures = f.read()\n",
    "    gestures = gestures.split()\n",
    "# get dictionaries for those gestures\n",
    "g2idx = {g: i for i, g in enumerate(gestures)}\n",
    "idx2g = {i: g for i, g in enumerate(gestures)}\n",
    "print(g2idx)\n",
    "print(idx2g)"
   ]
  },
  {
   "cell_type": "code",
   "execution_count": 94,
   "metadata": {},
   "outputs": [
    {
     "name": "stdout",
     "output_type": "stream",
     "text": [
      "mean fps: 115.19\n",
      "target fps: 25\n",
      "skipping every 5 frames\n",
      "Found left hand data:  True\n",
      "Found right hand data:  True\n",
      "mean fps: 115.23\n",
      "target fps: 25\n",
      "skipping every 5 frames\n",
      "Found left hand data:  True\n",
      "Found right hand data:  True\n",
      "mean fps: 115.21\n",
      "target fps: 25\n",
      "skipping every 5 frames\n",
      "Found left hand data:  True\n",
      "Found right hand data:  True\n"
     ]
    }
   ],
   "source": [
    "# get data frame with the variables of interest\n",
    "# create empty data frame\n",
    "df = pd.DataFrame()\n",
    "# read in all training data from loops directory\n",
    "for file in os.scandir('data/loops/'):\n",
    "    df2 = CSV2VoI(file)\n",
    "    df = pd.concat([df, df2], ignore_index=True)"
   ]
  },
  {
   "cell_type": "code",
   "execution_count": 154,
   "metadata": {},
   "outputs": [
    {
     "name": "stdout",
     "output_type": "stream",
     "text": [
      "dropped 660 of 14419 rows with nans\n"
     ]
    }
   ],
   "source": [
    "# extract X and y\n",
    "X_contiguous, y_contiguous = df2X_y(df, g2idx)\n",
    "X, y = X_y2examples(X_contiguous, y=y_contiguous, n_frames=25)\n",
    "synced_shuffle(X, y)"
   ]
  },
  {
   "cell_type": "code",
   "execution_count": 157,
   "metadata": {},
   "outputs": [
    {
     "name": "stdout",
     "output_type": "stream",
     "text": [
      "Model: \"many2one\"\n",
      "_________________________________________________________________\n",
      "Layer (type)                 Output Shape              Param #   \n",
      "=================================================================\n",
      "input_30 (InputLayer)        [(None, 25, 21)]          0         \n",
      "_________________________________________________________________\n",
      "lstm_29 (LSTM)               (None, 32)                6912      \n",
      "_________________________________________________________________\n",
      "dense_29 (Dense)             (None, 8)                 264       \n",
      "=================================================================\n",
      "Total params: 7,176\n",
      "Trainable params: 7,176\n",
      "Non-trainable params: 0\n",
      "_________________________________________________________________\n"
     ]
    }
   ],
   "source": [
    "model = many2one_model(n_features = X.shape[-1], n_frames=X.shape[1], n_gestures=len(g2idx), rnn_units=32, bidirectional = False)"
   ]
  },
  {
   "cell_type": "code",
   "execution_count": 158,
   "metadata": {},
   "outputs": [
    {
     "name": "stdout",
     "output_type": "stream",
     "text": [
      "Train on 454 samples, validate on 63 samples\n",
      "Epoch 1/30\n",
      "454/454 [==============================] - 3s 6ms/sample - loss: 2.0403 - accuracy: 0.1784 - val_loss: 1.9065 - val_accuracy: 0.3810\n",
      "Epoch 2/30\n",
      "454/454 [==============================] - 0s 446us/sample - loss: 1.8150 - accuracy: 0.3678 - val_loss: 1.7134 - val_accuracy: 0.5714\n",
      "Epoch 3/30\n",
      "454/454 [==============================] - 0s 424us/sample - loss: 1.6277 - accuracy: 0.5286 - val_loss: 1.5423 - val_accuracy: 0.6667\n",
      "Epoch 4/30\n",
      "454/454 [==============================] - 0s 404us/sample - loss: 1.4521 - accuracy: 0.6366 - val_loss: 1.3743 - val_accuracy: 0.7460\n",
      "Epoch 5/30\n",
      "454/454 [==============================] - 0s 402us/sample - loss: 1.2825 - accuracy: 0.6718 - val_loss: 1.1950 - val_accuracy: 0.7619\n",
      "Epoch 6/30\n",
      "454/454 [==============================] - 0s 403us/sample - loss: 1.1220 - accuracy: 0.7159 - val_loss: 1.0346 - val_accuracy: 0.7778\n",
      "Epoch 7/30\n",
      "454/454 [==============================] - 0s 388us/sample - loss: 0.9783 - accuracy: 0.7379 - val_loss: 0.8966 - val_accuracy: 0.8095\n",
      "Epoch 8/30\n",
      "454/454 [==============================] - 0s 384us/sample - loss: 0.8545 - accuracy: 0.7687 - val_loss: 0.7714 - val_accuracy: 0.8254\n",
      "Epoch 9/30\n",
      "454/454 [==============================] - 0s 395us/sample - loss: 0.7384 - accuracy: 0.8304 - val_loss: 0.6598 - val_accuracy: 0.8571\n",
      "Epoch 10/30\n",
      "454/454 [==============================] - 0s 389us/sample - loss: 0.6405 - accuracy: 0.8590 - val_loss: 0.5719 - val_accuracy: 0.8889\n",
      "Epoch 11/30\n",
      "454/454 [==============================] - 0s 455us/sample - loss: 0.5516 - accuracy: 0.8811 - val_loss: 0.4921 - val_accuracy: 0.9048\n",
      "Epoch 12/30\n",
      "454/454 [==============================] - 0s 545us/sample - loss: 0.4791 - accuracy: 0.9009 - val_loss: 0.4258 - val_accuracy: 0.9206\n",
      "Epoch 13/30\n",
      "454/454 [==============================] - 0s 547us/sample - loss: 0.4159 - accuracy: 0.9229 - val_loss: 0.3756 - val_accuracy: 0.9206\n",
      "Epoch 14/30\n",
      "454/454 [==============================] - 0s 510us/sample - loss: 0.3594 - accuracy: 0.9273 - val_loss: 0.3424 - val_accuracy: 0.9524\n",
      "Epoch 15/30\n",
      "454/454 [==============================] - 0s 468us/sample - loss: 0.3207 - accuracy: 0.9273 - val_loss: 0.3103 - val_accuracy: 0.9683\n",
      "Epoch 16/30\n",
      "454/454 [==============================] - 0s 422us/sample - loss: 0.2798 - accuracy: 0.9515 - val_loss: 0.2926 - val_accuracy: 0.9365\n",
      "Epoch 17/30\n",
      "454/454 [==============================] - 0s 453us/sample - loss: 0.2456 - accuracy: 0.9537 - val_loss: 0.2823 - val_accuracy: 0.9524\n",
      "Epoch 18/30\n",
      "454/454 [==============================] - 0s 387us/sample - loss: 0.2270 - accuracy: 0.9604 - val_loss: 0.3129 - val_accuracy: 0.9365\n",
      "Epoch 19/30\n",
      "454/454 [==============================] - 0s 411us/sample - loss: 0.2047 - accuracy: 0.9648 - val_loss: 0.2604 - val_accuracy: 0.9524\n",
      "Epoch 20/30\n",
      "454/454 [==============================] - 0s 400us/sample - loss: 0.1893 - accuracy: 0.9648 - val_loss: 0.2278 - val_accuracy: 0.9524\n",
      "Epoch 21/30\n",
      "454/454 [==============================] - 0s 393us/sample - loss: 0.1698 - accuracy: 0.9692 - val_loss: 0.2506 - val_accuracy: 0.9524\n",
      "Epoch 22/30\n",
      "454/454 [==============================] - 0s 409us/sample - loss: 0.1671 - accuracy: 0.9604 - val_loss: 0.2440 - val_accuracy: 0.9365\n",
      "Epoch 23/30\n",
      "454/454 [==============================] - 0s 384us/sample - loss: 0.1458 - accuracy: 0.9780 - val_loss: 0.2113 - val_accuracy: 0.9524\n",
      "Epoch 24/30\n",
      "454/454 [==============================] - 0s 391us/sample - loss: 0.1329 - accuracy: 0.9780 - val_loss: 0.2021 - val_accuracy: 0.9683\n",
      "Epoch 25/30\n",
      "454/454 [==============================] - 0s 387us/sample - loss: 0.1231 - accuracy: 0.9824 - val_loss: 0.2062 - val_accuracy: 0.9683\n",
      "Epoch 26/30\n",
      "454/454 [==============================] - 0s 431us/sample - loss: 0.1315 - accuracy: 0.9714 - val_loss: 0.2677 - val_accuracy: 0.9365\n",
      "Epoch 27/30\n",
      "454/454 [==============================] - 0s 384us/sample - loss: 0.1266 - accuracy: 0.9736 - val_loss: 0.2334 - val_accuracy: 0.9365\n",
      "Epoch 28/30\n",
      "454/454 [==============================] - 0s 565us/sample - loss: 0.1099 - accuracy: 0.9780 - val_loss: 0.1709 - val_accuracy: 0.9524\n",
      "Epoch 29/30\n",
      "454/454 [==============================] - 0s 551us/sample - loss: 0.1053 - accuracy: 0.9802 - val_loss: 0.1597 - val_accuracy: 0.9524\n",
      "Epoch 30/30\n",
      "454/454 [==============================] - 0s 481us/sample - loss: 0.0929 - accuracy: 0.9868 - val_loss: 0.1549 - val_accuracy: 0.9524\n"
     ]
    }
   ],
   "source": [
    "opt = tf.keras.optimizers.Adam()\n",
    "model.compile(optimizer=opt, loss='sparse_categorical_crossentropy', metrics=['accuracy'])\n",
    "history = model.fit(X, y, epochs=30, batch_size = 32, validation_split=0.12)"
   ]
  },
  {
   "cell_type": "code",
   "execution_count": 159,
   "metadata": {},
   "outputs": [],
   "source": [
    "model.save('models/20HS8C25F.h5')"
   ]
  },
  {
   "cell_type": "code",
   "execution_count": 15,
   "metadata": {},
   "outputs": [],
   "source": [
    "model = tf.keras.models.load_model('models/20HS8C.h5')"
   ]
  },
  {
   "cell_type": "code",
   "execution_count": 17,
   "metadata": {},
   "outputs": [
    {
     "name": "stdout",
     "output_type": "stream",
     "text": [
      "mean fps: 115.19\n",
      "target fps: 25\n",
      "skipping every 5 frames\n",
      "Found left hand data:  False\n",
      "Found right hand data:  True\n",
      "dropped 0 of 2777 rows with nans\n"
     ]
    }
   ],
   "source": [
    "# load test data\n",
    "X_test, y_test = CSV2examples('data/recordings/test_loop.csv', g2idx=g2idx, n_frames=40)"
   ]
  },
  {
   "cell_type": "code",
   "execution_count": 33,
   "metadata": {},
   "outputs": [
    {
     "name": "stdout",
     "output_type": "stream",
     "text": [
      "61\n",
      "[[0.7459507  0.00782073 0.0061494  0.00837572 0.0217779  0.02478206\n",
      "  0.01277639 0.17236722]]\n",
      "Predicted:  no_gesture\n",
      "Truth:  no_gesture\n"
     ]
    }
   ],
   "source": [
    "# predict on a random test case\n",
    "i = np.random.randint(0, len(X_test))\n",
    "print(i)\n",
    "pred = model.predict(np.expand_dims(np.array(X_test[i]), axis=0))\n",
    "print(pred)\n",
    "print('Predicted: ', idx2g[np.argmax(pred)])\n",
    "print('Truth: ', idx2g[y_test[i]])"
   ]
  },
  {
   "cell_type": "code",
   "execution_count": 54,
   "metadata": {},
   "outputs": [
    {
     "name": "stdout",
     "output_type": "stream",
     "text": [
      "so_so\n"
     ]
    }
   ],
   "source": [
    "print(idx2g[y[1]])"
   ]
  },
  {
   "cell_type": "code",
   "execution_count": 160,
   "metadata": {},
   "outputs": [
    {
     "data": {
      "image/png": "[encoded data removed]",
      "text/plain": [
       "<Figure size 432x288 with 1 Axes>"
      ]
     },
     "metadata": {
      "needs_background": "light"
     },
     "output_type": "display_data"
    },
    {
     "data": {
      "image/png": "[encoded data removed]",
      "text/plain": [
       "<Figure size 432x288 with 1 Axes>"
      ]
     },
     "metadata": {
      "needs_background": "light"
     },
     "output_type": "display_data"
    }
   ],
   "source": [
    "# plot history:\n",
    "plt_metric(history, 'loss')\n",
    "plt_metric(history, 'accuracy')"
   ]
  },
  {
   "cell_type": "code",
   "execution_count": 47,
   "metadata": {},
   "outputs": [
    {
     "data": {
      "text/plain": [
       "Index(['gesture', 'left_index_tipPosition_0', 'left_index_tipPosition_1',\n",
       "       'left_index_tipPosition_2', 'left_middle_tipPosition_0',\n",
       "       'left_middle_tipPosition_1', 'left_middle_tipPosition_2',\n",
       "       'left_ring_tipPosition_0', 'left_ring_tipPosition_1',\n",
       "       'left_ring_tipPosition_2', 'left_pinky_tipPosition_0',\n",
       "       'left_pinky_tipPosition_1', 'left_pinky_tipPosition_2',\n",
       "       'left_thumb_tipPosition_0', 'left_thumb_tipPosition_1',\n",
       "       'left_thumb_tipPosition_2', 'left_palmVelocity_0',\n",
       "       'left_palmVelocity_1', 'left_palmVelocity_2', 'left_pinchDistance',\n",
       "       'left_grabAngle', 'left_direction_0', 'right_index_tipPosition_0',\n",
       "       'right_index_tipPosition_1', 'right_index_tipPosition_2',\n",
       "       'right_middle_tipPosition_0', 'right_middle_tipPosition_1',\n",
       "       'right_middle_tipPosition_2', 'right_ring_tipPosition_0',\n",
       "       'right_ring_tipPosition_1', 'right_ring_tipPosition_2',\n",
       "       'right_pinky_tipPosition_0', 'right_pinky_tipPosition_1',\n",
       "       'right_pinky_tipPosition_2', 'right_thumb_tipPosition_0',\n",
       "       'right_thumb_tipPosition_1', 'right_thumb_tipPosition_2',\n",
       "       'right_palmVelocity_0', 'right_palmVelocity_1', 'right_palmVelocity_2',\n",
       "       'right_pinchDistance', 'right_grabAngle', 'right_direction_0',\n",
       "       'left_active', 'right_active'],\n",
       "      dtype='object')"
      ]
     },
     "execution_count": 47,
     "metadata": {},
     "output_type": "execute_result"
    }
   ],
   "source": [
    "df.columns\n",
    "df2 = df.reindex(sorted(df.columns), axis=1)\n",
    "df.columns"
   ]
  }
 ],
 "metadata": {
  "kernelspec": {
   "display_name": "Python 3",
   "language": "python",
   "name": "python3"
  },
  "language_info": {
   "codemirror_mode": {
    "name": "ipython",
    "version": 3
   },
   "file_extension": ".py",
   "mimetype": "text/x-python",
   "name": "python",
   "nbconvert_exporter": "python",
   "pygments_lexer": "ipython3",
   "version": "3.7.1"
  }
 },
 "nbformat": 4,
 "nbformat_minor": 2
}
