{
 "cells": [
  {
   "cell_type": "code",
   "execution_count": 1,
   "metadata": {},
   "outputs": [],
   "source": [
    "from importlib import reload\n",
    "import numpy as np\n",
    "import json\n",
    "import matplotlib.pyplot as plt\n",
    "import pandas as pd\n",
    "import os\n",
    "import tensorflow as tf\n",
    "from tensorflow.keras import layers"
   ]
  },
  {
   "cell_type": "code",
   "execution_count": 2,
   "metadata": {},
   "outputs": [],
   "source": [
    "# import modules\n",
    "import src.models\n",
    "reload(src.models)\n",
    "from src.models import *\n",
    "\n",
    "import src.dataMethods\n",
    "reload(src.dataMethods)\n",
    "from src.dataMethods import *"
   ]
  },
  {
   "cell_type": "code",
   "execution_count": 3,
   "metadata": {},
   "outputs": [
    {
     "name": "stdout",
     "output_type": "stream",
     "text": [
      "{'no_gesture': 0, 'call_me': 1, 'fist': 2, 'gun': 3, 'maybe': 4, 'ok': 5, 'open_close': 6, 'peace': 7, 'pointing': 8, 'shuffle_over': 9, 'so_so': 10, 'stop': 11, 'thumbs_up': 12, 'thumbs_down': 13, 'wave': 14}\n",
      "{0: 'no_gesture', 1: 'call_me', 2: 'fist', 3: 'gun', 4: 'maybe', 5: 'ok', 6: 'open_close', 7: 'peace', 8: 'pointing', 9: 'shuffle_over', 10: 'so_so', 11: 'stop', 12: 'thumbs_up', 13: 'thumbs_down', 14: 'wave'}\n"
     ]
    }
   ],
   "source": [
    "# open up the gestures text file, which contains a list of possible gestures\n",
    "with open('params/gesturesV2.txt') as f:\n",
    "    gestures = f.read()\n",
    "    gestures = gestures.split()\n",
    "# get dictionaries for those gestures\n",
    "g2idx = {g: i for i, g in enumerate(gestures)}\n",
    "idx2g = {i: g for i, g in enumerate(gestures)}\n",
    "print(g2idx)\n",
    "print(idx2g)"
   ]
  },
  {
   "cell_type": "code",
   "execution_count": 6,
   "metadata": {},
   "outputs": [
    {
     "name": "stdout",
     "output_type": "stream",
     "text": [
      "mean fps: 115.17\n",
      "target fps: 25\n",
      "skipping every 5 frames\n",
      "Found left hand data:  True\n",
      "Found right hand data:  True\n",
      "mean fps: 115.19\n",
      "target fps: 25\n",
      "skipping every 5 frames\n",
      "Found left hand data:  True\n",
      "Found right hand data:  True\n",
      "mean fps: 115.23\n",
      "target fps: 25\n",
      "skipping every 5 frames\n",
      "Found left hand data:  True\n",
      "Found right hand data:  True\n",
      "mean fps: 115.26\n",
      "target fps: 25\n",
      "skipping every 5 frames\n",
      "Found left hand data:  True\n",
      "Found right hand data:  True\n",
      "mean fps: 115.23\n",
      "target fps: 25\n",
      "skipping every 5 frames\n",
      "Found left hand data:  False\n",
      "Found right hand data:  True\n"
     ]
    },
    {
     "name": "stderr",
     "output_type": "stream",
     "text": [
      "C:\\Users\\Andrew\\AppData\\Local\\Continuum\\anaconda3\\lib\\site-packages\\ipykernel_launcher.py:7: FutureWarning: Sorting because non-concatenation axis is not aligned. A future version\n",
      "of pandas will change to not sort by default.\n",
      "\n",
      "To accept the future behavior, pass 'sort=False'.\n",
      "\n",
      "To retain the current behavior and silence the warning, pass 'sort=True'.\n",
      "\n",
      "  import sys\n"
     ]
    },
    {
     "name": "stdout",
     "output_type": "stream",
     "text": [
      "mean fps: 113.75\n",
      "target fps: 25\n",
      "skipping every 5 frames\n",
      "Found left hand data:  True\n",
      "Found right hand data:  True\n",
      "mean fps: 115.21\n",
      "target fps: 25\n",
      "skipping every 5 frames\n",
      "Found left hand data:  True\n",
      "Found right hand data:  True\n",
      "mean fps: 115.20\n",
      "target fps: 25\n",
      "skipping every 5 frames\n",
      "Found left hand data:  True\n",
      "Found right hand data:  True\n",
      "mean fps: 115.12\n",
      "target fps: 25\n",
      "skipping every 5 frames\n",
      "Found left hand data:  True\n",
      "Found right hand data:  True\n",
      "mean fps: 115.24\n",
      "target fps: 25\n",
      "skipping every 5 frames\n",
      "Found left hand data:  True\n",
      "Found right hand data:  True\n",
      "mean fps: 115.23\n",
      "target fps: 25\n",
      "skipping every 5 frames\n",
      "Found left hand data:  False\n",
      "Found right hand data:  True\n",
      "mean fps: 115.19\n",
      "target fps: 25\n",
      "skipping every 5 frames\n",
      "Found left hand data:  True\n",
      "Found right hand data:  True\n",
      "mean fps: 115.23\n",
      "target fps: 25\n",
      "skipping every 5 frames\n",
      "Found left hand data:  True\n",
      "Found right hand data:  True\n",
      "mean fps: 115.22\n",
      "target fps: 25\n",
      "skipping every 5 frames\n",
      "Found left hand data:  False\n",
      "Found right hand data:  True\n",
      "mean fps: 115.24\n",
      "target fps: 25\n",
      "skipping every 5 frames\n",
      "Found left hand data:  False\n",
      "Found right hand data:  True\n"
     ]
    }
   ],
   "source": [
    "# get data frame with the variables of interest\n",
    "# create empty data frame\n",
    "df = pd.DataFrame()\n",
    "# read in all training data from loops directory\n",
    "for file in os.scandir('data/train/'):\n",
    "    df2 = CSV2VoI(file)\n",
    "    df = pd.concat([df, df2], ignore_index=True)"
   ]
  },
  {
   "cell_type": "code",
   "execution_count": 8,
   "metadata": {},
   "outputs": [
    {
     "name": "stdout",
     "output_type": "stream",
     "text": [
      "dropped 1353 of 48383 rows with nans\n"
     ]
    }
   ],
   "source": [
    "# extract X and y\n",
    "X_contiguous, y_contiguous = df2X_y(df, g2idx)\n",
    "X, y = X_y2examples(X_contiguous, y=y_contiguous, n_frames=25)\n",
    "synced_shuffle(X, y)"
   ]
  },
  {
   "cell_type": "code",
   "execution_count": 12,
   "metadata": {},
   "outputs": [
    {
     "name": "stdout",
     "output_type": "stream",
     "text": [
      "Model: \"many2one\"\n",
      "_________________________________________________________________\n",
      "Layer (type)                 Output Shape              Param #   \n",
      "=================================================================\n",
      "input_2 (InputLayer)         [(None, 25, 21)]          0         \n",
      "_________________________________________________________________\n",
      "lstm_1 (LSTM)                (None, 32)                6912      \n",
      "_________________________________________________________________\n",
      "dense_1 (Dense)              (None, 15)                495       \n",
      "=================================================================\n",
      "Total params: 7,407\n",
      "Trainable params: 7,407\n",
      "Non-trainable params: 0\n",
      "_________________________________________________________________\n"
     ]
    }
   ],
   "source": [
    "model = many2one_model(n_features = X.shape[-1], n_frames=X.shape[1], n_gestures=len(g2idx), rnn_units=32, bidirectional = False)"
   ]
  },
  {
   "cell_type": "code",
   "execution_count": 13,
   "metadata": {},
   "outputs": [
    {
     "name": "stdout",
     "output_type": "stream",
     "text": [
      "Train on 1619 samples, validate on 180 samples\n",
      "Epoch 1/60\n",
      "1619/1619 [==============================] - 4s 2ms/sample - loss: 2.6451 - accuracy: 0.1174 - val_loss: 2.5095 - val_accuracy: 0.1944\n",
      "Epoch 2/60\n",
      "1619/1619 [==============================] - 0s 245us/sample - loss: 2.3845 - accuracy: 0.2996 - val_loss: 2.2737 - val_accuracy: 0.3667\n",
      "Epoch 3/60\n",
      "1619/1619 [==============================] - 0s 239us/sample - loss: 2.1334 - accuracy: 0.4070 - val_loss: 2.0247 - val_accuracy: 0.4611\n",
      "Epoch 4/60\n",
      "1619/1619 [==============================] - 0s 218us/sample - loss: 1.8599 - accuracy: 0.4954 - val_loss: 1.7747 - val_accuracy: 0.5333\n",
      "Epoch 5/60\n",
      "1619/1619 [==============================] - 0s 235us/sample - loss: 1.5853 - accuracy: 0.5985 - val_loss: 1.5535 - val_accuracy: 0.5500\n",
      "Epoch 6/60\n",
      "1619/1619 [==============================] - 0s 226us/sample - loss: 1.3415 - accuracy: 0.6905 - val_loss: 1.3482 - val_accuracy: 0.6333\n",
      "Epoch 7/60\n",
      "1619/1619 [==============================] - 0s 213us/sample - loss: 1.1270 - accuracy: 0.7548 - val_loss: 1.1695 - val_accuracy: 0.7000\n",
      "Epoch 8/60\n",
      "1619/1619 [==============================] - 0s 234us/sample - loss: 0.9529 - accuracy: 0.7918 - val_loss: 0.9657 - val_accuracy: 0.7333\n",
      "Epoch 9/60\n",
      "1619/1619 [==============================] - 0s 245us/sample - loss: 0.8127 - accuracy: 0.8233 - val_loss: 0.8538 - val_accuracy: 0.7944\n",
      "Epoch 10/60\n",
      "1619/1619 [==============================] - 0s 254us/sample - loss: 0.7036 - accuracy: 0.8474 - val_loss: 0.7536 - val_accuracy: 0.7944\n",
      "Epoch 11/60\n",
      "1619/1619 [==============================] - 0s 238us/sample - loss: 0.6115 - accuracy: 0.8703 - val_loss: 0.7250 - val_accuracy: 0.8111\n",
      "Epoch 12/60\n",
      "1619/1619 [==============================] - 0s 217us/sample - loss: 0.5651 - accuracy: 0.8715 - val_loss: 0.6343 - val_accuracy: 0.8444\n",
      "Epoch 13/60\n",
      "1619/1619 [==============================] - 0s 223us/sample - loss: 0.5011 - accuracy: 0.8956 - val_loss: 0.6168 - val_accuracy: 0.8389\n",
      "Epoch 14/60\n",
      "1619/1619 [==============================] - 0s 247us/sample - loss: 0.4455 - accuracy: 0.9129 - val_loss: 0.5721 - val_accuracy: 0.8444\n",
      "Epoch 15/60\n",
      "1619/1619 [==============================] - 0s 277us/sample - loss: 0.3936 - accuracy: 0.9265 - val_loss: 0.5216 - val_accuracy: 0.8556\n",
      "Epoch 16/60\n",
      "1619/1619 [==============================] - 0s 240us/sample - loss: 0.3615 - accuracy: 0.9314 - val_loss: 0.5143 - val_accuracy: 0.8333\n",
      "Epoch 17/60\n",
      "1619/1619 [==============================] - 0s 225us/sample - loss: 0.3292 - accuracy: 0.9333 - val_loss: 0.4956 - val_accuracy: 0.8611\n",
      "Epoch 18/60\n",
      "1619/1619 [==============================] - 0s 210us/sample - loss: 0.3101 - accuracy: 0.9351 - val_loss: 0.4776 - val_accuracy: 0.8611\n",
      "Epoch 19/60\n",
      "1619/1619 [==============================] - 0s 240us/sample - loss: 0.2908 - accuracy: 0.9438 - val_loss: 0.4330 - val_accuracy: 0.8611\n",
      "Epoch 20/60\n",
      "1619/1619 [==============================] - 0s 221us/sample - loss: 0.2702 - accuracy: 0.9456 - val_loss: 0.3964 - val_accuracy: 0.8944\n",
      "Epoch 21/60\n",
      "1619/1619 [==============================] - 0s 214us/sample - loss: 0.2586 - accuracy: 0.9494 - val_loss: 0.4034 - val_accuracy: 0.8889\n",
      "Epoch 22/60\n",
      "1619/1619 [==============================] - 0s 257us/sample - loss: 0.2319 - accuracy: 0.9524 - val_loss: 0.3837 - val_accuracy: 0.8944\n",
      "Epoch 23/60\n",
      "1619/1619 [==============================] - 0s 277us/sample - loss: 0.2186 - accuracy: 0.9561 - val_loss: 0.4122 - val_accuracy: 0.9000\n",
      "Epoch 24/60\n",
      "1619/1619 [==============================] - 0s 242us/sample - loss: 0.2210 - accuracy: 0.9561 - val_loss: 0.3477 - val_accuracy: 0.9167\n",
      "Epoch 25/60\n",
      "1619/1619 [==============================] - 0s 231us/sample - loss: 0.1933 - accuracy: 0.9617 - val_loss: 0.3384 - val_accuracy: 0.9278\n",
      "Epoch 26/60\n",
      "1619/1619 [==============================] - 0s 216us/sample - loss: 0.1850 - accuracy: 0.9648 - val_loss: 0.3310 - val_accuracy: 0.9111\n",
      "Epoch 27/60\n",
      "1619/1619 [==============================] - 0s 241us/sample - loss: 0.1755 - accuracy: 0.9685 - val_loss: 0.3183 - val_accuracy: 0.9222\n",
      "Epoch 28/60\n",
      "1619/1619 [==============================] - 0s 222us/sample - loss: 0.1620 - accuracy: 0.9691 - val_loss: 0.3347 - val_accuracy: 0.9167\n",
      "Epoch 29/60\n",
      "1619/1619 [==============================] - 0s 233us/sample - loss: 0.1506 - accuracy: 0.9728 - val_loss: 0.2909 - val_accuracy: 0.9167\n",
      "Epoch 30/60\n",
      "1619/1619 [==============================] - 0s 272us/sample - loss: 0.1386 - accuracy: 0.9778 - val_loss: 0.3222 - val_accuracy: 0.9222\n",
      "Epoch 31/60\n",
      "1619/1619 [==============================] - 0s 237us/sample - loss: 0.1285 - accuracy: 0.9778 - val_loss: 0.3123 - val_accuracy: 0.9222\n",
      "Epoch 32/60\n",
      "1619/1619 [==============================] - 0s 263us/sample - loss: 0.1269 - accuracy: 0.9790 - val_loss: 0.3461 - val_accuracy: 0.9111\n",
      "Epoch 33/60\n",
      "1619/1619 [==============================] - 0s 257us/sample - loss: 0.1695 - accuracy: 0.9586 - val_loss: 0.3768 - val_accuracy: 0.9000\n",
      "Epoch 34/60\n",
      "1619/1619 [==============================] - 0s 234us/sample - loss: 0.1578 - accuracy: 0.9623 - val_loss: 0.3035 - val_accuracy: 0.9278\n",
      "Epoch 35/60\n",
      "1619/1619 [==============================] - 0s 275us/sample - loss: 0.1344 - accuracy: 0.9753 - val_loss: 0.2876 - val_accuracy: 0.9333\n",
      "Epoch 36/60\n",
      "1619/1619 [==============================] - 0s 229us/sample - loss: 0.1374 - accuracy: 0.9728 - val_loss: 0.2972 - val_accuracy: 0.9444\n",
      "Epoch 37/60\n",
      "1619/1619 [==============================] - 0s 241us/sample - loss: 0.1143 - accuracy: 0.9802 - val_loss: 0.2994 - val_accuracy: 0.9167\n",
      "Epoch 38/60\n",
      "1619/1619 [==============================] - 0s 258us/sample - loss: 0.1240 - accuracy: 0.9759 - val_loss: 0.3054 - val_accuracy: 0.9333\n",
      "Epoch 39/60\n",
      "1619/1619 [==============================] - 0s 227us/sample - loss: 0.1188 - accuracy: 0.9796 - val_loss: 0.2364 - val_accuracy: 0.9500\n",
      "Epoch 40/60\n",
      "1619/1619 [==============================] - 0s 300us/sample - loss: 0.0985 - accuracy: 0.9821 - val_loss: 0.3107 - val_accuracy: 0.9167\n",
      "Epoch 41/60\n",
      "1619/1619 [==============================] - 0s 246us/sample - loss: 0.0890 - accuracy: 0.9858 - val_loss: 0.2704 - val_accuracy: 0.9333\n",
      "Epoch 42/60\n",
      "1619/1619 [==============================] - 0s 253us/sample - loss: 0.0872 - accuracy: 0.9858 - val_loss: 0.2615 - val_accuracy: 0.9333\n",
      "Epoch 43/60\n",
      "1619/1619 [==============================] - 0s 245us/sample - loss: 0.0870 - accuracy: 0.9858 - val_loss: 0.2960 - val_accuracy: 0.9278\n",
      "Epoch 44/60\n",
      "1619/1619 [==============================] - 0s 234us/sample - loss: 0.0765 - accuracy: 0.9864 - val_loss: 0.2971 - val_accuracy: 0.9333\n",
      "Epoch 45/60\n",
      "1619/1619 [==============================] - 0s 252us/sample - loss: 0.0796 - accuracy: 0.9846 - val_loss: 0.3049 - val_accuracy: 0.9278\n",
      "Epoch 46/60\n",
      "1619/1619 [==============================] - 0s 234us/sample - loss: 0.0874 - accuracy: 0.9784 - val_loss: 0.2752 - val_accuracy: 0.9278\n",
      "Epoch 47/60\n",
      "1619/1619 [==============================] - 0s 235us/sample - loss: 0.0756 - accuracy: 0.9870 - val_loss: 0.2570 - val_accuracy: 0.9389\n",
      "Epoch 48/60\n",
      "1619/1619 [==============================] - 0s 256us/sample - loss: 0.0647 - accuracy: 0.9901 - val_loss: 0.2601 - val_accuracy: 0.9333\n",
      "Epoch 49/60\n",
      "1619/1619 [==============================] - 0s 266us/sample - loss: 0.0713 - accuracy: 0.9883 - val_loss: 0.2864 - val_accuracy: 0.9222\n",
      "Epoch 50/60\n",
      "1619/1619 [==============================] - 0s 266us/sample - loss: 0.0674 - accuracy: 0.9839 - val_loss: 0.2933 - val_accuracy: 0.9333\n",
      "Epoch 51/60\n",
      "1619/1619 [==============================] - 0s 235us/sample - loss: 0.0742 - accuracy: 0.9858 - val_loss: 0.2813 - val_accuracy: 0.9222\n",
      "Epoch 52/60\n",
      "1619/1619 [==============================] - 0s 263us/sample - loss: 0.0696 - accuracy: 0.9864 - val_loss: 0.2556 - val_accuracy: 0.9389\n",
      "Epoch 53/60\n",
      "1619/1619 [==============================] - 0s 282us/sample - loss: 0.0577 - accuracy: 0.9901 - val_loss: 0.2574 - val_accuracy: 0.9389\n",
      "Epoch 54/60\n",
      "1619/1619 [==============================] - 0s 240us/sample - loss: 0.0679 - accuracy: 0.9876 - val_loss: 0.2887 - val_accuracy: 0.9389\n",
      "Epoch 55/60\n",
      "1619/1619 [==============================] - 0s 279us/sample - loss: 0.0600 - accuracy: 0.9870 - val_loss: 0.2700 - val_accuracy: 0.9278\n",
      "Epoch 56/60\n",
      "1619/1619 [==============================] - 0s 235us/sample - loss: 0.0695 - accuracy: 0.9846 - val_loss: 0.2533 - val_accuracy: 0.9333\n",
      "Epoch 57/60\n",
      "1619/1619 [==============================] - 0s 278us/sample - loss: 0.0645 - accuracy: 0.9876 - val_loss: 0.2950 - val_accuracy: 0.9333\n",
      "Epoch 58/60\n",
      "1619/1619 [==============================] - 0s 248us/sample - loss: 0.0548 - accuracy: 0.9895 - val_loss: 0.2758 - val_accuracy: 0.9333\n",
      "Epoch 59/60\n",
      "1619/1619 [==============================] - 0s 240us/sample - loss: 0.0476 - accuracy: 0.9932 - val_loss: 0.2636 - val_accuracy: 0.9333\n",
      "Epoch 60/60\n",
      "1619/1619 [==============================] - 0s 246us/sample - loss: 0.0446 - accuracy: 0.9932 - val_loss: 0.2888 - val_accuracy: 0.9222\n"
     ]
    }
   ],
   "source": [
    "opt = tf.keras.optimizers.Adam()\n",
    "model.compile(optimizer=opt, loss='sparse_categorical_crossentropy', metrics=['accuracy'])\n",
    "history = model.fit(X, y, epochs=60, batch_size = 64, validation_split=0.1)"
   ]
  },
  {
   "cell_type": "code",
   "execution_count": 15,
   "metadata": {},
   "outputs": [],
   "source": [
    "model.save('models/V2/25f_32hs_15c_2.h5')"
   ]
  },
  {
   "cell_type": "code",
   "execution_count": 39,
   "metadata": {},
   "outputs": [],
   "source": [
    "model = tf.keras.models.load_model('models/V2/25f_32hs_15c_2.h5')"
   ]
  },
  {
   "cell_type": "code",
   "execution_count": 41,
   "metadata": {},
   "outputs": [
    {
     "name": "stdout",
     "output_type": "stream",
     "text": [
      "mean fps: 115.19\n",
      "target fps: 25\n",
      "skipping every 5 frames\n",
      "Found left hand data:  False\n",
      "Found right hand data:  True\n",
      "dropped 0 of 2777 rows with nans\n"
     ]
    }
   ],
   "source": [
    "# load test data\n",
    "X_test, y_test = CSV2examples('data/recordings/test_loop.csv', g2idx=g2idx, n_frames=50)"
   ]
  },
  {
   "cell_type": "code",
   "execution_count": 50,
   "metadata": {},
   "outputs": [
    {
     "name": "stdout",
     "output_type": "stream",
     "text": [
      "33\n",
      "[[0.95594496 0.04405507]]\n",
      "Predicted:  no_gesture\n",
      "Truth:  fist\n"
     ]
    }
   ],
   "source": [
    "# predict on a random test case\n",
    "i = np.random.randint(0, len(X_test))\n",
    "print(i)\n",
    "pred = model.predict(np.expand_dims(np.array(X_test[i]), axis=0))\n",
    "print(pred)\n",
    "print('Predicted: ', idx2g[np.argmax(pred)])\n",
    "print('Truth: ', idx2g[y_test[i]])"
   ]
  },
  {
   "cell_type": "code",
   "execution_count": 54,
   "metadata": {},
   "outputs": [
    {
     "name": "stdout",
     "output_type": "stream",
     "text": [
      "so_so\n"
     ]
    }
   ],
   "source": [
    "print(idx2g[y[1]])"
   ]
  },
  {
   "cell_type": "code",
   "execution_count": 14,
   "metadata": {},
   "outputs": [
    {
     "data": {
      "image/png": "[encoded data removed]",
      "text/plain": [
       "<Figure size 432x288 with 1 Axes>"
      ]
     },
     "metadata": {
      "needs_background": "light"
     },
     "output_type": "display_data"
    },
    {
     "data": {
      "image/png": "[encoded data removed]",
      "text/plain": [
       "<Figure size 432x288 with 1 Axes>"
      ]
     },
     "metadata": {
      "needs_background": "light"
     },
     "output_type": "display_data"
    }
   ],
   "source": [
    "# plot history:\n",
    "plt_metric(history, 'loss')\n",
    "plt_metric(history, 'accuracy')"
   ]
  },
  {
   "cell_type": "code",
   "execution_count": 47,
   "metadata": {},
   "outputs": [
    {
     "data": {
      "text/plain": [
       "Index(['gesture', 'left_index_tipPosition_0', 'left_index_tipPosition_1',\n",
       "       'left_index_tipPosition_2', 'left_middle_tipPosition_0',\n",
       "       'left_middle_tipPosition_1', 'left_middle_tipPosition_2',\n",
       "       'left_ring_tipPosition_0', 'left_ring_tipPosition_1',\n",
       "       'left_ring_tipPosition_2', 'left_pinky_tipPosition_0',\n",
       "       'left_pinky_tipPosition_1', 'left_pinky_tipPosition_2',\n",
       "       'left_thumb_tipPosition_0', 'left_thumb_tipPosition_1',\n",
       "       'left_thumb_tipPosition_2', 'left_palmVelocity_0',\n",
       "       'left_palmVelocity_1', 'left_palmVelocity_2', 'left_pinchDistance',\n",
       "       'left_grabAngle', 'left_direction_0', 'right_index_tipPosition_0',\n",
       "       'right_index_tipPosition_1', 'right_index_tipPosition_2',\n",
       "       'right_middle_tipPosition_0', 'right_middle_tipPosition_1',\n",
       "       'right_middle_tipPosition_2', 'right_ring_tipPosition_0',\n",
       "       'right_ring_tipPosition_1', 'right_ring_tipPosition_2',\n",
       "       'right_pinky_tipPosition_0', 'right_pinky_tipPosition_1',\n",
       "       'right_pinky_tipPosition_2', 'right_thumb_tipPosition_0',\n",
       "       'right_thumb_tipPosition_1', 'right_thumb_tipPosition_2',\n",
       "       'right_palmVelocity_0', 'right_palmVelocity_1', 'right_palmVelocity_2',\n",
       "       'right_pinchDistance', 'right_grabAngle', 'right_direction_0',\n",
       "       'left_active', 'right_active'],\n",
       "      dtype='object')"
      ]
     },
     "execution_count": 47,
     "metadata": {},
     "output_type": "execute_result"
    }
   ],
   "source": [
    "df.columns\n",
    "df2 = df.reindex(sorted(df.columns), axis=1)\n",
    "df.columns"
   ]
  }
 ],
 "metadata": {
  "kernelspec": {
   "display_name": "Python 3",
   "language": "python",
   "name": "python3"
  },
  "language_info": {
   "codemirror_mode": {
    "name": "ipython",
    "version": 3
   },
   "file_extension": ".py",
   "mimetype": "text/x-python",
   "name": "python",
   "nbconvert_exporter": "python",
   "pygments_lexer": "ipython3",
   "version": "3.7.1"
  }
 },
 "nbformat": 4,
 "nbformat_minor": 2
}
