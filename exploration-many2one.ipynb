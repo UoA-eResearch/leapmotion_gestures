{
 "cells": [
  {
   "cell_type": "code",
   "execution_count": 1,
   "metadata": {},
   "outputs": [],
   "source": [
    "from importlib import reload\n",
    "import numpy as np\n",
    "import json\n",
    "import matplotlib.pyplot as plt\n",
    "import pandas as pd\n",
    "import os\n",
    "import tensorflow as tf\n",
    "from tensorflow.keras import layers"
   ]
  },
  {
   "cell_type": "code",
   "execution_count": 9,
   "metadata": {},
   "outputs": [
    {
     "data": {
      "text/plain": [
       "<module 'src.features' from 'C:\\\\Users\\\\Andrew\\\\Documents\\\\CeR\\\\GestRec\\\\leap_gesture_rec\\\\src\\\\features.py'>"
      ]
     },
     "execution_count": 9,
     "metadata": {},
     "output_type": "execute_result"
    }
   ],
   "source": [
    "# import modules\n",
    "import src.models\n",
    "reload(src.models)\n",
    "from src.models import *\n",
    "\n",
    "import src.data_methods\n",
    "reload(src.data_methods)\n",
    "from src.data_methods import *\n",
    "\n",
    "import src.features as features\n",
    "reload(features)"
   ]
  },
  {
   "cell_type": "code",
   "execution_count": 3,
   "metadata": {},
   "outputs": [],
   "source": [
    "gestures, g2idx, idx2g = get_gestures(version=3)"
   ]
  },
  {
   "cell_type": "code",
   "execution_count": null,
   "metadata": {},
   "outputs": [],
   "source": [
    "# if needed, sort out dicts\n",
    "# X, y = CSV2examples(raw_file='data/recordings/normalization_data.csv', g2idx=g2idx, n_frames=n_frames, target_fps=30, standardize=True, dicts_gen=True, derive_features=True)"
   ]
  },
  {
   "cell_type": "code",
   "execution_count": 10,
   "metadata": {},
   "outputs": [
    {
     "name": "stdout",
     "output_type": "stream",
     "text": [
      "mean fps: 28.78\n",
      "target fps: 30\n",
      "taking every 1 frames\n",
      "98.72% of rows contain valid LH data\n",
      "100.00% of rows contain valid RH data\n",
      "Found left hand data:  True\n",
      "Found right hand data:  True\n",
      "mean fps: 27.62\n",
      "target fps: 30\n",
      "taking every 1 frames\n",
      "96.23% of rows contain valid LH data\n",
      "99.16% of rows contain valid RH data\n",
      "Found left hand data:  True\n",
      "Found right hand data:  True\n",
      "mean fps: 27.62\n",
      "target fps: 30\n",
      "taking every 1 frames\n",
      "93.07% of rows contain valid LH data\n",
      "100.00% of rows contain valid RH data\n",
      "Found left hand data:  True\n",
      "Found right hand data:  True\n",
      "mean fps: 27.61\n",
      "target fps: 30\n",
      "taking every 1 frames\n",
      "96.20% of rows contain valid LH data\n",
      "100.00% of rows contain valid RH data\n",
      "Found left hand data:  True\n",
      "Found right hand data:  True\n",
      "dealt with 0 of 49769 rows with nans\n",
      "{'one_handed': ['adjacent_finger_distances', 'finger_palm_distances', 'finger_palm_plain_distances'], 'two_handed': ['interpalm_distance', 'interfinger_distances']}\n",
      "dealt with 0 of 49769 rows with nans\n",
      "Data successfully mirrored\n",
      "{'one_handed': ['adjacent_finger_distances', 'finger_palm_distances', 'finger_palm_plain_distances'], 'two_handed': ['interpalm_distance', 'interfinger_distances']}\n",
      "mean fps: 27.61\n",
      "target fps: 30\n",
      "taking every 1 frames\n",
      "98.82% of rows contain valid LH data\n",
      "100.00% of rows contain valid RH data\n",
      "Found left hand data:  True\n",
      "Found right hand data:  True\n",
      "dealt with 0 of 9155 rows with nans\n",
      "{'one_handed': ['adjacent_finger_distances', 'finger_palm_distances', 'finger_palm_plain_distances'], 'two_handed': ['interpalm_distance', 'interfinger_distances']}\n",
      "dealt with 0 of 9155 rows with nans\n",
      "Data successfully mirrored\n",
      "{'one_handed': ['adjacent_finger_distances', 'finger_palm_distances', 'finger_palm_plain_distances'], 'two_handed': ['interpalm_distance', 'interfinger_distances']}\n",
      "(4328, 40, 50)\n"
     ]
    }
   ],
   "source": [
    "n_frames = 40\n",
    "X, y = folder2examples(folder='data/loopsV3/train/', g2idx=g2idx, n_frames=n_frames, mirror=True)\n",
    "X_val, y_val = folder2examples(folder='data/loopsV3/test/', g2idx=g2idx, n_frames=n_frames, mirror=True)\n",
    "print(X.shape)"
   ]
  },
  {
   "cell_type": "code",
   "execution_count": 122,
   "metadata": {},
   "outputs": [
    {
     "name": "stdout",
     "output_type": "stream",
     "text": [
      "Model: \"many2one\"\n",
      "_________________________________________________________________\n",
      "Layer (type)                 Output Shape              Param #   \n",
      "=================================================================\n",
      "input_16 (InputLayer)        [(None, 40, 50)]          0         \n",
      "_________________________________________________________________\n",
      "bidirectional_9 (Bidirection (None, 8)                 1760      \n",
      "_________________________________________________________________\n",
      "dense_18 (Dense)             (None, 33)                297       \n",
      "=================================================================\n",
      "Total params: 2,057\n",
      "Trainable params: 2,057\n",
      "Non-trainable params: 0\n",
      "_________________________________________________________________\n"
     ]
    }
   ],
   "source": [
    "model = many2one_model(n_features = X.shape[-1], n_frames=X.shape[1], n_gestures=len(g2idx), n_lstm_layers=1, rnn_units=4, recurrent_dropout=0.0, bidirectional=True)"
   ]
  },
  {
   "cell_type": "code",
   "execution_count": 136,
   "metadata": {},
   "outputs": [
    {
     "name": "stdout",
     "output_type": "stream",
     "text": [
      "Train on 4328 samples, validate on 792 samples\n",
      "Epoch 1/10\n",
      "4328/4328 [==============================] - 11s 3ms/sample - loss: 0.0692 - accuracy: 0.9875 - val_loss: 0.6032 - val_accuracy: 0.8965\n",
      "Epoch 2/10\n",
      "4328/4328 [==============================] - 3s 599us/sample - loss: 0.0433 - accuracy: 0.9942 - val_loss: 0.5890 - val_accuracy: 0.8990\n",
      "Epoch 3/10\n",
      "4328/4328 [==============================] - 3s 694us/sample - loss: 0.0350 - accuracy: 0.9954 - val_loss: 0.5860 - val_accuracy: 0.9003\n",
      "Epoch 4/10\n",
      "4328/4328 [==============================] - 3s 709us/sample - loss: 0.0311 - accuracy: 0.9970 - val_loss: 0.5725 - val_accuracy: 0.9040\n",
      "Epoch 5/10\n",
      "4328/4328 [==============================] - 3s 702us/sample - loss: 0.0285 - accuracy: 0.9970 - val_loss: 0.5684 - val_accuracy: 0.9053\n",
      "Epoch 6/10\n",
      "4328/4328 [==============================] - 3s 691us/sample - loss: 0.0264 - accuracy: 0.9977 - val_loss: 0.5765 - val_accuracy: 0.9040\n",
      "Epoch 7/10\n",
      "4328/4328 [==============================] - 3s 710us/sample - loss: 0.0226 - accuracy: 0.9979 - val_loss: 0.5588 - val_accuracy: 0.9028\n",
      "Epoch 8/10\n",
      "4328/4328 [==============================] - 3s 701us/sample - loss: 0.0208 - accuracy: 0.9986 - val_loss: 0.5739 - val_accuracy: 0.9040\n",
      "Epoch 9/10\n",
      "4328/4328 [==============================] - 3s 699us/sample - loss: 0.0172 - accuracy: 0.9993 - val_loss: 0.5783 - val_accuracy: 0.9066\n",
      "Epoch 10/10\n",
      "4328/4328 [==============================] - 3s 710us/sample - loss: 0.0167 - accuracy: 0.9995 - val_loss: 0.5768 - val_accuracy: 0.9078\n"
     ]
    }
   ],
   "source": [
    "opt = tf.keras.optimizers.Adam(learning_rate=0.002)\n",
    "# opt = tf.keras.optimizers.SGD(learning_rate=0.001)\n",
    "model.compile(optimizer=opt, loss='sparse_categorical_crossentropy', metrics=['accuracy'])\n",
    "history = model.fit(X, y, validation_data=(X_val, y_val), epochs=10, batch_size = 50)"
   ]
  },
  {
   "cell_type": "code",
   "execution_count": 139,
   "metadata": {},
   "outputs": [],
   "source": [
    "model.save('models/V3/40f_4hs_bi.h5')"
   ]
  },
  {
   "cell_type": "code",
   "execution_count": 49,
   "metadata": {},
   "outputs": [],
   "source": [
    "model = tf.keras.models.load_model('models/V3/40f_5hs.h5')"
   ]
  },
  {
   "cell_type": "code",
   "execution_count": 24,
   "metadata": {},
   "outputs": [
    {
     "name": "stdout",
     "output_type": "stream",
     "text": [
      "mean fps: 20.82\n",
      "target fps: 25\n",
      "taking every 1 frames\n",
      "100.00% of rows contain valid LH data\n",
      "100.00% of rows contain valid RH data\n",
      "Found left hand data:  True\n",
      "Found right hand data:  True\n",
      "dealt with 0 of 1600 rows with nans\n",
      "dealt with 0 of 1600 rows with nans\n",
      "Data successfully mirrored\n"
     ]
    }
   ],
   "source": [
    "# load test data\n",
    "X_test, y_test = CSV2examples('recordings/cputest-maxed.csv', g2idx=g2idx, n_frames=40)"
   ]
  },
  {
   "cell_type": "code",
   "execution_count": 20,
   "metadata": {},
   "outputs": [
    {
     "name": "stdout",
     "output_type": "stream",
     "text": [
      "76\n",
      "[[5.1329839e-03 1.2742927e-04 1.3233292e-03 8.1423987e-03 3.8563199e-02\n",
      "  1.0936646e-02 7.2512496e-01 2.1064912e-01]]\n",
      "Predicted:  shuffle_over\n",
      "Truth:  shuffle_over\n"
     ]
    }
   ],
   "source": [
    "# predict on a random test case\n",
    "i = np.random.randint(0, len(X_test))\n",
    "print(i)\n",
    "pred = model.predict(np.expand_dims(np.array(X_test[i]), axis=0))\n",
    "print(pred)\n",
    "print('Predicted: ', idx2g[np.argmax(pred)])\n",
    "print('Truth: ', idx2g[y_test[i]])"
   ]
  },
  {
   "cell_type": "code",
   "execution_count": 54,
   "metadata": {},
   "outputs": [
    {
     "name": "stdout",
     "output_type": "stream",
     "text": [
      "so_so\n"
     ]
    }
   ],
   "source": [
    "print(idx2g[y[1]])"
   ]
  },
  {
   "cell_type": "code",
   "execution_count": 137,
   "metadata": {},
   "outputs": [
    {
     "data": {
      "image/png": "[encoded data removed]",
      "text/plain": [
       "<Figure size 432x288 with 1 Axes>"
      ]
     },
     "metadata": {
      "needs_background": "light"
     },
     "output_type": "display_data"
    },
    {
     "data": {
      "image/png": "[encoded data removed]",
      "text/plain": [
       "<Figure size 432x288 with 1 Axes>"
      ]
     },
     "metadata": {
      "needs_background": "light"
     },
     "output_type": "display_data"
    }
   ],
   "source": [
    "# plot history:\n",
    "plt_metric(history, 'loss')\n",
    "plt_metric(history, 'accuracy')"
   ]
  },
  {
   "cell_type": "code",
   "execution_count": null,
   "metadata": {},
   "outputs": [],
   "source": [
    "# plot history:\n",
    "plt_metric(history, 'loss')\n",
    "plt_metric(history, 'accuracy')"
   ]
  },
  {
   "cell_type": "code",
   "execution_count": 138,
   "metadata": {},
   "outputs": [
    {
     "name": "stdout",
     "output_type": "stream",
     "text": [
      "[('middle_finger', 0.04), ('wave', 0.46), ('multiple', 0.75), ('thumbs_up', 0.83), ('small', 0.83), ('smoothing_sand', 0.83), ('counting_hands_together', 0.88), ('finger_drawing', 0.88), ('fist', 0.92), ('gun', 0.92), ('this_big', 0.92), ('driving', 0.92), ('drawing', 0.92), ('peace', 0.96), ('thumbs_down', 0.96), ('typing', 0.96), ('no_gesture', 1.0), ('call_me', 1.0), ('maybe', 1.0), ('ok', 1.0), ('open_close', 1.0), ('pointing', 1.0), ('shuffle_over', 1.0), ('so_so', 1.0), ('stop', 1.0), ('triangle_set', 1.0), ('circle_set', 1.0), ('love_heart_set', 1.0), ('why', 1.0), ('path', 1.0), ('gather_leaves', 1.0), ('robotic_arm', 1.0), ('cup_hands', 1.0)]\n"
     ]
    }
   ],
   "source": [
    "# get confusion matrix\n",
    "pred = np.argmax(model.predict(X_val), axis=-1)\n",
    "\n",
    "c_matrix = pd.crosstab(y_val, pred, rownames=['Actual'], colnames=['Predicted'], normalize='index')\n",
    "\n",
    "accuracy = {g: 0 for g in g2idx.keys()}\n",
    "for i in c_matrix.index:\n",
    "    if i not in c_matrix.columns:\n",
    "        pass\n",
    "    else:\n",
    "        accuracy[idx2g[i]] = round(c_matrix.loc[i,i],2)\n",
    "\n",
    "print(sorted(accuracy.items(), key=lambda x: x[1]))"
   ]
  },
  {
   "cell_type": "markdown",
   "metadata": {},
   "source": [
    "Wave and middle finger most urgent, not being recognized at all.\n",
    "stop and peace, redo. "
   ]
  },
  {
   "cell_type": "code",
   "execution_count": 129,
   "metadata": {},
   "outputs": [
    {
     "name": "stdout",
     "output_type": "stream",
     "text": [
      "[('finger_drawing', 0.92), ('small', 0.95), ('multiple', 0.95), ('thumbs_up', 0.96), ('pointing', 0.97), ('thumbs_down', 0.97), ('robotic_arm', 0.97), ('no_gesture', 0.98), ('open_close', 0.98), ('peace', 0.98), ('shuffle_over', 0.98), ('wave', 0.98), ('middle_finger', 0.98), ('smoothing_sand', 0.98), ('call_me', 0.99), ('so_so', 0.99), ('stop', 0.99), ('typing', 0.99), ('counting_hands_together', 0.99), ('path', 0.99), ('drawing', 0.99), ('fist', 1.0), ('gun', 1.0), ('maybe', 1.0), ('ok', 1.0), ('this_big', 1.0), ('triangle_set', 1.0), ('circle_set', 1.0), ('love_heart_set', 1.0), ('driving', 1.0), ('why', 1.0), ('gather_leaves', 1.0), ('cup_hands', 1.0)]\n"
     ]
    }
   ],
   "source": [
    "# get confusion matrix\n",
    "pred = np.argmax(model.predict(X), axis=-1)\n",
    "\n",
    "c_matrix = pd.crosstab(y, pred, rownames=['Actual'], colnames=['Predicted'], normalize='index')\n",
    "\n",
    "accuracy = {g: 0 for g in g2idx.keys()}\n",
    "for i in c_matrix.index:\n",
    "    if i not in c_matrix.columns:\n",
    "        pass\n",
    "    else:\n",
    "        accuracy[idx2g[i]] = round(c_matrix.loc[i,i],2)\n",
    "\n",
    "print(sorted(accuracy.items(), key=lambda x: x[1]))\n",
    "    "
   ]
  },
  {
   "cell_type": "code",
   "execution_count": 21,
   "metadata": {},
   "outputs": [
    {
     "data": {
      "text/plain": [
       "Int64Index([ 0,  1,  2,  3,  4,  5,  6,  7,  8,  9, 10, 11, 12, 13, 14, 15, 16,\n",
       "            17, 18, 19, 20, 21, 22, 23, 24, 25, 26, 27, 28, 29, 30, 31, 32],\n",
       "           dtype='int64', name='Actual')"
      ]
     },
     "execution_count": 21,
     "metadata": {},
     "output_type": "execute_result"
    }
   ],
   "source": [
    "c_matrix.index"
   ]
  }
 ],
 "metadata": {
  "kernelspec": {
   "display_name": "Python 3",
   "language": "python",
   "name": "python3"
  },
  "language_info": {
   "codemirror_mode": {
    "name": "ipython",
    "version": 3
   },
   "file_extension": ".py",
   "mimetype": "text/x-python",
   "name": "python",
   "nbconvert_exporter": "python",
   "pygments_lexer": "ipython3",
   "version": "3.7.1"
  }
 },
 "nbformat": 4,
 "nbformat_minor": 2
}
