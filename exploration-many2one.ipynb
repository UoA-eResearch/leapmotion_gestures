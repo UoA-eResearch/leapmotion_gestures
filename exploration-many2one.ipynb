{
 "cells": [
  {
   "cell_type": "code",
   "execution_count": 34,
   "metadata": {},
   "outputs": [],
   "source": [
    "from importlib import reload\n",
    "import numpy as np\n",
    "import matplotlib.pyplot as plt\n",
    "import pandas as pd\n",
    "import os\n",
    "import tensorflow as tf\n",
    "from tensorflow.keras import layers"
   ]
  },
  {
   "cell_type": "code",
   "execution_count": 72,
   "metadata": {},
   "outputs": [],
   "source": [
    "# import modules\n",
    "import src.models\n",
    "reload(src.models)\n",
    "from src.models import *\n",
    "\n",
    "import src.dataMethods\n",
    "reload(src.dataMethods)\n",
    "from src.dataMethods import *"
   ]
  },
  {
   "cell_type": "code",
   "execution_count": 10,
   "metadata": {},
   "outputs": [
    {
     "name": "stdout",
     "output_type": "stream",
     "text": [
      "{0: 'no_gesture', 1: 'fist', 2: 'gun', 3: 'hitchhiking', 4: 'open_close', 5: 'pointing', 6: 'shuffle_over', 7: 'so_so'}\n"
     ]
    }
   ],
   "source": [
    "with open('gestures.txt') as f:\n",
    "    gestures = f.read()\n",
    "    gestures = gestures.split()\n",
    "\n",
    "g2idx = {i: g for i, g in enumerate(gestures)}\n",
    "    \n",
    "print(g2idx)"
   ]
  },
  {
   "cell_type": "code",
   "execution_count": 28,
   "metadata": {},
   "outputs": [
    {
     "name": "stdout",
     "output_type": "stream",
     "text": [
      "43246\n",
      "14516\n",
      "57762\n"
     ]
    }
   ],
   "source": [
    "# get data frame with variables of interest\n",
    "df = pd.DataFrame()\n",
    "for file in os.scandir('data/loops/'):\n",
    "#     df2 = CSV2VoI(file.path)\n",
    "    df2 = pd.read_csv(file)\n",
    "    print(len(df2))\n",
    "    df = pd.concat([df, df2], ignore_index=True)\n",
    "print(len(df))\n",
    "# print(df)\n",
    "# df_gesture = CSV2VoI('data/recordings/so-so.csv')\n",
    "# df_nogesture = CSV2VoI('data/recordings/no-gesture.csv')"
   ]
  },
  {
   "cell_type": "code",
   "execution_count": 75,
   "metadata": {},
   "outputs": [
    {
     "name": "stdout",
     "output_type": "stream",
     "text": [
      "[[0, 3], [4, 7], [8, 11], [12, 13]]\n",
      "[0, 1, 3, 4]\n"
     ]
    },
    {
     "data": {
      "text/plain": [
       "([[[0, 1], [0, 2], [0, 3]],\n",
       "  [[1, 1], [1, 2], [1, 3]],\n",
       "  [[3, 1], [3, 2], [3, 3]]],\n",
       " [0, 1, 3])"
      ]
     },
     "execution_count": 75,
     "metadata": {},
     "output_type": "execute_result"
    }
   ],
   "source": [
    "X = [[0,1],[0,2],[0,3],[0,4],[1,1],[1,2],[1,3],[1,4],[3,1],[3,2],[3,3],[3,4],[4,1],[4,2]]\n",
    "y = [0,0,0,0,1,1,1,1,3,3,3,3,4,4]\n",
    "split2examples(X, y=y, n_frames=3)"
   ]
  },
  {
   "cell_type": "code",
   "execution_count": 8,
   "metadata": {},
   "outputs": [
    {
     "name": "stdout",
     "output_type": "stream",
     "text": [
      "dropped 0 of 3953 rows with nans\n",
      "dropped 0 of 4038 rows with nans\n"
     ]
    },
    {
     "data": {
      "text/plain": [
       "(4038, 21)"
      ]
     },
     "execution_count": 8,
     "metadata": {},
     "output_type": "execute_result"
    }
   ],
   "source": [
    "# extract X and y\n",
    "# note that this way I'm normalizing true and false examples separately...\n",
    "# not interested in y\n",
    "X1, y = df2X_y(df_gesture, g2idx)\n",
    "X1.shape\n",
    "X0.shape"
   ]
  },
  {
   "cell_type": "code",
   "execution_count": 9,
   "metadata": {},
   "outputs": [
    {
     "name": "stdout",
     "output_type": "stream",
     "text": [
      "(79, 50, 21)\n",
      "(80, 50, 21)\n"
     ]
    }
   ],
   "source": [
    "n_frames = 50\n",
    "# separate into examples 50 frames long each\n",
    "X1 = np.array(split2examples(X1, n_frames))\n",
    "X0 = np.array(split2examples(X0, n_frames))\n",
    "print(X1.shape)\n",
    "print(X0.shape)"
   ]
  },
  {
   "cell_type": "code",
   "execution_count": 10,
   "metadata": {},
   "outputs": [
    {
     "name": "stdout",
     "output_type": "stream",
     "text": [
      "[1 1 1 1 1]\n",
      "[0 0 0 0 0]\n"
     ]
    }
   ],
   "source": [
    "# get y labels\n",
    "y1 = np.array([1 for i in X1])\n",
    "y0 = np.array([0 for i in X0])\n",
    "print(y1[:5])\n",
    "print(y0[:5])"
   ]
  },
  {
   "cell_type": "code",
   "execution_count": 11,
   "metadata": {},
   "outputs": [
    {
     "data": {
      "text/plain": [
       "(159, 50, 21)"
      ]
     },
     "execution_count": 11,
     "metadata": {},
     "output_type": "execute_result"
    }
   ],
   "source": [
    "X = np.concatenate((X1, X0))\n",
    "y = np.concatenate((y1, y0))\n",
    "y_rigged = np.array([0 for i in X])\n",
    "# for random shuffling like this, see:\n",
    "# https://stackoverflow.com/questions/4601373/better-way-to-shuffle-two-numpy-arrays-in-unison\n",
    "state = np.random.get_state()\n",
    "np.random.shuffle(X)\n",
    "np.random.set_state(state)\n",
    "np.random.shuffle(y)\n",
    "\n",
    "X.shape"
   ]
  },
  {
   "cell_type": "code",
   "execution_count": 18,
   "metadata": {},
   "outputs": [
    {
     "name": "stdout",
     "output_type": "stream",
     "text": [
      "Model: \"many2one\"\n",
      "_________________________________________________________________\n",
      "Layer (type)                 Output Shape              Param #   \n",
      "=================================================================\n",
      "input_3 (InputLayer)         [(None, 50, 21)]          0         \n",
      "_________________________________________________________________\n",
      "lstm_2 (LSTM)                (None, 32)                6912      \n",
      "_________________________________________________________________\n",
      "dense_2 (Dense)              (None, 2)                 66        \n",
      "=================================================================\n",
      "Total params: 6,978\n",
      "Trainable params: 6,978\n",
      "Non-trainable params: 0\n",
      "_________________________________________________________________\n"
     ]
    }
   ],
   "source": [
    "model = many2one_model(n_features = X.shape[-1], n_frames=X.shape[1], n_gestures=2, rnn_units=32)"
   ]
  },
  {
   "cell_type": "code",
   "execution_count": 19,
   "metadata": {},
   "outputs": [
    {
     "name": "stdout",
     "output_type": "stream",
     "text": [
      "Train on 143 samples, validate on 16 samples\n",
      "Epoch 1/20\n",
      "143/143 [==============================] - 3s 20ms/sample - loss: 0.7172 - accuracy: 0.4755 - val_loss: 0.6522 - val_accuracy: 0.6250\n",
      "Epoch 2/20\n",
      "143/143 [==============================] - 0s 960us/sample - loss: 0.6876 - accuracy: 0.5804 - val_loss: 0.6485 - val_accuracy: 0.6250\n",
      "Epoch 3/20\n",
      "143/143 [==============================] - 0s 813us/sample - loss: 0.6631 - accuracy: 0.6503 - val_loss: 0.6492 - val_accuracy: 0.6250\n",
      "Epoch 4/20\n",
      "143/143 [==============================] - 0s 774us/sample - loss: 0.6418 - accuracy: 0.7133 - val_loss: 0.6477 - val_accuracy: 0.6250\n",
      "Epoch 5/20\n",
      "143/143 [==============================] - 0s 788us/sample - loss: 0.6209 - accuracy: 0.7622 - val_loss: 0.6437 - val_accuracy: 0.6250\n",
      "Epoch 6/20\n",
      "143/143 [==============================] - 0s 778us/sample - loss: 0.5995 - accuracy: 0.7832 - val_loss: 0.6368 - val_accuracy: 0.6875\n",
      "Epoch 7/20\n",
      "143/143 [==============================] - 0s 825us/sample - loss: 0.5780 - accuracy: 0.8182 - val_loss: 0.6252 - val_accuracy: 0.6875\n",
      "Epoch 8/20\n",
      "143/143 [==============================] - 0s 1ms/sample - loss: 0.5530 - accuracy: 0.8462 - val_loss: 0.6082 - val_accuracy: 0.7500\n",
      "Epoch 9/20\n",
      "143/143 [==============================] - 0s 836us/sample - loss: 0.5265 - accuracy: 0.8741 - val_loss: 0.5886 - val_accuracy: 0.8125\n",
      "Epoch 10/20\n",
      "143/143 [==============================] - 0s 729us/sample - loss: 0.4965 - accuracy: 0.8951 - val_loss: 0.5668 - val_accuracy: 0.8125\n",
      "Epoch 11/20\n",
      "143/143 [==============================] - 0s 715us/sample - loss: 0.4626 - accuracy: 0.9091 - val_loss: 0.5358 - val_accuracy: 0.8125\n",
      "Epoch 12/20\n",
      "143/143 [==============================] - 0s 748us/sample - loss: 0.4240 - accuracy: 0.9231 - val_loss: 0.4970 - val_accuracy: 0.8125\n",
      "Epoch 13/20\n",
      "143/143 [==============================] - 0s 760us/sample - loss: 0.3803 - accuracy: 0.9301 - val_loss: 0.4464 - val_accuracy: 0.8125\n",
      "Epoch 14/20\n",
      "143/143 [==============================] - 0s 969us/sample - loss: 0.3334 - accuracy: 0.9510 - val_loss: 0.3872 - val_accuracy: 0.8750\n",
      "Epoch 15/20\n",
      "143/143 [==============================] - 0s 802us/sample - loss: 0.2799 - accuracy: 0.9720 - val_loss: 0.3179 - val_accuracy: 0.9375\n",
      "Epoch 16/20\n",
      "143/143 [==============================] - 0s 718us/sample - loss: 0.2231 - accuracy: 0.9860 - val_loss: 0.2488 - val_accuracy: 0.9375\n",
      "Epoch 17/20\n",
      "143/143 [==============================] - 0s 844us/sample - loss: 0.1664 - accuracy: 0.9930 - val_loss: 0.1920 - val_accuracy: 0.9375\n",
      "Epoch 18/20\n",
      "143/143 [==============================] - 0s 809us/sample - loss: 0.1201 - accuracy: 1.0000 - val_loss: 0.1468 - val_accuracy: 0.9375\n",
      "Epoch 19/20\n",
      "143/143 [==============================] - 0s 760us/sample - loss: 0.0924 - accuracy: 1.0000 - val_loss: 0.1296 - val_accuracy: 1.0000\n",
      "Epoch 20/20\n",
      "143/143 [==============================] - 0s 708us/sample - loss: 0.1249 - accuracy: 0.9790 - val_loss: 0.3712 - val_accuracy: 0.8750\n"
     ]
    }
   ],
   "source": [
    "opt = tf.keras.optimizers.Adam()\n",
    "model.compile(optimizer=opt, loss='sparse_categorical_crossentropy', metrics=['accuracy'])\n",
    "history = model.fit(X, y, epochs=20, batch_size = 32, validation_split=0.1)"
   ]
  },
  {
   "cell_type": "code",
   "execution_count": 21,
   "metadata": {},
   "outputs": [],
   "source": [
    "model.save('models/32HS2C.h5')"
   ]
  },
  {
   "cell_type": "code",
   "execution_count": 28,
   "metadata": {},
   "outputs": [
    {
     "data": {
      "text/plain": [
       "array([[0.06835094, 0.931649  ]], dtype=float32)"
      ]
     },
     "execution_count": 28,
     "metadata": {},
     "output_type": "execute_result"
    }
   ],
   "source": [
    "model.predict(np.expand_dims(np.array(X[20]), axis=0))"
   ]
  },
  {
   "cell_type": "code",
   "execution_count": 16,
   "metadata": {},
   "outputs": [
    {
     "data": {
      "image/png": "[encoded data removed]",
      "text/plain": [
       "<Figure size 432x288 with 1 Axes>"
      ]
     },
     "metadata": {
      "needs_background": "light"
     },
     "output_type": "display_data"
    }
   ],
   "source": [
    "# plot history:\n",
    "## summarize history for loss, from https://machinelearningmastery.com/display-deep-learning-model-training-history-in-keras/\n",
    "plt.plot(history.history['loss'])\n",
    "plt.plot(history.history['val_loss'])\n",
    "plt.title('model loss')\n",
    "plt.ylabel('loss')\n",
    "plt.xlabel('epoch')\n",
    "plt.legend(['train', 'test'], loc='upper left')\n",
    "plt.show()"
   ]
  },
  {
   "cell_type": "code",
   "execution_count": 17,
   "metadata": {},
   "outputs": [
    {
     "data": {
      "image/png": "[encoded data removed]",
      "text/plain": [
       "<Figure size 432x288 with 1 Axes>"
      ]
     },
     "metadata": {
      "needs_background": "light"
     },
     "output_type": "display_data"
    }
   ],
   "source": [
    "plt_metric(history, 'accuracy')"
   ]
  }
 ],
 "metadata": {
  "kernelspec": {
   "display_name": "Python 3",
   "language": "python",
   "name": "python3"
  },
  "language_info": {
   "codemirror_mode": {
    "name": "ipython",
    "version": 3
   },
   "file_extension": ".py",
   "mimetype": "text/x-python",
   "name": "python",
   "nbconvert_exporter": "python",
   "pygments_lexer": "ipython3",
   "version": "3.7.1"
  }
 },
 "nbformat": 4,
 "nbformat_minor": 2
}
