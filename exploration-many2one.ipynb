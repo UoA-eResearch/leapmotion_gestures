{
 "cells": [
  {
   "cell_type": "code",
   "execution_count": 1,
   "metadata": {},
   "outputs": [],
   "source": [
    "from importlib import reload\n",
    "import numpy as np\n",
    "import json\n",
    "import matplotlib.pyplot as plt\n",
    "import pandas as pd\n",
    "import os\n",
    "import tensorflow as tf\n",
    "from tensorflow.keras import layers"
   ]
  },
  {
   "cell_type": "code",
   "execution_count": 112,
   "metadata": {},
   "outputs": [
    {
     "data": {
      "text/plain": [
       "<module 'src.features' from 'C:\\\\Users\\\\Andrew\\\\Documents\\\\CeR\\\\GestRec\\\\leap_gesture_rec\\\\src\\\\features.py'>"
      ]
     },
     "execution_count": 112,
     "metadata": {},
     "output_type": "execute_result"
    }
   ],
   "source": [
    "# import modules\n",
    "import src.models\n",
    "reload(src.models)\n",
    "from src.models import *\n",
    "\n",
    "import src.data_methods\n",
    "reload(src.data_methods)\n",
    "from src.data_methods import *\n",
    "\n",
    "import src.features as features\n",
    "reload(features)"
   ]
  },
  {
   "cell_type": "code",
   "execution_count": 68,
   "metadata": {},
   "outputs": [],
   "source": [
    "gestures, g2idx, idx2g = get_gestures(version=3)"
   ]
  },
  {
   "cell_type": "code",
   "execution_count": 66,
   "metadata": {},
   "outputs": [
    {
     "name": "stdout",
     "output_type": "stream",
     "text": [
      "mean fps: 28.80\n",
      "target fps: 30\n",
      "taking every 1 frames\n",
      "99.48% of rows contain valid LH data\n",
      "100.00% of rows contain valid RH data\n",
      "Found left hand data:  True\n",
      "Found right hand data:  True\n",
      "dealt with 0 of 2692 rows with nans\n",
      "dealt with 0 of 2692 rows with nans\n",
      "Data successfully mirrored\n"
     ]
    }
   ],
   "source": [
    "# if needed, sort out dicts\n",
    "X, y = CSV2examples(raw_file='data/loopsV0/shapes_test.csv', g2idx=g2idx, n_frames=n_frames, target_fps=30, standardize=True, dicts_gen=True, derive_features=True)"
   ]
  },
  {
   "cell_type": "code",
   "execution_count": 84,
   "metadata": {},
   "outputs": [
    {
     "name": "stdout",
     "output_type": "stream",
     "text": [
      "mean fps: 28.78\n",
      "target fps: 30\n",
      "taking every 1 frames\n",
      "98.72% of rows contain valid LH data\n",
      "100.00% of rows contain valid RH data\n",
      "Found left hand data:  True\n",
      "Found right hand data:  True\n",
      "mean fps: 27.62\n",
      "target fps: 30\n",
      "taking every 1 frames\n",
      "96.23% of rows contain valid LH data\n",
      "99.16% of rows contain valid RH data\n",
      "Found left hand data:  True\n",
      "Found right hand data:  True\n",
      "mean fps: 27.62\n",
      "target fps: 30\n",
      "taking every 1 frames\n",
      "93.07% of rows contain valid LH data\n",
      "100.00% of rows contain valid RH data\n",
      "Found left hand data:  True\n",
      "Found right hand data:  True\n",
      "mean fps: 27.61\n",
      "target fps: 30\n",
      "taking every 1 frames\n",
      "96.20% of rows contain valid LH data\n",
      "100.00% of rows contain valid RH data\n",
      "Found left hand data:  True\n",
      "Found right hand data:  True\n"
     ]
    },
    {
     "name": "stderr",
     "output_type": "stream",
     "text": [
      "C:\\Users\\Andrew\\AppData\\Local\\Continuum\\anaconda3\\lib\\site-packages\\pandas\\core\\frame.py:3790: SettingWithCopyWarning: \n",
      "A value is trying to be set on a copy of a slice from a DataFrame\n",
      "\n",
      "See the caveats in the documentation: http://pandas.pydata.org/pandas-docs/stable/indexing.html#indexing-view-versus-copy\n",
      "  downcast=downcast, **kwargs)\n",
      "C:\\Users\\Andrew\\Documents\\CeR\\GestRec\\leap_gesture_rec\\src\\data_methods.py:162: SettingWithCopyWarning: \n",
      "A value is trying to be set on a copy of a slice from a DataFrame\n",
      "\n",
      "See the caveats in the documentation: http://pandas.pydata.org/pandas-docs/stable/indexing.html#indexing-view-versus-copy\n",
      "  df.dropna(inplace=True)\n"
     ]
    },
    {
     "name": "stdout",
     "output_type": "stream",
     "text": [
      "dealt with 0 of 49769 rows with nans\n",
      "dealt with 0 of 49769 rows with nans\n",
      "Data successfully mirrored\n",
      "mean fps: 27.61\n",
      "target fps: 30\n",
      "taking every 1 frames\n",
      "98.82% of rows contain valid LH data\n",
      "100.00% of rows contain valid RH data\n",
      "Found left hand data:  True\n",
      "Found right hand data:  True\n",
      "dealt with 0 of 9155 rows with nans\n",
      "(4328, 40, 50)\n"
     ]
    }
   ],
   "source": [
    "n_frames = 40\n",
    "X, y = folder2examples(folder='data/loopsV3/train/', g2idx=g2idx, n_frames=n_frames, mirror=True)\n",
    "X_val, y_val = folder2examples(folder='data/loopsV3/test/', g2idx=g2idx, n_frames=n_frames, mirror=False)\n",
    "print(X.shape)"
   ]
  },
  {
   "cell_type": "code",
   "execution_count": 113,
   "metadata": {},
   "outputs": [
    {
     "name": "stdout",
     "output_type": "stream",
     "text": [
      "Model: \"many2one\"\n",
      "_________________________________________________________________\n",
      "Layer (type)                 Output Shape              Param #   \n",
      "=================================================================\n",
      "input_13 (InputLayer)        [(None, 40, 50)]          0         \n",
      "_________________________________________________________________\n",
      "bidirectional_6 (Bidirection (None, 8)                 1760      \n",
      "_________________________________________________________________\n",
      "dense_12 (Dense)             (None, 4)                 36        \n",
      "_________________________________________________________________\n",
      "dense_13 (Dense)             (None, 4)                 20        \n",
      "_________________________________________________________________\n",
      "dense_14 (Dense)             (None, 33)                165       \n",
      "=================================================================\n",
      "Total params: 1,981\n",
      "Trainable params: 1,981\n",
      "Non-trainable params: 0\n",
      "_________________________________________________________________\n"
     ]
    }
   ],
   "source": [
    "model = many2one_model(n_features = X.shape[-1], n_frames=X.shape[1], n_gestures=len(g2idx), n_lstm_layers=1, n_dense_layers=2, rnn_units=4, recurrent_dropout=0.0, bidirectional=True)"
   ]
  },
  {
   "cell_type": "code",
   "execution_count": 114,
   "metadata": {},
   "outputs": [
    {
     "name": "stdout",
     "output_type": "stream",
     "text": [
      "Train on 4328 samples, validate on 396 samples\n",
      "Epoch 1/150\n",
      "4328/4328 [==============================] - 6s 1ms/sample - loss: 3.4833 - accuracy: 0.0451 - val_loss: 3.4539 - val_accuracy: 0.0429\n",
      "Epoch 2/150\n",
      "4328/4328 [==============================] - 2s 365us/sample - loss: 3.4077 - accuracy: 0.0615 - val_loss: 3.3017 - val_accuracy: 0.0556\n",
      "Epoch 3/150\n",
      "4328/4328 [==============================] - 2s 364us/sample - loss: 3.2267 - accuracy: 0.0850 - val_loss: 3.0851 - val_accuracy: 0.0960\n",
      "Epoch 4/150\n",
      "4328/4328 [==============================] - 2s 364us/sample - loss: 2.9853 - accuracy: 0.1063 - val_loss: 2.9092 - val_accuracy: 0.1187\n",
      "Epoch 5/150\n",
      "4328/4328 [==============================] - 2s 397us/sample - loss: 2.7862 - accuracy: 0.1278 - val_loss: 2.7487 - val_accuracy: 0.1010\n",
      "Epoch 6/150\n",
      "4328/4328 [==============================] - 2s 367us/sample - loss: 2.6250 - accuracy: 0.1361 - val_loss: 2.6227 - val_accuracy: 0.1591\n",
      "Epoch 7/150\n",
      "4328/4328 [==============================] - 2s 361us/sample - loss: 2.4894 - accuracy: 0.1911 - val_loss: 2.4902 - val_accuracy: 0.2071\n",
      "Epoch 8/150\n",
      "4328/4328 [==============================] - 2s 365us/sample - loss: 2.3577 - accuracy: 0.2331 - val_loss: 2.3881 - val_accuracy: 0.2121\n",
      "Epoch 9/150\n",
      "4328/4328 [==============================] - 2s 364us/sample - loss: 2.2352 - accuracy: 0.2662 - val_loss: 2.2889 - val_accuracy: 0.2348\n",
      "Epoch 10/150\n",
      "4328/4328 [==============================] - 2s 361us/sample - loss: 2.1216 - accuracy: 0.2997 - val_loss: 2.2398 - val_accuracy: 0.1970\n",
      "Epoch 11/150\n",
      "4328/4328 [==============================] - 2s 369us/sample - loss: 2.0247 - accuracy: 0.3152 - val_loss: 2.0745 - val_accuracy: 0.3030\n",
      "Epoch 12/150\n",
      "4328/4328 [==============================] - 2s 365us/sample - loss: 1.9347 - accuracy: 0.3440 - val_loss: 2.0174 - val_accuracy: 0.2854\n",
      "Epoch 13/150\n",
      "4328/4328 [==============================] - 2s 366us/sample - loss: 1.8505 - accuracy: 0.3623 - val_loss: 1.9580 - val_accuracy: 0.2955\n",
      "Epoch 14/150\n",
      "4328/4328 [==============================] - 2s 356us/sample - loss: 1.7769 - accuracy: 0.3886 - val_loss: 1.9317 - val_accuracy: 0.3106\n",
      "Epoch 15/150\n",
      "4328/4328 [==============================] - 2s 359us/sample - loss: 1.6956 - accuracy: 0.4258 - val_loss: 1.8501 - val_accuracy: 0.3611\n",
      "Epoch 16/150\n",
      "4328/4328 [==============================] - 2s 394us/sample - loss: 1.6233 - accuracy: 0.4651 - val_loss: 1.8051 - val_accuracy: 0.4444\n",
      "Epoch 17/150\n",
      "4328/4328 [==============================] - 2s 383us/sample - loss: 1.5579 - accuracy: 0.4884 - val_loss: 1.7463 - val_accuracy: 0.4798\n",
      "Epoch 18/150\n",
      "4328/4328 [==============================] - 2s 450us/sample - loss: 1.4857 - accuracy: 0.5162 - val_loss: 1.7304 - val_accuracy: 0.4899\n",
      "Epoch 19/150\n",
      "4328/4328 [==============================] - 2s 455us/sample - loss: 1.4628 - accuracy: 0.5192 - val_loss: 1.6231 - val_accuracy: 0.5000\n",
      "Epoch 20/150\n",
      "4328/4328 [==============================] - 2s 454us/sample - loss: 1.3875 - accuracy: 0.5545 - val_loss: 1.5787 - val_accuracy: 0.5278\n",
      "Epoch 21/150\n",
      "4328/4328 [==============================] - 2s 439us/sample - loss: 1.3324 - accuracy: 0.5823 - val_loss: 1.6048 - val_accuracy: 0.5202\n",
      "Epoch 22/150\n",
      "4328/4328 [==============================] - 2s 498us/sample - loss: 1.2776 - accuracy: 0.5982 - val_loss: 1.5393 - val_accuracy: 0.5303\n",
      "Epoch 23/150\n",
      "4328/4328 [==============================] - 2s 509us/sample - loss: 1.2341 - accuracy: 0.6181 - val_loss: 1.4939 - val_accuracy: 0.5556\n",
      "Epoch 24/150\n",
      "4328/4328 [==============================] - 2s 413us/sample - loss: 1.2056 - accuracy: 0.6273 - val_loss: 1.5227 - val_accuracy: 0.5631\n",
      "Epoch 25/150\n",
      "4328/4328 [==============================] - 2s 453us/sample - loss: 1.1837 - accuracy: 0.6317 - val_loss: 1.4888 - val_accuracy: 0.5657\n",
      "Epoch 26/150\n",
      "4328/4328 [==============================] - 2s 378us/sample - loss: 1.1456 - accuracy: 0.6460 - val_loss: 1.4714 - val_accuracy: 0.5833\n",
      "Epoch 27/150\n",
      "4328/4328 [==============================] - 2s 372us/sample - loss: 1.1169 - accuracy: 0.6470 - val_loss: 1.4334 - val_accuracy: 0.5909\n",
      "Epoch 28/150\n",
      "4328/4328 [==============================] - 2s 397us/sample - loss: 1.0846 - accuracy: 0.6486 - val_loss: 1.4380 - val_accuracy: 0.5884\n",
      "Epoch 29/150\n",
      "4328/4328 [==============================] - 2s 560us/sample - loss: 1.0447 - accuracy: 0.6707 - val_loss: 1.4216 - val_accuracy: 0.6136\n",
      "Epoch 30/150\n",
      "4328/4328 [==============================] - 2s 525us/sample - loss: 1.0269 - accuracy: 0.6710 - val_loss: 1.4035 - val_accuracy: 0.6136\n",
      "Epoch 31/150\n",
      "4328/4328 [==============================] - 2s 466us/sample - loss: 0.9913 - accuracy: 0.6906 - val_loss: 1.4099 - val_accuracy: 0.6288\n",
      "Epoch 32/150\n",
      "4328/4328 [==============================] - 2s 492us/sample - loss: 0.9802 - accuracy: 0.6922 - val_loss: 1.3444 - val_accuracy: 0.6338\n",
      "Epoch 33/150\n",
      "4328/4328 [==============================] - 2s 451us/sample - loss: 0.9399 - accuracy: 0.7068 - val_loss: 1.3928 - val_accuracy: 0.6162\n",
      "Epoch 34/150\n",
      "4328/4328 [==============================] - 2s 465us/sample - loss: 0.9098 - accuracy: 0.7133 - val_loss: 1.3857 - val_accuracy: 0.6414\n",
      "Epoch 35/150\n",
      "4328/4328 [==============================] - 2s 451us/sample - loss: 0.8876 - accuracy: 0.7271 - val_loss: 1.2690 - val_accuracy: 0.6515\n",
      "Epoch 36/150\n",
      "4328/4328 [==============================] - 2s 390us/sample - loss: 0.8948 - accuracy: 0.7403 - val_loss: 1.3914 - val_accuracy: 0.6566\n",
      "Epoch 37/150\n",
      "4328/4328 [==============================] - 2s 381us/sample - loss: 0.8647 - accuracy: 0.7456 - val_loss: 1.3044 - val_accuracy: 0.6843\n",
      "Epoch 38/150\n",
      "4328/4328 [==============================] - 2s 406us/sample - loss: 0.8259 - accuracy: 0.7590 - val_loss: 1.2744 - val_accuracy: 0.6742\n",
      "Epoch 39/150\n",
      "4328/4328 [==============================] - 2s 420us/sample - loss: 0.8000 - accuracy: 0.7666 - val_loss: 1.2655 - val_accuracy: 0.7121\n",
      "Epoch 40/150\n",
      "4328/4328 [==============================] - 2s 426us/sample - loss: 0.7906 - accuracy: 0.7745 - val_loss: 1.1696 - val_accuracy: 0.6944\n",
      "Epoch 41/150\n",
      "4328/4328 [==============================] - 2s 389us/sample - loss: 0.7647 - accuracy: 0.7842 - val_loss: 1.1656 - val_accuracy: 0.6995\n",
      "Epoch 42/150\n",
      "4328/4328 [==============================] - 2s 387us/sample - loss: 0.7722 - accuracy: 0.7877 - val_loss: 1.2113 - val_accuracy: 0.6970\n",
      "Epoch 43/150\n",
      "4328/4328 [==============================] - 2s 435us/sample - loss: 0.7515 - accuracy: 0.7858 - val_loss: 1.2282 - val_accuracy: 0.7146\n",
      "Epoch 44/150\n",
      "4328/4328 [==============================] - 2s 433us/sample - loss: 0.7190 - accuracy: 0.7994 - val_loss: 1.2357 - val_accuracy: 0.6768\n",
      "Epoch 45/150\n",
      "4328/4328 [==============================] - 2s 459us/sample - loss: 0.6905 - accuracy: 0.8078 - val_loss: 1.2260 - val_accuracy: 0.7071\n",
      "Epoch 46/150\n",
      "4328/4328 [==============================] - 2s 459us/sample - loss: 0.6786 - accuracy: 0.8145 - val_loss: 1.1711 - val_accuracy: 0.6995\n",
      "Epoch 47/150\n",
      "4328/4328 [==============================] - 2s 437us/sample - loss: 0.6663 - accuracy: 0.8149 - val_loss: 1.1491 - val_accuracy: 0.7020\n",
      "Epoch 48/150\n",
      "4328/4328 [==============================] - 2s 460us/sample - loss: 0.6472 - accuracy: 0.8195 - val_loss: 1.1527 - val_accuracy: 0.7247\n",
      "Epoch 49/150\n",
      "4328/4328 [==============================] - 2s 431us/sample - loss: 0.6464 - accuracy: 0.8207 - val_loss: 1.2321 - val_accuracy: 0.7071\n",
      "Epoch 50/150\n",
      "4328/4328 [==============================] - 2s 434us/sample - loss: 0.6251 - accuracy: 0.8327 - val_loss: 1.2020 - val_accuracy: 0.7222\n",
      "Epoch 51/150\n",
      "4328/4328 [==============================] - 2s 442us/sample - loss: 0.6114 - accuracy: 0.8378 - val_loss: 1.2523 - val_accuracy: 0.7071\n",
      "Epoch 52/150\n",
      "4328/4328 [==============================] - 2s 444us/sample - loss: 0.5923 - accuracy: 0.8427 - val_loss: 1.2660 - val_accuracy: 0.7121\n",
      "Epoch 53/150\n",
      "4328/4328 [==============================] - 2s 462us/sample - loss: 0.5831 - accuracy: 0.8415 - val_loss: 1.2827 - val_accuracy: 0.7096\n",
      "Epoch 54/150\n",
      "4328/4328 [==============================] - 2s 444us/sample - loss: 0.5910 - accuracy: 0.8392 - val_loss: 1.2021 - val_accuracy: 0.7273\n",
      "Epoch 55/150\n",
      "4328/4328 [==============================] - 2s 425us/sample - loss: 0.5825 - accuracy: 0.8438 - val_loss: 1.2636 - val_accuracy: 0.7298\n",
      "Epoch 56/150\n",
      "4328/4328 [==============================] - 2s 405us/sample - loss: 0.6296 - accuracy: 0.8281 - val_loss: 1.3339 - val_accuracy: 0.6894\n",
      "Epoch 57/150\n",
      "4328/4328 [==============================] - 2s 383us/sample - loss: 0.5980 - accuracy: 0.8343 - val_loss: 1.3058 - val_accuracy: 0.7146\n",
      "Epoch 58/150\n",
      "4328/4328 [==============================] - 2s 387us/sample - loss: 0.5676 - accuracy: 0.8452 - val_loss: 1.4265 - val_accuracy: 0.6995\n",
      "Epoch 59/150\n",
      "4328/4328 [==============================] - 2s 392us/sample - loss: 0.5676 - accuracy: 0.8466 - val_loss: 1.2528 - val_accuracy: 0.7197\n",
      "Epoch 60/150\n",
      "4328/4328 [==============================] - 2s 383us/sample - loss: 0.5340 - accuracy: 0.8561 - val_loss: 1.1701 - val_accuracy: 0.7071\n",
      "Epoch 61/150\n",
      "4328/4328 [==============================] - 2s 393us/sample - loss: 0.5212 - accuracy: 0.8526 - val_loss: 1.2145 - val_accuracy: 0.7222\n",
      "Epoch 62/150\n",
      "4328/4328 [==============================] - 2s 392us/sample - loss: 0.5349 - accuracy: 0.8563 - val_loss: 1.1584 - val_accuracy: 0.7197\n",
      "Epoch 63/150\n",
      "4328/4328 [==============================] - 2s 385us/sample - loss: 0.5056 - accuracy: 0.8618 - val_loss: 1.1737 - val_accuracy: 0.7197\n",
      "Epoch 64/150\n",
      "4328/4328 [==============================] - 2s 389us/sample - loss: 0.5049 - accuracy: 0.8628 - val_loss: 1.1156 - val_accuracy: 0.7121\n",
      "Epoch 65/150\n",
      "4328/4328 [==============================] - 2s 393us/sample - loss: 0.4830 - accuracy: 0.8713 - val_loss: 1.1458 - val_accuracy: 0.7222\n",
      "Epoch 66/150\n",
      "4328/4328 [==============================] - 2s 387us/sample - loss: 0.4883 - accuracy: 0.8655 - val_loss: 1.3672 - val_accuracy: 0.7096\n",
      "Epoch 67/150\n",
      "4328/4328 [==============================] - 2s 395us/sample - loss: 0.4727 - accuracy: 0.8697 - val_loss: 1.1877 - val_accuracy: 0.7247\n",
      "Epoch 68/150\n",
      "4328/4328 [==============================] - 2s 389us/sample - loss: 0.4625 - accuracy: 0.8736 - val_loss: 1.2239 - val_accuracy: 0.7424\n",
      "Epoch 69/150\n",
      "4328/4328 [==============================] - 2s 391us/sample - loss: 0.4527 - accuracy: 0.8792 - val_loss: 1.4304 - val_accuracy: 0.7273\n",
      "Epoch 70/150\n",
      "4328/4328 [==============================] - 2s 425us/sample - loss: 0.4787 - accuracy: 0.8736 - val_loss: 1.3583 - val_accuracy: 0.7222\n",
      "Epoch 71/150\n",
      "4328/4328 [==============================] - 2s 391us/sample - loss: 0.4444 - accuracy: 0.8805 - val_loss: 1.1677 - val_accuracy: 0.7475\n",
      "Epoch 72/150\n",
      "4328/4328 [==============================] - 2s 400us/sample - loss: 0.4325 - accuracy: 0.8849 - val_loss: 1.2571 - val_accuracy: 0.7348\n",
      "Epoch 73/150\n",
      "4328/4328 [==============================] - 2s 412us/sample - loss: 0.4339 - accuracy: 0.8840 - val_loss: 1.2785 - val_accuracy: 0.7323\n",
      "Epoch 74/150\n",
      "4328/4328 [==============================] - 2s 399us/sample - loss: 0.4313 - accuracy: 0.8882 - val_loss: 1.3160 - val_accuracy: 0.7197\n",
      "Epoch 75/150\n",
      "4328/4328 [==============================] - 2s 404us/sample - loss: 0.4556 - accuracy: 0.8752 - val_loss: 1.0656 - val_accuracy: 0.7424\n",
      "Epoch 76/150\n",
      " 650/4328 [===>..........................] - ETA: 1s - loss: 0.4264 - accuracy: 0.8692"
     ]
    },
    {
     "ename": "KeyboardInterrupt",
     "evalue": "",
     "output_type": "error",
     "traceback": [
      "\u001b[1;31m---------------------------------------------------------------------------\u001b[0m",
      "\u001b[1;31mKeyboardInterrupt\u001b[0m                         Traceback (most recent call last)",
      "\u001b[1;32m<ipython-input-114-977ea4fdd1e8>\u001b[0m in \u001b[0;36m<module>\u001b[1;34m\u001b[0m\n\u001b[0;32m      2\u001b[0m \u001b[1;31m# opt = tf.keras.optimizers.SGD(learning_rate=0.001)\u001b[0m\u001b[1;33m\u001b[0m\u001b[1;33m\u001b[0m\u001b[1;33m\u001b[0m\u001b[0m\n\u001b[0;32m      3\u001b[0m \u001b[0mmodel\u001b[0m\u001b[1;33m.\u001b[0m\u001b[0mcompile\u001b[0m\u001b[1;33m(\u001b[0m\u001b[0moptimizer\u001b[0m\u001b[1;33m=\u001b[0m\u001b[0mopt\u001b[0m\u001b[1;33m,\u001b[0m \u001b[0mloss\u001b[0m\u001b[1;33m=\u001b[0m\u001b[1;34m'sparse_categorical_crossentropy'\u001b[0m\u001b[1;33m,\u001b[0m \u001b[0mmetrics\u001b[0m\u001b[1;33m=\u001b[0m\u001b[1;33m[\u001b[0m\u001b[1;34m'accuracy'\u001b[0m\u001b[1;33m]\u001b[0m\u001b[1;33m)\u001b[0m\u001b[1;33m\u001b[0m\u001b[1;33m\u001b[0m\u001b[0m\n\u001b[1;32m----> 4\u001b[1;33m \u001b[0mhistory\u001b[0m \u001b[1;33m=\u001b[0m \u001b[0mmodel\u001b[0m\u001b[1;33m.\u001b[0m\u001b[0mfit\u001b[0m\u001b[1;33m(\u001b[0m\u001b[0mX\u001b[0m\u001b[1;33m,\u001b[0m \u001b[0my\u001b[0m\u001b[1;33m,\u001b[0m \u001b[0mvalidation_data\u001b[0m\u001b[1;33m=\u001b[0m\u001b[1;33m(\u001b[0m\u001b[0mX_val\u001b[0m\u001b[1;33m,\u001b[0m \u001b[0my_val\u001b[0m\u001b[1;33m)\u001b[0m\u001b[1;33m,\u001b[0m \u001b[0mepochs\u001b[0m\u001b[1;33m=\u001b[0m\u001b[1;36m150\u001b[0m\u001b[1;33m,\u001b[0m \u001b[0mbatch_size\u001b[0m \u001b[1;33m=\u001b[0m \u001b[1;36m50\u001b[0m\u001b[1;33m)\u001b[0m\u001b[1;33m\u001b[0m\u001b[1;33m\u001b[0m\u001b[0m\n\u001b[0m",
      "\u001b[1;32m~\\AppData\\Local\\Continuum\\anaconda3\\lib\\site-packages\\tensorflow_core\\python\\keras\\engine\\training.py\u001b[0m in \u001b[0;36mfit\u001b[1;34m(self, x, y, batch_size, epochs, verbose, callbacks, validation_split, validation_data, shuffle, class_weight, sample_weight, initial_epoch, steps_per_epoch, validation_steps, validation_freq, max_queue_size, workers, use_multiprocessing, **kwargs)\u001b[0m\n\u001b[0;32m    726\u001b[0m         \u001b[0mmax_queue_size\u001b[0m\u001b[1;33m=\u001b[0m\u001b[0mmax_queue_size\u001b[0m\u001b[1;33m,\u001b[0m\u001b[1;33m\u001b[0m\u001b[1;33m\u001b[0m\u001b[0m\n\u001b[0;32m    727\u001b[0m         \u001b[0mworkers\u001b[0m\u001b[1;33m=\u001b[0m\u001b[0mworkers\u001b[0m\u001b[1;33m,\u001b[0m\u001b[1;33m\u001b[0m\u001b[1;33m\u001b[0m\u001b[0m\n\u001b[1;32m--> 728\u001b[1;33m         use_multiprocessing=use_multiprocessing)\n\u001b[0m\u001b[0;32m    729\u001b[0m \u001b[1;33m\u001b[0m\u001b[0m\n\u001b[0;32m    730\u001b[0m   def evaluate(self,\n",
      "\u001b[1;32m~\\AppData\\Local\\Continuum\\anaconda3\\lib\\site-packages\\tensorflow_core\\python\\keras\\engine\\training_v2.py\u001b[0m in \u001b[0;36mfit\u001b[1;34m(self, model, x, y, batch_size, epochs, verbose, callbacks, validation_split, validation_data, shuffle, class_weight, sample_weight, initial_epoch, steps_per_epoch, validation_steps, validation_freq, **kwargs)\u001b[0m\n\u001b[0;32m    322\u001b[0m                 \u001b[0mmode\u001b[0m\u001b[1;33m=\u001b[0m\u001b[0mModeKeys\u001b[0m\u001b[1;33m.\u001b[0m\u001b[0mTRAIN\u001b[0m\u001b[1;33m,\u001b[0m\u001b[1;33m\u001b[0m\u001b[1;33m\u001b[0m\u001b[0m\n\u001b[0;32m    323\u001b[0m                 \u001b[0mtraining_context\u001b[0m\u001b[1;33m=\u001b[0m\u001b[0mtraining_context\u001b[0m\u001b[1;33m,\u001b[0m\u001b[1;33m\u001b[0m\u001b[1;33m\u001b[0m\u001b[0m\n\u001b[1;32m--> 324\u001b[1;33m                 total_epochs=epochs)\n\u001b[0m\u001b[0;32m    325\u001b[0m             \u001b[0mcbks\u001b[0m\u001b[1;33m.\u001b[0m\u001b[0mmake_logs\u001b[0m\u001b[1;33m(\u001b[0m\u001b[0mmodel\u001b[0m\u001b[1;33m,\u001b[0m \u001b[0mepoch_logs\u001b[0m\u001b[1;33m,\u001b[0m \u001b[0mtraining_result\u001b[0m\u001b[1;33m,\u001b[0m \u001b[0mModeKeys\u001b[0m\u001b[1;33m.\u001b[0m\u001b[0mTRAIN\u001b[0m\u001b[1;33m)\u001b[0m\u001b[1;33m\u001b[0m\u001b[1;33m\u001b[0m\u001b[0m\n\u001b[0;32m    326\u001b[0m \u001b[1;33m\u001b[0m\u001b[0m\n",
      "\u001b[1;32m~\\AppData\\Local\\Continuum\\anaconda3\\lib\\site-packages\\tensorflow_core\\python\\keras\\engine\\training_v2.py\u001b[0m in \u001b[0;36mrun_one_epoch\u001b[1;34m(model, iterator, execution_function, dataset_size, batch_size, strategy, steps_per_epoch, num_samples, mode, training_context, total_epochs)\u001b[0m\n\u001b[0;32m    121\u001b[0m         step=step, mode=mode, size=current_batch_size) as batch_logs:\n\u001b[0;32m    122\u001b[0m       \u001b[1;32mtry\u001b[0m\u001b[1;33m:\u001b[0m\u001b[1;33m\u001b[0m\u001b[1;33m\u001b[0m\u001b[0m\n\u001b[1;32m--> 123\u001b[1;33m         \u001b[0mbatch_outs\u001b[0m \u001b[1;33m=\u001b[0m \u001b[0mexecution_function\u001b[0m\u001b[1;33m(\u001b[0m\u001b[0miterator\u001b[0m\u001b[1;33m)\u001b[0m\u001b[1;33m\u001b[0m\u001b[1;33m\u001b[0m\u001b[0m\n\u001b[0m\u001b[0;32m    124\u001b[0m       \u001b[1;32mexcept\u001b[0m \u001b[1;33m(\u001b[0m\u001b[0mStopIteration\u001b[0m\u001b[1;33m,\u001b[0m \u001b[0merrors\u001b[0m\u001b[1;33m.\u001b[0m\u001b[0mOutOfRangeError\u001b[0m\u001b[1;33m)\u001b[0m\u001b[1;33m:\u001b[0m\u001b[1;33m\u001b[0m\u001b[1;33m\u001b[0m\u001b[0m\n\u001b[0;32m    125\u001b[0m         \u001b[1;31m# TODO(kaftan): File bug about tf function and errors.OutOfRangeError?\u001b[0m\u001b[1;33m\u001b[0m\u001b[1;33m\u001b[0m\u001b[1;33m\u001b[0m\u001b[0m\n",
      "\u001b[1;32m~\\AppData\\Local\\Continuum\\anaconda3\\lib\\site-packages\\tensorflow_core\\python\\keras\\engine\\training_v2_utils.py\u001b[0m in \u001b[0;36mexecution_function\u001b[1;34m(input_fn)\u001b[0m\n\u001b[0;32m     84\u001b[0m     \u001b[1;31m# `numpy` translates Tensors to values in Eager mode.\u001b[0m\u001b[1;33m\u001b[0m\u001b[1;33m\u001b[0m\u001b[1;33m\u001b[0m\u001b[0m\n\u001b[0;32m     85\u001b[0m     return nest.map_structure(_non_none_constant_value,\n\u001b[1;32m---> 86\u001b[1;33m                               distributed_function(input_fn))\n\u001b[0m\u001b[0;32m     87\u001b[0m \u001b[1;33m\u001b[0m\u001b[0m\n\u001b[0;32m     88\u001b[0m   \u001b[1;32mreturn\u001b[0m \u001b[0mexecution_function\u001b[0m\u001b[1;33m\u001b[0m\u001b[1;33m\u001b[0m\u001b[0m\n",
      "\u001b[1;32m~\\AppData\\Local\\Continuum\\anaconda3\\lib\\site-packages\\tensorflow_core\\python\\eager\\def_function.py\u001b[0m in \u001b[0;36m__call__\u001b[1;34m(self, *args, **kwds)\u001b[0m\n\u001b[0;32m    455\u001b[0m \u001b[1;33m\u001b[0m\u001b[0m\n\u001b[0;32m    456\u001b[0m     \u001b[0mtracing_count\u001b[0m \u001b[1;33m=\u001b[0m \u001b[0mself\u001b[0m\u001b[1;33m.\u001b[0m\u001b[0m_get_tracing_count\u001b[0m\u001b[1;33m(\u001b[0m\u001b[1;33m)\u001b[0m\u001b[1;33m\u001b[0m\u001b[1;33m\u001b[0m\u001b[0m\n\u001b[1;32m--> 457\u001b[1;33m     \u001b[0mresult\u001b[0m \u001b[1;33m=\u001b[0m \u001b[0mself\u001b[0m\u001b[1;33m.\u001b[0m\u001b[0m_call\u001b[0m\u001b[1;33m(\u001b[0m\u001b[1;33m*\u001b[0m\u001b[0margs\u001b[0m\u001b[1;33m,\u001b[0m \u001b[1;33m**\u001b[0m\u001b[0mkwds\u001b[0m\u001b[1;33m)\u001b[0m\u001b[1;33m\u001b[0m\u001b[1;33m\u001b[0m\u001b[0m\n\u001b[0m\u001b[0;32m    458\u001b[0m     \u001b[1;32mif\u001b[0m \u001b[0mtracing_count\u001b[0m \u001b[1;33m==\u001b[0m \u001b[0mself\u001b[0m\u001b[1;33m.\u001b[0m\u001b[0m_get_tracing_count\u001b[0m\u001b[1;33m(\u001b[0m\u001b[1;33m)\u001b[0m\u001b[1;33m:\u001b[0m\u001b[1;33m\u001b[0m\u001b[1;33m\u001b[0m\u001b[0m\n\u001b[0;32m    459\u001b[0m       \u001b[0mself\u001b[0m\u001b[1;33m.\u001b[0m\u001b[0m_call_counter\u001b[0m\u001b[1;33m.\u001b[0m\u001b[0mcalled_without_tracing\u001b[0m\u001b[1;33m(\u001b[0m\u001b[1;33m)\u001b[0m\u001b[1;33m\u001b[0m\u001b[1;33m\u001b[0m\u001b[0m\n",
      "\u001b[1;32m~\\AppData\\Local\\Continuum\\anaconda3\\lib\\site-packages\\tensorflow_core\\python\\eager\\def_function.py\u001b[0m in \u001b[0;36m_call\u001b[1;34m(self, *args, **kwds)\u001b[0m\n\u001b[0;32m    485\u001b[0m       \u001b[1;31m# In this case we have created variables on the first call, so we run the\u001b[0m\u001b[1;33m\u001b[0m\u001b[1;33m\u001b[0m\u001b[1;33m\u001b[0m\u001b[0m\n\u001b[0;32m    486\u001b[0m       \u001b[1;31m# defunned version which is guaranteed to never create variables.\u001b[0m\u001b[1;33m\u001b[0m\u001b[1;33m\u001b[0m\u001b[1;33m\u001b[0m\u001b[0m\n\u001b[1;32m--> 487\u001b[1;33m       \u001b[1;32mreturn\u001b[0m \u001b[0mself\u001b[0m\u001b[1;33m.\u001b[0m\u001b[0m_stateless_fn\u001b[0m\u001b[1;33m(\u001b[0m\u001b[1;33m*\u001b[0m\u001b[0margs\u001b[0m\u001b[1;33m,\u001b[0m \u001b[1;33m**\u001b[0m\u001b[0mkwds\u001b[0m\u001b[1;33m)\u001b[0m  \u001b[1;31m# pylint: disable=not-callable\u001b[0m\u001b[1;33m\u001b[0m\u001b[1;33m\u001b[0m\u001b[0m\n\u001b[0m\u001b[0;32m    488\u001b[0m     \u001b[1;32melif\u001b[0m \u001b[0mself\u001b[0m\u001b[1;33m.\u001b[0m\u001b[0m_stateful_fn\u001b[0m \u001b[1;32mis\u001b[0m \u001b[1;32mnot\u001b[0m \u001b[1;32mNone\u001b[0m\u001b[1;33m:\u001b[0m\u001b[1;33m\u001b[0m\u001b[1;33m\u001b[0m\u001b[0m\n\u001b[0;32m    489\u001b[0m       \u001b[1;31m# Release the lock early so that multiple threads can perform the call\u001b[0m\u001b[1;33m\u001b[0m\u001b[1;33m\u001b[0m\u001b[1;33m\u001b[0m\u001b[0m\n",
      "\u001b[1;32m~\\AppData\\Local\\Continuum\\anaconda3\\lib\\site-packages\\tensorflow_core\\python\\eager\\function.py\u001b[0m in \u001b[0;36m__call__\u001b[1;34m(self, *args, **kwargs)\u001b[0m\n\u001b[0;32m   1821\u001b[0m     \u001b[1;34m\"\"\"Calls a graph function specialized to the inputs.\"\"\"\u001b[0m\u001b[1;33m\u001b[0m\u001b[1;33m\u001b[0m\u001b[0m\n\u001b[0;32m   1822\u001b[0m     \u001b[0mgraph_function\u001b[0m\u001b[1;33m,\u001b[0m \u001b[0margs\u001b[0m\u001b[1;33m,\u001b[0m \u001b[0mkwargs\u001b[0m \u001b[1;33m=\u001b[0m \u001b[0mself\u001b[0m\u001b[1;33m.\u001b[0m\u001b[0m_maybe_define_function\u001b[0m\u001b[1;33m(\u001b[0m\u001b[0margs\u001b[0m\u001b[1;33m,\u001b[0m \u001b[0mkwargs\u001b[0m\u001b[1;33m)\u001b[0m\u001b[1;33m\u001b[0m\u001b[1;33m\u001b[0m\u001b[0m\n\u001b[1;32m-> 1823\u001b[1;33m     \u001b[1;32mreturn\u001b[0m \u001b[0mgraph_function\u001b[0m\u001b[1;33m.\u001b[0m\u001b[0m_filtered_call\u001b[0m\u001b[1;33m(\u001b[0m\u001b[0margs\u001b[0m\u001b[1;33m,\u001b[0m \u001b[0mkwargs\u001b[0m\u001b[1;33m)\u001b[0m  \u001b[1;31m# pylint: disable=protected-access\u001b[0m\u001b[1;33m\u001b[0m\u001b[1;33m\u001b[0m\u001b[0m\n\u001b[0m\u001b[0;32m   1824\u001b[0m \u001b[1;33m\u001b[0m\u001b[0m\n\u001b[0;32m   1825\u001b[0m   \u001b[1;33m@\u001b[0m\u001b[0mproperty\u001b[0m\u001b[1;33m\u001b[0m\u001b[1;33m\u001b[0m\u001b[0m\n",
      "\u001b[1;32m~\\AppData\\Local\\Continuum\\anaconda3\\lib\\site-packages\\tensorflow_core\\python\\eager\\function.py\u001b[0m in \u001b[0;36m_filtered_call\u001b[1;34m(self, args, kwargs)\u001b[0m\n\u001b[0;32m   1139\u001b[0m          if isinstance(t, (ops.Tensor,\n\u001b[0;32m   1140\u001b[0m                            resource_variable_ops.BaseResourceVariable))),\n\u001b[1;32m-> 1141\u001b[1;33m         self.captured_inputs)\n\u001b[0m\u001b[0;32m   1142\u001b[0m \u001b[1;33m\u001b[0m\u001b[0m\n\u001b[0;32m   1143\u001b[0m   \u001b[1;32mdef\u001b[0m \u001b[0m_call_flat\u001b[0m\u001b[1;33m(\u001b[0m\u001b[0mself\u001b[0m\u001b[1;33m,\u001b[0m \u001b[0margs\u001b[0m\u001b[1;33m,\u001b[0m \u001b[0mcaptured_inputs\u001b[0m\u001b[1;33m,\u001b[0m \u001b[0mcancellation_manager\u001b[0m\u001b[1;33m=\u001b[0m\u001b[1;32mNone\u001b[0m\u001b[1;33m)\u001b[0m\u001b[1;33m:\u001b[0m\u001b[1;33m\u001b[0m\u001b[1;33m\u001b[0m\u001b[0m\n",
      "\u001b[1;32m~\\AppData\\Local\\Continuum\\anaconda3\\lib\\site-packages\\tensorflow_core\\python\\eager\\function.py\u001b[0m in \u001b[0;36m_call_flat\u001b[1;34m(self, args, captured_inputs, cancellation_manager)\u001b[0m\n\u001b[0;32m   1222\u001b[0m     \u001b[1;32mif\u001b[0m \u001b[0mexecuting_eagerly\u001b[0m\u001b[1;33m:\u001b[0m\u001b[1;33m\u001b[0m\u001b[1;33m\u001b[0m\u001b[0m\n\u001b[0;32m   1223\u001b[0m       flat_outputs = forward_function.call(\n\u001b[1;32m-> 1224\u001b[1;33m           ctx, args, cancellation_manager=cancellation_manager)\n\u001b[0m\u001b[0;32m   1225\u001b[0m     \u001b[1;32melse\u001b[0m\u001b[1;33m:\u001b[0m\u001b[1;33m\u001b[0m\u001b[1;33m\u001b[0m\u001b[0m\n\u001b[0;32m   1226\u001b[0m       \u001b[0mgradient_name\u001b[0m \u001b[1;33m=\u001b[0m \u001b[0mself\u001b[0m\u001b[1;33m.\u001b[0m\u001b[0m_delayed_rewrite_functions\u001b[0m\u001b[1;33m.\u001b[0m\u001b[0mregister\u001b[0m\u001b[1;33m(\u001b[0m\u001b[1;33m)\u001b[0m\u001b[1;33m\u001b[0m\u001b[1;33m\u001b[0m\u001b[0m\n",
      "\u001b[1;32m~\\AppData\\Local\\Continuum\\anaconda3\\lib\\site-packages\\tensorflow_core\\python\\eager\\function.py\u001b[0m in \u001b[0;36mcall\u001b[1;34m(self, ctx, args, cancellation_manager)\u001b[0m\n\u001b[0;32m    509\u001b[0m               \u001b[0minputs\u001b[0m\u001b[1;33m=\u001b[0m\u001b[0margs\u001b[0m\u001b[1;33m,\u001b[0m\u001b[1;33m\u001b[0m\u001b[1;33m\u001b[0m\u001b[0m\n\u001b[0;32m    510\u001b[0m               \u001b[0mattrs\u001b[0m\u001b[1;33m=\u001b[0m\u001b[1;33m(\u001b[0m\u001b[1;34m\"executor_type\"\u001b[0m\u001b[1;33m,\u001b[0m \u001b[0mexecutor_type\u001b[0m\u001b[1;33m,\u001b[0m \u001b[1;34m\"config_proto\"\u001b[0m\u001b[1;33m,\u001b[0m \u001b[0mconfig\u001b[0m\u001b[1;33m)\u001b[0m\u001b[1;33m,\u001b[0m\u001b[1;33m\u001b[0m\u001b[1;33m\u001b[0m\u001b[0m\n\u001b[1;32m--> 511\u001b[1;33m               ctx=ctx)\n\u001b[0m\u001b[0;32m    512\u001b[0m         \u001b[1;32melse\u001b[0m\u001b[1;33m:\u001b[0m\u001b[1;33m\u001b[0m\u001b[1;33m\u001b[0m\u001b[0m\n\u001b[0;32m    513\u001b[0m           outputs = execute.execute_with_cancellation(\n",
      "\u001b[1;32m~\\AppData\\Local\\Continuum\\anaconda3\\lib\\site-packages\\tensorflow_core\\python\\eager\\execute.py\u001b[0m in \u001b[0;36mquick_execute\u001b[1;34m(op_name, num_outputs, inputs, attrs, ctx, name)\u001b[0m\n\u001b[0;32m     59\u001b[0m     tensors = pywrap_tensorflow.TFE_Py_Execute(ctx._handle, device_name,\n\u001b[0;32m     60\u001b[0m                                                \u001b[0mop_name\u001b[0m\u001b[1;33m,\u001b[0m \u001b[0minputs\u001b[0m\u001b[1;33m,\u001b[0m \u001b[0mattrs\u001b[0m\u001b[1;33m,\u001b[0m\u001b[1;33m\u001b[0m\u001b[1;33m\u001b[0m\u001b[0m\n\u001b[1;32m---> 61\u001b[1;33m                                                num_outputs)\n\u001b[0m\u001b[0;32m     62\u001b[0m   \u001b[1;32mexcept\u001b[0m \u001b[0mcore\u001b[0m\u001b[1;33m.\u001b[0m\u001b[0m_NotOkStatusException\u001b[0m \u001b[1;32mas\u001b[0m \u001b[0me\u001b[0m\u001b[1;33m:\u001b[0m\u001b[1;33m\u001b[0m\u001b[1;33m\u001b[0m\u001b[0m\n\u001b[0;32m     63\u001b[0m     \u001b[1;32mif\u001b[0m \u001b[0mname\u001b[0m \u001b[1;32mis\u001b[0m \u001b[1;32mnot\u001b[0m \u001b[1;32mNone\u001b[0m\u001b[1;33m:\u001b[0m\u001b[1;33m\u001b[0m\u001b[1;33m\u001b[0m\u001b[0m\n",
      "\u001b[1;31mKeyboardInterrupt\u001b[0m: "
     ]
    }
   ],
   "source": [
    "opt = tf.keras.optimizers.Adam(learning_rate=0.001)\n",
    "# opt = tf.keras.optimizers.SGD(learning_rate=0.001)\n",
    "model.compile(optimizer=opt, loss='sparse_categorical_crossentropy', metrics=['accuracy'])\n",
    "history = model.fit(X, y, validation_data=(X_val, y_val), epochs=150, batch_size = 50)"
   ]
  },
  {
   "cell_type": "code",
   "execution_count": 107,
   "metadata": {},
   "outputs": [],
   "source": [
    "model.save('models/V3/40f_4hs_bi.h5')"
   ]
  },
  {
   "cell_type": "code",
   "execution_count": 49,
   "metadata": {},
   "outputs": [],
   "source": [
    "model = tf.keras.models.load_model('models/V3/40f_5hs.h5')"
   ]
  },
  {
   "cell_type": "code",
   "execution_count": 24,
   "metadata": {},
   "outputs": [
    {
     "name": "stdout",
     "output_type": "stream",
     "text": [
      "mean fps: 20.82\n",
      "target fps: 25\n",
      "taking every 1 frames\n",
      "100.00% of rows contain valid LH data\n",
      "100.00% of rows contain valid RH data\n",
      "Found left hand data:  True\n",
      "Found right hand data:  True\n",
      "dealt with 0 of 1600 rows with nans\n",
      "dealt with 0 of 1600 rows with nans\n",
      "Data successfully mirrored\n"
     ]
    }
   ],
   "source": [
    "# load test data\n",
    "X_test, y_test = CSV2examples('recordings/cputest-maxed.csv', g2idx=g2idx, n_frames=40)"
   ]
  },
  {
   "cell_type": "code",
   "execution_count": 20,
   "metadata": {},
   "outputs": [
    {
     "name": "stdout",
     "output_type": "stream",
     "text": [
      "76\n",
      "[[5.1329839e-03 1.2742927e-04 1.3233292e-03 8.1423987e-03 3.8563199e-02\n",
      "  1.0936646e-02 7.2512496e-01 2.1064912e-01]]\n",
      "Predicted:  shuffle_over\n",
      "Truth:  shuffle_over\n"
     ]
    }
   ],
   "source": [
    "# predict on a random test case\n",
    "i = np.random.randint(0, len(X_test))\n",
    "print(i)\n",
    "pred = model.predict(np.expand_dims(np.array(X_test[i]), axis=0))\n",
    "print(pred)\n",
    "print('Predicted: ', idx2g[np.argmax(pred)])\n",
    "print('Truth: ', idx2g[y_test[i]])"
   ]
  },
  {
   "cell_type": "code",
   "execution_count": 54,
   "metadata": {},
   "outputs": [
    {
     "name": "stdout",
     "output_type": "stream",
     "text": [
      "so_so\n"
     ]
    }
   ],
   "source": [
    "print(idx2g[y[1]])"
   ]
  },
  {
   "cell_type": "code",
   "execution_count": 111,
   "metadata": {},
   "outputs": [
    {
     "data": {
      "image/png": "[encoded data removed]",
      "text/plain": [
       "<Figure size 432x288 with 1 Axes>"
      ]
     },
     "metadata": {
      "needs_background": "light"
     },
     "output_type": "display_data"
    },
    {
     "data": {
      "image/png": "[encoded data removed]",
      "text/plain": [
       "<Figure size 432x288 with 1 Axes>"
      ]
     },
     "metadata": {
      "needs_background": "light"
     },
     "output_type": "display_data"
    }
   ],
   "source": [
    "# plot history:\n",
    "plt_metric(history, 'loss')\n",
    "plt_metric(history, 'accuracy')"
   ]
  },
  {
   "cell_type": "code",
   "execution_count": null,
   "metadata": {},
   "outputs": [],
   "source": [
    "# plot history:\n",
    "plt_metric(history, 'loss')\n",
    "plt_metric(history, 'accuracy')"
   ]
  },
  {
   "cell_type": "code",
   "execution_count": 106,
   "metadata": {},
   "outputs": [
    {
     "name": "stdout",
     "output_type": "stream",
     "text": [
      "[('wave', 0.08), ('maybe', 0.58), ('open_close', 0.58), ('multiple', 0.67), ('small', 0.75), ('this_big', 0.75), ('smoothing_sand', 0.75), ('why', 0.75), ('stop', 0.83), ('middle_finger', 0.83), ('love_heart_set', 0.83), ('cup_hands', 0.83), ('fist', 0.92), ('peace', 0.92), ('so_so', 0.92), ('thumbs_up', 0.92), ('typing', 0.92), ('counting_hands_together', 0.92), ('driving', 0.92), ('gather_leaves', 0.92), ('no_gesture', 1.0), ('call_me', 1.0), ('gun', 1.0), ('ok', 1.0), ('pointing', 1.0), ('shuffle_over', 1.0), ('thumbs_down', 1.0), ('finger_drawing', 1.0), ('triangle_set', 1.0), ('circle_set', 1.0), ('path', 1.0), ('robotic_arm', 1.0), ('drawing', 1.0)]\n"
     ]
    }
   ],
   "source": [
    "# get confusion matrix\n",
    "pred = np.argmax(model.predict(X_val), axis=-1)\n",
    "\n",
    "c_matrix = pd.crosstab(y_val, pred, rownames=['Actual'], colnames=['Predicted'], normalize='index')\n",
    "\n",
    "accuracy = {g: 0 for g in g2idx.keys()}\n",
    "for i in c_matrix.index:\n",
    "    if i not in c_matrix.columns:\n",
    "        pass\n",
    "    else:\n",
    "        accuracy[idx2g[i]] = round(c_matrix.loc[i,i],2)\n",
    "\n",
    "print(sorted(accuracy.items(), key=lambda x: x[1]))"
   ]
  },
  {
   "cell_type": "markdown",
   "metadata": {},
   "source": [
    "Wave and middle finger most urgent, not being recognized at all.\n",
    "stop and peace, redo. "
   ]
  },
  {
   "cell_type": "code",
   "execution_count": 108,
   "metadata": {},
   "outputs": [
    {
     "name": "stdout",
     "output_type": "stream",
     "text": [
      "[('multiple', 0.96), ('path', 0.96), ('peace', 0.97), ('thumbs_up', 0.97), ('middle_finger', 0.97), ('maybe', 0.98), ('shuffle_over', 0.98), ('typing', 0.98), ('counting_hands_together', 0.98), ('driving', 0.98), ('gather_leaves', 0.98), ('drawing', 0.98), ('fist', 0.99), ('gun', 0.99), ('finger_drawing', 0.99), ('small', 0.99), ('this_big', 0.99), ('smoothing_sand', 0.99), ('why', 0.99), ('robotic_arm', 0.99), ('no_gesture', 1.0), ('call_me', 1.0), ('ok', 1.0), ('open_close', 1.0), ('pointing', 1.0), ('so_so', 1.0), ('stop', 1.0), ('thumbs_down', 1.0), ('wave', 1.0), ('triangle_set', 1.0), ('circle_set', 1.0), ('love_heart_set', 1.0), ('cup_hands', 1.0)]\n"
     ]
    }
   ],
   "source": [
    "# get confusion matrix\n",
    "pred = np.argmax(model.predict(X), axis=-1)\n",
    "\n",
    "c_matrix = pd.crosstab(y, pred, rownames=['Actual'], colnames=['Predicted'], normalize='index')\n",
    "\n",
    "accuracy = {g: 0 for g in g2idx.keys()}\n",
    "for i in c_matrix.index:\n",
    "    if i not in c_matrix.columns:\n",
    "        pass\n",
    "    else:\n",
    "        accuracy[idx2g[i]] = round(c_matrix.loc[i,i],2)\n",
    "\n",
    "print(sorted(accuracy.items(), key=lambda x: x[1]))\n",
    "    "
   ]
  },
  {
   "cell_type": "code",
   "execution_count": 21,
   "metadata": {},
   "outputs": [
    {
     "data": {
      "text/plain": [
       "Int64Index([ 0,  1,  2,  3,  4,  5,  6,  7,  8,  9, 10, 11, 12, 13, 14, 15, 16,\n",
       "            17, 18, 19, 20, 21, 22, 23, 24, 25, 26, 27, 28, 29, 30, 31, 32],\n",
       "           dtype='int64', name='Actual')"
      ]
     },
     "execution_count": 21,
     "metadata": {},
     "output_type": "execute_result"
    }
   ],
   "source": [
    "c_matrix.index"
   ]
  }
 ],
 "metadata": {
  "kernelspec": {
   "display_name": "Python 3",
   "language": "python",
   "name": "python3"
  },
  "language_info": {
   "codemirror_mode": {
    "name": "ipython",
    "version": 3
   },
   "file_extension": ".py",
   "mimetype": "text/x-python",
   "name": "python",
   "nbconvert_exporter": "python",
   "pygments_lexer": "ipython3",
   "version": "3.7.1"
  }
 },
 "nbformat": 4,
 "nbformat_minor": 2
}
