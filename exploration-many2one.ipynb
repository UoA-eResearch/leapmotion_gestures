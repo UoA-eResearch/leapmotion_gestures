{
 "cells": [
  {
   "cell_type": "code",
   "execution_count": 2,
   "metadata": {},
   "outputs": [],
   "source": [
    "from importlib import reload\n",
    "import numpy as np\n",
    "import json\n",
    "import matplotlib.pyplot as plt\n",
    "import pandas as pd\n",
    "import os\n",
    "import tensorflow as tf\n",
    "from tensorflow.keras import layers"
   ]
  },
  {
   "cell_type": "code",
   "execution_count": 132,
   "metadata": {},
   "outputs": [
    {
     "data": {
      "text/plain": [
       "<module 'src.features' from 'C:\\\\Users\\\\Andrew\\\\Documents\\\\CeR\\\\GestRec\\\\leap_gesture_rec\\\\src\\\\features.py'>"
      ]
     },
     "execution_count": 132,
     "metadata": {},
     "output_type": "execute_result"
    }
   ],
   "source": [
    "# import modules\n",
    "import src.models\n",
    "reload(src.models)\n",
    "from src.models import *\n",
    "\n",
    "import src.dataMethods\n",
    "reload(src.dataMethods)\n",
    "from src.dataMethods import *\n",
    "\n",
    "import src.features as features\n",
    "reload(features)"
   ]
  },
  {
   "cell_type": "code",
   "execution_count": 62,
   "metadata": {},
   "outputs": [],
   "source": [
    "gestures, g2idx, idx2g = get_gestures(version=1)"
   ]
  },
  {
   "cell_type": "code",
   "execution_count": null,
   "metadata": {},
   "outputs": [],
   "source": [
    "b = 'recordings/derived_test.csv'\n",
    "df = CSV2VoI(b)\n",
    "print(df[['left_index_tipPosition_0', 'left_index_tipPosition_1', 'left_pinchDistance']])\n",
    "print(df[['right_index_tipPosition_0', 'right_index_tipPosition_1', 'right_pinchDistance']])\n",
    "df = flip_data(df)\n",
    "print(df[['right_index_tipPosition_0', 'right_index_tipPosition_1', 'right_pinchDistance']])\n",
    "print(df[['left_index_tipPosition_0', 'left_index_tipPosition_1', 'left_pinchDistance']])"
   ]
  },
  {
   "cell_type": "code",
   "execution_count": 137,
   "metadata": {},
   "outputs": [
    {
     "name": "stdout",
     "output_type": "stream",
     "text": [
      "mean fps: 28.79\n",
      "target fps: 30\n",
      "taking every 1 frames\n",
      "99.71% of rows contain valid LH data\n",
      "100.00% of rows contain valid RH data\n",
      "Found left hand data:  True\n",
      "Found right hand data:  True\n"
     ]
    },
    {
     "name": "stderr",
     "output_type": "stream",
     "text": [
      "C:\\Users\\Andrew\\AppData\\Local\\Continuum\\anaconda3\\lib\\site-packages\\pandas\\core\\frame.py:3790: SettingWithCopyWarning: \n",
      "A value is trying to be set on a copy of a slice from a DataFrame\n",
      "\n",
      "See the caveats in the documentation: http://pandas.pydata.org/pandas-docs/stable/indexing.html#indexing-view-versus-copy\n",
      "  downcast=downcast, **kwargs)\n",
      "C:\\Users\\Andrew\\Documents\\CeR\\GestRec\\leap_gesture_rec\\src\\dataMethods.py:219: SettingWithCopyWarning: \n",
      "A value is trying to be set on a copy of a slice from a DataFrame\n",
      "\n",
      "See the caveats in the documentation: http://pandas.pydata.org/pandas-docs/stable/indexing.html#indexing-view-versus-copy\n",
      "  df.dropna(inplace=True)\n"
     ]
    },
    {
     "name": "stdout",
     "output_type": "stream",
     "text": [
      "dealt with 7 of 6953 rows with nans\n",
      "Data successfully mirrored\n",
      "mean fps: 28.80\n",
      "target fps: 30\n",
      "taking every 1 frames\n",
      "99.54% of rows contain valid LH data\n",
      "100.00% of rows contain valid RH data\n",
      "Found left hand data:  True\n",
      "Found right hand data:  True\n",
      "dealt with 0 of 2409 rows with nans\n",
      "(312, 40, 48)\n"
     ]
    }
   ],
   "source": [
    "mirror_train = 'data/mirror/mirror_train.csv'\n",
    "mirror_val = 'data/mirror/mirror_test.csv'\n",
    "shape_train = 'data/loopsV0/shapes2loops.csv'\n",
    "shape_test = 'data/loopsV0/shapes_test.csv'\n",
    "n_frames = 40\n",
    "X, y = CSV2examples(raw_file=mirror_train, g2idx=g2idx, n_frames=n_frames, target_fps=30, standardize=True, dicts_gen=False, mirror=True)\n",
    "X_val, y_val = CSV2examples(raw_file=mirror_val, g2idx=g2idx, n_frames=n_frames, target_fps=30, standardize=True, dicts_gen=False)\n",
    "print(X.shape)"
   ]
  },
  {
   "cell_type": "code",
   "execution_count": null,
   "metadata": {},
   "outputs": [],
   "source": [
    "X, y = folder2examples('data/train/', target_fps=25, g2idx=g2idx)"
   ]
  },
  {
   "cell_type": "code",
   "execution_count": 138,
   "metadata": {},
   "outputs": [
    {
     "name": "stdout",
     "output_type": "stream",
     "text": [
      "Model: \"many2one\"\n",
      "_________________________________________________________________\n",
      "Layer (type)                 Output Shape              Param #   \n",
      "=================================================================\n",
      "input_20 (InputLayer)        [(None, 40, 48)]          0         \n",
      "_________________________________________________________________\n",
      "bidirectional_19 (Bidirectio (None, 10)                2160      \n",
      "_________________________________________________________________\n",
      "dense_19 (Dense)             (None, 8)                 88        \n",
      "=================================================================\n",
      "Total params: 2,248\n",
      "Trainable params: 2,248\n",
      "Non-trainable params: 0\n",
      "_________________________________________________________________\n"
     ]
    }
   ],
   "source": [
    "model = many2one_model(n_features = X.shape[-1], n_frames=X.shape[1], n_gestures=len(g2idx), n_layers=1, rnn_units=5, recurrent_dropout=0.2, bidirectional=True)"
   ]
  },
  {
   "cell_type": "code",
   "execution_count": 139,
   "metadata": {},
   "outputs": [
    {
     "name": "stdout",
     "output_type": "stream",
     "text": [
      "Train on 198 samples, validate on 107 samples\n",
      "Epoch 1/50\n",
      "198/198 [==============================] - 4s 19ms/sample - loss: 2.0722 - accuracy: 0.1212 - val_loss: 2.0013 - val_accuracy: 0.1776\n",
      "Epoch 2/50\n",
      "198/198 [==============================] - 0s 846us/sample - loss: 2.0196 - accuracy: 0.1970 - val_loss: 1.9743 - val_accuracy: 0.1776\n",
      "Epoch 3/50\n",
      "198/198 [==============================] - 0s 836us/sample - loss: 1.9861 - accuracy: 0.2374 - val_loss: 1.9487 - val_accuracy: 0.1682\n",
      "Epoch 4/50\n",
      "198/198 [==============================] - 0s 947us/sample - loss: 1.9522 - accuracy: 0.2677 - val_loss: 1.9242 - val_accuracy: 0.1776\n",
      "Epoch 5/50\n",
      "198/198 [==============================] - 0s 907us/sample - loss: 1.9167 - accuracy: 0.3030 - val_loss: 1.8994 - val_accuracy: 0.1776\n",
      "Epoch 6/50\n",
      "198/198 [==============================] - 0s 897us/sample - loss: 1.8889 - accuracy: 0.3131 - val_loss: 1.8741 - val_accuracy: 0.2150\n",
      "Epoch 7/50\n",
      "198/198 [==============================] - 0s 881us/sample - loss: 1.8527 - accuracy: 0.3788 - val_loss: 1.8492 - val_accuracy: 0.2243\n",
      "Epoch 8/50\n",
      "198/198 [==============================] - 0s 947us/sample - loss: 1.8162 - accuracy: 0.3889 - val_loss: 1.8341 - val_accuracy: 0.3084\n",
      "Epoch 9/50\n",
      "198/198 [==============================] - 0s 922us/sample - loss: 1.7823 - accuracy: 0.3990 - val_loss: 1.8285 - val_accuracy: 0.3271\n",
      "Epoch 10/50\n",
      "198/198 [==============================] - 0s 922us/sample - loss: 1.7428 - accuracy: 0.4545 - val_loss: 1.8108 - val_accuracy: 0.3271\n",
      "Epoch 11/50\n",
      "198/198 [==============================] - 0s 786us/sample - loss: 1.7020 - accuracy: 0.5000 - val_loss: 1.7737 - val_accuracy: 0.3925\n",
      "Epoch 12/50\n",
      "198/198 [==============================] - 0s 740us/sample - loss: 1.6627 - accuracy: 0.5455 - val_loss: 1.7331 - val_accuracy: 0.4112\n",
      "Epoch 13/50\n",
      "198/198 [==============================] - 0s 811us/sample - loss: 1.6250 - accuracy: 0.5404 - val_loss: 1.7073 - val_accuracy: 0.4299\n",
      "Epoch 14/50\n",
      "198/198 [==============================] - 0s 851us/sample - loss: 1.5839 - accuracy: 0.5505 - val_loss: 1.6616 - val_accuracy: 0.4486\n",
      "Epoch 15/50\n",
      "198/198 [==============================] - 0s 781us/sample - loss: 1.5379 - accuracy: 0.5859 - val_loss: 1.6101 - val_accuracy: 0.4486\n",
      "Epoch 16/50\n",
      "198/198 [==============================] - 0s 902us/sample - loss: 1.5008 - accuracy: 0.5808 - val_loss: 1.5855 - val_accuracy: 0.4673\n",
      "Epoch 17/50\n",
      "198/198 [==============================] - 0s 902us/sample - loss: 1.4649 - accuracy: 0.5909 - val_loss: 1.5544 - val_accuracy: 0.5047\n",
      "Epoch 18/50\n",
      "198/198 [==============================] - 0s 811us/sample - loss: 1.4218 - accuracy: 0.6111 - val_loss: 1.5379 - val_accuracy: 0.5047\n",
      "Epoch 19/50\n",
      "198/198 [==============================] - 0s 801us/sample - loss: 1.3832 - accuracy: 0.6263 - val_loss: 1.5191 - val_accuracy: 0.5140\n",
      "Epoch 20/50\n",
      "198/198 [==============================] - 0s 861us/sample - loss: 1.3498 - accuracy: 0.6162 - val_loss: 1.4888 - val_accuracy: 0.5607\n",
      "Epoch 21/50\n",
      "198/198 [==============================] - 0s 972us/sample - loss: 1.3209 - accuracy: 0.6414 - val_loss: 1.4585 - val_accuracy: 0.5794\n",
      "Epoch 22/50\n",
      "198/198 [==============================] - 0s 947us/sample - loss: 1.2873 - accuracy: 0.6566 - val_loss: 1.3876 - val_accuracy: 0.6075\n",
      "Epoch 23/50\n",
      "198/198 [==============================] - 0s 806us/sample - loss: 1.2457 - accuracy: 0.6869 - val_loss: 1.3170 - val_accuracy: 0.6729\n",
      "Epoch 24/50\n",
      "198/198 [==============================] - 0s 922us/sample - loss: 1.2130 - accuracy: 0.7020 - val_loss: 1.2823 - val_accuracy: 0.6916\n",
      "Epoch 25/50\n",
      "198/198 [==============================] - 0s 952us/sample - loss: 1.1834 - accuracy: 0.7172 - val_loss: 1.2514 - val_accuracy: 0.6916\n",
      "Epoch 26/50\n",
      "198/198 [==============================] - 0s 816us/sample - loss: 1.1588 - accuracy: 0.7778 - val_loss: 1.2239 - val_accuracy: 0.7009\n",
      "Epoch 27/50\n",
      "198/198 [==============================] - 0s 766us/sample - loss: 1.1221 - accuracy: 0.7879 - val_loss: 1.1962 - val_accuracy: 0.7009\n",
      "Epoch 28/50\n",
      "198/198 [==============================] - 0s 987us/sample - loss: 1.0765 - accuracy: 0.8434 - val_loss: 1.1701 - val_accuracy: 0.7196\n",
      "Epoch 29/50\n",
      "198/198 [==============================] - 0s 932us/sample - loss: 1.0596 - accuracy: 0.8586 - val_loss: 1.1424 - val_accuracy: 0.7664\n",
      "Epoch 30/50\n",
      "198/198 [==============================] - 0s 892us/sample - loss: 1.0243 - accuracy: 0.8737 - val_loss: 1.1153 - val_accuracy: 0.7850\n",
      "Epoch 31/50\n",
      "198/198 [==============================] - 0s 796us/sample - loss: 0.9924 - accuracy: 0.8889 - val_loss: 1.0958 - val_accuracy: 0.8224\n",
      "Epoch 32/50\n",
      "198/198 [==============================] - 0s 761us/sample - loss: 0.9750 - accuracy: 0.8889 - val_loss: 1.0853 - val_accuracy: 0.8505\n",
      "Epoch 33/50\n",
      "198/198 [==============================] - 0s 1ms/sample - loss: 0.9411 - accuracy: 0.9242 - val_loss: 1.0597 - val_accuracy: 0.8785\n",
      "Epoch 34/50\n",
      "198/198 [==============================] - 0s 816us/sample - loss: 0.9109 - accuracy: 0.9242 - val_loss: 1.0419 - val_accuracy: 0.8785\n",
      "Epoch 35/50\n",
      "198/198 [==============================] - 0s 761us/sample - loss: 0.8975 - accuracy: 0.9192 - val_loss: 1.0286 - val_accuracy: 0.9065\n",
      "Epoch 36/50\n",
      "198/198 [==============================] - 0s 766us/sample - loss: 0.8730 - accuracy: 0.9293 - val_loss: 1.0150 - val_accuracy: 0.9159\n",
      "Epoch 37/50\n",
      "198/198 [==============================] - 0s 967us/sample - loss: 0.8400 - accuracy: 0.9293 - val_loss: 0.9961 - val_accuracy: 0.9065\n",
      "Epoch 38/50\n",
      "198/198 [==============================] - 0s 892us/sample - loss: 0.8153 - accuracy: 0.9293 - val_loss: 0.9689 - val_accuracy: 0.9159\n",
      "Epoch 39/50\n",
      "198/198 [==============================] - 0s 786us/sample - loss: 0.7950 - accuracy: 0.9394 - val_loss: 0.9435 - val_accuracy: 0.9159\n",
      "Epoch 40/50\n",
      "198/198 [==============================] - 0s 811us/sample - loss: 0.7767 - accuracy: 0.9293 - val_loss: 0.9217 - val_accuracy: 0.9159\n",
      "Epoch 41/50\n",
      "198/198 [==============================] - 0s 952us/sample - loss: 0.7500 - accuracy: 0.9343 - val_loss: 0.9030 - val_accuracy: 0.9159\n",
      "Epoch 42/50\n",
      "198/198 [==============================] - 0s 992us/sample - loss: 0.7278 - accuracy: 0.9293 - val_loss: 0.8919 - val_accuracy: 0.8972\n",
      "Epoch 43/50\n",
      "198/198 [==============================] - 0s 1ms/sample - loss: 0.7029 - accuracy: 0.9394 - val_loss: 0.8878 - val_accuracy: 0.8785\n",
      "Epoch 44/50\n",
      "198/198 [==============================] - 0s 1ms/sample - loss: 0.6870 - accuracy: 0.9343 - val_loss: 0.8712 - val_accuracy: 0.8598\n",
      "Epoch 45/50\n",
      "198/198 [==============================] - 0s 927us/sample - loss: 0.6651 - accuracy: 0.9242 - val_loss: 0.8471 - val_accuracy: 0.8879\n",
      "Epoch 46/50\n",
      "198/198 [==============================] - 0s 771us/sample - loss: 0.6406 - accuracy: 0.9293 - val_loss: 0.8260 - val_accuracy: 0.8972\n",
      "Epoch 47/50\n",
      "198/198 [==============================] - 0s 1ms/sample - loss: 0.6234 - accuracy: 0.9343 - val_loss: 0.8035 - val_accuracy: 0.8972\n",
      "Epoch 48/50\n",
      "198/198 [==============================] - 0s 1ms/sample - loss: 0.6020 - accuracy: 0.9394 - val_loss: 0.7840 - val_accuracy: 0.8972\n",
      "Epoch 49/50\n",
      "198/198 [==============================] - 0s 887us/sample - loss: 0.5858 - accuracy: 0.9343 - val_loss: 0.7585 - val_accuracy: 0.9065\n",
      "Epoch 50/50\n",
      "198/198 [==============================] - 0s 766us/sample - loss: 0.5841 - accuracy: 0.9293 - val_loss: 0.7418 - val_accuracy: 0.9065\n"
     ]
    }
   ],
   "source": [
    "# note: using hs 30, recurrent dropout 0.5, bidirectional, and not including features added on the 3/02 or getting rid of VoI_drop features, got high 80s percentage accuracy on val\n",
    "# maybe it was 25fps?\n",
    "# with the new features, can get 89% val accuracy with 35 frame long examples. 25 is too short.\n",
    "opt = tf.keras.optimizers.Adam()\n",
    "model.compile(optimizer=opt, loss='sparse_categorical_crossentropy', metrics=['accuracy'])\n",
    "history = model.fit(X[114:], y[114:], validation_data=(X_val, y_val), epochs=50, batch_size = 50)"
   ]
  },
  {
   "cell_type": "code",
   "execution_count": 34,
   "metadata": {},
   "outputs": [],
   "source": [
    "model.save('models/V0/40f_5hs.h5')"
   ]
  },
  {
   "cell_type": "code",
   "execution_count": 39,
   "metadata": {},
   "outputs": [],
   "source": [
    "model = tf.keras.models.load_model('models/V2/25f_32hs_15c_2.h5')"
   ]
  },
  {
   "cell_type": "code",
   "execution_count": 41,
   "metadata": {},
   "outputs": [
    {
     "name": "stdout",
     "output_type": "stream",
     "text": [
      "mean fps: 115.19\n",
      "target fps: 25\n",
      "skipping every 5 frames\n",
      "Found left hand data:  False\n",
      "Found right hand data:  True\n",
      "dropped 0 of 2777 rows with nans\n"
     ]
    }
   ],
   "source": [
    "# load test data\n",
    "X_test, y_test = CSV2examples('data/recordings/test_loop.csv', g2idx=g2idx, n_frames=50)"
   ]
  },
  {
   "cell_type": "code",
   "execution_count": 50,
   "metadata": {},
   "outputs": [
    {
     "name": "stdout",
     "output_type": "stream",
     "text": [
      "33\n",
      "[[0.95594496 0.04405507]]\n",
      "Predicted:  no_gesture\n",
      "Truth:  fist\n"
     ]
    }
   ],
   "source": [
    "# predict on a random test case\n",
    "i = np.random.randint(0, len(X_test))\n",
    "print(i)\n",
    "pred = model.predict(np.expand_dims(np.array(X_test[i]), axis=0))\n",
    "print(pred)\n",
    "print('Predicted: ', idx2g[np.argmax(pred)])\n",
    "print('Truth: ', idx2g[y_test[i]])"
   ]
  },
  {
   "cell_type": "code",
   "execution_count": 54,
   "metadata": {},
   "outputs": [
    {
     "name": "stdout",
     "output_type": "stream",
     "text": [
      "so_so\n"
     ]
    }
   ],
   "source": [
    "print(idx2g[y[1]])"
   ]
  },
  {
   "cell_type": "code",
   "execution_count": 140,
   "metadata": {},
   "outputs": [
    {
     "data": {
      "image/png": "[encoded data removed]",
      "text/plain": [
       "<Figure size 432x288 with 1 Axes>"
      ]
     },
     "metadata": {
      "needs_background": "light"
     },
     "output_type": "display_data"
    },
    {
     "data": {
      "image/png": "[encoded data removed]",
      "text/plain": [
       "<Figure size 432x288 with 1 Axes>"
      ]
     },
     "metadata": {
      "needs_background": "light"
     },
     "output_type": "display_data"
    }
   ],
   "source": [
    "# plot history:\n",
    "plt_metric(history, 'loss')\n",
    "plt_metric(history, 'accuracy')"
   ]
  },
  {
   "cell_type": "code",
   "execution_count": 51,
   "metadata": {},
   "outputs": [
    {
     "data": {
      "image/png": "[encoded data removed]",
      "text/plain": [
       "<Figure size 432x288 with 1 Axes>"
      ]
     },
     "metadata": {
      "needs_background": "light"
     },
     "output_type": "display_data"
    },
    {
     "data": {
      "image/png": "[encoded data removed]",
      "text/plain": [
       "<Figure size 432x288 with 1 Axes>"
      ]
     },
     "metadata": {
      "needs_background": "light"
     },
     "output_type": "display_data"
    }
   ],
   "source": [
    "# plot history:\n",
    "plt_metric(history, 'loss')\n",
    "plt_metric(history, 'accuracy')"
   ]
  },
  {
   "cell_type": "code",
   "execution_count": null,
   "metadata": {},
   "outputs": [],
   "source": [
    "# plot history:\n",
    "plt_metric(history, 'loss')\n",
    "plt_metric(history, 'accuracy')"
   ]
  },
  {
   "cell_type": "code",
   "execution_count": 141,
   "metadata": {},
   "outputs": [
    {
     "data": {
      "text/html": [
       "<div>\n",
       "<style scoped>\n",
       "    .dataframe tbody tr th:only-of-type {\n",
       "        vertical-align: middle;\n",
       "    }\n",
       "\n",
       "    .dataframe tbody tr th {\n",
       "        vertical-align: top;\n",
       "    }\n",
       "\n",
       "    .dataframe thead th {\n",
       "        text-align: right;\n",
       "    }\n",
       "</style>\n",
       "<table border=\"1\" class=\"dataframe\">\n",
       "  <thead>\n",
       "    <tr style=\"text-align: right;\">\n",
       "      <th>Predicted</th>\n",
       "      <th>fist</th>\n",
       "      <th>gun</th>\n",
       "      <th>maybe</th>\n",
       "      <th>no_gesture</th>\n",
       "      <th>open_close</th>\n",
       "      <th>pointing</th>\n",
       "      <th>shuffle_over</th>\n",
       "      <th>so_so</th>\n",
       "    </tr>\n",
       "    <tr>\n",
       "      <th>Actual</th>\n",
       "      <th></th>\n",
       "      <th></th>\n",
       "      <th></th>\n",
       "      <th></th>\n",
       "      <th></th>\n",
       "      <th></th>\n",
       "      <th></th>\n",
       "      <th></th>\n",
       "    </tr>\n",
       "  </thead>\n",
       "  <tbody>\n",
       "    <tr>\n",
       "      <th>fist</th>\n",
       "      <td>12</td>\n",
       "      <td>0</td>\n",
       "      <td>0</td>\n",
       "      <td>0</td>\n",
       "      <td>1</td>\n",
       "      <td>0</td>\n",
       "      <td>0</td>\n",
       "      <td>0</td>\n",
       "    </tr>\n",
       "    <tr>\n",
       "      <th>gun</th>\n",
       "      <td>0</td>\n",
       "      <td>9</td>\n",
       "      <td>0</td>\n",
       "      <td>0</td>\n",
       "      <td>2</td>\n",
       "      <td>0</td>\n",
       "      <td>0</td>\n",
       "      <td>2</td>\n",
       "    </tr>\n",
       "    <tr>\n",
       "      <th>maybe</th>\n",
       "      <td>0</td>\n",
       "      <td>0</td>\n",
       "      <td>13</td>\n",
       "      <td>0</td>\n",
       "      <td>0</td>\n",
       "      <td>0</td>\n",
       "      <td>0</td>\n",
       "      <td>0</td>\n",
       "    </tr>\n",
       "    <tr>\n",
       "      <th>no_gesture</th>\n",
       "      <td>0</td>\n",
       "      <td>0</td>\n",
       "      <td>0</td>\n",
       "      <td>16</td>\n",
       "      <td>0</td>\n",
       "      <td>0</td>\n",
       "      <td>0</td>\n",
       "      <td>0</td>\n",
       "    </tr>\n",
       "    <tr>\n",
       "      <th>open_close</th>\n",
       "      <td>0</td>\n",
       "      <td>0</td>\n",
       "      <td>0</td>\n",
       "      <td>1</td>\n",
       "      <td>8</td>\n",
       "      <td>0</td>\n",
       "      <td>0</td>\n",
       "      <td>4</td>\n",
       "    </tr>\n",
       "    <tr>\n",
       "      <th>pointing</th>\n",
       "      <td>0</td>\n",
       "      <td>0</td>\n",
       "      <td>0</td>\n",
       "      <td>0</td>\n",
       "      <td>0</td>\n",
       "      <td>13</td>\n",
       "      <td>0</td>\n",
       "      <td>0</td>\n",
       "    </tr>\n",
       "    <tr>\n",
       "      <th>shuffle_over</th>\n",
       "      <td>0</td>\n",
       "      <td>0</td>\n",
       "      <td>0</td>\n",
       "      <td>0</td>\n",
       "      <td>0</td>\n",
       "      <td>0</td>\n",
       "      <td>13</td>\n",
       "      <td>0</td>\n",
       "    </tr>\n",
       "    <tr>\n",
       "      <th>so_so</th>\n",
       "      <td>0</td>\n",
       "      <td>0</td>\n",
       "      <td>0</td>\n",
       "      <td>0</td>\n",
       "      <td>0</td>\n",
       "      <td>0</td>\n",
       "      <td>0</td>\n",
       "      <td>13</td>\n",
       "    </tr>\n",
       "  </tbody>\n",
       "</table>\n",
       "</div>"
      ],
      "text/plain": [
       "Predicted     fist  gun  maybe  no_gesture  open_close  pointing  \\\n",
       "Actual                                                             \n",
       "fist            12    0      0           0           1         0   \n",
       "gun              0    9      0           0           2         0   \n",
       "maybe            0    0     13           0           0         0   \n",
       "no_gesture       0    0      0          16           0         0   \n",
       "open_close       0    0      0           1           8         0   \n",
       "pointing         0    0      0           0           0        13   \n",
       "shuffle_over     0    0      0           0           0         0   \n",
       "so_so            0    0      0           0           0         0   \n",
       "\n",
       "Predicted     shuffle_over  so_so  \n",
       "Actual                             \n",
       "fist                     0      0  \n",
       "gun                      0      2  \n",
       "maybe                    0      0  \n",
       "no_gesture               0      0  \n",
       "open_close               0      4  \n",
       "pointing                 0      0  \n",
       "shuffle_over            13      0  \n",
       "so_so                    0     13  "
      ]
     },
     "execution_count": 141,
     "metadata": {},
     "output_type": "execute_result"
    }
   ],
   "source": [
    "# get confusion matrix\n",
    "pred = np.argmax(model.predict(X_val), axis=-1)\n",
    "pred_gest = [idx2g[i] for i in pred]\n",
    "y_gest = [idx2g[i] for i in y_val]\n",
    "pd.crosstab([y_gest], [pred_gest], rownames=['Actual'], colnames=['Predicted'])"
   ]
  },
  {
   "cell_type": "code",
   "execution_count": 100,
   "metadata": {},
   "outputs": [
    {
     "name": "stdout",
     "output_type": "stream",
     "text": [
      "[[[0 1]\n",
      "  [0 2]\n",
      "  [0 3]\n",
      "  [0 4]]\n",
      "\n",
      " [[0 3]\n",
      "  [0 4]\n",
      "  [0 5]\n",
      "  [0 6]]\n",
      "\n",
      " [[0 5]\n",
      "  [0 6]\n",
      "  [0 7]\n",
      "  [0 8]]\n",
      "\n",
      " [[1 1]\n",
      "  [1 2]\n",
      "  [1 3]\n",
      "  [1 4]]\n",
      "\n",
      " [[3 1]\n",
      "  [3 2]\n",
      "  [3 3]\n",
      "  [3 4]]\n",
      "\n",
      " [[3 3]\n",
      "  [3 4]\n",
      "  [3 5]\n",
      "  [3 6]]]\n",
      "[0 0 0 1 3 3]\n"
     ]
    }
   ],
   "source": [
    "Xa = [[[0,1],[0,2],[0,3],[0,4],[0,5],[0,6],[0,7],[0,8],[1,1],[1,2],[1,3],[1,4],[1,5],[3,1],[3,2],[3,3],[3,4],[3,5],[3,6],[3,7],[4,1],[4,2]]]\n",
    "ya = [0,0,0,0,0,0,0,0,1,1,1,1,1,3,3,3,3,3,3,3,4,4]\n",
    "xb, yb = X_y2examples(Xa, ya, n_frames=4)\n",
    "print(xb)\n",
    "print(yb)"
   ]
  },
  {
   "cell_type": "code",
   "execution_count": 94,
   "metadata": {},
   "outputs": [
    {
     "data": {
      "text/plain": [
       "[[0, 1], [0, 2]]"
      ]
     },
     "execution_count": 94,
     "metadata": {},
     "output_type": "execute_result"
    }
   ],
   "source": [
    "Xa[0:2]"
   ]
  }
 ],
 "metadata": {
  "kernelspec": {
   "display_name": "Python 3",
   "language": "python",
   "name": "python3"
  },
  "language_info": {
   "codemirror_mode": {
    "name": "ipython",
    "version": 3
   },
   "file_extension": ".py",
   "mimetype": "text/x-python",
   "name": "python",
   "nbconvert_exporter": "python",
   "pygments_lexer": "ipython3",
   "version": "3.7.1"
  }
 },
 "nbformat": 4,
 "nbformat_minor": 2
}
