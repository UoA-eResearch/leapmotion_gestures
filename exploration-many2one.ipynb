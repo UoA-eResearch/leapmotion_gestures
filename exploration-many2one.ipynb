{
 "cells": [
  {
   "cell_type": "code",
   "execution_count": 1,
   "metadata": {},
   "outputs": [],
   "source": [
    "from importlib import reload\n",
    "import numpy as np\n",
    "import json\n",
    "import matplotlib.pyplot as plt\n",
    "import pandas as pd\n",
    "import os\n",
    "import tensorflow as tf\n",
    "from tensorflow.keras import layers"
   ]
  },
  {
   "cell_type": "code",
   "execution_count": 34,
   "metadata": {},
   "outputs": [
    {
     "data": {
      "text/plain": [
       "<module 'src.features' from 'C:\\\\Users\\\\Andrew\\\\Documents\\\\CeR\\\\GestRec\\\\leap_gesture_rec\\\\src\\\\features.py'>"
      ]
     },
     "execution_count": 34,
     "metadata": {},
     "output_type": "execute_result"
    }
   ],
   "source": [
    "# import modules\n",
    "import src.models\n",
    "reload(src.models)\n",
    "from src.models import *\n",
    "\n",
    "import src.dataMethods\n",
    "reload(src.dataMethods)\n",
    "from src.dataMethods import *\n",
    "\n",
    "import src.features as features\n",
    "reload(features)"
   ]
  },
  {
   "cell_type": "code",
   "execution_count": 3,
   "metadata": {},
   "outputs": [],
   "source": [
    "gestures, g2idx, idx2g = get_gestures(version=1)"
   ]
  },
  {
   "cell_type": "code",
   "execution_count": null,
   "metadata": {},
   "outputs": [],
   "source": [
    "b = 'recordings/derived_test.csv'\n",
    "df = CSV2VoI(b)\n",
    "print(df[['left_index_tipPosition_0', 'left_index_tipPosition_1', 'left_pinchDistance']])\n",
    "print(df[['right_index_tipPosition_0', 'right_index_tipPosition_1', 'right_pinchDistance']])\n",
    "df = mirror_data(df)\n",
    "print(df[['right_index_tipPosition_0', 'right_index_tipPosition_1', 'right_pinchDistance']])\n",
    "print(df[['left_index_tipPosition_0', 'left_index_tipPosition_1', 'left_pinchDistance']])"
   ]
  },
  {
   "cell_type": "code",
   "execution_count": 36,
   "metadata": {},
   "outputs": [
    {
     "name": "stdout",
     "output_type": "stream",
     "text": [
      "mean fps: 28.79\n",
      "target fps: 30\n",
      "taking every 1 frames\n",
      "99.83% of rows contain valid LH data\n",
      "100.00% of rows contain valid RH data\n",
      "Found left hand data:  True\n",
      "Found right hand data:  True\n",
      "dealt with 0 of 4754 rows with nans\n",
      "Index(['f1_f1', 'f2_f2', 'f3_f3', 'f4_f4', 'f5_f5', 'left_f1_2', 'left_f1_p',\n",
      "       'left_f1_p_plain', 'left_f2_3', 'left_f2_p', 'left_f2_p_plain',\n",
      "       'left_f3_4', 'left_f3_p', 'left_f3_p_plain', 'left_f4_5', 'left_f4_p',\n",
      "       'left_f4_p_plain', 'left_f5_p', 'left_f5_p_plain', 'left_grabAngle',\n",
      "       'left_palmPosition_0', 'left_palmPosition_1', 'left_palmPosition_2',\n",
      "       'left_pinchDistance', 'palm_distance', 'right_f1_2', 'right_f1_p',\n",
      "       'right_f1_p_plain', 'right_f2_3', 'right_f2_p', 'right_f2_p_plain',\n",
      "       'right_f3_4', 'right_f3_p', 'right_f3_p_plain', 'right_f4_5',\n",
      "       'right_f4_p', 'right_f4_p_plain', 'right_f5_p', 'right_f5_p_plain',\n",
      "       'right_grabAngle', 'right_palmPosition_0', 'right_palmPosition_1',\n",
      "       'right_palmPosition_2', 'right_pinchDistance'],\n",
      "      dtype='object')\n",
      "mean fps: 28.80\n",
      "target fps: 30\n",
      "taking every 1 frames\n",
      "99.61% of rows contain valid LH data\n",
      "100.00% of rows contain valid RH data\n",
      "Found left hand data:  True\n",
      "Found right hand data:  True\n",
      "dealt with 0 of 2336 rows with nans\n",
      "Index(['f1_f1', 'f2_f2', 'f3_f3', 'f4_f4', 'f5_f5', 'left_f1_2', 'left_f1_p',\n",
      "       'left_f1_p_plain', 'left_f2_3', 'left_f2_p', 'left_f2_p_plain',\n",
      "       'left_f3_4', 'left_f3_p', 'left_f3_p_plain', 'left_f4_5', 'left_f4_p',\n",
      "       'left_f4_p_plain', 'left_f5_p', 'left_f5_p_plain', 'left_grabAngle',\n",
      "       'left_palmPosition_0', 'left_palmPosition_1', 'left_palmPosition_2',\n",
      "       'left_pinchDistance', 'palm_distance', 'right_f1_2', 'right_f1_p',\n",
      "       'right_f1_p_plain', 'right_f2_3', 'right_f2_p', 'right_f2_p_plain',\n",
      "       'right_f3_4', 'right_f3_p', 'right_f3_p_plain', 'right_f4_5',\n",
      "       'right_f4_p', 'right_f4_p_plain', 'right_f5_p', 'right_f5_p_plain',\n",
      "       'right_grabAngle', 'right_palmPosition_0', 'right_palmPosition_1',\n",
      "       'right_palmPosition_2', 'right_pinchDistance'],\n",
      "      dtype='object')\n",
      "(213, 40, 44)\n"
     ]
    }
   ],
   "source": [
    "mirror_train = 'data/mirror/mirror_train.csv'\n",
    "mirror_val = 'data/mirror/mirror_test.csv'\n",
    "mirror_train2 = 'data/mirror/mirror_train3.csv'\n",
    "mirror_val2 = 'data/mirror/mirror_test3.csv'\n",
    "shape_train = 'data/loopsV0/shapes2loops.csv'\n",
    "shape_test = 'data/loopsV0/shapes_test.csv'\n",
    "n_frames = 40\n",
    "X, y = CSV2examples(raw_file=mirror_train2, g2idx=g2idx, n_frames=n_frames, target_fps=30, standardize=True, dicts_gen=True, mirror=False, derive_features=True)\n",
    "# X2, y2 = CSV2examples(raw_file=mirror_train, g2idx=g2idx, n_frames=n_frames, target_fps=30, standardize=True, dicts_gen=False, mirror=False)\n",
    "# X = np.concatenate([X,X2])\n",
    "# y = np.concatenate([y, y2])\n",
    "X_val, y_val = CSV2examples(raw_file=mirror_val2, g2idx=g2idx, n_frames=n_frames, target_fps=30, standardize=True, mirror=False, derive_features=True)\n",
    "print(X.shape)"
   ]
  },
  {
   "cell_type": "code",
   "execution_count": null,
   "metadata": {},
   "outputs": [],
   "source": [
    "X, y = folder2examples('data/train/', target_fps=25, g2idx=g2idx)"
   ]
  },
  {
   "cell_type": "code",
   "execution_count": 37,
   "metadata": {},
   "outputs": [
    {
     "name": "stdout",
     "output_type": "stream",
     "text": [
      "Model: \"many2one\"\n",
      "_________________________________________________________________\n",
      "Layer (type)                 Output Shape              Param #   \n",
      "=================================================================\n",
      "input_6 (InputLayer)         [(None, 40, 44)]          0         \n",
      "_________________________________________________________________\n",
      "lstm_5 (LSTM)                (None, 5)                 1000      \n",
      "_________________________________________________________________\n",
      "dense_5 (Dense)              (None, 8)                 48        \n",
      "=================================================================\n",
      "Total params: 1,048\n",
      "Trainable params: 1,048\n",
      "Non-trainable params: 0\n",
      "_________________________________________________________________\n"
     ]
    }
   ],
   "source": [
    "model = many2one_model(n_features = X.shape[-1], n_frames=X.shape[1], n_gestures=len(g2idx), n_layers=1, rnn_units=5, recurrent_dropout=0.2, bidirectional=False)"
   ]
  },
  {
   "cell_type": "code",
   "execution_count": 38,
   "metadata": {},
   "outputs": [
    {
     "name": "stdout",
     "output_type": "stream",
     "text": [
      "Train on 213 samples, validate on 104 samples\n",
      "Epoch 1/80\n",
      "213/213 [==============================] - 3s 14ms/sample - loss: 2.1377 - accuracy: 0.0704 - val_loss: 2.2293 - val_accuracy: 0.0385\n",
      "Epoch 2/80\n",
      "213/213 [==============================] - 0s 707us/sample - loss: 2.0856 - accuracy: 0.1268 - val_loss: 2.2105 - val_accuracy: 0.0288\n",
      "Epoch 3/80\n",
      "213/213 [==============================] - 0s 707us/sample - loss: 2.0377 - accuracy: 0.1455 - val_loss: 2.1915 - val_accuracy: 0.0288\n",
      "Epoch 4/80\n",
      "213/213 [==============================] - 0s 735us/sample - loss: 1.9840 - accuracy: 0.1784 - val_loss: 2.1717 - val_accuracy: 0.0288\n",
      "Epoch 5/80\n",
      "213/213 [==============================] - 0s 749us/sample - loss: 1.9394 - accuracy: 0.2207 - val_loss: 2.1517 - val_accuracy: 0.0288\n",
      "Epoch 6/80\n",
      "213/213 [==============================] - 0s 726us/sample - loss: 1.9025 - accuracy: 0.2394 - val_loss: 2.1315 - val_accuracy: 0.0288\n",
      "Epoch 7/80\n",
      "213/213 [==============================] - 0s 740us/sample - loss: 1.8660 - accuracy: 0.2770 - val_loss: 2.1137 - val_accuracy: 0.0481\n",
      "Epoch 8/80\n",
      "213/213 [==============================] - 0s 726us/sample - loss: 1.8346 - accuracy: 0.3052 - val_loss: 2.0968 - val_accuracy: 0.0481\n",
      "Epoch 9/80\n",
      "213/213 [==============================] - 0s 908us/sample - loss: 1.8016 - accuracy: 0.3239 - val_loss: 2.0804 - val_accuracy: 0.0769\n",
      "Epoch 10/80\n",
      "213/213 [==============================] - 0s 988us/sample - loss: 1.7749 - accuracy: 0.3568 - val_loss: 2.0651 - val_accuracy: 0.0962\n",
      "Epoch 11/80\n",
      "213/213 [==============================] - 0s 880us/sample - loss: 1.7503 - accuracy: 0.3850 - val_loss: 2.0495 - val_accuracy: 0.1154\n",
      "Epoch 12/80\n",
      "213/213 [==============================] - 0s 777us/sample - loss: 1.7207 - accuracy: 0.4038 - val_loss: 2.0339 - val_accuracy: 0.1346\n",
      "Epoch 13/80\n",
      "213/213 [==============================] - 0s 744us/sample - loss: 1.6946 - accuracy: 0.4225 - val_loss: 2.0178 - val_accuracy: 0.1442\n",
      "Epoch 14/80\n",
      "213/213 [==============================] - 0s 740us/sample - loss: 1.6731 - accuracy: 0.4460 - val_loss: 2.0008 - val_accuracy: 0.1442\n",
      "Epoch 15/80\n",
      "213/213 [==============================] - 0s 833us/sample - loss: 1.6512 - accuracy: 0.4695 - val_loss: 1.9834 - val_accuracy: 0.1538\n",
      "Epoch 16/80\n",
      "213/213 [==============================] - 0s 913us/sample - loss: 1.6266 - accuracy: 0.5070 - val_loss: 1.9664 - val_accuracy: 0.1827\n",
      "Epoch 17/80\n",
      "213/213 [==============================] - 0s 768us/sample - loss: 1.6123 - accuracy: 0.5493 - val_loss: 1.9508 - val_accuracy: 0.2019\n",
      "Epoch 18/80\n",
      "213/213 [==============================] - 0s 796us/sample - loss: 1.5950 - accuracy: 0.5493 - val_loss: 1.9349 - val_accuracy: 0.2212\n",
      "Epoch 19/80\n",
      "213/213 [==============================] - 0s 759us/sample - loss: 1.5736 - accuracy: 0.5634 - val_loss: 1.9194 - val_accuracy: 0.2404\n",
      "Epoch 20/80\n",
      "213/213 [==============================] - 0s 796us/sample - loss: 1.5565 - accuracy: 0.5962 - val_loss: 1.9055 - val_accuracy: 0.2596\n",
      "Epoch 21/80\n",
      "213/213 [==============================] - 0s 815us/sample - loss: 1.5424 - accuracy: 0.6103 - val_loss: 1.8915 - val_accuracy: 0.2596\n",
      "Epoch 22/80\n",
      "213/213 [==============================] - 0s 1ms/sample - loss: 1.5284 - accuracy: 0.6338 - val_loss: 1.8771 - val_accuracy: 0.2692\n",
      "Epoch 23/80\n",
      "213/213 [==============================] - 0s 890us/sample - loss: 1.5124 - accuracy: 0.6432 - val_loss: 1.8635 - val_accuracy: 0.2885\n",
      "Epoch 24/80\n",
      "213/213 [==============================] - 0s 819us/sample - loss: 1.4948 - accuracy: 0.6620 - val_loss: 1.8496 - val_accuracy: 0.3077\n",
      "Epoch 25/80\n",
      "213/213 [==============================] - 0s 833us/sample - loss: 1.4771 - accuracy: 0.6714 - val_loss: 1.8358 - val_accuracy: 0.3173\n",
      "Epoch 26/80\n",
      "213/213 [==============================] - 0s 730us/sample - loss: 1.4649 - accuracy: 0.6714 - val_loss: 1.8203 - val_accuracy: 0.3173\n",
      "Epoch 27/80\n",
      "213/213 [==============================] - 0s 754us/sample - loss: 1.4459 - accuracy: 0.6761 - val_loss: 1.8045 - val_accuracy: 0.3462\n",
      "Epoch 28/80\n",
      "213/213 [==============================] - 0s 707us/sample - loss: 1.4344 - accuracy: 0.6808 - val_loss: 1.7884 - val_accuracy: 0.3654\n",
      "Epoch 29/80\n",
      "213/213 [==============================] - 0s 1ms/sample - loss: 1.4184 - accuracy: 0.6995 - val_loss: 1.7720 - val_accuracy: 0.3846\n",
      "Epoch 30/80\n",
      "213/213 [==============================] - 0s 965us/sample - loss: 1.4058 - accuracy: 0.7418 - val_loss: 1.7541 - val_accuracy: 0.3942\n",
      "Epoch 31/80\n",
      "213/213 [==============================] - 0s 702us/sample - loss: 1.3948 - accuracy: 0.7324 - val_loss: 1.7355 - val_accuracy: 0.4135\n",
      "Epoch 32/80\n",
      "213/213 [==============================] - 0s 763us/sample - loss: 1.3752 - accuracy: 0.7512 - val_loss: 1.7172 - val_accuracy: 0.4231\n",
      "Epoch 33/80\n",
      "213/213 [==============================] - 0s 712us/sample - loss: 1.3629 - accuracy: 0.7465 - val_loss: 1.6991 - val_accuracy: 0.4327\n",
      "Epoch 34/80\n",
      "213/213 [==============================] - 0s 810us/sample - loss: 1.3509 - accuracy: 0.7559 - val_loss: 1.6811 - val_accuracy: 0.4712\n",
      "Epoch 35/80\n",
      "213/213 [==============================] - 0s 805us/sample - loss: 1.3350 - accuracy: 0.7653 - val_loss: 1.6640 - val_accuracy: 0.4808\n",
      "Epoch 36/80\n",
      "213/213 [==============================] - 0s 918us/sample - loss: 1.3198 - accuracy: 0.7746 - val_loss: 1.6464 - val_accuracy: 0.5288\n",
      "Epoch 37/80\n",
      "213/213 [==============================] - 0s 876us/sample - loss: 1.3078 - accuracy: 0.7793 - val_loss: 1.6284 - val_accuracy: 0.5385\n",
      "Epoch 38/80\n",
      "213/213 [==============================] - 0s 890us/sample - loss: 1.2966 - accuracy: 0.7934 - val_loss: 1.6054 - val_accuracy: 0.5962\n",
      "Epoch 39/80\n",
      "213/213 [==============================] - 0s 1ms/sample - loss: 1.2844 - accuracy: 0.8122 - val_loss: 1.5819 - val_accuracy: 0.6250\n",
      "Epoch 40/80\n",
      "213/213 [==============================] - 0s 1ms/sample - loss: 1.2711 - accuracy: 0.8075 - val_loss: 1.5629 - val_accuracy: 0.6346\n",
      "Epoch 41/80\n",
      "213/213 [==============================] - 0s 833us/sample - loss: 1.2578 - accuracy: 0.8357 - val_loss: 1.5477 - val_accuracy: 0.6538\n",
      "Epoch 42/80\n",
      "213/213 [==============================] - 0s 744us/sample - loss: 1.2457 - accuracy: 0.8310 - val_loss: 1.5328 - val_accuracy: 0.6827\n",
      "Epoch 43/80\n",
      "213/213 [==============================] - 0s 730us/sample - loss: 1.2271 - accuracy: 0.8357 - val_loss: 1.5197 - val_accuracy: 0.6827\n",
      "Epoch 44/80\n",
      "213/213 [==============================] - 0s 782us/sample - loss: 1.2199 - accuracy: 0.8451 - val_loss: 1.5083 - val_accuracy: 0.7115\n",
      "Epoch 45/80\n",
      "213/213 [==============================] - 0s 730us/sample - loss: 1.2077 - accuracy: 0.8498 - val_loss: 1.4960 - val_accuracy: 0.7212\n",
      "Epoch 46/80\n",
      "213/213 [==============================] - 0s 744us/sample - loss: 1.1915 - accuracy: 0.8451 - val_loss: 1.4825 - val_accuracy: 0.7404\n",
      "Epoch 47/80\n",
      "213/213 [==============================] - 0s 941us/sample - loss: 1.1852 - accuracy: 0.8685 - val_loss: 1.4693 - val_accuracy: 0.7500\n",
      "Epoch 48/80\n",
      "213/213 [==============================] - 0s 890us/sample - loss: 1.1722 - accuracy: 0.8638 - val_loss: 1.4582 - val_accuracy: 0.7500\n",
      "Epoch 49/80\n",
      "213/213 [==============================] - 0s 796us/sample - loss: 1.1580 - accuracy: 0.8685 - val_loss: 1.4488 - val_accuracy: 0.7500\n",
      "Epoch 50/80\n",
      "213/213 [==============================] - 0s 876us/sample - loss: 1.1460 - accuracy: 0.8685 - val_loss: 1.4389 - val_accuracy: 0.7500\n",
      "Epoch 51/80\n",
      "213/213 [==============================] - 0s 754us/sample - loss: 1.1349 - accuracy: 0.8732 - val_loss: 1.4282 - val_accuracy: 0.7500\n",
      "Epoch 52/80\n",
      "213/213 [==============================] - 0s 838us/sample - loss: 1.1285 - accuracy: 0.8826 - val_loss: 1.4167 - val_accuracy: 0.7500\n",
      "Epoch 53/80\n",
      "213/213 [==============================] - 0s 932us/sample - loss: 1.1190 - accuracy: 0.8779 - val_loss: 1.4015 - val_accuracy: 0.7596\n",
      "Epoch 54/80\n",
      "213/213 [==============================] - 0s 791us/sample - loss: 1.1019 - accuracy: 0.8920 - val_loss: 1.3892 - val_accuracy: 0.7788\n",
      "Epoch 55/80\n",
      "213/213 [==============================] - 0s 810us/sample - loss: 1.0921 - accuracy: 0.8920 - val_loss: 1.3770 - val_accuracy: 0.7788\n",
      "Epoch 56/80\n",
      "213/213 [==============================] - 0s 730us/sample - loss: 1.0784 - accuracy: 0.9061 - val_loss: 1.3664 - val_accuracy: 0.7885\n",
      "Epoch 57/80\n",
      "213/213 [==============================] - 0s 730us/sample - loss: 1.0727 - accuracy: 0.8967 - val_loss: 1.3545 - val_accuracy: 0.7981\n",
      "Epoch 58/80\n",
      "213/213 [==============================] - 0s 744us/sample - loss: 1.0579 - accuracy: 0.9202 - val_loss: 1.3436 - val_accuracy: 0.7981\n",
      "Epoch 59/80\n",
      "213/213 [==============================] - 0s 759us/sample - loss: 1.0504 - accuracy: 0.9108 - val_loss: 1.3323 - val_accuracy: 0.8077\n",
      "Epoch 60/80\n",
      "213/213 [==============================] - 0s 740us/sample - loss: 1.0388 - accuracy: 0.9202 - val_loss: 1.3219 - val_accuracy: 0.8077\n",
      "Epoch 61/80\n",
      "213/213 [==============================] - 0s 763us/sample - loss: 1.0310 - accuracy: 0.9249 - val_loss: 1.3116 - val_accuracy: 0.8077\n",
      "Epoch 62/80\n",
      "213/213 [==============================] - 0s 707us/sample - loss: 1.0181 - accuracy: 0.9343 - val_loss: 1.2997 - val_accuracy: 0.8077\n",
      "Epoch 63/80\n",
      "213/213 [==============================] - 0s 871us/sample - loss: 1.0096 - accuracy: 0.9343 - val_loss: 1.2887 - val_accuracy: 0.7981\n",
      "Epoch 64/80\n",
      "213/213 [==============================] - 0s 950us/sample - loss: 0.9984 - accuracy: 0.9390 - val_loss: 1.2775 - val_accuracy: 0.8269\n",
      "Epoch 65/80\n",
      "213/213 [==============================] - 0s 824us/sample - loss: 0.9857 - accuracy: 0.9343 - val_loss: 1.2672 - val_accuracy: 0.8365\n",
      "Epoch 66/80\n",
      "213/213 [==============================] - 0s 838us/sample - loss: 0.9776 - accuracy: 0.9390 - val_loss: 1.2562 - val_accuracy: 0.8462\n",
      "Epoch 67/80\n",
      "213/213 [==============================] - 0s 927us/sample - loss: 0.9699 - accuracy: 0.9484 - val_loss: 1.2476 - val_accuracy: 0.8462\n",
      "Epoch 68/80\n",
      "213/213 [==============================] - 0s 744us/sample - loss: 0.9536 - accuracy: 0.9531 - val_loss: 1.2391 - val_accuracy: 0.8462\n",
      "Epoch 69/80\n",
      "213/213 [==============================] - 0s 744us/sample - loss: 0.9430 - accuracy: 0.9531 - val_loss: 1.2303 - val_accuracy: 0.8558\n",
      "Epoch 70/80\n",
      "213/213 [==============================] - 0s 712us/sample - loss: 0.9385 - accuracy: 0.9531 - val_loss: 1.2216 - val_accuracy: 0.8654\n",
      "Epoch 71/80\n",
      "213/213 [==============================] - 0s 857us/sample - loss: 0.9288 - accuracy: 0.9531 - val_loss: 1.2133 - val_accuracy: 0.8654\n",
      "Epoch 72/80\n",
      "213/213 [==============================] - 0s 965us/sample - loss: 0.9190 - accuracy: 0.9531 - val_loss: 1.2053 - val_accuracy: 0.8654\n",
      "Epoch 73/80\n",
      "213/213 [==============================] - 0s 922us/sample - loss: 0.9102 - accuracy: 0.9531 - val_loss: 1.1973 - val_accuracy: 0.8654\n",
      "Epoch 74/80\n",
      "213/213 [==============================] - 0s 824us/sample - loss: 0.9000 - accuracy: 0.9624 - val_loss: 1.1889 - val_accuracy: 0.8654\n",
      "Epoch 75/80\n",
      "213/213 [==============================] - 0s 777us/sample - loss: 0.8936 - accuracy: 0.9671 - val_loss: 1.1819 - val_accuracy: 0.8654\n",
      "Epoch 76/80\n",
      "213/213 [==============================] - 0s 941us/sample - loss: 0.8786 - accuracy: 0.9671 - val_loss: 1.1760 - val_accuracy: 0.8654\n",
      "Epoch 77/80\n",
      "213/213 [==============================] - 0s 787us/sample - loss: 0.8742 - accuracy: 0.9765 - val_loss: 1.1691 - val_accuracy: 0.8654\n",
      "Epoch 78/80\n",
      "213/213 [==============================] - 0s 871us/sample - loss: 0.8647 - accuracy: 0.9812 - val_loss: 1.1622 - val_accuracy: 0.8654\n",
      "Epoch 79/80\n",
      "213/213 [==============================] - 0s 791us/sample - loss: 0.8619 - accuracy: 0.9765 - val_loss: 1.1551 - val_accuracy: 0.8558\n",
      "Epoch 80/80\n",
      "213/213 [==============================] - 0s 735us/sample - loss: 0.8505 - accuracy: 0.9812 - val_loss: 1.1482 - val_accuracy: 0.8558\n"
     ]
    }
   ],
   "source": [
    "# note: using hs 30, recurrent dropout 0.5, bidirectional, and not including features added on the 3/02 or getting rid of VoI_drop features, got high 80s percentage accuracy on val\n",
    "# maybe it was 25fps?\n",
    "# with the new features, can get 89% val accuracy with 35 frame long examples. 25 is too short.\n",
    "opt = tf.keras.optimizers.Adam()\n",
    "model.compile(optimizer=opt, loss='sparse_categorical_crossentropy', metrics=['accuracy'])\n",
    "history = model.fit(X, y, validation_data=(X_val, y_val), epochs=80, batch_size = 50)"
   ]
  },
  {
   "cell_type": "code",
   "execution_count": 41,
   "metadata": {},
   "outputs": [],
   "source": [
    "model.save('models/V1/40f_5hs_RH.h5')"
   ]
  },
  {
   "cell_type": "code",
   "execution_count": 39,
   "metadata": {},
   "outputs": [],
   "source": [
    "model = tf.keras.models.load_model('models/V2/25f_32hs_15c_2.h5')"
   ]
  },
  {
   "cell_type": "code",
   "execution_count": 41,
   "metadata": {},
   "outputs": [
    {
     "name": "stdout",
     "output_type": "stream",
     "text": [
      "mean fps: 115.19\n",
      "target fps: 25\n",
      "skipping every 5 frames\n",
      "Found left hand data:  False\n",
      "Found right hand data:  True\n",
      "dropped 0 of 2777 rows with nans\n"
     ]
    }
   ],
   "source": [
    "# load test data\n",
    "X_test, y_test = CSV2examples('data/recordings/test_loop.csv', g2idx=g2idx, n_frames=50)"
   ]
  },
  {
   "cell_type": "code",
   "execution_count": 50,
   "metadata": {},
   "outputs": [
    {
     "name": "stdout",
     "output_type": "stream",
     "text": [
      "33\n",
      "[[0.95594496 0.04405507]]\n",
      "Predicted:  no_gesture\n",
      "Truth:  fist\n"
     ]
    }
   ],
   "source": [
    "# predict on a random test case\n",
    "i = np.random.randint(0, len(X_test))\n",
    "print(i)\n",
    "pred = model.predict(np.expand_dims(np.array(X_test[i]), axis=0))\n",
    "print(pred)\n",
    "print('Predicted: ', idx2g[np.argmax(pred)])\n",
    "print('Truth: ', idx2g[y_test[i]])"
   ]
  },
  {
   "cell_type": "code",
   "execution_count": 54,
   "metadata": {},
   "outputs": [
    {
     "name": "stdout",
     "output_type": "stream",
     "text": [
      "so_so\n"
     ]
    }
   ],
   "source": [
    "print(idx2g[y[1]])"
   ]
  },
  {
   "cell_type": "code",
   "execution_count": 39,
   "metadata": {},
   "outputs": [
    {
     "data": {
      "image/png": "[encoded data removed]",
      "text/plain": [
       "<Figure size 432x288 with 1 Axes>"
      ]
     },
     "metadata": {
      "needs_background": "light"
     },
     "output_type": "display_data"
    },
    {
     "data": {
      "image/png": "[encoded data removed]",
      "text/plain": [
       "<Figure size 432x288 with 1 Axes>"
      ]
     },
     "metadata": {
      "needs_background": "light"
     },
     "output_type": "display_data"
    }
   ],
   "source": [
    "# plot history:\n",
    "plt_metric(history, 'loss')\n",
    "plt_metric(history, 'accuracy')"
   ]
  },
  {
   "cell_type": "code",
   "execution_count": 51,
   "metadata": {},
   "outputs": [
    {
     "data": {
      "image/png": "[encoded data removed]",
      "text/plain": [
       "<Figure size 432x288 with 1 Axes>"
      ]
     },
     "metadata": {
      "needs_background": "light"
     },
     "output_type": "display_data"
    },
    {
     "data": {
      "image/png": "[encoded data removed]",
      "text/plain": [
       "<Figure size 432x288 with 1 Axes>"
      ]
     },
     "metadata": {
      "needs_background": "light"
     },
     "output_type": "display_data"
    }
   ],
   "source": [
    "# plot history:\n",
    "plt_metric(history, 'loss')\n",
    "plt_metric(history, 'accuracy')"
   ]
  },
  {
   "cell_type": "code",
   "execution_count": 41,
   "metadata": {},
   "outputs": [
    {
     "name": "stdout",
     "output_type": "stream",
     "text": [
      "mean fps: 28.80\n",
      "target fps: 30\n",
      "taking every 1 frames\n",
      "99.53% of rows contain valid LH data\n",
      "100.00% of rows contain valid RH data\n",
      "Found left hand data:  True\n",
      "Found right hand data:  True\n",
      "dealt with 0 of 2344 rows with nans\n"
     ]
    }
   ],
   "source": [
    "test2i = 'recordings/test2i.csv'\n",
    "X_val, y_val = CSV2examples(raw_file=test2i, g2idx=g2idx, n_frames=n_frames, target_fps=30, standardize=True, mirror=False)"
   ]
  },
  {
   "cell_type": "code",
   "execution_count": 40,
   "metadata": {},
   "outputs": [
    {
     "data": {
      "text/html": [
       "<div>\n",
       "<style scoped>\n",
       "    .dataframe tbody tr th:only-of-type {\n",
       "        vertical-align: middle;\n",
       "    }\n",
       "\n",
       "    .dataframe tbody tr th {\n",
       "        vertical-align: top;\n",
       "    }\n",
       "\n",
       "    .dataframe thead th {\n",
       "        text-align: right;\n",
       "    }\n",
       "</style>\n",
       "<table border=\"1\" class=\"dataframe\">\n",
       "  <thead>\n",
       "    <tr style=\"text-align: right;\">\n",
       "      <th>Predicted</th>\n",
       "      <th>fist</th>\n",
       "      <th>gun</th>\n",
       "      <th>maybe</th>\n",
       "      <th>no_gesture</th>\n",
       "      <th>open_close</th>\n",
       "      <th>pointing</th>\n",
       "      <th>shuffle_over</th>\n",
       "      <th>so_so</th>\n",
       "    </tr>\n",
       "    <tr>\n",
       "      <th>Actual</th>\n",
       "      <th></th>\n",
       "      <th></th>\n",
       "      <th></th>\n",
       "      <th></th>\n",
       "      <th></th>\n",
       "      <th></th>\n",
       "      <th></th>\n",
       "      <th></th>\n",
       "    </tr>\n",
       "  </thead>\n",
       "  <tbody>\n",
       "    <tr>\n",
       "      <th>fist</th>\n",
       "      <td>13</td>\n",
       "      <td>0</td>\n",
       "      <td>0</td>\n",
       "      <td>0</td>\n",
       "      <td>0</td>\n",
       "      <td>0</td>\n",
       "      <td>0</td>\n",
       "      <td>0</td>\n",
       "    </tr>\n",
       "    <tr>\n",
       "      <th>gun</th>\n",
       "      <td>0</td>\n",
       "      <td>9</td>\n",
       "      <td>0</td>\n",
       "      <td>0</td>\n",
       "      <td>0</td>\n",
       "      <td>4</td>\n",
       "      <td>0</td>\n",
       "      <td>0</td>\n",
       "    </tr>\n",
       "    <tr>\n",
       "      <th>maybe</th>\n",
       "      <td>0</td>\n",
       "      <td>0</td>\n",
       "      <td>13</td>\n",
       "      <td>0</td>\n",
       "      <td>0</td>\n",
       "      <td>0</td>\n",
       "      <td>0</td>\n",
       "      <td>0</td>\n",
       "    </tr>\n",
       "    <tr>\n",
       "      <th>no_gesture</th>\n",
       "      <td>0</td>\n",
       "      <td>0</td>\n",
       "      <td>0</td>\n",
       "      <td>13</td>\n",
       "      <td>0</td>\n",
       "      <td>0</td>\n",
       "      <td>0</td>\n",
       "      <td>0</td>\n",
       "    </tr>\n",
       "    <tr>\n",
       "      <th>open_close</th>\n",
       "      <td>3</td>\n",
       "      <td>0</td>\n",
       "      <td>0</td>\n",
       "      <td>0</td>\n",
       "      <td>7</td>\n",
       "      <td>3</td>\n",
       "      <td>0</td>\n",
       "      <td>0</td>\n",
       "    </tr>\n",
       "    <tr>\n",
       "      <th>pointing</th>\n",
       "      <td>0</td>\n",
       "      <td>0</td>\n",
       "      <td>0</td>\n",
       "      <td>0</td>\n",
       "      <td>0</td>\n",
       "      <td>13</td>\n",
       "      <td>0</td>\n",
       "      <td>0</td>\n",
       "    </tr>\n",
       "    <tr>\n",
       "      <th>shuffle_over</th>\n",
       "      <td>0</td>\n",
       "      <td>4</td>\n",
       "      <td>0</td>\n",
       "      <td>0</td>\n",
       "      <td>0</td>\n",
       "      <td>0</td>\n",
       "      <td>9</td>\n",
       "      <td>0</td>\n",
       "    </tr>\n",
       "    <tr>\n",
       "      <th>so_so</th>\n",
       "      <td>0</td>\n",
       "      <td>0</td>\n",
       "      <td>0</td>\n",
       "      <td>0</td>\n",
       "      <td>1</td>\n",
       "      <td>0</td>\n",
       "      <td>0</td>\n",
       "      <td>12</td>\n",
       "    </tr>\n",
       "  </tbody>\n",
       "</table>\n",
       "</div>"
      ],
      "text/plain": [
       "Predicted     fist  gun  maybe  no_gesture  open_close  pointing  \\\n",
       "Actual                                                             \n",
       "fist            13    0      0           0           0         0   \n",
       "gun              0    9      0           0           0         4   \n",
       "maybe            0    0     13           0           0         0   \n",
       "no_gesture       0    0      0          13           0         0   \n",
       "open_close       3    0      0           0           7         3   \n",
       "pointing         0    0      0           0           0        13   \n",
       "shuffle_over     0    4      0           0           0         0   \n",
       "so_so            0    0      0           0           1         0   \n",
       "\n",
       "Predicted     shuffle_over  so_so  \n",
       "Actual                             \n",
       "fist                     0      0  \n",
       "gun                      0      0  \n",
       "maybe                    0      0  \n",
       "no_gesture               0      0  \n",
       "open_close               0      0  \n",
       "pointing                 0      0  \n",
       "shuffle_over             9      0  \n",
       "so_so                    0     12  "
      ]
     },
     "execution_count": 40,
     "metadata": {},
     "output_type": "execute_result"
    }
   ],
   "source": [
    "# get confusion matrix\n",
    "pred = np.argmax(model.predict(X_val), axis=-1)\n",
    "pred_gest = [idx2g[i] for i in pred]\n",
    "y_gest = [idx2g[i] for i in y_val]\n",
    "pd.crosstab([y_gest], [pred_gest], rownames=['Actual'], colnames=['Predicted'])"
   ]
  },
  {
   "cell_type": "code",
   "execution_count": 100,
   "metadata": {},
   "outputs": [
    {
     "name": "stdout",
     "output_type": "stream",
     "text": [
      "[[[0 1]\n",
      "  [0 2]\n",
      "  [0 3]\n",
      "  [0 4]]\n",
      "\n",
      " [[0 3]\n",
      "  [0 4]\n",
      "  [0 5]\n",
      "  [0 6]]\n",
      "\n",
      " [[0 5]\n",
      "  [0 6]\n",
      "  [0 7]\n",
      "  [0 8]]\n",
      "\n",
      " [[1 1]\n",
      "  [1 2]\n",
      "  [1 3]\n",
      "  [1 4]]\n",
      "\n",
      " [[3 1]\n",
      "  [3 2]\n",
      "  [3 3]\n",
      "  [3 4]]\n",
      "\n",
      " [[3 3]\n",
      "  [3 4]\n",
      "  [3 5]\n",
      "  [3 6]]]\n",
      "[0 0 0 1 3 3]\n"
     ]
    }
   ],
   "source": [
    "Xa = [[[0,1],[0,2],[0,3],[0,4],[0,5],[0,6],[0,7],[0,8],[1,1],[1,2],[1,3],[1,4],[1,5],[3,1],[3,2],[3,3],[3,4],[3,5],[3,6],[3,7],[4,1],[4,2]]]\n",
    "ya = [0,0,0,0,0,0,0,0,1,1,1,1,1,3,3,3,3,3,3,3,4,4]\n",
    "xb, yb = X_y2examples(Xa, ya, n_frames=4)\n",
    "print(xb)\n",
    "print(yb)"
   ]
  },
  {
   "cell_type": "code",
   "execution_count": 94,
   "metadata": {},
   "outputs": [
    {
     "data": {
      "text/plain": [
       "[[0, 1], [0, 2]]"
      ]
     },
     "execution_count": 94,
     "metadata": {},
     "output_type": "execute_result"
    }
   ],
   "source": [
    "Xa[0:2]"
   ]
  }
 ],
 "metadata": {
  "kernelspec": {
   "display_name": "Python 3",
   "language": "python",
   "name": "python3"
  },
  "language_info": {
   "codemirror_mode": {
    "name": "ipython",
    "version": 3
   },
   "file_extension": ".py",
   "mimetype": "text/x-python",
   "name": "python",
   "nbconvert_exporter": "python",
   "pygments_lexer": "ipython3",
   "version": "3.7.1"
  }
 },
 "nbformat": 4,
 "nbformat_minor": 2
}
