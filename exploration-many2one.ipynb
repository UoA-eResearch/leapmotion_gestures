{
 "cells": [
  {
   "cell_type": "code",
   "execution_count": 1,
   "metadata": {},
   "outputs": [],
   "source": [
    "from importlib import reload\n",
    "import numpy as np\n",
    "import json\n",
    "import matplotlib.pyplot as plt\n",
    "import pandas as pd\n",
    "import os\n",
    "import tensorflow as tf\n",
    "from tensorflow.keras import layers"
   ]
  },
  {
   "cell_type": "code",
   "execution_count": 7,
   "metadata": {},
   "outputs": [
    {
     "data": {
      "text/plain": [
       "<module 'src.features' from 'C:\\\\Users\\\\Andrew\\\\Documents\\\\CeR\\\\GestRec\\\\leap_gesture_rec\\\\src\\\\features.py'>"
      ]
     },
     "execution_count": 7,
     "metadata": {},
     "output_type": "execute_result"
    }
   ],
   "source": [
    "# import (or reload) modules\n",
    "import src.models\n",
    "reload(src.models)\n",
    "from src.models import *\n",
    "\n",
    "import src.data_methods\n",
    "reload(src.data_methods)\n",
    "from src.data_methods import *\n",
    "\n",
    "import src.features as features\n",
    "reload(features)"
   ]
  },
  {
   "cell_type": "markdown",
   "metadata": {},
   "source": [
    "## Many To One\n",
    "This notebook contains the steps necessary to train a 'many to one' lstm model - that is, a model in which many time steps are given as input, and one prediction is given as output.\n",
    "\n",
    "### Gestures\n",
    "First, get a list of gestures from the gestures parameter file, and dictionaries mapping between gesture names and their integer ids."
   ]
  },
  {
   "cell_type": "code",
   "execution_count": 5,
   "metadata": {},
   "outputs": [],
   "source": [
    "gestures, g2idx, idx2g = get_gestures(version=3)"
   ]
  },
  {
   "cell_type": "markdown",
   "metadata": {},
   "source": [
    "### Dictionaries for Standardizing/Centering \n",
    "Sometimes we want to update the dictionaries used for normalizing and centering variables. We need to do this if a new variable is introduced for which the information is not in the dictionary.\n",
    "CSV2examples can generate new dictionaries for this purpose, overwriting the old ones stored in the params/ folder."
   ]
  },
  {
   "cell_type": "code",
   "execution_count": null,
   "metadata": {},
   "outputs": [],
   "source": [
    "n_frames=40\n",
    "CSV2examples(raw_file='data/recordings/normalization_data.csv', g2idx=g2idx, n_frames=n_frames, target_fps=30, standardize=True, dicts_gen=True, derive_features=True)"
   ]
  },
  {
   "cell_type": "markdown",
   "metadata": {},
   "source": [
    "### Read in folder of CSV files, set up a model, and train"
   ]
  },
  {
   "cell_type": "code",
   "execution_count": 8,
   "metadata": {},
   "outputs": [
    {
     "name": "stdout",
     "output_type": "stream",
     "text": [
      "mean fps: 28.78\n",
      "target fps: 30\n",
      "taking every 1 frames\n",
      "98.72% of rows contain valid LH data\n",
      "100.00% of rows contain valid RH data\n",
      "Found left hand data:  True\n",
      "Found right hand data:  True\n",
      "mean fps: 27.62\n",
      "target fps: 30\n",
      "taking every 1 frames\n",
      "96.23% of rows contain valid LH data\n",
      "99.16% of rows contain valid RH data\n",
      "Found left hand data:  True\n",
      "Found right hand data:  True\n",
      "mean fps: 27.62\n",
      "target fps: 30\n",
      "taking every 1 frames\n",
      "93.07% of rows contain valid LH data\n",
      "100.00% of rows contain valid RH data\n",
      "Found left hand data:  True\n",
      "Found right hand data:  True\n",
      "mean fps: 27.61\n",
      "target fps: 30\n",
      "taking every 1 frames\n",
      "96.20% of rows contain valid LH data\n",
      "100.00% of rows contain valid RH data\n",
      "Found left hand data:  True\n",
      "Found right hand data:  True\n",
      "Warning: -47783 of 49769 rows contain gestures not in g2idx\n",
      "dealt with 1985 of 49769 rows with nans\n",
      "Warning: -47783 of 49769 rows contain gestures not in g2idx\n",
      "dealt with 1985 of 49769 rows with nans\n",
      "Data successfully mirrored\n",
      "mean fps: 27.61\n",
      "target fps: 30\n",
      "taking every 1 frames\n",
      "98.82% of rows contain valid LH data\n",
      "100.00% of rows contain valid RH data\n",
      "Found left hand data:  True\n",
      "Found right hand data:  True\n",
      "Warning: -8878 of 9155 rows contain gestures not in g2idx\n",
      "dealt with 276 of 9155 rows with nans\n",
      "Warning: -8878 of 9155 rows contain gestures not in g2idx\n",
      "dealt with 276 of 9155 rows with nans\n",
      "Data successfully mirrored\n",
      "(4156, 40, 50)\n"
     ]
    }
   ],
   "source": [
    "n_frames = 40\n",
    "X, y = folder2examples(folder='data/loopsV3/train/', g2idx=g2idx, n_frames=n_frames, mirror=True)\n",
    "X_val, y_val = folder2examples(folder='data/loopsV3/test/', g2idx=g2idx, n_frames=n_frames, mirror=True)\n",
    "print(X.shape)"
   ]
  },
  {
   "cell_type": "code",
   "execution_count": 9,
   "metadata": {},
   "outputs": [
    {
     "name": "stdout",
     "output_type": "stream",
     "text": [
      "Model: \"many2one\"\n",
      "_________________________________________________________________\n",
      "Layer (type)                 Output Shape              Param #   \n",
      "=================================================================\n",
      "input_1 (InputLayer)         [(None, 40, 50)]          0         \n",
      "_________________________________________________________________\n",
      "bidirectional (Bidirectional (None, 8)                 1760      \n",
      "_________________________________________________________________\n",
      "dense (Dense)                (None, 32)                288       \n",
      "=================================================================\n",
      "Total params: 2,048\n",
      "Trainable params: 2,048\n",
      "Non-trainable params: 0\n",
      "_________________________________________________________________\n"
     ]
    }
   ],
   "source": [
    "model = many2one_model(n_features = X.shape[-1], n_frames=X.shape[1], n_gestures=len(g2idx), n_lstm_layers=1, rnn_units=4, recurrent_dropout=0.0, bidirectional=True)"
   ]
  },
  {
   "cell_type": "code",
   "execution_count": 10,
   "metadata": {},
   "outputs": [
    {
     "name": "stdout",
     "output_type": "stream",
     "text": [
      "Train on 4156 samples, validate on 768 samples\n",
      "Epoch 1/140\n",
      "4156/4156 [==============================] - 6s 1ms/sample - loss: 3.2989 - accuracy: 0.1304 - val_loss: 3.0676 - val_accuracy: 0.2487\n",
      "Epoch 2/140\n",
      "4156/4156 [==============================] - 1s 340us/sample - loss: 2.9306 - accuracy: 0.2859 - val_loss: 2.7058 - val_accuracy: 0.3581\n",
      "Epoch 3/140\n",
      "4156/4156 [==============================] - 1s 332us/sample - loss: 2.5538 - accuracy: 0.4160 - val_loss: 2.3489 - val_accuracy: 0.4557\n",
      "Epoch 4/140\n",
      "4156/4156 [==============================] - 1s 337us/sample - loss: 2.2593 - accuracy: 0.4957 - val_loss: 2.0765 - val_accuracy: 0.5326\n",
      "Epoch 5/140\n",
      "4156/4156 [==============================] - 1s 335us/sample - loss: 2.0083 - accuracy: 0.5452 - val_loss: 1.8741 - val_accuracy: 0.5677\n",
      "Epoch 6/140\n",
      "4156/4156 [==============================] - 1s 334us/sample - loss: 1.7943 - accuracy: 0.5972 - val_loss: 1.6816 - val_accuracy: 0.6042\n",
      "Epoch 7/140\n",
      "4156/4156 [==============================] - 1s 337us/sample - loss: 1.6418 - accuracy: 0.6268 - val_loss: 1.5331 - val_accuracy: 0.6693\n",
      "Epoch 8/140\n",
      "4156/4156 [==============================] - 1s 334us/sample - loss: 1.5018 - accuracy: 0.6629 - val_loss: 1.4815 - val_accuracy: 0.6380\n",
      "Epoch 9/140\n",
      "4156/4156 [==============================] - 1s 337us/sample - loss: 1.4033 - accuracy: 0.6884 - val_loss: 1.3809 - val_accuracy: 0.6901\n",
      "Epoch 10/140\n",
      "4156/4156 [==============================] - 1s 334us/sample - loss: 1.2944 - accuracy: 0.7086 - val_loss: 1.3013 - val_accuracy: 0.6823\n",
      "Epoch 11/140\n",
      "4156/4156 [==============================] - 1s 334us/sample - loss: 1.2170 - accuracy: 0.7202 - val_loss: 1.2151 - val_accuracy: 0.7031\n",
      "Epoch 12/140\n",
      "4156/4156 [==============================] - 1s 335us/sample - loss: 1.1547 - accuracy: 0.7329 - val_loss: 1.1174 - val_accuracy: 0.7383\n",
      "Epoch 13/140\n",
      "4156/4156 [==============================] - 2s 368us/sample - loss: 1.1083 - accuracy: 0.7206 - val_loss: 1.0959 - val_accuracy: 0.7370\n",
      "Epoch 14/140\n",
      "4156/4156 [==============================] - 1s 348us/sample - loss: 1.0166 - accuracy: 0.7589 - val_loss: 0.9796 - val_accuracy: 0.7839\n",
      "Epoch 15/140\n",
      "4156/4156 [==============================] - 1s 339us/sample - loss: 0.9582 - accuracy: 0.7707 - val_loss: 0.9487 - val_accuracy: 0.7773\n",
      "Epoch 16/140\n",
      "4156/4156 [==============================] - 1s 340us/sample - loss: 0.9096 - accuracy: 0.7832 - val_loss: 0.8704 - val_accuracy: 0.8086\n",
      "Epoch 17/140\n",
      "4156/4156 [==============================] - 1s 341us/sample - loss: 0.8587 - accuracy: 0.7950 - val_loss: 0.8288 - val_accuracy: 0.7969\n",
      "Epoch 18/140\n",
      "4156/4156 [==============================] - 1s 340us/sample - loss: 0.8128 - accuracy: 0.8049 - val_loss: 0.8611 - val_accuracy: 0.7760\n",
      "Epoch 19/140\n",
      "4156/4156 [==============================] - 1s 344us/sample - loss: 0.8209 - accuracy: 0.8005 - val_loss: 0.8626 - val_accuracy: 0.7786\n",
      "Epoch 20/140\n",
      "4156/4156 [==============================] - 1s 345us/sample - loss: 0.8114 - accuracy: 0.7936 - val_loss: 0.7948 - val_accuracy: 0.8099\n",
      "Epoch 21/140\n",
      "4156/4156 [==============================] - 1s 347us/sample - loss: 0.7779 - accuracy: 0.7974 - val_loss: 0.9127 - val_accuracy: 0.7461\n",
      "Epoch 22/140\n",
      "4156/4156 [==============================] - 1s 339us/sample - loss: 0.7635 - accuracy: 0.8027 - val_loss: 0.8102 - val_accuracy: 0.7969\n",
      "Epoch 23/140\n",
      "4156/4156 [==============================] - 1s 338us/sample - loss: 0.8236 - accuracy: 0.7926 - val_loss: 0.8572 - val_accuracy: 0.7565\n",
      "Epoch 24/140\n",
      "4156/4156 [==============================] - 1s 341us/sample - loss: 0.7475 - accuracy: 0.8077 - val_loss: 0.7444 - val_accuracy: 0.8060\n",
      "Epoch 25/140\n",
      "4156/4156 [==============================] - 2s 364us/sample - loss: 0.8311 - accuracy: 0.7757 - val_loss: 0.9260 - val_accuracy: 0.7357\n",
      "Epoch 26/140\n",
      "4156/4156 [==============================] - 1s 352us/sample - loss: 0.7645 - accuracy: 0.7967 - val_loss: 0.8882 - val_accuracy: 0.7513\n",
      "Epoch 27/140\n",
      "4156/4156 [==============================] - 1s 340us/sample - loss: 0.7367 - accuracy: 0.7945 - val_loss: 0.8273 - val_accuracy: 0.7799\n",
      "Epoch 28/140\n",
      "4156/4156 [==============================] - 1s 339us/sample - loss: 0.6482 - accuracy: 0.8294 - val_loss: 0.7536 - val_accuracy: 0.8203\n",
      "Epoch 29/140\n",
      "4156/4156 [==============================] - 1s 337us/sample - loss: 0.6020 - accuracy: 0.8489 - val_loss: 0.6852 - val_accuracy: 0.8503\n",
      "Epoch 30/140\n",
      "4156/4156 [==============================] - 1s 341us/sample - loss: 0.6018 - accuracy: 0.8527 - val_loss: 0.6894 - val_accuracy: 0.8281\n",
      "Epoch 31/140\n",
      "4156/4156 [==============================] - 1s 338us/sample - loss: 0.5537 - accuracy: 0.8667 - val_loss: 0.6571 - val_accuracy: 0.8346\n",
      "Epoch 32/140\n",
      "4156/4156 [==============================] - 1s 341us/sample - loss: 0.5415 - accuracy: 0.8725 - val_loss: 0.6665 - val_accuracy: 0.8294\n",
      "Epoch 33/140\n",
      "4156/4156 [==============================] - 2s 370us/sample - loss: 0.5164 - accuracy: 0.8773 - val_loss: 0.6304 - val_accuracy: 0.8333\n",
      "Epoch 34/140\n",
      "4156/4156 [==============================] - 1s 354us/sample - loss: 0.4962 - accuracy: 0.8869 - val_loss: 0.6180 - val_accuracy: 0.8503\n",
      "Epoch 35/140\n",
      "4156/4156 [==============================] - 1s 343us/sample - loss: 0.5122 - accuracy: 0.8744 - val_loss: 0.5657 - val_accuracy: 0.8542\n",
      "Epoch 36/140\n",
      "4156/4156 [==============================] - 1s 341us/sample - loss: 0.4570 - accuracy: 0.8946 - val_loss: 0.5938 - val_accuracy: 0.8451\n",
      "Epoch 37/140\n",
      "4156/4156 [==============================] - 1s 344us/sample - loss: 0.4906 - accuracy: 0.8795 - val_loss: 0.6242 - val_accuracy: 0.8333\n",
      "Epoch 38/140\n",
      "4156/4156 [==============================] - 1s 341us/sample - loss: 0.4558 - accuracy: 0.8944 - val_loss: 0.5915 - val_accuracy: 0.8398\n",
      "Epoch 39/140\n",
      "4156/4156 [==============================] - 1s 343us/sample - loss: 0.4164 - accuracy: 0.9028 - val_loss: 0.5765 - val_accuracy: 0.8398\n",
      "Epoch 40/140\n",
      "4156/4156 [==============================] - 1s 344us/sample - loss: 0.4289 - accuracy: 0.8949 - val_loss: 0.5391 - val_accuracy: 0.8555\n",
      "Epoch 41/140\n",
      "4156/4156 [==============================] - 1s 343us/sample - loss: 0.4056 - accuracy: 0.9083 - val_loss: 0.5447 - val_accuracy: 0.8451\n",
      "Epoch 42/140\n",
      "4156/4156 [==============================] - 2s 382us/sample - loss: 0.3994 - accuracy: 0.9086 - val_loss: 0.5763 - val_accuracy: 0.8398\n",
      "Epoch 43/140\n",
      "4156/4156 [==============================] - 1s 348us/sample - loss: 0.3862 - accuracy: 0.9131 - val_loss: 0.5539 - val_accuracy: 0.8451\n",
      "Epoch 44/140\n",
      "4156/4156 [==============================] - 1s 346us/sample - loss: 0.3984 - accuracy: 0.9100 - val_loss: 0.5595 - val_accuracy: 0.8411\n",
      "Epoch 45/140\n",
      "4156/4156 [==============================] - 1s 348us/sample - loss: 0.3720 - accuracy: 0.9194 - val_loss: 0.5708 - val_accuracy: 0.8398\n",
      "Epoch 46/140\n",
      "4156/4156 [==============================] - 1s 354us/sample - loss: 0.3492 - accuracy: 0.9283 - val_loss: 0.5943 - val_accuracy: 0.8333\n",
      "Epoch 47/140\n",
      "4156/4156 [==============================] - 1s 358us/sample - loss: 0.3354 - accuracy: 0.9324 - val_loss: 0.5398 - val_accuracy: 0.8594\n",
      "Epoch 48/140\n",
      "4156/4156 [==============================] - 2s 363us/sample - loss: 0.3273 - accuracy: 0.9362 - val_loss: 0.5564 - val_accuracy: 0.8411\n",
      "Epoch 49/140\n",
      "4156/4156 [==============================] - 1s 360us/sample - loss: 0.3272 - accuracy: 0.9384 - val_loss: 0.5334 - val_accuracy: 0.8607\n",
      "Epoch 50/140\n",
      "4156/4156 [==============================] - 1s 355us/sample - loss: 0.3171 - accuracy: 0.9358 - val_loss: 0.5540 - val_accuracy: 0.8477\n",
      "Epoch 51/140\n",
      "4156/4156 [==============================] - 1s 355us/sample - loss: 0.3418 - accuracy: 0.9247 - val_loss: 0.5219 - val_accuracy: 0.8451\n",
      "Epoch 52/140\n",
      "4156/4156 [==============================] - 1s 347us/sample - loss: 0.3049 - accuracy: 0.9396 - val_loss: 0.5934 - val_accuracy: 0.8281\n",
      "Epoch 53/140\n",
      "4156/4156 [==============================] - 1s 354us/sample - loss: 0.3076 - accuracy: 0.9382 - val_loss: 0.5009 - val_accuracy: 0.8646\n",
      "Epoch 54/140\n",
      "4156/4156 [==============================] - 1s 350us/sample - loss: 0.2969 - accuracy: 0.9403 - val_loss: 0.5230 - val_accuracy: 0.8581\n",
      "Epoch 55/140\n",
      "4156/4156 [==============================] - 2s 385us/sample - loss: 0.2732 - accuracy: 0.9543 - val_loss: 0.4919 - val_accuracy: 0.8724\n",
      "Epoch 56/140\n",
      "4156/4156 [==============================] - 1s 352us/sample - loss: 0.2712 - accuracy: 0.9524 - val_loss: 0.5037 - val_accuracy: 0.8568\n",
      "Epoch 57/140\n",
      "4156/4156 [==============================] - 1s 345us/sample - loss: 0.2705 - accuracy: 0.9487 - val_loss: 0.4982 - val_accuracy: 0.8594\n",
      "Epoch 58/140\n",
      "4156/4156 [==============================] - 1s 344us/sample - loss: 0.2765 - accuracy: 0.9454 - val_loss: 0.4758 - val_accuracy: 0.8828\n",
      "Epoch 59/140\n",
      "4156/4156 [==============================] - 1s 357us/sample - loss: 0.2689 - accuracy: 0.9516 - val_loss: 0.5069 - val_accuracy: 0.8659\n",
      "Epoch 60/140\n",
      "4156/4156 [==============================] - 1s 350us/sample - loss: 0.2520 - accuracy: 0.9555 - val_loss: 0.4603 - val_accuracy: 0.8815\n",
      "Epoch 61/140\n",
      "4156/4156 [==============================] - 2s 362us/sample - loss: 0.2988 - accuracy: 0.9386 - val_loss: 0.5429 - val_accuracy: 0.8581\n",
      "Epoch 62/140\n",
      "4156/4156 [==============================] - 1s 353us/sample - loss: 0.2646 - accuracy: 0.9471 - val_loss: 0.4799 - val_accuracy: 0.8750\n",
      "Epoch 63/140\n",
      "4156/4156 [==============================] - 2s 364us/sample - loss: 0.2367 - accuracy: 0.9584 - val_loss: 0.4921 - val_accuracy: 0.8737\n",
      "Epoch 64/140\n",
      "4156/4156 [==============================] - 2s 372us/sample - loss: 0.2301 - accuracy: 0.9596 - val_loss: 0.4651 - val_accuracy: 0.8815\n",
      "Epoch 65/140\n",
      "4156/4156 [==============================] - 2s 374us/sample - loss: 0.2193 - accuracy: 0.9613 - val_loss: 0.5272 - val_accuracy: 0.8672\n",
      "Epoch 66/140\n",
      "4156/4156 [==============================] - 2s 375us/sample - loss: 0.2299 - accuracy: 0.9567 - val_loss: 0.4825 - val_accuracy: 0.8841\n",
      "Epoch 67/140\n",
      "4156/4156 [==============================] - 1s 353us/sample - loss: 0.2072 - accuracy: 0.9629 - val_loss: 0.4439 - val_accuracy: 0.8906\n",
      "Epoch 68/140\n",
      "4156/4156 [==============================] - 1s 349us/sample - loss: 0.2086 - accuracy: 0.9617 - val_loss: 0.4722 - val_accuracy: 0.8776\n",
      "Epoch 69/140\n",
      "4156/4156 [==============================] - 2s 383us/sample - loss: 0.2230 - accuracy: 0.9543 - val_loss: 0.4498 - val_accuracy: 0.8854\n",
      "Epoch 70/140\n",
      "4156/4156 [==============================] - 2s 365us/sample - loss: 0.1996 - accuracy: 0.9637 - val_loss: 0.4763 - val_accuracy: 0.8815\n",
      "Epoch 71/140\n",
      "4156/4156 [==============================] - 2s 366us/sample - loss: 0.1950 - accuracy: 0.9673 - val_loss: 0.4443 - val_accuracy: 0.8828\n",
      "Epoch 72/140\n",
      "4156/4156 [==============================] - 2s 369us/sample - loss: 0.1840 - accuracy: 0.9692 - val_loss: 0.4710 - val_accuracy: 0.8737\n",
      "Epoch 73/140\n",
      "4156/4156 [==============================] - 2s 370us/sample - loss: 0.1755 - accuracy: 0.9709 - val_loss: 0.4204 - val_accuracy: 0.8984\n",
      "Epoch 74/140\n",
      "4156/4156 [==============================] - 2s 371us/sample - loss: 0.1720 - accuracy: 0.9706 - val_loss: 0.4609 - val_accuracy: 0.8867\n",
      "Epoch 75/140\n",
      "4156/4156 [==============================] - 2s 366us/sample - loss: 0.1700 - accuracy: 0.9709 - val_loss: 0.4346 - val_accuracy: 0.8932\n",
      "Epoch 76/140\n",
      "4156/4156 [==============================] - 2s 407us/sample - loss: 0.1749 - accuracy: 0.9699 - val_loss: 0.4432 - val_accuracy: 0.8958\n",
      "Epoch 77/140\n",
      "4156/4156 [==============================] - 2s 375us/sample - loss: 0.1730 - accuracy: 0.9697 - val_loss: 0.4650 - val_accuracy: 0.8841\n",
      "Epoch 78/140\n",
      "4156/4156 [==============================] - 2s 373us/sample - loss: 0.1669 - accuracy: 0.9738 - val_loss: 0.4450 - val_accuracy: 0.8906\n",
      "Epoch 79/140\n",
      "4156/4156 [==============================] - 2s 383us/sample - loss: 0.1675 - accuracy: 0.9723 - val_loss: 0.4184 - val_accuracy: 0.8984\n",
      "Epoch 80/140\n",
      "4156/4156 [==============================] - 2s 398us/sample - loss: 0.1490 - accuracy: 0.9779 - val_loss: 0.4219 - val_accuracy: 0.8906\n",
      "Epoch 81/140\n",
      "4156/4156 [==============================] - 2s 378us/sample - loss: 0.1452 - accuracy: 0.9795 - val_loss: 0.4223 - val_accuracy: 0.8945\n",
      "Epoch 82/140\n",
      "4156/4156 [==============================] - 2s 399us/sample - loss: 0.1591 - accuracy: 0.9767 - val_loss: 0.4422 - val_accuracy: 0.8828\n",
      "Epoch 83/140\n",
      "4156/4156 [==============================] - 2s 377us/sample - loss: 0.1497 - accuracy: 0.9786 - val_loss: 0.4632 - val_accuracy: 0.8789\n",
      "Epoch 84/140\n",
      "4156/4156 [==============================] - 2s 378us/sample - loss: 0.1381 - accuracy: 0.9820 - val_loss: 0.4209 - val_accuracy: 0.8932\n",
      "Epoch 85/140\n",
      "4156/4156 [==============================] - 2s 377us/sample - loss: 0.1276 - accuracy: 0.9839 - val_loss: 0.4282 - val_accuracy: 0.8984\n",
      "Epoch 86/140\n",
      "4156/4156 [==============================] - 2s 378us/sample - loss: 0.1383 - accuracy: 0.9783 - val_loss: 0.4702 - val_accuracy: 0.8737\n",
      "Epoch 87/140\n",
      "4156/4156 [==============================] - 2s 374us/sample - loss: 0.1508 - accuracy: 0.9721 - val_loss: 0.4824 - val_accuracy: 0.8815\n",
      "Epoch 88/140\n",
      "4156/4156 [==============================] - 2s 416us/sample - loss: 0.1556 - accuracy: 0.9702 - val_loss: 0.4897 - val_accuracy: 0.8685\n",
      "Epoch 89/140\n",
      "4156/4156 [==============================] - 2s 401us/sample - loss: 0.1463 - accuracy: 0.9718 - val_loss: 0.4611 - val_accuracy: 0.8828\n",
      "Epoch 90/140\n",
      "4156/4156 [==============================] - 2s 380us/sample - loss: 0.1382 - accuracy: 0.9757 - val_loss: 0.4331 - val_accuracy: 0.8958\n",
      "Epoch 91/140\n",
      "4156/4156 [==============================] - 2s 379us/sample - loss: 0.1305 - accuracy: 0.9786 - val_loss: 0.4499 - val_accuracy: 0.8906\n",
      "Epoch 92/140\n",
      "4156/4156 [==============================] - 2s 410us/sample - loss: 0.1300 - accuracy: 0.9800 - val_loss: 0.4183 - val_accuracy: 0.9128\n",
      "Epoch 93/140\n",
      "4156/4156 [==============================] - 2s 380us/sample - loss: 0.1175 - accuracy: 0.9841 - val_loss: 0.4018 - val_accuracy: 0.9049\n",
      "Epoch 94/140\n",
      "4156/4156 [==============================] - 2s 382us/sample - loss: 0.1255 - accuracy: 0.9810 - val_loss: 0.4121 - val_accuracy: 0.9023\n",
      "Epoch 95/140\n",
      "4156/4156 [==============================] - 2s 380us/sample - loss: 0.1110 - accuracy: 0.9827 - val_loss: 0.4258 - val_accuracy: 0.8958\n",
      "Epoch 96/140\n",
      "4156/4156 [==============================] - 2s 393us/sample - loss: 0.1033 - accuracy: 0.9870 - val_loss: 0.3957 - val_accuracy: 0.9102\n",
      "Epoch 97/140\n",
      "4156/4156 [==============================] - 2s 397us/sample - loss: 0.1036 - accuracy: 0.9868 - val_loss: 0.4192 - val_accuracy: 0.9023\n",
      "Epoch 98/140\n",
      "4156/4156 [==============================] - 2s 381us/sample - loss: 0.1204 - accuracy: 0.9795 - val_loss: 0.5138 - val_accuracy: 0.8841\n",
      "Epoch 99/140\n",
      "4156/4156 [==============================] - 2s 393us/sample - loss: 0.1507 - accuracy: 0.9694 - val_loss: 0.4920 - val_accuracy: 0.8763\n",
      "Epoch 100/140\n",
      "4156/4156 [==============================] - 2s 382us/sample - loss: 0.2480 - accuracy: 0.9423 - val_loss: 0.4014 - val_accuracy: 0.9049\n",
      "Epoch 101/140\n",
      "4156/4156 [==============================] - 2s 385us/sample - loss: 0.1746 - accuracy: 0.9629 - val_loss: 0.3893 - val_accuracy: 0.9023\n",
      "Epoch 102/140\n",
      "4156/4156 [==============================] - 2s 414us/sample - loss: 0.1326 - accuracy: 0.9764 - val_loss: 0.3578 - val_accuracy: 0.9128\n",
      "Epoch 103/140\n",
      "4156/4156 [==============================] - 2s 383us/sample - loss: 0.1178 - accuracy: 0.9812 - val_loss: 0.4039 - val_accuracy: 0.9049\n",
      "Epoch 104/140\n",
      "4156/4156 [==============================] - 2s 386us/sample - loss: 0.1144 - accuracy: 0.9786 - val_loss: 0.4124 - val_accuracy: 0.9062\n",
      "Epoch 105/140\n",
      "4156/4156 [==============================] - 2s 388us/sample - loss: 0.1193 - accuracy: 0.9788 - val_loss: 0.4466 - val_accuracy: 0.8893\n",
      "Epoch 106/140\n",
      "4156/4156 [==============================] - 2s 381us/sample - loss: 0.1952 - accuracy: 0.9644 - val_loss: 0.4808 - val_accuracy: 0.8776\n",
      "Epoch 107/140\n",
      "4156/4156 [==============================] - 2s 381us/sample - loss: 0.1426 - accuracy: 0.9755 - val_loss: 0.4152 - val_accuracy: 0.9076\n",
      "Epoch 108/140\n",
      "4156/4156 [==============================] - 2s 384us/sample - loss: 0.1136 - accuracy: 0.9829 - val_loss: 0.4123 - val_accuracy: 0.9102\n",
      "Epoch 109/140\n",
      "4156/4156 [==============================] - 2s 386us/sample - loss: 0.1040 - accuracy: 0.9839 - val_loss: 0.3990 - val_accuracy: 0.9062\n",
      "Epoch 110/140\n",
      "4156/4156 [==============================] - 2s 408us/sample - loss: 0.1311 - accuracy: 0.9805 - val_loss: 0.4283 - val_accuracy: 0.9076\n",
      "Epoch 111/140\n",
      "4156/4156 [==============================] - 2s 386us/sample - loss: 0.1140 - accuracy: 0.9832 - val_loss: 0.4639 - val_accuracy: 0.8945\n",
      "Epoch 112/140\n",
      "4156/4156 [==============================] - 2s 390us/sample - loss: 0.1294 - accuracy: 0.9798 - val_loss: 0.4589 - val_accuracy: 0.8867\n",
      "Epoch 113/140\n",
      "4156/4156 [==============================] - 2s 389us/sample - loss: 0.1327 - accuracy: 0.9740 - val_loss: 0.4748 - val_accuracy: 0.8932\n",
      "Epoch 114/140\n",
      "4156/4156 [==============================] - 2s 388us/sample - loss: 0.1047 - accuracy: 0.9839 - val_loss: 0.4198 - val_accuracy: 0.9010\n",
      "Epoch 115/140\n",
      "4156/4156 [==============================] - 2s 377us/sample - loss: 0.0931 - accuracy: 0.9870 - val_loss: 0.4658 - val_accuracy: 0.8906\n",
      "Epoch 116/140\n",
      "4156/4156 [==============================] - 2s 377us/sample - loss: 0.0878 - accuracy: 0.9892 - val_loss: 0.4607 - val_accuracy: 0.8815\n",
      "Epoch 117/140\n",
      "4156/4156 [==============================] - 2s 388us/sample - loss: 0.1004 - accuracy: 0.9841 - val_loss: 0.4906 - val_accuracy: 0.8854\n",
      "Epoch 118/140\n",
      "4156/4156 [==============================] - 2s 384us/sample - loss: 0.0929 - accuracy: 0.9858 - val_loss: 0.4487 - val_accuracy: 0.9010\n",
      "Epoch 119/140\n",
      "4156/4156 [==============================] - 2s 386us/sample - loss: 0.0933 - accuracy: 0.9863 - val_loss: 0.4230 - val_accuracy: 0.9036\n",
      "Epoch 120/140\n",
      "4156/4156 [==============================] - 2s 392us/sample - loss: 0.0768 - accuracy: 0.9918 - val_loss: 0.4234 - val_accuracy: 0.9049\n",
      "Epoch 121/140\n",
      "4156/4156 [==============================] - 2s 443us/sample - loss: 0.0787 - accuracy: 0.9897 - val_loss: 0.5734 - val_accuracy: 0.8607\n",
      "Epoch 122/140\n",
      "4156/4156 [==============================] - 2s 411us/sample - loss: 0.1243 - accuracy: 0.9743 - val_loss: 0.4808 - val_accuracy: 0.8802\n",
      "Epoch 123/140\n",
      "4156/4156 [==============================] - 2s 384us/sample - loss: 0.0815 - accuracy: 0.9870 - val_loss: 0.4266 - val_accuracy: 0.8984\n",
      "Epoch 124/140\n",
      "4156/4156 [==============================] - 2s 389us/sample - loss: 0.0891 - accuracy: 0.9858 - val_loss: 0.4451 - val_accuracy: 0.8971\n",
      "Epoch 125/140\n",
      "4156/4156 [==============================] - 2s 383us/sample - loss: 0.0758 - accuracy: 0.9904 - val_loss: 0.4391 - val_accuracy: 0.9049\n",
      "Epoch 126/140\n",
      "4156/4156 [==============================] - 2s 391us/sample - loss: 0.0699 - accuracy: 0.9923 - val_loss: 0.4284 - val_accuracy: 0.9049\n",
      "Epoch 127/140\n",
      "4156/4156 [==============================] - 2s 390us/sample - loss: 0.0646 - accuracy: 0.9935 - val_loss: 0.4351 - val_accuracy: 0.9062\n",
      "Epoch 128/140\n",
      "4156/4156 [==============================] - 2s 401us/sample - loss: 0.0624 - accuracy: 0.9937 - val_loss: 0.4268 - val_accuracy: 0.9036\n",
      "Epoch 129/140\n",
      "4156/4156 [==============================] - 2s 410us/sample - loss: 0.0651 - accuracy: 0.9918 - val_loss: 0.4255 - val_accuracy: 0.9076\n",
      "Epoch 130/140\n",
      "4156/4156 [==============================] - 2s 393us/sample - loss: 0.0644 - accuracy: 0.9925 - val_loss: 0.4173 - val_accuracy: 0.9089\n",
      "Epoch 131/140\n",
      "4156/4156 [==============================] - 2s 397us/sample - loss: 0.0793 - accuracy: 0.9877 - val_loss: 0.3856 - val_accuracy: 0.9128\n",
      "Epoch 132/140\n",
      "4156/4156 [==============================] - 2s 392us/sample - loss: 0.0792 - accuracy: 0.9897 - val_loss: 0.4269 - val_accuracy: 0.9076\n",
      "Epoch 133/140\n",
      "4156/4156 [==============================] - 2s 392us/sample - loss: 0.0690 - accuracy: 0.9916 - val_loss: 0.4518 - val_accuracy: 0.8997\n",
      "Epoch 134/140\n",
      "4156/4156 [==============================] - 2s 388us/sample - loss: 0.0627 - accuracy: 0.9925 - val_loss: 0.4430 - val_accuracy: 0.8971\n",
      "Epoch 135/140\n",
      "4156/4156 [==============================] - 2s 389us/sample - loss: 0.0692 - accuracy: 0.9901 - val_loss: 0.6138 - val_accuracy: 0.8529\n",
      "Epoch 136/140\n",
      "4156/4156 [==============================] - 2s 388us/sample - loss: 0.1329 - accuracy: 0.9718 - val_loss: 0.4919 - val_accuracy: 0.8880\n",
      "Epoch 137/140\n",
      "4156/4156 [==============================] - 2s 388us/sample - loss: 0.1476 - accuracy: 0.9649 - val_loss: 0.4600 - val_accuracy: 0.8854\n",
      "Epoch 138/140\n",
      "4156/4156 [==============================] - 2s 387us/sample - loss: 0.1149 - accuracy: 0.9757 - val_loss: 0.4490 - val_accuracy: 0.8971\n",
      "Epoch 139/140\n",
      "4156/4156 [==============================] - 2s 382us/sample - loss: 0.0856 - accuracy: 0.9860 - val_loss: 0.4317 - val_accuracy: 0.9010\n",
      "Epoch 140/140\n",
      "4156/4156 [==============================] - 2s 385us/sample - loss: 0.0735 - accuracy: 0.9875 - val_loss: 0.4403 - val_accuracy: 0.8997\n"
     ]
    }
   ],
   "source": [
    "opt = tf.keras.optimizers.Adam(learning_rate=0.002)\n",
    "# opt = tf.keras.optimizers.SGD(learning_rate=0.001)\n",
    "model.compile(optimizer=opt, loss='sparse_categorical_crossentropy', metrics=['accuracy'])\n",
    "history = model.fit(X, y, validation_data=(X_val, y_val), epochs=140, batch_size = 50)"
   ]
  },
  {
   "cell_type": "code",
   "execution_count": null,
   "metadata": {},
   "outputs": [],
   "source": [
    "# save trained model\n",
    "model.save('models/V3/40f_4hs_bi.h5')"
   ]
  },
  {
   "cell_type": "code",
   "execution_count": 49,
   "metadata": {},
   "outputs": [],
   "source": [
    "# perhaps load another model for comparison\n",
    "model2 = tf.keras.models.load_model('models/V3/40f_5hs.h5')"
   ]
  },
  {
   "cell_type": "markdown",
   "metadata": {},
   "source": [
    "### Evaluate model training progress and accuracy"
   ]
  },
  {
   "cell_type": "code",
   "execution_count": 24,
   "metadata": {},
   "outputs": [
    {
     "name": "stdout",
     "output_type": "stream",
     "text": [
      "mean fps: 20.82\n",
      "target fps: 25\n",
      "taking every 1 frames\n",
      "100.00% of rows contain valid LH data\n",
      "100.00% of rows contain valid RH data\n",
      "Found left hand data:  True\n",
      "Found right hand data:  True\n",
      "dealt with 0 of 1600 rows with nans\n",
      "dealt with 0 of 1600 rows with nans\n",
      "Data successfully mirrored\n"
     ]
    }
   ],
   "source": [
    "# If required, load a specific CSV of test data\n",
    "X_test, y_test = CSV2examples('recordings/cputest-maxed.csv', g2idx=g2idx, n_frames=40)"
   ]
  },
  {
   "cell_type": "code",
   "execution_count": 20,
   "metadata": {},
   "outputs": [
    {
     "name": "stdout",
     "output_type": "stream",
     "text": [
      "76\n",
      "[[5.1329839e-03 1.2742927e-04 1.3233292e-03 8.1423987e-03 3.8563199e-02\n",
      "  1.0936646e-02 7.2512496e-01 2.1064912e-01]]\n",
      "Predicted:  shuffle_over\n",
      "Truth:  shuffle_over\n"
     ]
    }
   ],
   "source": [
    "# predict on a random test case\n",
    "i = np.random.randint(0, len(X_test))\n",
    "print('Example number ',i)\n",
    "pred = model.predict(np.expand_dims(np.array(X_test[i]), axis=0))\n",
    "print('Probability: ', np.max(pred))\n",
    "print('Predicted: ', idx2g[np.argmax(pred)])\n",
    "print('Truth: ', idx2g[y_test[i]])"
   ]
  },
  {
   "cell_type": "code",
   "execution_count": 11,
   "metadata": {},
   "outputs": [
    {
     "data": {
      "image/png": "[encoded data removed]",
      "text/plain": [
       "<Figure size 432x288 with 1 Axes>"
      ]
     },
     "metadata": {
      "needs_background": "light"
     },
     "output_type": "display_data"
    },
    {
     "data": {
      "image/png": "[encoded data removed]",
      "text/plain": [
       "<Figure size 432x288 with 1 Axes>"
      ]
     },
     "metadata": {
      "needs_background": "light"
     },
     "output_type": "display_data"
    }
   ],
   "source": [
    "# plot training history\n",
    "plt_metric(history, 'loss')\n",
    "plt_metric(history, 'accuracy')"
   ]
  },
  {
   "cell_type": "code",
   "execution_count": 12,
   "metadata": {},
   "outputs": [
    {
     "name": "stdout",
     "output_type": "stream",
     "text": [
      "[('open_close', 0.58), ('wave', 0.58), ('stop', 0.62), ('typing', 0.67), ('thumbs_up', 0.79), ('small', 0.79), ('this_big', 0.83), ('smoothing_sand', 0.83), ('drawing', 0.83), ('love_heart_set', 0.88), ('multiple', 0.92), ('driving', 0.92), ('why', 0.92), ('gather_leaves', 0.92), ('robotic_arm', 0.92), ('fist', 0.96), ('gun', 0.96), ('shuffle_over', 0.96), ('counting_hands_together', 0.96), ('finger_drawing', 0.96), ('no_gesture', 1.0), ('call_me', 1.0), ('maybe', 1.0), ('ok', 1.0), ('peace', 1.0), ('pointing', 1.0), ('so_so', 1.0), ('thumbs_down', 1.0), ('triangle_set', 1.0), ('circle_set', 1.0), ('path', 1.0), ('cup_hands', 1.0)]\n"
     ]
    }
   ],
   "source": [
    "# get accuracy for each gesture\n",
    "# this acheives this using pd.crosstab, which essentially gets the confusion matrix\n",
    "\n",
    "pred = np.argmax(model.predict(X_val), axis=-1)\n",
    "\n",
    "c_matrix = pd.crosstab(y_val, pred, rownames=['Actual'], colnames=['Predicted'], normalize='index')\n",
    "\n",
    "accuracy = {g: 0 for g in g2idx.keys()}\n",
    "for i in c_matrix.index:\n",
    "    if i not in c_matrix.columns:\n",
    "        pass\n",
    "    else:\n",
    "        accuracy[idx2g[i]] = round(c_matrix.loc[i,i],2)\n",
    "\n",
    "print(sorted(accuracy.items(), key=lambda x: x[1]))"
   ]
  },
  {
   "cell_type": "markdown",
   "metadata": {},
   "source": [
    "('middle_finger', 0.04), ('wave', 0.46), ('multiple', 0.75), ('thumbs_up', 0.83), ('small', 0.83), ('smoothing_sand', 0.83), ('counting_hands_together', 0.88), ('finger_drawing', 0.88), ('fist', 0.92), ('gun', 0.92), ('this_big', 0.92), ('driving', 0.92), ('drawing', 0.92), ('peace', 0.96)"
   ]
  },
  {
   "cell_type": "markdown",
   "metadata": {},
   "source": [
    "Wave and middle finger most urgent, not being recognized at all.\n",
    "stop and peace, redo. "
   ]
  },
  {
   "cell_type": "code",
   "execution_count": 129,
   "metadata": {},
   "outputs": [
    {
     "name": "stdout",
     "output_type": "stream",
     "text": [
      "[('finger_drawing', 0.92), ('small', 0.95), ('multiple', 0.95), ('thumbs_up', 0.96), ('pointing', 0.97), ('thumbs_down', 0.97), ('robotic_arm', 0.97), ('no_gesture', 0.98), ('open_close', 0.98), ('peace', 0.98), ('shuffle_over', 0.98), ('wave', 0.98), ('middle_finger', 0.98), ('smoothing_sand', 0.98), ('call_me', 0.99), ('so_so', 0.99), ('stop', 0.99), ('typing', 0.99), ('counting_hands_together', 0.99), ('path', 0.99), ('drawing', 0.99), ('fist', 1.0), ('gun', 1.0), ('maybe', 1.0), ('ok', 1.0), ('this_big', 1.0), ('triangle_set', 1.0), ('circle_set', 1.0), ('love_heart_set', 1.0), ('driving', 1.0), ('why', 1.0), ('gather_leaves', 1.0), ('cup_hands', 1.0)]\n"
     ]
    }
   ],
   "source": [
    "# get confusion matrix\n",
    "pred = np.argmax(model.predict(X), axis=-1)\n",
    "\n",
    "c_matrix = pd.crosstab(y, pred, rownames=['Actual'], colnames=['Predicted'], normalize='index')\n",
    "\n",
    "accuracy = {g: 0 for g in g2idx.keys()}\n",
    "for i in c_matrix.index:\n",
    "    if i not in c_matrix.columns:\n",
    "        pass\n",
    "    else:\n",
    "        accuracy[idx2g[i]] = round(c_matrix.loc[i,i],2)\n",
    "\n",
    "print(sorted(accuracy.items(), key=lambda x: x[1]))"
   ]
  }
 ],
 "metadata": {
  "kernelspec": {
   "display_name": "Python 3",
   "language": "python",
   "name": "python3"
  },
  "language_info": {
   "codemirror_mode": {
    "name": "ipython",
    "version": 3
   },
   "file_extension": ".py",
   "mimetype": "text/x-python",
   "name": "python",
   "nbconvert_exporter": "python",
   "pygments_lexer": "ipython3",
   "version": "3.7.1"
  }
 },
 "nbformat": 4,
 "nbformat_minor": 2
}
