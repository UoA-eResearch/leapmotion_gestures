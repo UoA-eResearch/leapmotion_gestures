{
 "cells": [
  {
   "cell_type": "code",
   "execution_count": 1,
   "metadata": {},
   "outputs": [],
   "source": [
    "from importlib import reload\n",
    "import numpy as np\n",
    "import json\n",
    "import matplotlib.pyplot as plt\n",
    "import pandas as pd\n",
    "import os\n",
    "import tensorflow as tf\n",
    "from tensorflow.keras import layers"
   ]
  },
  {
   "cell_type": "code",
   "execution_count": 51,
   "metadata": {},
   "outputs": [
    {
     "data": {
      "text/plain": [
       "<module 'src.features' from 'C:\\\\Users\\\\Andrew\\\\Documents\\\\CeR\\\\GestRec\\\\leap_gesture_rec\\\\src\\\\features.py'>"
      ]
     },
     "execution_count": 51,
     "metadata": {},
     "output_type": "execute_result"
    }
   ],
   "source": [
    "# import modules\n",
    "import src.models\n",
    "reload(src.models)\n",
    "from src.models import *\n",
    "\n",
    "import src.dataMethods\n",
    "reload(src.dataMethods)\n",
    "from src.dataMethods import *\n",
    "\n",
    "import src.features as features\n",
    "reload(features)"
   ]
  },
  {
   "cell_type": "code",
   "execution_count": 3,
   "metadata": {},
   "outputs": [],
   "source": [
    "gestures, g2idx, idx2g = get_gestures(version=1)"
   ]
  },
  {
   "cell_type": "code",
   "execution_count": null,
   "metadata": {},
   "outputs": [],
   "source": [
    "b = 'recordings/derived_test.csv'\n",
    "df = CSV2VoI(b)\n",
    "print(df[['left_index_tipPosition_0', 'left_index_tipPosition_1', 'left_pinchDistance']])\n",
    "print(df[['right_index_tipPosition_0', 'right_index_tipPosition_1', 'right_pinchDistance']])\n",
    "df = mirror_data(df)\n",
    "print(df[['right_index_tipPosition_0', 'right_index_tipPosition_1', 'right_pinchDistance']])\n",
    "print(df[['left_index_tipPosition_0', 'left_index_tipPosition_1', 'left_pinchDistance']])"
   ]
  },
  {
   "cell_type": "code",
   "execution_count": 76,
   "metadata": {},
   "outputs": [
    {
     "name": "stdout",
     "output_type": "stream",
     "text": [
      "mean fps: 28.79\n",
      "target fps: 30\n",
      "taking every 1 frames\n",
      "99.83% of rows contain valid LH data\n",
      "100.00% of rows contain valid RH data\n",
      "Found left hand data:  True\n",
      "Found right hand data:  True\n"
     ]
    },
    {
     "name": "stderr",
     "output_type": "stream",
     "text": [
      "C:\\Users\\Andrew\\AppData\\Local\\Continuum\\anaconda3\\lib\\site-packages\\pandas\\core\\frame.py:3790: SettingWithCopyWarning: \n",
      "A value is trying to be set on a copy of a slice from a DataFrame\n",
      "\n",
      "See the caveats in the documentation: http://pandas.pydata.org/pandas-docs/stable/indexing.html#indexing-view-versus-copy\n",
      "  downcast=downcast, **kwargs)\n",
      "C:\\Users\\Andrew\\Documents\\CeR\\GestRec\\leap_gesture_rec\\src\\dataMethods.py:219: SettingWithCopyWarning: \n",
      "A value is trying to be set on a copy of a slice from a DataFrame\n",
      "\n",
      "See the caveats in the documentation: http://pandas.pydata.org/pandas-docs/stable/indexing.html#indexing-view-versus-copy\n",
      "  df.dropna(inplace=True)\n"
     ]
    },
    {
     "name": "stdout",
     "output_type": "stream",
     "text": [
      "dealt with 0 of 4754 rows with nans\n",
      "Index(['f1_f1', 'f2_f2', 'f3_f3', 'f4_f4', 'f5_f5', 'left_f1_2', 'left_f1_p',\n",
      "       'left_f1_p_plain', 'left_f2_3', 'left_f2_p', 'left_f2_p_plain',\n",
      "       'left_f3_4', 'left_f3_p', 'left_f3_p_plain', 'left_f4_5', 'left_f4_p',\n",
      "       'left_f4_p_plain', 'left_f5_p', 'left_f5_p_plain', 'left_grabAngle',\n",
      "       'left_palmPosition_0', 'left_palmPosition_1', 'left_palmPosition_2',\n",
      "       'left_pinchDistance', 'palm_distance', 'right_f1_2', 'right_f1_p',\n",
      "       'right_f1_p_plain', 'right_f2_3', 'right_f2_p', 'right_f2_p_plain',\n",
      "       'right_f3_4', 'right_f3_p', 'right_f3_p_plain', 'right_f4_5',\n",
      "       'right_f4_p', 'right_f4_p_plain', 'right_f5_p', 'right_f5_p_plain',\n",
      "       'right_grabAngle', 'right_palmPosition_0', 'right_palmPosition_1',\n",
      "       'right_palmPosition_2', 'right_pinchDistance'],\n",
      "      dtype='object')\n",
      "mean fps: 28.79\n",
      "target fps: 30\n",
      "taking every 1 frames\n",
      "99.71% of rows contain valid LH data\n",
      "100.00% of rows contain valid RH data\n",
      "Found left hand data:  True\n",
      "Found right hand data:  True\n",
      "dealt with 7 of 6953 rows with nans\n",
      "Index(['f1_f1', 'f2_f2', 'f3_f3', 'f4_f4', 'f5_f5', 'left_f1_2', 'left_f1_p',\n",
      "       'left_f1_p_plain', 'left_f2_3', 'left_f2_p', 'left_f2_p_plain',\n",
      "       'left_f3_4', 'left_f3_p', 'left_f3_p_plain', 'left_f4_5', 'left_f4_p',\n",
      "       'left_f4_p_plain', 'left_f5_p', 'left_f5_p_plain', 'left_grabAngle',\n",
      "       'left_palmPosition_0', 'left_palmPosition_1', 'left_palmPosition_2',\n",
      "       'left_pinchDistance', 'palm_distance', 'right_f1_2', 'right_f1_p',\n",
      "       'right_f1_p_plain', 'right_f2_3', 'right_f2_p', 'right_f2_p_plain',\n",
      "       'right_f3_4', 'right_f3_p', 'right_f3_p_plain', 'right_f4_5',\n",
      "       'right_f4_p', 'right_f4_p_plain', 'right_f5_p', 'right_f5_p_plain',\n",
      "       'right_grabAngle', 'right_palmPosition_0', 'right_palmPosition_1',\n",
      "       'right_palmPosition_2', 'right_pinchDistance'],\n",
      "      dtype='object')\n",
      "mean fps: 28.80\n",
      "target fps: 30\n",
      "taking every 1 frames\n",
      "99.61% of rows contain valid LH data\n",
      "100.00% of rows contain valid RH data\n",
      "Found left hand data:  True\n",
      "Found right hand data:  True\n",
      "dealt with 0 of 2336 rows with nans\n",
      "Index(['f1_f1', 'f2_f2', 'f3_f3', 'f4_f4', 'f5_f5', 'left_f1_2', 'left_f1_p',\n",
      "       'left_f1_p_plain', 'left_f2_3', 'left_f2_p', 'left_f2_p_plain',\n",
      "       'left_f3_4', 'left_f3_p', 'left_f3_p_plain', 'left_f4_5', 'left_f4_p',\n",
      "       'left_f4_p_plain', 'left_f5_p', 'left_f5_p_plain', 'left_grabAngle',\n",
      "       'left_palmPosition_0', 'left_palmPosition_1', 'left_palmPosition_2',\n",
      "       'left_pinchDistance', 'palm_distance', 'right_f1_2', 'right_f1_p',\n",
      "       'right_f1_p_plain', 'right_f2_3', 'right_f2_p', 'right_f2_p_plain',\n",
      "       'right_f3_4', 'right_f3_p', 'right_f3_p_plain', 'right_f4_5',\n",
      "       'right_f4_p', 'right_f4_p_plain', 'right_f5_p', 'right_f5_p_plain',\n",
      "       'right_grabAngle', 'right_palmPosition_0', 'right_palmPosition_1',\n",
      "       'right_palmPosition_2', 'right_pinchDistance'],\n",
      "      dtype='object')\n",
      "(525, 40, 44)\n"
     ]
    }
   ],
   "source": [
    "mirror_train = 'data/mirror/mirror_train.csv'\n",
    "mirror_val = 'data/mirror/mirror_test.csv'\n",
    "mirror_train2 = 'data/mirror/mirror_train3.csv'\n",
    "mirror_val2 = 'data/mirror/mirror_test3.csv'\n",
    "shape_train = 'data/loopsV0/shapes2loops.csv'\n",
    "shape_test = 'data/loopsV0/shapes_test.csv'\n",
    "n_frames = 40\n",
    "X, y = CSV2examples(raw_file=mirror_train2, g2idx=g2idx, n_frames=n_frames, target_fps=30, standardize=True, dicts_gen=True, mirror=False, derive_features=True)\n",
    "X2, y2 = CSV2examples(raw_file=mirror_train, g2idx=g2idx, n_frames=n_frames, target_fps=30, standardize=True, dicts_gen=False, mirror=False)\n",
    "X = np.concatenate([X,X2])\n",
    "y = np.concatenate([y, y2])\n",
    "X_val, y_val = CSV2examples(raw_file=mirror_val2, g2idx=g2idx, n_frames=n_frames, target_fps=30, standardize=True, mirror=False, derive_features=True)\n",
    "print(X.shape)"
   ]
  },
  {
   "cell_type": "code",
   "execution_count": null,
   "metadata": {},
   "outputs": [],
   "source": [
    "X, y = folder2examples('data/train/', target_fps=25, g2idx=g2idx)"
   ]
  },
  {
   "cell_type": "code",
   "execution_count": 77,
   "metadata": {},
   "outputs": [
    {
     "name": "stdout",
     "output_type": "stream",
     "text": [
      "Model: \"many2one\"\n",
      "_________________________________________________________________\n",
      "Layer (type)                 Output Shape              Param #   \n",
      "=================================================================\n",
      "input_14 (InputLayer)        [(None, 40, 44)]          0         \n",
      "_________________________________________________________________\n",
      "lstm_13 (LSTM)               (None, 5)                 1000      \n",
      "_________________________________________________________________\n",
      "dense_13 (Dense)             (None, 8)                 48        \n",
      "=================================================================\n",
      "Total params: 1,048\n",
      "Trainable params: 1,048\n",
      "Non-trainable params: 0\n",
      "_________________________________________________________________\n"
     ]
    }
   ],
   "source": [
    "model = many2one_model(n_features = X.shape[-1], n_frames=X.shape[1], n_gestures=len(g2idx), n_layers=1, rnn_units=5, recurrent_dropout=0.2, bidirectional=False)"
   ]
  },
  {
   "cell_type": "code",
   "execution_count": 78,
   "metadata": {},
   "outputs": [
    {
     "name": "stdout",
     "output_type": "stream",
     "text": [
      "Train on 525 samples, validate on 104 samples\n",
      "Epoch 1/80\n",
      "525/525 [==============================] - 2s 3ms/sample - loss: 2.0809 - accuracy: 0.1295 - val_loss: 2.0972 - val_accuracy: 0.0865\n",
      "Epoch 2/80\n",
      "525/525 [==============================] - 0s 359us/sample - loss: 2.0091 - accuracy: 0.1619 - val_loss: 2.0376 - val_accuracy: 0.0865\n",
      "Epoch 3/80\n",
      "525/525 [==============================] - 0s 331us/sample - loss: 1.9515 - accuracy: 0.2305 - val_loss: 1.9871 - val_accuracy: 0.1154\n",
      "Epoch 4/80\n",
      "525/525 [==============================] - 0s 323us/sample - loss: 1.9040 - accuracy: 0.2667 - val_loss: 1.9440 - val_accuracy: 0.1346\n",
      "Epoch 5/80\n",
      "525/525 [==============================] - 0s 342us/sample - loss: 1.8579 - accuracy: 0.3086 - val_loss: 1.9054 - val_accuracy: 0.2019\n",
      "Epoch 6/80\n",
      "525/525 [==============================] - 0s 359us/sample - loss: 1.8213 - accuracy: 0.3371 - val_loss: 1.8705 - val_accuracy: 0.2500\n",
      "Epoch 7/80\n",
      "525/525 [==============================] - 0s 350us/sample - loss: 1.7802 - accuracy: 0.3657 - val_loss: 1.8423 - val_accuracy: 0.2692\n",
      "Epoch 8/80\n",
      "525/525 [==============================] - 0s 357us/sample - loss: 1.7439 - accuracy: 0.3867 - val_loss: 1.8121 - val_accuracy: 0.2885\n",
      "Epoch 9/80\n",
      "525/525 [==============================] - 0s 350us/sample - loss: 1.7069 - accuracy: 0.4095 - val_loss: 1.7782 - val_accuracy: 0.3558\n",
      "Epoch 10/80\n",
      "525/525 [==============================] - 0s 350us/sample - loss: 1.6722 - accuracy: 0.4210 - val_loss: 1.7462 - val_accuracy: 0.3654\n",
      "Epoch 11/80\n",
      "525/525 [==============================] - 0s 399us/sample - loss: 1.6346 - accuracy: 0.4362 - val_loss: 1.7177 - val_accuracy: 0.3942\n",
      "Epoch 12/80\n",
      "525/525 [==============================] - 0s 369us/sample - loss: 1.6012 - accuracy: 0.4724 - val_loss: 1.6916 - val_accuracy: 0.4231\n",
      "Epoch 13/80\n",
      "525/525 [==============================] - 0s 325us/sample - loss: 1.5654 - accuracy: 0.5162 - val_loss: 1.6659 - val_accuracy: 0.4327\n",
      "Epoch 14/80\n",
      "525/525 [==============================] - 0s 359us/sample - loss: 1.5283 - accuracy: 0.5467 - val_loss: 1.6413 - val_accuracy: 0.4712\n",
      "Epoch 15/80\n",
      "525/525 [==============================] - 0s 357us/sample - loss: 1.4969 - accuracy: 0.5600 - val_loss: 1.6165 - val_accuracy: 0.5288\n",
      "Epoch 16/80\n",
      "525/525 [==============================] - 0s 382us/sample - loss: 1.4587 - accuracy: 0.5829 - val_loss: 1.5888 - val_accuracy: 0.5673\n",
      "Epoch 17/80\n",
      "525/525 [==============================] - 0s 317us/sample - loss: 1.4255 - accuracy: 0.6000 - val_loss: 1.5632 - val_accuracy: 0.6058\n",
      "Epoch 18/80\n",
      "525/525 [==============================] - 0s 357us/sample - loss: 1.3893 - accuracy: 0.6190 - val_loss: 1.5368 - val_accuracy: 0.6250\n",
      "Epoch 19/80\n",
      "525/525 [==============================] - 0s 361us/sample - loss: 1.3567 - accuracy: 0.6343 - val_loss: 1.5070 - val_accuracy: 0.6250\n",
      "Epoch 20/80\n",
      "525/525 [==============================] - 0s 465us/sample - loss: 1.3210 - accuracy: 0.6495 - val_loss: 1.4804 - val_accuracy: 0.6346\n",
      "Epoch 21/80\n",
      "525/525 [==============================] - 0s 380us/sample - loss: 1.2866 - accuracy: 0.6762 - val_loss: 1.4522 - val_accuracy: 0.6538\n",
      "Epoch 22/80\n",
      "525/525 [==============================] - 0s 321us/sample - loss: 1.2606 - accuracy: 0.6857 - val_loss: 1.4231 - val_accuracy: 0.6538\n",
      "Epoch 23/80\n",
      "525/525 [==============================] - 0s 332us/sample - loss: 1.2277 - accuracy: 0.6838 - val_loss: 1.3937 - val_accuracy: 0.6538\n",
      "Epoch 24/80\n",
      "525/525 [==============================] - 0s 336us/sample - loss: 1.1980 - accuracy: 0.7029 - val_loss: 1.3625 - val_accuracy: 0.6731\n",
      "Epoch 25/80\n",
      "525/525 [==============================] - 0s 369us/sample - loss: 1.1643 - accuracy: 0.7200 - val_loss: 1.3309 - val_accuracy: 0.6731\n",
      "Epoch 26/80\n",
      "525/525 [==============================] - 0s 355us/sample - loss: 1.1292 - accuracy: 0.7314 - val_loss: 1.2989 - val_accuracy: 0.6731\n",
      "Epoch 27/80\n",
      "525/525 [==============================] - 0s 374us/sample - loss: 1.0949 - accuracy: 0.7429 - val_loss: 1.2694 - val_accuracy: 0.6827\n",
      "Epoch 28/80\n",
      "525/525 [==============================] - 0s 378us/sample - loss: 1.0707 - accuracy: 0.7314 - val_loss: 1.2408 - val_accuracy: 0.7019\n",
      "Epoch 29/80\n",
      "525/525 [==============================] - 0s 369us/sample - loss: 1.0362 - accuracy: 0.7486 - val_loss: 1.2162 - val_accuracy: 0.7115\n",
      "Epoch 30/80\n",
      "525/525 [==============================] - 0s 615us/sample - loss: 1.0021 - accuracy: 0.7581 - val_loss: 1.2010 - val_accuracy: 0.7019\n",
      "Epoch 31/80\n",
      "525/525 [==============================] - 0s 505us/sample - loss: 0.9831 - accuracy: 0.7695 - val_loss: 1.1836 - val_accuracy: 0.7019\n",
      "Epoch 32/80\n",
      "525/525 [==============================] - 0s 372us/sample - loss: 0.9549 - accuracy: 0.7829 - val_loss: 1.1682 - val_accuracy: 0.7115\n",
      "Epoch 33/80\n",
      "525/525 [==============================] - 0s 353us/sample - loss: 0.9367 - accuracy: 0.7886 - val_loss: 1.1457 - val_accuracy: 0.7115\n",
      "Epoch 34/80\n",
      "525/525 [==============================] - 0s 329us/sample - loss: 0.9151 - accuracy: 0.7962 - val_loss: 1.1302 - val_accuracy: 0.7212\n",
      "Epoch 35/80\n",
      "525/525 [==============================] - 0s 483us/sample - loss: 0.9059 - accuracy: 0.7943 - val_loss: 1.1100 - val_accuracy: 0.7212\n",
      "Epoch 36/80\n",
      "525/525 [==============================] - 0s 574us/sample - loss: 0.8774 - accuracy: 0.8152 - val_loss: 1.0988 - val_accuracy: 0.7212\n",
      "Epoch 37/80\n",
      "525/525 [==============================] - 0s 391us/sample - loss: 0.8637 - accuracy: 0.8286 - val_loss: 1.0877 - val_accuracy: 0.7212\n",
      "Epoch 38/80\n",
      "525/525 [==============================] - 0s 336us/sample - loss: 0.8530 - accuracy: 0.8476 - val_loss: 1.0763 - val_accuracy: 0.7308\n",
      "Epoch 39/80\n",
      "525/525 [==============================] - 0s 332us/sample - loss: 0.8502 - accuracy: 0.8381 - val_loss: 1.0716 - val_accuracy: 0.7404\n",
      "Epoch 40/80\n",
      "525/525 [==============================] - 0s 410us/sample - loss: 0.8336 - accuracy: 0.8533 - val_loss: 1.0441 - val_accuracy: 0.7981\n",
      "Epoch 41/80\n",
      "525/525 [==============================] - 0s 454us/sample - loss: 0.8126 - accuracy: 0.8648 - val_loss: 1.0159 - val_accuracy: 0.7981\n",
      "Epoch 42/80\n",
      "525/525 [==============================] - 0s 410us/sample - loss: 0.8002 - accuracy: 0.8667 - val_loss: 0.9895 - val_accuracy: 0.8269\n",
      "Epoch 43/80\n",
      "525/525 [==============================] - 0s 323us/sample - loss: 0.7815 - accuracy: 0.8705 - val_loss: 0.9693 - val_accuracy: 0.8365\n",
      "Epoch 44/80\n",
      "525/525 [==============================] - 0s 355us/sample - loss: 0.7651 - accuracy: 0.8781 - val_loss: 0.9428 - val_accuracy: 0.8462\n",
      "Epoch 45/80\n",
      "525/525 [==============================] - 0s 388us/sample - loss: 0.7598 - accuracy: 0.8743 - val_loss: 0.9234 - val_accuracy: 0.8462\n",
      "Epoch 46/80\n",
      "525/525 [==============================] - 0s 336us/sample - loss: 0.7470 - accuracy: 0.8610 - val_loss: 0.9241 - val_accuracy: 0.8173\n",
      "Epoch 47/80\n",
      "525/525 [==============================] - 0s 380us/sample - loss: 0.7339 - accuracy: 0.8800 - val_loss: 0.9203 - val_accuracy: 0.8269\n",
      "Epoch 48/80\n",
      "525/525 [==============================] - 0s 431us/sample - loss: 0.7183 - accuracy: 0.8705 - val_loss: 0.8827 - val_accuracy: 0.8269\n",
      "Epoch 49/80\n",
      "525/525 [==============================] - 0s 469us/sample - loss: 0.7122 - accuracy: 0.8743 - val_loss: 0.8788 - val_accuracy: 0.8269\n",
      "Epoch 50/80\n",
      "525/525 [==============================] - 0s 435us/sample - loss: 0.7007 - accuracy: 0.8800 - val_loss: 0.8770 - val_accuracy: 0.8269\n",
      "Epoch 51/80\n",
      "525/525 [==============================] - 0s 367us/sample - loss: 0.6909 - accuracy: 0.8743 - val_loss: 0.8630 - val_accuracy: 0.8365\n",
      "Epoch 52/80\n",
      "525/525 [==============================] - 0s 386us/sample - loss: 0.6766 - accuracy: 0.8781 - val_loss: 0.8523 - val_accuracy: 0.8365\n",
      "Epoch 53/80\n",
      "525/525 [==============================] - 0s 426us/sample - loss: 0.6671 - accuracy: 0.8838 - val_loss: 0.8470 - val_accuracy: 0.8269\n",
      "Epoch 54/80\n",
      "525/525 [==============================] - 0s 420us/sample - loss: 0.6565 - accuracy: 0.8914 - val_loss: 0.8478 - val_accuracy: 0.8269\n",
      "Epoch 55/80\n",
      "525/525 [==============================] - 0s 348us/sample - loss: 0.6498 - accuracy: 0.9010 - val_loss: 0.8467 - val_accuracy: 0.8365\n",
      "Epoch 56/80\n",
      "525/525 [==============================] - 0s 369us/sample - loss: 0.6454 - accuracy: 0.9067 - val_loss: 0.8480 - val_accuracy: 0.8365\n",
      "Epoch 57/80\n",
      "525/525 [==============================] - 0s 329us/sample - loss: 0.6377 - accuracy: 0.9010 - val_loss: 0.8130 - val_accuracy: 0.8462\n",
      "Epoch 58/80\n",
      "525/525 [==============================] - 0s 369us/sample - loss: 0.6294 - accuracy: 0.8990 - val_loss: 0.7933 - val_accuracy: 0.8558\n",
      "Epoch 59/80\n",
      "525/525 [==============================] - 0s 397us/sample - loss: 0.6152 - accuracy: 0.9067 - val_loss: 0.7886 - val_accuracy: 0.8654\n",
      "Epoch 60/80\n",
      "525/525 [==============================] - 0s 431us/sample - loss: 0.6021 - accuracy: 0.9105 - val_loss: 0.7876 - val_accuracy: 0.8558\n",
      "Epoch 61/80\n",
      "525/525 [==============================] - 0s 420us/sample - loss: 0.5986 - accuracy: 0.9105 - val_loss: 0.8058 - val_accuracy: 0.8269\n",
      "Epoch 62/80\n",
      "525/525 [==============================] - 0s 355us/sample - loss: 0.5895 - accuracy: 0.9124 - val_loss: 0.8160 - val_accuracy: 0.8269\n",
      "Epoch 63/80\n",
      "525/525 [==============================] - 0s 325us/sample - loss: 0.5842 - accuracy: 0.9086 - val_loss: 0.7729 - val_accuracy: 0.8558\n",
      "Epoch 64/80\n",
      "525/525 [==============================] - 0s 384us/sample - loss: 0.5784 - accuracy: 0.9086 - val_loss: 0.7525 - val_accuracy: 0.8365\n",
      "Epoch 65/80\n",
      "525/525 [==============================] - 0s 551us/sample - loss: 0.5676 - accuracy: 0.9124 - val_loss: 0.7416 - val_accuracy: 0.8365\n",
      "Epoch 66/80\n",
      "525/525 [==============================] - 0s 378us/sample - loss: 0.5585 - accuracy: 0.9124 - val_loss: 0.7450 - val_accuracy: 0.8558\n",
      "Epoch 67/80\n",
      "525/525 [==============================] - 0s 344us/sample - loss: 0.5497 - accuracy: 0.9124 - val_loss: 0.7443 - val_accuracy: 0.8654\n",
      "Epoch 68/80\n",
      "525/525 [==============================] - 0s 342us/sample - loss: 0.5465 - accuracy: 0.9162 - val_loss: 0.7376 - val_accuracy: 0.8654\n",
      "Epoch 69/80\n",
      "525/525 [==============================] - 0s 370us/sample - loss: 0.5380 - accuracy: 0.9219 - val_loss: 0.7303 - val_accuracy: 0.8654\n",
      "Epoch 70/80\n",
      "525/525 [==============================] - 0s 332us/sample - loss: 0.5312 - accuracy: 0.9238 - val_loss: 0.7207 - val_accuracy: 0.8654\n",
      "Epoch 71/80\n",
      "525/525 [==============================] - 0s 445us/sample - loss: 0.5297 - accuracy: 0.9333 - val_loss: 0.7130 - val_accuracy: 0.8654\n",
      "Epoch 72/80\n",
      "525/525 [==============================] - 0s 414us/sample - loss: 0.5194 - accuracy: 0.9333 - val_loss: 0.7099 - val_accuracy: 0.8750\n",
      "Epoch 73/80\n",
      "525/525 [==============================] - 0s 355us/sample - loss: 0.5146 - accuracy: 0.9352 - val_loss: 0.6980 - val_accuracy: 0.8942\n",
      "Epoch 74/80\n",
      "525/525 [==============================] - 0s 350us/sample - loss: 0.5077 - accuracy: 0.9448 - val_loss: 0.6881 - val_accuracy: 0.9135\n",
      "Epoch 75/80\n",
      "525/525 [==============================] - 0s 372us/sample - loss: 0.5008 - accuracy: 0.9448 - val_loss: 0.6845 - val_accuracy: 0.9135\n",
      "Epoch 76/80\n",
      "525/525 [==============================] - 0s 378us/sample - loss: 0.4968 - accuracy: 0.9390 - val_loss: 0.6855 - val_accuracy: 0.9038\n",
      "Epoch 77/80\n",
      "525/525 [==============================] - 0s 351us/sample - loss: 0.4910 - accuracy: 0.9505 - val_loss: 0.7063 - val_accuracy: 0.8846\n",
      "Epoch 78/80\n",
      "525/525 [==============================] - 0s 473us/sample - loss: 0.4856 - accuracy: 0.9524 - val_loss: 0.6534 - val_accuracy: 0.9327\n",
      "Epoch 79/80\n",
      "525/525 [==============================] - 0s 454us/sample - loss: 0.4803 - accuracy: 0.9486 - val_loss: 0.6298 - val_accuracy: 0.9615\n",
      "Epoch 80/80\n",
      "525/525 [==============================] - 0s 376us/sample - loss: 0.4716 - accuracy: 0.9524 - val_loss: 0.6289 - val_accuracy: 0.9519\n"
     ]
    }
   ],
   "source": [
    "# note: using hs 30, recurrent dropout 0.5, bidirectional, and not including features added on the 3/02 or getting rid of VoI_drop features, got high 80s percentage accuracy on val\n",
    "# maybe it was 25fps?\n",
    "# with the new features, can get 89% val accuracy with 35 frame long examples. 25 is too short.\n",
    "opt = tf.keras.optimizers.Adam()\n",
    "model.compile(optimizer=opt, loss='sparse_categorical_crossentropy', metrics=['accuracy'])\n",
    "history = model.fit(X, y, validation_data=(X_val, y_val), epochs=80, batch_size = 50)"
   ]
  },
  {
   "cell_type": "code",
   "execution_count": 81,
   "metadata": {},
   "outputs": [],
   "source": [
    "model.save('models/V1/40f_5hs_RH.h5')"
   ]
  },
  {
   "cell_type": "code",
   "execution_count": 39,
   "metadata": {},
   "outputs": [],
   "source": [
    "model = tf.keras.models.load_model('models/V2/25f_32hs_15c_2.h5')"
   ]
  },
  {
   "cell_type": "code",
   "execution_count": 41,
   "metadata": {},
   "outputs": [
    {
     "name": "stdout",
     "output_type": "stream",
     "text": [
      "mean fps: 115.19\n",
      "target fps: 25\n",
      "skipping every 5 frames\n",
      "Found left hand data:  False\n",
      "Found right hand data:  True\n",
      "dropped 0 of 2777 rows with nans\n"
     ]
    }
   ],
   "source": [
    "# load test data\n",
    "X_test, y_test = CSV2examples('data/recordings/test_loop.csv', g2idx=g2idx, n_frames=50)"
   ]
  },
  {
   "cell_type": "code",
   "execution_count": 50,
   "metadata": {},
   "outputs": [
    {
     "name": "stdout",
     "output_type": "stream",
     "text": [
      "33\n",
      "[[0.95594496 0.04405507]]\n",
      "Predicted:  no_gesture\n",
      "Truth:  fist\n"
     ]
    }
   ],
   "source": [
    "# predict on a random test case\n",
    "i = np.random.randint(0, len(X_test))\n",
    "print(i)\n",
    "pred = model.predict(np.expand_dims(np.array(X_test[i]), axis=0))\n",
    "print(pred)\n",
    "print('Predicted: ', idx2g[np.argmax(pred)])\n",
    "print('Truth: ', idx2g[y_test[i]])"
   ]
  },
  {
   "cell_type": "code",
   "execution_count": 54,
   "metadata": {},
   "outputs": [
    {
     "name": "stdout",
     "output_type": "stream",
     "text": [
      "so_so\n"
     ]
    }
   ],
   "source": [
    "print(idx2g[y[1]])"
   ]
  },
  {
   "cell_type": "code",
   "execution_count": 79,
   "metadata": {},
   "outputs": [
    {
     "data": {
      "image/png": "[encoded data removed]",
      "text/plain": [
       "<Figure size 432x288 with 1 Axes>"
      ]
     },
     "metadata": {
      "needs_background": "light"
     },
     "output_type": "display_data"
    },
    {
     "data": {
      "image/png": "[encoded data removed]",
      "text/plain": [
       "<Figure size 432x288 with 1 Axes>"
      ]
     },
     "metadata": {
      "needs_background": "light"
     },
     "output_type": "display_data"
    }
   ],
   "source": [
    "# plot history:\n",
    "plt_metric(history, 'loss')\n",
    "plt_metric(history, 'accuracy')"
   ]
  },
  {
   "cell_type": "code",
   "execution_count": 51,
   "metadata": {},
   "outputs": [
    {
     "data": {
      "image/png": "[encoded data removed]",
      "text/plain": [
       "<Figure size 432x288 with 1 Axes>"
      ]
     },
     "metadata": {
      "needs_background": "light"
     },
     "output_type": "display_data"
    },
    {
     "data": {
      "image/png": "[encoded data removed]",
      "text/plain": [
       "<Figure size 432x288 with 1 Axes>"
      ]
     },
     "metadata": {
      "needs_background": "light"
     },
     "output_type": "display_data"
    }
   ],
   "source": [
    "# plot history:\n",
    "plt_metric(history, 'loss')\n",
    "plt_metric(history, 'accuracy')"
   ]
  },
  {
   "cell_type": "code",
   "execution_count": 41,
   "metadata": {},
   "outputs": [
    {
     "name": "stdout",
     "output_type": "stream",
     "text": [
      "mean fps: 28.80\n",
      "target fps: 30\n",
      "taking every 1 frames\n",
      "99.53% of rows contain valid LH data\n",
      "100.00% of rows contain valid RH data\n",
      "Found left hand data:  True\n",
      "Found right hand data:  True\n",
      "dealt with 0 of 2344 rows with nans\n"
     ]
    }
   ],
   "source": [
    "test2i = 'recordings/test2i.csv'\n",
    "X_val, y_val = CSV2examples(raw_file=test2i, g2idx=g2idx, n_frames=n_frames, target_fps=30, standardize=True, mirror=False)"
   ]
  },
  {
   "cell_type": "code",
   "execution_count": 80,
   "metadata": {},
   "outputs": [
    {
     "data": {
      "text/html": [
       "<div>\n",
       "<style scoped>\n",
       "    .dataframe tbody tr th:only-of-type {\n",
       "        vertical-align: middle;\n",
       "    }\n",
       "\n",
       "    .dataframe tbody tr th {\n",
       "        vertical-align: top;\n",
       "    }\n",
       "\n",
       "    .dataframe thead th {\n",
       "        text-align: right;\n",
       "    }\n",
       "</style>\n",
       "<table border=\"1\" class=\"dataframe\">\n",
       "  <thead>\n",
       "    <tr style=\"text-align: right;\">\n",
       "      <th>Predicted</th>\n",
       "      <th>fist</th>\n",
       "      <th>gun</th>\n",
       "      <th>maybe</th>\n",
       "      <th>no_gesture</th>\n",
       "      <th>open_close</th>\n",
       "      <th>pointing</th>\n",
       "      <th>shuffle_over</th>\n",
       "      <th>so_so</th>\n",
       "    </tr>\n",
       "    <tr>\n",
       "      <th>Actual</th>\n",
       "      <th></th>\n",
       "      <th></th>\n",
       "      <th></th>\n",
       "      <th></th>\n",
       "      <th></th>\n",
       "      <th></th>\n",
       "      <th></th>\n",
       "      <th></th>\n",
       "    </tr>\n",
       "  </thead>\n",
       "  <tbody>\n",
       "    <tr>\n",
       "      <th>fist</th>\n",
       "      <td>10</td>\n",
       "      <td>0</td>\n",
       "      <td>0</td>\n",
       "      <td>0</td>\n",
       "      <td>3</td>\n",
       "      <td>0</td>\n",
       "      <td>0</td>\n",
       "      <td>0</td>\n",
       "    </tr>\n",
       "    <tr>\n",
       "      <th>gun</th>\n",
       "      <td>0</td>\n",
       "      <td>12</td>\n",
       "      <td>0</td>\n",
       "      <td>0</td>\n",
       "      <td>0</td>\n",
       "      <td>0</td>\n",
       "      <td>1</td>\n",
       "      <td>0</td>\n",
       "    </tr>\n",
       "    <tr>\n",
       "      <th>maybe</th>\n",
       "      <td>0</td>\n",
       "      <td>0</td>\n",
       "      <td>13</td>\n",
       "      <td>0</td>\n",
       "      <td>0</td>\n",
       "      <td>0</td>\n",
       "      <td>0</td>\n",
       "      <td>0</td>\n",
       "    </tr>\n",
       "    <tr>\n",
       "      <th>no_gesture</th>\n",
       "      <td>0</td>\n",
       "      <td>0</td>\n",
       "      <td>0</td>\n",
       "      <td>13</td>\n",
       "      <td>0</td>\n",
       "      <td>0</td>\n",
       "      <td>0</td>\n",
       "      <td>0</td>\n",
       "    </tr>\n",
       "    <tr>\n",
       "      <th>open_close</th>\n",
       "      <td>1</td>\n",
       "      <td>0</td>\n",
       "      <td>0</td>\n",
       "      <td>0</td>\n",
       "      <td>12</td>\n",
       "      <td>0</td>\n",
       "      <td>0</td>\n",
       "      <td>0</td>\n",
       "    </tr>\n",
       "    <tr>\n",
       "      <th>pointing</th>\n",
       "      <td>0</td>\n",
       "      <td>0</td>\n",
       "      <td>0</td>\n",
       "      <td>0</td>\n",
       "      <td>0</td>\n",
       "      <td>13</td>\n",
       "      <td>0</td>\n",
       "      <td>0</td>\n",
       "    </tr>\n",
       "    <tr>\n",
       "      <th>shuffle_over</th>\n",
       "      <td>0</td>\n",
       "      <td>0</td>\n",
       "      <td>0</td>\n",
       "      <td>0</td>\n",
       "      <td>0</td>\n",
       "      <td>0</td>\n",
       "      <td>13</td>\n",
       "      <td>0</td>\n",
       "    </tr>\n",
       "    <tr>\n",
       "      <th>so_so</th>\n",
       "      <td>0</td>\n",
       "      <td>0</td>\n",
       "      <td>0</td>\n",
       "      <td>0</td>\n",
       "      <td>0</td>\n",
       "      <td>0</td>\n",
       "      <td>0</td>\n",
       "      <td>13</td>\n",
       "    </tr>\n",
       "  </tbody>\n",
       "</table>\n",
       "</div>"
      ],
      "text/plain": [
       "Predicted     fist  gun  maybe  no_gesture  open_close  pointing  \\\n",
       "Actual                                                             \n",
       "fist            10    0      0           0           3         0   \n",
       "gun              0   12      0           0           0         0   \n",
       "maybe            0    0     13           0           0         0   \n",
       "no_gesture       0    0      0          13           0         0   \n",
       "open_close       1    0      0           0          12         0   \n",
       "pointing         0    0      0           0           0        13   \n",
       "shuffle_over     0    0      0           0           0         0   \n",
       "so_so            0    0      0           0           0         0   \n",
       "\n",
       "Predicted     shuffle_over  so_so  \n",
       "Actual                             \n",
       "fist                     0      0  \n",
       "gun                      1      0  \n",
       "maybe                    0      0  \n",
       "no_gesture               0      0  \n",
       "open_close               0      0  \n",
       "pointing                 0      0  \n",
       "shuffle_over            13      0  \n",
       "so_so                    0     13  "
      ]
     },
     "execution_count": 80,
     "metadata": {},
     "output_type": "execute_result"
    }
   ],
   "source": [
    "# get confusion matrix\n",
    "pred = np.argmax(model.predict(X_val), axis=-1)\n",
    "pred_gest = [idx2g[i] for i in pred]\n",
    "y_gest = [idx2g[i] for i in y_val]\n",
    "pd.crosstab([y_gest], [pred_gest], rownames=['Actual'], colnames=['Predicted'])"
   ]
  },
  {
   "cell_type": "code",
   "execution_count": 100,
   "metadata": {},
   "outputs": [
    {
     "name": "stdout",
     "output_type": "stream",
     "text": [
      "[[[0 1]\n",
      "  [0 2]\n",
      "  [0 3]\n",
      "  [0 4]]\n",
      "\n",
      " [[0 3]\n",
      "  [0 4]\n",
      "  [0 5]\n",
      "  [0 6]]\n",
      "\n",
      " [[0 5]\n",
      "  [0 6]\n",
      "  [0 7]\n",
      "  [0 8]]\n",
      "\n",
      " [[1 1]\n",
      "  [1 2]\n",
      "  [1 3]\n",
      "  [1 4]]\n",
      "\n",
      " [[3 1]\n",
      "  [3 2]\n",
      "  [3 3]\n",
      "  [3 4]]\n",
      "\n",
      " [[3 3]\n",
      "  [3 4]\n",
      "  [3 5]\n",
      "  [3 6]]]\n",
      "[0 0 0 1 3 3]\n"
     ]
    }
   ],
   "source": [
    "Xa = [[[0,1],[0,2],[0,3],[0,4],[0,5],[0,6],[0,7],[0,8],[1,1],[1,2],[1,3],[1,4],[1,5],[3,1],[3,2],[3,3],[3,4],[3,5],[3,6],[3,7],[4,1],[4,2]]]\n",
    "ya = [0,0,0,0,0,0,0,0,1,1,1,1,1,3,3,3,3,3,3,3,4,4]\n",
    "xb, yb = X_y2examples(Xa, ya, n_frames=4)\n",
    "print(xb)\n",
    "print(yb)"
   ]
  },
  {
   "cell_type": "code",
   "execution_count": 94,
   "metadata": {},
   "outputs": [
    {
     "data": {
      "text/plain": [
       "[[0, 1], [0, 2]]"
      ]
     },
     "execution_count": 94,
     "metadata": {},
     "output_type": "execute_result"
    }
   ],
   "source": [
    "Xa[0:2]"
   ]
  }
 ],
 "metadata": {
  "kernelspec": {
   "display_name": "Python 3",
   "language": "python",
   "name": "python3"
  },
  "language_info": {
   "codemirror_mode": {
    "name": "ipython",
    "version": 3
   },
   "file_extension": ".py",
   "mimetype": "text/x-python",
   "name": "python",
   "nbconvert_exporter": "python",
   "pygments_lexer": "ipython3",
   "version": "3.7.1"
  }
 },
 "nbformat": 4,
 "nbformat_minor": 2
}
